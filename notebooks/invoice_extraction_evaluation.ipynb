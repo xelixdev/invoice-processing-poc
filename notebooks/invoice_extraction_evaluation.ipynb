{
 "cells": [
  {
   "cell_type": "markdown",
   "metadata": {},
   "source": [
    "# Invoice Extraction Evaluation\n",
    "\n",
    "This notebook evaluates the extraction of data points from PDF invoice documents."
   ]
  },
  {
   "cell_type": "code",
   "execution_count": 1,
   "metadata": {},
   "outputs": [],
   "source": [
    "import pandas as pd\n",
    "import boto3\n",
    "import requests\n",
    "import os\n",
    "import sys\n",
    "from pathlib import Path\n",
    "import json\n",
    "\n",
    "# Add backend directory to Python path\n",
    "backend_path = str(Path.cwd().parent / 'backend')\n",
    "if backend_path not in sys.path:\n",
    "    sys.path.append(backend_path)\n",
    "\n",
    "from extract import extract_invoice_from_file"
   ]
  },
  {
   "cell_type": "code",
   "execution_count": 2,
   "metadata": {},
   "outputs": [],
   "source": [
    "# S3 configuration\n",
    "S3_BUCKET = 'wassim-xelix-data-science'  # Replace with your bucket name\n",
    "S3_PREFIX = 'ai_assistant/invoice_document_extraction/large_invoice_sample/'  # Replace with your desired prefix\n",
    "\n",
    "# Initialize S3 client\n",
    "s3_client = boto3.client('s3')\n",
    "\n",
    "# Local path for results CSV\n",
    "LOCAL_RESULTS_CSV_PATH = 'invoice_extraction_results_local.csv'"
   ]
  },
  {
   "cell_type": "code",
   "execution_count": 3,
   "metadata": {},
   "outputs": [
    {
     "data": {
      "text/html": [
       "<div>\n",
       "<style scoped>\n",
       "    .dataframe tbody tr th:only-of-type {\n",
       "        vertical-align: middle;\n",
       "    }\n",
       "\n",
       "    .dataframe tbody tr th {\n",
       "        vertical-align: top;\n",
       "    }\n",
       "\n",
       "    .dataframe thead th {\n",
       "        text-align: right;\n",
       "    }\n",
       "</style>\n",
       "<table border=\"1\" class=\"dataframe\">\n",
       "  <thead>\n",
       "    <tr style=\"text-align: right;\">\n",
       "      <th></th>\n",
       "      <th>id</th>\n",
       "      <th>number</th>\n",
       "      <th>date</th>\n",
       "      <th>due_date</th>\n",
       "      <th>currency_code</th>\n",
       "      <th>gross_amount</th>\n",
       "      <th>vat_amount</th>\n",
       "      <th>net_amount</th>\n",
       "      <th>payment_term_days</th>\n",
       "      <th>name</th>\n",
       "      <th>value</th>\n",
       "      <th>name-2</th>\n",
       "      <th>display_name</th>\n",
       "    </tr>\n",
       "  </thead>\n",
       "  <tbody>\n",
       "    <tr>\n",
       "      <th>0</th>\n",
       "      <td>21214858</td>\n",
       "      <td>CI0205714</td>\n",
       "      <td>2025-02-05</td>\n",
       "      <td>2025-05-05</td>\n",
       "      <td>0</td>\n",
       "      <td>72.00</td>\n",
       "      <td>12.00</td>\n",
       "      <td>60.00</td>\n",
       "      <td>86</td>\n",
       "      <td>UNIVERSAL COMPONENTS UK LTD</td>\n",
       "      <td>07022502A1</td>\n",
       "      <td>misc_ref</td>\n",
       "      <td>MiscRef</td>\n",
       "    </tr>\n",
       "    <tr>\n",
       "      <th>1</th>\n",
       "      <td>13899086</td>\n",
       "      <td>126959</td>\n",
       "      <td>2018-02-21</td>\n",
       "      <td>2018-04-30</td>\n",
       "      <td>0</td>\n",
       "      <td>1800.00</td>\n",
       "      <td>300.00</td>\n",
       "      <td>1500.00</td>\n",
       "      <td>12</td>\n",
       "      <td>ACTIVE BRAND CONCEPTS LIMITED (ABC)</td>\n",
       "      <td>1304180025</td>\n",
       "      <td>misc_ref</td>\n",
       "      <td>MiscRef</td>\n",
       "    </tr>\n",
       "    <tr>\n",
       "      <th>2</th>\n",
       "      <td>14136172</td>\n",
       "      <td>17390213</td>\n",
       "      <td>2018-08-28</td>\n",
       "      <td>2018-09-15</td>\n",
       "      <td>0</td>\n",
       "      <td>87.53</td>\n",
       "      <td>14.59</td>\n",
       "      <td>72.94</td>\n",
       "      <td>16</td>\n",
       "      <td>KLARIUS PRODUCTS LTD</td>\n",
       "      <td>29082018</td>\n",
       "      <td>misc_ref</td>\n",
       "      <td>MiscRef</td>\n",
       "    </tr>\n",
       "    <tr>\n",
       "      <th>3</th>\n",
       "      <td>13713597</td>\n",
       "      <td>17935432</td>\n",
       "      <td>2017-12-13</td>\n",
       "      <td>2018-02-28</td>\n",
       "      <td>0</td>\n",
       "      <td>44.83</td>\n",
       "      <td>7.47</td>\n",
       "      <td>37.36</td>\n",
       "      <td>58</td>\n",
       "      <td>FERRARIS PISTON SERVICES LTD</td>\n",
       "      <td>14122017</td>\n",
       "      <td>misc_ref</td>\n",
       "      <td>MiscRef</td>\n",
       "    </tr>\n",
       "    <tr>\n",
       "      <th>4</th>\n",
       "      <td>14840064</td>\n",
       "      <td>02746270</td>\n",
       "      <td>2020-01-09</td>\n",
       "      <td>2020-03-31</td>\n",
       "      <td>0</td>\n",
       "      <td>25.56</td>\n",
       "      <td>4.26</td>\n",
       "      <td>21.30</td>\n",
       "      <td>81</td>\n",
       "      <td>FERRARIS PISTON SERVICES LTD</td>\n",
       "      <td>10012020</td>\n",
       "      <td>misc_ref</td>\n",
       "      <td>MiscRef</td>\n",
       "    </tr>\n",
       "    <tr>\n",
       "      <th>5</th>\n",
       "      <td>14458465</td>\n",
       "      <td>LHR2416820</td>\n",
       "      <td>2019-03-31</td>\n",
       "      <td>2019-04-30</td>\n",
       "      <td>0</td>\n",
       "      <td>53.40</td>\n",
       "      <td>8.90</td>\n",
       "      <td>44.50</td>\n",
       "      <td>27</td>\n",
       "      <td>DHL INTERNATIONAL (UK) LIMITED</td>\n",
       "      <td>02041904CE</td>\n",
       "      <td>misc_ref</td>\n",
       "      <td>MiscRef</td>\n",
       "    </tr>\n",
       "    <tr>\n",
       "      <th>6</th>\n",
       "      <td>20886311</td>\n",
       "      <td>18503991</td>\n",
       "      <td>2024-02-19</td>\n",
       "      <td>2024-03-15</td>\n",
       "      <td>0</td>\n",
       "      <td>758.33</td>\n",
       "      <td>126.39</td>\n",
       "      <td>631.94</td>\n",
       "      <td>24</td>\n",
       "      <td>KLARIUS PRODUCTS LTD</td>\n",
       "      <td>20022024</td>\n",
       "      <td>misc_ref</td>\n",
       "      <td>MiscRef</td>\n",
       "    </tr>\n",
       "    <tr>\n",
       "      <th>7</th>\n",
       "      <td>14082600</td>\n",
       "      <td>9580397893</td>\n",
       "      <td>2018-07-25</td>\n",
       "      <td>2018-08-30</td>\n",
       "      <td>0</td>\n",
       "      <td>255.22</td>\n",
       "      <td>42.54</td>\n",
       "      <td>212.68</td>\n",
       "      <td>281</td>\n",
       "      <td>3M UNITED KINGDOM PLC (PAINT)</td>\n",
       "      <td>26071803EA</td>\n",
       "      <td>misc_ref</td>\n",
       "      <td>MiscRef</td>\n",
       "    </tr>\n",
       "    <tr>\n",
       "      <th>8</th>\n",
       "      <td>14671199</td>\n",
       "      <td>01365581</td>\n",
       "      <td>2019-08-30</td>\n",
       "      <td>2019-10-31</td>\n",
       "      <td>0</td>\n",
       "      <td>73.51</td>\n",
       "      <td>12.25</td>\n",
       "      <td>61.26</td>\n",
       "      <td>60</td>\n",
       "      <td>FERRARIS PISTON SERVICES LTD</td>\n",
       "      <td>31082019</td>\n",
       "      <td>misc_ref</td>\n",
       "      <td>MiscRef</td>\n",
       "    </tr>\n",
       "    <tr>\n",
       "      <th>9</th>\n",
       "      <td>15091491</td>\n",
       "      <td>2257170979</td>\n",
       "      <td>2020-07-02</td>\n",
       "      <td>2020-09-30</td>\n",
       "      <td>0</td>\n",
       "      <td>504.90</td>\n",
       "      <td>84.15</td>\n",
       "      <td>420.75</td>\n",
       "      <td>79</td>\n",
       "      <td>ROBERT BOSCH LIMITED</td>\n",
       "      <td>130720027D</td>\n",
       "      <td>misc_ref</td>\n",
       "      <td>MiscRef</td>\n",
       "    </tr>\n",
       "  </tbody>\n",
       "</table>\n",
       "</div>"
      ],
      "text/plain": [
       "         id      number        date    due_date  currency_code  gross_amount  \\\n",
       "0  21214858   CI0205714  2025-02-05  2025-05-05              0         72.00   \n",
       "1  13899086      126959  2018-02-21  2018-04-30              0       1800.00   \n",
       "2  14136172    17390213  2018-08-28  2018-09-15              0         87.53   \n",
       "3  13713597    17935432  2017-12-13  2018-02-28              0         44.83   \n",
       "4  14840064    02746270  2020-01-09  2020-03-31              0         25.56   \n",
       "5  14458465  LHR2416820  2019-03-31  2019-04-30              0         53.40   \n",
       "6  20886311    18503991  2024-02-19  2024-03-15              0        758.33   \n",
       "7  14082600  9580397893  2018-07-25  2018-08-30              0        255.22   \n",
       "8  14671199    01365581  2019-08-30  2019-10-31              0         73.51   \n",
       "9  15091491  2257170979  2020-07-02  2020-09-30              0        504.90   \n",
       "\n",
       "   vat_amount  net_amount  payment_term_days  \\\n",
       "0       12.00       60.00                 86   \n",
       "1      300.00     1500.00                 12   \n",
       "2       14.59       72.94                 16   \n",
       "3        7.47       37.36                 58   \n",
       "4        4.26       21.30                 81   \n",
       "5        8.90       44.50                 27   \n",
       "6      126.39      631.94                 24   \n",
       "7       42.54      212.68                281   \n",
       "8       12.25       61.26                 60   \n",
       "9       84.15      420.75                 79   \n",
       "\n",
       "                                  name       value    name-2 display_name  \n",
       "0          UNIVERSAL COMPONENTS UK LTD  07022502A1  misc_ref      MiscRef  \n",
       "1  ACTIVE BRAND CONCEPTS LIMITED (ABC)  1304180025  misc_ref      MiscRef  \n",
       "2                 KLARIUS PRODUCTS LTD    29082018  misc_ref      MiscRef  \n",
       "3         FERRARIS PISTON SERVICES LTD    14122017  misc_ref      MiscRef  \n",
       "4         FERRARIS PISTON SERVICES LTD    10012020  misc_ref      MiscRef  \n",
       "5       DHL INTERNATIONAL (UK) LIMITED  02041904CE  misc_ref      MiscRef  \n",
       "6                 KLARIUS PRODUCTS LTD    20022024  misc_ref      MiscRef  \n",
       "7        3M UNITED KINGDOM PLC (PAINT)  26071803EA  misc_ref      MiscRef  \n",
       "8         FERRARIS PISTON SERVICES LTD    31082019  misc_ref      MiscRef  \n",
       "9                 ROBERT BOSCH LIMITED  130720027D  misc_ref      MiscRef  "
      ]
     },
     "execution_count": 3,
     "metadata": {},
     "output_type": "execute_result"
    }
   ],
   "source": [
    "# Load the sample data\n",
    "df = pd.read_csv('invoice_sample.csv')\n",
    "df.head(10)"
   ]
  },
  {
   "cell_type": "code",
   "execution_count": 4,
   "metadata": {},
   "outputs": [],
   "source": [
    "def process_invoice_row(row):\n",
    "    \"\"\"Process a single invoice row from the dataframe.\"\"\"\n",
    "    value = row['value']\n",
    "    pdf_key = f\"{S3_PREFIX}{value}.pdf\"\n",
    "    \n",
    "    # Check if PDF exists in S3\n",
    "    try:\n",
    "        s3_client.head_object(Bucket=S3_BUCKET, Key=pdf_key)\n",
    "        pdf_exists = True\n",
    "    except:\n",
    "        pdf_exists = False\n",
    "    \n",
    "    if not pdf_exists:\n",
    "        # Try to download from the URL\n",
    "        url = f\"https://ecp.e-docsonline.co.uk/Q.aspx?&1=Q/{value}.PDF\"\n",
    "        try:\n",
    "            response = requests.get(url)\n",
    "            if response.status_code == 200 and response.headers.get('content-type') == 'application/pdf':\n",
    "                # Save to S3\n",
    "                s3_client.put_object(\n",
    "                    Bucket=S3_BUCKET,\n",
    "                    Key=pdf_key,\n",
    "                    Body=response.content\n",
    "                )\n",
    "                pdf_exists = True\n",
    "            else:\n",
    "                return {\"error\": f\"Could not download PDF from URL for {value}\"}\n",
    "        except Exception as e:\n",
    "            return {\"error\": f\"Error downloading PDF: {str(e)}\"}\n",
    "    \n",
    "    if pdf_exists:\n",
    "        # Download PDF from S3 to temporary file\n",
    "        temp_path = f\"/tmp/{value}.pdf\"\n",
    "        try:\n",
    "            s3_client.download_file(S3_BUCKET, pdf_key, temp_path)\n",
    "            # Extract data using backend methods\n",
    "            result = extract_invoice_from_file(temp_path)\n",
    "            # Clean up temporary file\n",
    "            os.remove(temp_path)\n",
    "            return result\n",
    "        except Exception as e:\n",
    "            return {\"error\": f\"Error processing PDF: {str(e)}\"}\n",
    "    \n",
    "    return {\"error\": \"No PDF available for processing\"}"
   ]
  },
  {
   "cell_type": "code",
   "execution_count": null,
   "metadata": {},
   "outputs": [],
   "source": [
    "process_invoice_row(df[:1])"
   ]
  },
  {
   "cell_type": "code",
   "execution_count": 14,
   "metadata": {},
   "outputs": [
    {
     "name": "stdout",
     "output_type": "stream",
     "text": [
      "Loading existing results from invoice_extraction_results_local.csv...\n",
      "Loaded 1164 previously processed invoice IDs.\n",
      "\n",
      "Starting processing. Total invoices to consider: 2000\n",
      "Processing invoice 1 of 2000 (ID: 21214858)...\n",
      "Invoice ID: 21214858 already processed. Skipping.\n",
      "Processing invoice 2 of 2000 (ID: 13899086)...\n",
      "Invoice ID: 13899086 already processed. Skipping.\n",
      "Processing invoice 3 of 2000 (ID: 14136172)...\n",
      "Invoice ID: 14136172 already processed. Skipping.\n",
      "Processing invoice 4 of 2000 (ID: 13713597)...\n",
      "Invoice ID: 13713597 already processed. Skipping.\n",
      "Processing invoice 5 of 2000 (ID: 14840064)...\n",
      "Invoice ID: 14840064 already processed. Skipping.\n",
      "Processing invoice 6 of 2000 (ID: 14458465)...\n",
      "Invoice ID: 14458465 already processed. Skipping.\n",
      "Processing invoice 7 of 2000 (ID: 20886311)...\n",
      "Invoice ID: 20886311 already processed. Skipping.\n",
      "Processing invoice 8 of 2000 (ID: 14082600)...\n",
      "Invoice ID: 14082600 already processed. Skipping.\n",
      "Processing invoice 9 of 2000 (ID: 14671199)...\n",
      "Invoice ID: 14671199 already processed. Skipping.\n",
      "Processing invoice 10 of 2000 (ID: 15091491)...\n",
      "Invoice ID: 15091491 already processed. Skipping.\n",
      "Processing invoice 11 of 2000 (ID: 20285610)...\n",
      "Invoice ID: 20285610 already processed. Skipping.\n",
      "Processing invoice 12 of 2000 (ID: 21196536)...\n",
      "Invoice ID: 21196536 already processed. Skipping.\n",
      "Processing invoice 13 of 2000 (ID: 14624199)...\n",
      "Invoice ID: 14624199 already processed. Skipping.\n",
      "Processing invoice 14 of 2000 (ID: 13840583)...\n",
      "Invoice ID: 13840583 already processed. Skipping.\n",
      "Processing invoice 15 of 2000 (ID: 20719875)...\n",
      "Invoice ID: 20719875 already processed. Skipping.\n",
      "Processing invoice 16 of 2000 (ID: 14338880)...\n",
      "Invoice ID: 14338880 already processed. Skipping.\n",
      "Processing invoice 17 of 2000 (ID: 20112774)...\n",
      "Invoice ID: 20112774 already processed. Skipping.\n",
      "Processing invoice 18 of 2000 (ID: 21095476)...\n",
      "Invoice ID: 21095476 already processed. Skipping.\n",
      "Processing invoice 19 of 2000 (ID: 14878285)...\n",
      "Invoice ID: 14878285 already processed. Skipping.\n",
      "Processing invoice 20 of 2000 (ID: 14903636)...\n",
      "Invoice ID: 14903636 already processed. Skipping.\n",
      "Processing invoice 21 of 2000 (ID: 13967029)...\n",
      "Invoice ID: 13967029 already processed. Skipping.\n",
      "Processing invoice 22 of 2000 (ID: 14396792)...\n",
      "Invoice ID: 14396792 already processed. Skipping.\n",
      "Processing invoice 23 of 2000 (ID: 20850722)...\n",
      "Invoice ID: 20850722 already processed. Skipping.\n",
      "Processing invoice 24 of 2000 (ID: 14594160)...\n",
      "Invoice ID: 14594160 already processed. Skipping.\n",
      "Processing invoice 25 of 2000 (ID: 21199126)...\n",
      "Invoice ID: 21199126 already processed. Skipping.\n",
      "Processing invoice 26 of 2000 (ID: 14597630)...\n",
      "Invoice ID: 14597630 already processed. Skipping.\n",
      "Processing invoice 27 of 2000 (ID: 19911308)...\n",
      "Invoice ID: 19911308 already processed. Skipping.\n",
      "Processing invoice 28 of 2000 (ID: 20056358)...\n",
      "Invoice ID: 20056358 already processed. Skipping.\n",
      "Processing invoice 29 of 2000 (ID: 13650335)...\n",
      "Invoice ID: 13650335 already processed. Skipping.\n",
      "Processing invoice 30 of 2000 (ID: 14975655)...\n",
      "Invoice ID: 14975655 already processed. Skipping.\n",
      "Processing invoice 31 of 2000 (ID: 20566585)...\n",
      "Invoice ID: 20566585 already processed. Skipping.\n",
      "Processing invoice 32 of 2000 (ID: 20413640)...\n",
      "Invoice ID: 20413640 already processed. Skipping.\n",
      "Processing invoice 33 of 2000 (ID: 20588045)...\n",
      "Invoice ID: 20588045 already processed. Skipping.\n",
      "Processing invoice 34 of 2000 (ID: 13998207)...\n",
      "Invoice ID: 13998207 already processed. Skipping.\n",
      "Processing invoice 35 of 2000 (ID: 14264861)...\n",
      "Invoice ID: 14264861 already processed. Skipping.\n",
      "Processing invoice 36 of 2000 (ID: 20000496)...\n",
      "Invoice ID: 20000496 already processed. Skipping.\n",
      "Processing invoice 37 of 2000 (ID: 20147895)...\n",
      "Invoice ID: 20147895 already processed. Skipping.\n",
      "Processing invoice 38 of 2000 (ID: 20480909)...\n",
      "Invoice ID: 20480909 already processed. Skipping.\n",
      "Processing invoice 39 of 2000 (ID: 14344852)...\n",
      "Invoice ID: 14344852 already processed. Skipping.\n",
      "Processing invoice 40 of 2000 (ID: 13917770)...\n",
      "Invoice ID: 13917770 already processed. Skipping.\n",
      "Processing invoice 41 of 2000 (ID: 20748265)...\n",
      "Invoice ID: 20748265 already processed. Skipping.\n",
      "Processing invoice 42 of 2000 (ID: 20668610)...\n",
      "Invoice ID: 20668610 already processed. Skipping.\n",
      "Processing invoice 43 of 2000 (ID: 21212846)...\n",
      "Invoice ID: 21212846 already processed. Skipping.\n",
      "Processing invoice 44 of 2000 (ID: 13910222)...\n",
      "Invoice ID: 13910222 already processed. Skipping.\n",
      "Processing invoice 45 of 2000 (ID: 20370749)...\n",
      "Invoice ID: 20370749 already processed. Skipping.\n",
      "Processing invoice 46 of 2000 (ID: 20587791)...\n",
      "Invoice ID: 20587791 already processed. Skipping.\n",
      "Processing invoice 47 of 2000 (ID: 20219497)...\n",
      "Invoice ID: 20219497 already processed. Skipping.\n",
      "Processing invoice 48 of 2000 (ID: 13718384)...\n",
      "Invoice ID: 13718384 already processed. Skipping.\n",
      "Processing invoice 49 of 2000 (ID: 13835161)...\n",
      "Invoice ID: 13835161 already processed. Skipping.\n",
      "Processing invoice 50 of 2000 (ID: 20390017)...\n",
      "Invoice ID: 20390017 already processed. Skipping.\n",
      "Processing invoice 51 of 2000 (ID: 14419282)...\n",
      "Invoice ID: 14419282 already processed. Skipping.\n",
      "Processing invoice 52 of 2000 (ID: 20499516)...\n",
      "Invoice ID: 20499516 already processed. Skipping.\n",
      "Processing invoice 53 of 2000 (ID: 14219761)...\n",
      "Invoice ID: 14219761 already processed. Skipping.\n",
      "Processing invoice 54 of 2000 (ID: 13847880)...\n",
      "Invoice ID: 13847880 already processed. Skipping.\n",
      "Processing invoice 55 of 2000 (ID: 20646464)...\n",
      "Invoice ID: 20646464 already processed. Skipping.\n",
      "Processing invoice 56 of 2000 (ID: 14577082)...\n",
      "Invoice ID: 14577082 already processed. Skipping.\n",
      "Processing invoice 57 of 2000 (ID: 14335604)...\n",
      "Invoice ID: 14335604 already processed. Skipping.\n",
      "Processing invoice 58 of 2000 (ID: 14537542)...\n",
      "Invoice ID: 14537542 already processed. Skipping.\n",
      "Processing invoice 59 of 2000 (ID: 19911732)...\n",
      "Invoice ID: 19911732 already processed. Skipping.\n",
      "Processing invoice 60 of 2000 (ID: 14941902)...\n",
      "Invoice ID: 14941902 already processed. Skipping.\n",
      "Processing invoice 61 of 2000 (ID: 13931124)...\n",
      "Invoice ID: 13931124 already processed. Skipping.\n",
      "Processing invoice 62 of 2000 (ID: 14415658)...\n",
      "Invoice ID: 14415658 already processed. Skipping.\n",
      "Processing invoice 63 of 2000 (ID: 20383064)...\n",
      "Invoice ID: 20383064 already processed. Skipping.\n",
      "Processing invoice 64 of 2000 (ID: 21214059)...\n",
      "Invoice ID: 21214059 already processed. Skipping.\n",
      "Processing invoice 65 of 2000 (ID: 19810687)...\n",
      "Invoice ID: 19810687 already processed. Skipping.\n",
      "Processing invoice 66 of 2000 (ID: 20661486)...\n",
      "Invoice ID: 20661486 already processed. Skipping.\n",
      "Processing invoice 67 of 2000 (ID: 19920489)...\n",
      "Invoice ID: 19920489 already processed. Skipping.\n",
      "Processing invoice 68 of 2000 (ID: 19940714)...\n",
      "Invoice ID: 19940714 already processed. Skipping.\n",
      "Processing invoice 69 of 2000 (ID: 14819934)...\n",
      "Invoice ID: 14819934 already processed. Skipping.\n",
      "Processing invoice 70 of 2000 (ID: 21138938)...\n",
      "Invoice ID: 21138938 already processed. Skipping.\n",
      "Processing invoice 71 of 2000 (ID: 20535589)...\n",
      "Invoice ID: 20535589 already processed. Skipping.\n",
      "Processing invoice 72 of 2000 (ID: 20496353)...\n",
      "Invoice ID: 20496353 already processed. Skipping.\n",
      "Processing invoice 73 of 2000 (ID: 13912357)...\n",
      "Invoice ID: 13912357 already processed. Skipping.\n",
      "Processing invoice 74 of 2000 (ID: 19993631)...\n",
      "Invoice ID: 19993631 already processed. Skipping.\n",
      "Processing invoice 75 of 2000 (ID: 20103138)...\n",
      "Invoice ID: 20103138 already processed. Skipping.\n",
      "Processing invoice 76 of 2000 (ID: 14213413)...\n",
      "Invoice ID: 14213413 already processed. Skipping.\n",
      "Processing invoice 77 of 2000 (ID: 14698777)...\n",
      "Invoice ID: 14698777 already processed. Skipping.\n",
      "Processing invoice 78 of 2000 (ID: 20235653)...\n",
      "Invoice ID: 20235653 already processed. Skipping.\n",
      "Processing invoice 79 of 2000 (ID: 21232985)...\n",
      "Invoice ID: 21232985 already processed. Skipping.\n",
      "Processing invoice 80 of 2000 (ID: 14328943)...\n",
      "Invoice ID: 14328943 already processed. Skipping.\n",
      "Processing invoice 81 of 2000 (ID: 14327781)...\n",
      "Invoice ID: 14327781 already processed. Skipping.\n",
      "Processing invoice 82 of 2000 (ID: 20280351)...\n",
      "Invoice ID: 20280351 already processed. Skipping.\n",
      "Processing invoice 83 of 2000 (ID: 19794567)...\n",
      "Invoice ID: 19794567 already processed. Skipping.\n",
      "Processing invoice 84 of 2000 (ID: 13802512)...\n",
      "Invoice ID: 13802512 already processed. Skipping.\n",
      "Processing invoice 85 of 2000 (ID: 14727120)...\n",
      "Invoice ID: 14727120 already processed. Skipping.\n",
      "Processing invoice 86 of 2000 (ID: 14399913)...\n",
      "Invoice ID: 14399913 already processed. Skipping.\n",
      "Processing invoice 87 of 2000 (ID: 13835325)...\n",
      "Invoice ID: 13835325 already processed. Skipping.\n",
      "Processing invoice 88 of 2000 (ID: 14457362)...\n",
      "Invoice ID: 14457362 already processed. Skipping.\n",
      "Processing invoice 89 of 2000 (ID: 20173549)...\n",
      "Invoice ID: 20173549 already processed. Skipping.\n",
      "Processing invoice 90 of 2000 (ID: 13836614)...\n",
      "Invoice ID: 13836614 already processed. Skipping.\n",
      "Processing invoice 91 of 2000 (ID: 13854161)...\n",
      "Invoice ID: 13854161 already processed. Skipping.\n",
      "Processing invoice 92 of 2000 (ID: 20417011)...\n",
      "Invoice ID: 20417011 already processed. Skipping.\n",
      "Processing invoice 93 of 2000 (ID: 14949721)...\n",
      "Invoice ID: 14949721 already processed. Skipping.\n",
      "Processing invoice 94 of 2000 (ID: 19789229)...\n",
      "Invoice ID: 19789229 already processed. Skipping.\n",
      "Processing invoice 95 of 2000 (ID: 13717771)...\n",
      "Invoice ID: 13717771 already processed. Skipping.\n",
      "Processing invoice 96 of 2000 (ID: 20433602)...\n",
      "Invoice ID: 20433602 already processed. Skipping.\n",
      "Processing invoice 97 of 2000 (ID: 20913540)...\n",
      "Invoice ID: 20913540 already processed. Skipping.\n",
      "Processing invoice 98 of 2000 (ID: 21213000)...\n",
      "Invoice ID: 21213000 already processed. Skipping.\n",
      "Processing invoice 99 of 2000 (ID: 19882027)...\n",
      "Invoice ID: 19882027 already processed. Skipping.\n",
      "Processing invoice 100 of 2000 (ID: 20206042)...\n",
      "Invoice ID: 20206042 already processed. Skipping.\n",
      "Processing invoice 101 of 2000 (ID: 21074865)...\n",
      "Invoice ID: 21074865 already processed. Skipping.\n",
      "Processing invoice 102 of 2000 (ID: 21147553)...\n",
      "Invoice ID: 21147553 already processed. Skipping.\n",
      "Processing invoice 103 of 2000 (ID: 14178438)...\n",
      "Invoice ID: 14178438 already processed. Skipping.\n",
      "Processing invoice 104 of 2000 (ID: 20630405)...\n",
      "Invoice ID: 20630405 already processed. Skipping.\n",
      "Processing invoice 105 of 2000 (ID: 14302419)...\n",
      "Invoice ID: 14302419 already processed. Skipping.\n",
      "Processing invoice 106 of 2000 (ID: 14610730)...\n",
      "Invoice ID: 14610730 already processed. Skipping.\n",
      "Processing invoice 107 of 2000 (ID: 19923443)...\n",
      "Invoice ID: 19923443 already processed. Skipping.\n",
      "Processing invoice 108 of 2000 (ID: 14416288)...\n",
      "Invoice ID: 14416288 already processed. Skipping.\n",
      "Processing invoice 109 of 2000 (ID: 13678089)...\n",
      "Invoice ID: 13678089 already processed. Skipping.\n",
      "Processing invoice 110 of 2000 (ID: 14223242)...\n",
      "Invoice ID: 14223242 already processed. Skipping.\n",
      "Processing invoice 111 of 2000 (ID: 14360441)...\n",
      "Invoice ID: 14360441 already processed. Skipping.\n",
      "Processing invoice 112 of 2000 (ID: 20149867)...\n",
      "Invoice ID: 20149867 already processed. Skipping.\n",
      "Processing invoice 113 of 2000 (ID: 14125849)...\n",
      "Invoice ID: 14125849 already processed. Skipping.\n",
      "Processing invoice 114 of 2000 (ID: 19965939)...\n",
      "Invoice ID: 19965939 already processed. Skipping.\n",
      "Processing invoice 115 of 2000 (ID: 21067036)...\n",
      "Invoice ID: 21067036 already processed. Skipping.\n",
      "Processing invoice 116 of 2000 (ID: 14316027)...\n",
      "Invoice ID: 14316027 already processed. Skipping.\n",
      "Processing invoice 117 of 2000 (ID: 13637127)...\n",
      "Invoice ID: 13637127 already processed. Skipping.\n",
      "Processing invoice 118 of 2000 (ID: 20288105)...\n",
      "Invoice ID: 20288105 already processed. Skipping.\n",
      "Processing invoice 119 of 2000 (ID: 19800713)...\n",
      "Invoice ID: 19800713 already processed. Skipping.\n",
      "Processing invoice 120 of 2000 (ID: 20915186)...\n",
      "Invoice ID: 20915186 already processed. Skipping.\n",
      "Processing invoice 121 of 2000 (ID: 20403554)...\n",
      "Invoice ID: 20403554 already processed. Skipping.\n",
      "Processing invoice 122 of 2000 (ID: 20727388)...\n",
      "Invoice ID: 20727388 already processed. Skipping.\n",
      "Processing invoice 123 of 2000 (ID: 14939924)...\n",
      "Invoice ID: 14939924 already processed. Skipping.\n",
      "Processing invoice 124 of 2000 (ID: 20537751)...\n",
      "Invoice ID: 20537751 already processed. Skipping.\n",
      "Processing invoice 125 of 2000 (ID: 19789203)...\n",
      "Invoice ID: 19789203 already processed. Skipping.\n",
      "Processing invoice 126 of 2000 (ID: 14055072)...\n",
      "Invoice ID: 14055072 already processed. Skipping.\n",
      "Processing invoice 127 of 2000 (ID: 14011268)...\n",
      "Invoice ID: 14011268 already processed. Skipping.\n",
      "Processing invoice 128 of 2000 (ID: 14395723)...\n",
      "Invoice ID: 14395723 already processed. Skipping.\n",
      "Processing invoice 129 of 2000 (ID: 13786940)...\n",
      "Invoice ID: 13786940 already processed. Skipping.\n",
      "Processing invoice 130 of 2000 (ID: 14195316)...\n",
      "Invoice ID: 14195316 already processed. Skipping.\n",
      "Processing invoice 131 of 2000 (ID: 20783491)...\n",
      "Invoice ID: 20783491 already processed. Skipping.\n",
      "Processing invoice 132 of 2000 (ID: 21134783)...\n",
      "Invoice ID: 21134783 already processed. Skipping.\n",
      "Processing invoice 133 of 2000 (ID: 20464858)...\n",
      "Invoice ID: 20464858 already processed. Skipping.\n",
      "Processing invoice 134 of 2000 (ID: 19846097)...\n",
      "Invoice ID: 19846097 already processed. Skipping.\n",
      "Processing invoice 135 of 2000 (ID: 20555763)...\n",
      "Invoice ID: 20555763 already processed. Skipping.\n",
      "Processing invoice 136 of 2000 (ID: 21122840)...\n",
      "Invoice ID: 21122840 already processed. Skipping.\n",
      "Processing invoice 137 of 2000 (ID: 20382574)...\n",
      "Invoice ID: 20382574 already processed. Skipping.\n",
      "Processing invoice 138 of 2000 (ID: 20666422)...\n",
      "Invoice ID: 20666422 already processed. Skipping.\n",
      "Processing invoice 139 of 2000 (ID: 14096726)...\n",
      "Invoice ID: 14096726 already processed. Skipping.\n",
      "Processing invoice 140 of 2000 (ID: 14164281)...\n",
      "Invoice ID: 14164281 already processed. Skipping.\n",
      "Processing invoice 141 of 2000 (ID: 13895438)...\n",
      "Invoice ID: 13895438 already processed. Skipping.\n",
      "Processing invoice 142 of 2000 (ID: 20472333)...\n",
      "Invoice ID: 20472333 already processed. Skipping.\n",
      "Processing invoice 143 of 2000 (ID: 13745550)...\n",
      "Invoice ID: 13745550 already processed. Skipping.\n",
      "Processing invoice 144 of 2000 (ID: 13642742)...\n",
      "Invoice ID: 13642742 already processed. Skipping.\n",
      "Processing invoice 145 of 2000 (ID: 14101387)...\n",
      "Invoice ID: 14101387 already processed. Skipping.\n",
      "Processing invoice 146 of 2000 (ID: 13733330)...\n",
      "Invoice ID: 13733330 already processed. Skipping.\n",
      "Processing invoice 147 of 2000 (ID: 14335367)...\n",
      "Invoice ID: 14335367 already processed. Skipping.\n",
      "Processing invoice 148 of 2000 (ID: 20655081)...\n",
      "Invoice ID: 20655081 already processed. Skipping.\n",
      "Processing invoice 149 of 2000 (ID: 19800691)...\n",
      "Invoice ID: 19800691 already processed. Skipping.\n",
      "Processing invoice 150 of 2000 (ID: 20549352)...\n",
      "Invoice ID: 20549352 already processed. Skipping.\n",
      "Processing invoice 151 of 2000 (ID: 14508314)...\n",
      "Invoice ID: 14508314 already processed. Skipping.\n",
      "Processing invoice 152 of 2000 (ID: 14904616)...\n",
      "Invoice ID: 14904616 already processed. Skipping.\n",
      "Processing invoice 153 of 2000 (ID: 20109447)...\n",
      "Invoice ID: 20109447 already processed. Skipping.\n",
      "Processing invoice 154 of 2000 (ID: 20871020)...\n",
      "Invoice ID: 20871020 already processed. Skipping.\n",
      "Processing invoice 155 of 2000 (ID: 21216907)...\n",
      "Invoice ID: 21216907 already processed. Skipping.\n",
      "Processing invoice 156 of 2000 (ID: 13825908)...\n",
      "Invoice ID: 13825908 already processed. Skipping.\n",
      "Processing invoice 157 of 2000 (ID: 20783147)...\n",
      "Invoice ID: 20783147 already processed. Skipping.\n",
      "Processing invoice 158 of 2000 (ID: 14418483)...\n",
      "Invoice ID: 14418483 already processed. Skipping.\n",
      "Processing invoice 159 of 2000 (ID: 20216070)...\n",
      "Invoice ID: 20216070 already processed. Skipping.\n",
      "Processing invoice 160 of 2000 (ID: 14938773)...\n",
      "Invoice ID: 14938773 already processed. Skipping.\n",
      "Processing invoice 161 of 2000 (ID: 20200138)...\n",
      "Invoice ID: 20200138 already processed. Skipping.\n",
      "Processing invoice 162 of 2000 (ID: 20872426)...\n",
      "Invoice ID: 20872426 already processed. Skipping.\n",
      "Processing invoice 163 of 2000 (ID: 13889710)...\n",
      "Invoice ID: 13889710 already processed. Skipping.\n",
      "Processing invoice 164 of 2000 (ID: 20054451)...\n",
      "Invoice ID: 20054451 already processed. Skipping.\n",
      "Processing invoice 165 of 2000 (ID: 20244130)...\n",
      "Invoice ID: 20244130 already processed. Skipping.\n",
      "Processing invoice 166 of 2000 (ID: 20615584)...\n",
      "Invoice ID: 20615584 already processed. Skipping.\n",
      "Processing invoice 167 of 2000 (ID: 14233678)...\n",
      "Invoice ID: 14233678 already processed. Skipping.\n",
      "Processing invoice 168 of 2000 (ID: 20266220)...\n",
      "Invoice ID: 20266220 already processed. Skipping.\n",
      "Processing invoice 169 of 2000 (ID: 13696893)...\n",
      "Invoice ID: 13696893 already processed. Skipping.\n",
      "Processing invoice 170 of 2000 (ID: 13689607)...\n",
      "Invoice ID: 13689607 already processed. Skipping.\n",
      "Processing invoice 171 of 2000 (ID: 19902393)...\n",
      "Invoice ID: 19902393 already processed. Skipping.\n",
      "Processing invoice 172 of 2000 (ID: 20233378)...\n",
      "Invoice ID: 20233378 already processed. Skipping.\n",
      "Processing invoice 173 of 2000 (ID: 20280865)...\n",
      "Invoice ID: 20280865 already processed. Skipping.\n",
      "Processing invoice 174 of 2000 (ID: 21288464)...\n",
      "Invoice ID: 21288464 already processed. Skipping.\n",
      "Processing invoice 175 of 2000 (ID: 20249511)...\n",
      "Invoice ID: 20249511 already processed. Skipping.\n",
      "Processing invoice 176 of 2000 (ID: 13806813)...\n",
      "Invoice ID: 13806813 already processed. Skipping.\n",
      "Processing invoice 177 of 2000 (ID: 14166094)...\n",
      "Invoice ID: 14166094 already processed. Skipping.\n",
      "Processing invoice 178 of 2000 (ID: 21180606)...\n",
      "Invoice ID: 21180606 already processed. Skipping.\n",
      "Processing invoice 179 of 2000 (ID: 20445410)...\n",
      "Invoice ID: 20445410 already processed. Skipping.\n",
      "Processing invoice 180 of 2000 (ID: 14679023)...\n",
      "Invoice ID: 14679023 already processed. Skipping.\n",
      "Processing invoice 181 of 2000 (ID: 20358699)...\n",
      "Invoice ID: 20358699 already processed. Skipping.\n",
      "Processing invoice 182 of 2000 (ID: 13978731)...\n",
      "Invoice ID: 13978731 already processed. Skipping.\n",
      "Processing invoice 183 of 2000 (ID: 14780822)...\n",
      "Invoice ID: 14780822 already processed. Skipping.\n",
      "Processing invoice 184 of 2000 (ID: 14649666)...\n",
      "Invoice ID: 14649666 already processed. Skipping.\n",
      "Processing invoice 185 of 2000 (ID: 13923220)...\n",
      "Invoice ID: 13923220 already processed. Skipping.\n",
      "Processing invoice 186 of 2000 (ID: 20374990)...\n",
      "Invoice ID: 20374990 already processed. Skipping.\n",
      "Processing invoice 187 of 2000 (ID: 20072288)...\n",
      "Invoice ID: 20072288 already processed. Skipping.\n",
      "Processing invoice 188 of 2000 (ID: 13804531)...\n",
      "Invoice ID: 13804531 already processed. Skipping.\n",
      "Processing invoice 189 of 2000 (ID: 14776998)...\n",
      "Invoice ID: 14776998 already processed. Skipping.\n",
      "Processing invoice 190 of 2000 (ID: 14939070)...\n",
      "Invoice ID: 14939070 already processed. Skipping.\n",
      "Processing invoice 191 of 2000 (ID: 14930431)...\n",
      "Invoice ID: 14930431 already processed. Skipping.\n",
      "Processing invoice 192 of 2000 (ID: 14941642)...\n",
      "Invoice ID: 14941642 already processed. Skipping.\n",
      "Processing invoice 193 of 2000 (ID: 14210188)...\n",
      "Invoice ID: 14210188 already processed. Skipping.\n",
      "Processing invoice 194 of 2000 (ID: 20618767)...\n",
      "Invoice ID: 20618767 already processed. Skipping.\n",
      "Processing invoice 195 of 2000 (ID: 14391180)...\n",
      "Invoice ID: 14391180 already processed. Skipping.\n",
      "Processing invoice 196 of 2000 (ID: 14337709)...\n",
      "Invoice ID: 14337709 already processed. Skipping.\n",
      "Processing invoice 197 of 2000 (ID: 21095043)...\n",
      "Invoice ID: 21095043 already processed. Skipping.\n",
      "Processing invoice 198 of 2000 (ID: 13886167)...\n",
      "Invoice ID: 13886167 already processed. Skipping.\n",
      "Processing invoice 199 of 2000 (ID: 20021962)...\n",
      "Invoice ID: 20021962 already processed. Skipping.\n",
      "Processing invoice 200 of 2000 (ID: 21238620)...\n",
      "Invoice ID: 21238620 already processed. Skipping.\n",
      "Processing invoice 201 of 2000 (ID: 20774872)...\n",
      "Invoice ID: 20774872 already processed. Skipping.\n",
      "Processing invoice 202 of 2000 (ID: 20327071)...\n",
      "Invoice ID: 20327071 already processed. Skipping.\n",
      "Processing invoice 203 of 2000 (ID: 14624614)...\n",
      "Invoice ID: 14624614 already processed. Skipping.\n",
      "Processing invoice 204 of 2000 (ID: 14867277)...\n",
      "Invoice ID: 14867277 already processed. Skipping.\n",
      "Processing invoice 205 of 2000 (ID: 14831486)...\n",
      "Invoice ID: 14831486 already processed. Skipping.\n",
      "Processing invoice 206 of 2000 (ID: 20925900)...\n",
      "Invoice ID: 20925900 already processed. Skipping.\n",
      "Processing invoice 207 of 2000 (ID: 14606174)...\n",
      "Invoice ID: 14606174 already processed. Skipping.\n",
      "Processing invoice 208 of 2000 (ID: 20968280)...\n",
      "Invoice ID: 20968280 already processed. Skipping.\n",
      "Processing invoice 209 of 2000 (ID: 14368383)...\n",
      "Invoice ID: 14368383 already processed. Skipping.\n",
      "Processing invoice 210 of 2000 (ID: 13646706)...\n",
      "Invoice ID: 13646706 already processed. Skipping.\n",
      "Processing invoice 211 of 2000 (ID: 20324165)...\n",
      "Invoice ID: 20324165 already processed. Skipping.\n",
      "Processing invoice 212 of 2000 (ID: 21084549)...\n",
      "Invoice ID: 21084549 already processed. Skipping.\n",
      "Processing invoice 213 of 2000 (ID: 20097862)...\n",
      "Invoice ID: 20097862 already processed. Skipping.\n",
      "Processing invoice 214 of 2000 (ID: 14653394)...\n",
      "Invoice ID: 14653394 already processed. Skipping.\n",
      "Processing invoice 215 of 2000 (ID: 14039327)...\n",
      "Invoice ID: 14039327 already processed. Skipping.\n",
      "Processing invoice 216 of 2000 (ID: 20667236)...\n",
      "Invoice ID: 20667236 already processed. Skipping.\n",
      "Processing invoice 217 of 2000 (ID: 13894042)...\n",
      "Invoice ID: 13894042 already processed. Skipping.\n",
      "Processing invoice 218 of 2000 (ID: 20411817)...\n",
      "Invoice ID: 20411817 already processed. Skipping.\n",
      "Processing invoice 219 of 2000 (ID: 20179909)...\n",
      "Invoice ID: 20179909 already processed. Skipping.\n",
      "Processing invoice 220 of 2000 (ID: 19909717)...\n",
      "Invoice ID: 19909717 already processed. Skipping.\n",
      "Processing invoice 221 of 2000 (ID: 14379595)...\n",
      "Invoice ID: 14379595 already processed. Skipping.\n",
      "Processing invoice 222 of 2000 (ID: 13995509)...\n",
      "Invoice ID: 13995509 already processed. Skipping.\n",
      "Processing invoice 223 of 2000 (ID: 20221328)...\n",
      "Invoice ID: 20221328 already processed. Skipping.\n",
      "Processing invoice 224 of 2000 (ID: 13811064)...\n",
      "Invoice ID: 13811064 already processed. Skipping.\n",
      "Processing invoice 225 of 2000 (ID: 13944073)...\n",
      "Invoice ID: 13944073 already processed. Skipping.\n",
      "Processing invoice 226 of 2000 (ID: 20473018)...\n",
      "Invoice ID: 20473018 already processed. Skipping.\n",
      "Processing invoice 227 of 2000 (ID: 20385039)...\n",
      "Invoice ID: 20385039 already processed. Skipping.\n",
      "Processing invoice 228 of 2000 (ID: 21008569)...\n",
      "Invoice ID: 21008569 already processed. Skipping.\n",
      "Processing invoice 229 of 2000 (ID: 13780352)...\n",
      "Invoice ID: 13780352 already processed. Skipping.\n",
      "Processing invoice 230 of 2000 (ID: 14968895)...\n",
      "Invoice ID: 14968895 already processed. Skipping.\n",
      "Processing invoice 231 of 2000 (ID: 20995036)...\n",
      "Invoice ID: 20995036 already processed. Skipping.\n",
      "Processing invoice 232 of 2000 (ID: 20693653)...\n",
      "Invoice ID: 20693653 already processed. Skipping.\n",
      "Processing invoice 233 of 2000 (ID: 20466639)...\n",
      "Invoice ID: 20466639 already processed. Skipping.\n",
      "Processing invoice 234 of 2000 (ID: 14687905)...\n",
      "Invoice ID: 14687905 already processed. Skipping.\n",
      "Processing invoice 235 of 2000 (ID: 19883585)...\n",
      "Invoice ID: 19883585 already processed. Skipping.\n",
      "Processing invoice 236 of 2000 (ID: 20858076)...\n",
      "Invoice ID: 20858076 already processed. Skipping.\n",
      "Processing invoice 237 of 2000 (ID: 14287026)...\n",
      "Invoice ID: 14287026 already processed. Skipping.\n",
      "Processing invoice 238 of 2000 (ID: 13706786)...\n",
      "Invoice ID: 13706786 already processed. Skipping.\n",
      "Processing invoice 239 of 2000 (ID: 13735621)...\n",
      "Invoice ID: 13735621 already processed. Skipping.\n",
      "Processing invoice 240 of 2000 (ID: 19945063)...\n",
      "Invoice ID: 19945063 already processed. Skipping.\n",
      "Processing invoice 241 of 2000 (ID: 20123194)...\n",
      "Invoice ID: 20123194 already processed. Skipping.\n",
      "Processing invoice 242 of 2000 (ID: 14257685)...\n",
      "Invoice ID: 14257685 already processed. Skipping.\n",
      "Processing invoice 243 of 2000 (ID: 20044082)...\n",
      "Invoice ID: 20044082 already processed. Skipping.\n",
      "Processing invoice 244 of 2000 (ID: 19884394)...\n",
      "Invoice ID: 19884394 already processed. Skipping.\n",
      "Processing invoice 245 of 2000 (ID: 19792977)...\n",
      "Invoice ID: 19792977 already processed. Skipping.\n",
      "Processing invoice 246 of 2000 (ID: 13934625)...\n",
      "Invoice ID: 13934625 already processed. Skipping.\n",
      "Processing invoice 247 of 2000 (ID: 13932051)...\n",
      "Invoice ID: 13932051 already processed. Skipping.\n",
      "Processing invoice 248 of 2000 (ID: 21088003)...\n",
      "Invoice ID: 21088003 already processed. Skipping.\n",
      "Processing invoice 249 of 2000 (ID: 20387968)...\n",
      "Invoice ID: 20387968 already processed. Skipping.\n",
      "Processing invoice 250 of 2000 (ID: 20769683)...\n",
      "Invoice ID: 20769683 already processed. Skipping.\n",
      "Processing invoice 251 of 2000 (ID: 20852760)...\n",
      "Invoice ID: 20852760 already processed. Skipping.\n",
      "Processing invoice 252 of 2000 (ID: 19962070)...\n",
      "Invoice ID: 19962070 already processed. Skipping.\n",
      "Processing invoice 253 of 2000 (ID: 20066377)...\n",
      "Invoice ID: 20066377 already processed. Skipping.\n",
      "Processing invoice 254 of 2000 (ID: 14590776)...\n",
      "Invoice ID: 14590776 already processed. Skipping.\n",
      "Processing invoice 255 of 2000 (ID: 20061934)...\n",
      "Invoice ID: 20061934 already processed. Skipping.\n",
      "Processing invoice 256 of 2000 (ID: 20245385)...\n",
      "Invoice ID: 20245385 already processed. Skipping.\n",
      "Processing invoice 257 of 2000 (ID: 19986809)...\n",
      "Invoice ID: 19986809 already processed. Skipping.\n",
      "Processing invoice 258 of 2000 (ID: 20490884)...\n",
      "Invoice ID: 20490884 already processed. Skipping.\n",
      "Processing invoice 259 of 2000 (ID: 20247609)...\n",
      "Invoice ID: 20247609 already processed. Skipping.\n",
      "Processing invoice 260 of 2000 (ID: 13996450)...\n",
      "Invoice ID: 13996450 already processed. Skipping.\n",
      "Processing invoice 261 of 2000 (ID: 21201124)...\n",
      "Invoice ID: 21201124 already processed. Skipping.\n",
      "Processing invoice 262 of 2000 (ID: 14359657)...\n",
      "Invoice ID: 14359657 already processed. Skipping.\n",
      "Processing invoice 263 of 2000 (ID: 20257738)...\n",
      "Invoice ID: 20257738 already processed. Skipping.\n",
      "Processing invoice 264 of 2000 (ID: 20430939)...\n",
      "Invoice ID: 20430939 already processed. Skipping.\n",
      "Processing invoice 265 of 2000 (ID: 20518302)...\n",
      "Invoice ID: 20518302 already processed. Skipping.\n",
      "Processing invoice 266 of 2000 (ID: 20023373)...\n",
      "Invoice ID: 20023373 already processed. Skipping.\n",
      "Processing invoice 267 of 2000 (ID: 13779400)...\n",
      "Invoice ID: 13779400 already processed. Skipping.\n",
      "Processing invoice 268 of 2000 (ID: 20131385)...\n",
      "Invoice ID: 20131385 already processed. Skipping.\n",
      "Processing invoice 269 of 2000 (ID: 20358271)...\n",
      "Invoice ID: 20358271 already processed. Skipping.\n",
      "Processing invoice 270 of 2000 (ID: 19946557)...\n",
      "Invoice ID: 19946557 already processed. Skipping.\n",
      "Processing invoice 271 of 2000 (ID: 20925928)...\n",
      "Invoice ID: 20925928 already processed. Skipping.\n",
      "Processing invoice 272 of 2000 (ID: 13869843)...\n",
      "Invoice ID: 13869843 already processed. Skipping.\n",
      "Processing invoice 273 of 2000 (ID: 13773555)...\n",
      "Invoice ID: 13773555 already processed. Skipping.\n",
      "Processing invoice 274 of 2000 (ID: 21125434)...\n",
      "Invoice ID: 21125434 already processed. Skipping.\n",
      "Processing invoice 275 of 2000 (ID: 13986138)...\n",
      "Invoice ID: 13986138 already processed. Skipping.\n",
      "Processing invoice 276 of 2000 (ID: 13948628)...\n",
      "Invoice ID: 13948628 already processed. Skipping.\n",
      "Processing invoice 277 of 2000 (ID: 19784993)...\n",
      "Invoice ID: 19784993 already processed. Skipping.\n",
      "Processing invoice 278 of 2000 (ID: 20085756)...\n",
      "Invoice ID: 20085756 already processed. Skipping.\n",
      "Processing invoice 279 of 2000 (ID: 19773789)...\n",
      "Invoice ID: 19773789 already processed. Skipping.\n",
      "Processing invoice 280 of 2000 (ID: 20582962)...\n",
      "Invoice ID: 20582962 already processed. Skipping.\n",
      "Processing invoice 281 of 2000 (ID: 20630369)...\n",
      "Invoice ID: 20630369 already processed. Skipping.\n",
      "Processing invoice 282 of 2000 (ID: 13775876)...\n",
      "Invoice ID: 13775876 already processed. Skipping.\n",
      "Processing invoice 283 of 2000 (ID: 14611489)...\n",
      "Invoice ID: 14611489 already processed. Skipping.\n",
      "Processing invoice 284 of 2000 (ID: 14845930)...\n",
      "Invoice ID: 14845930 already processed. Skipping.\n",
      "Processing invoice 285 of 2000 (ID: 20948868)...\n",
      "Invoice ID: 20948868 already processed. Skipping.\n",
      "Processing invoice 286 of 2000 (ID: 13675755)...\n",
      "Invoice ID: 13675755 already processed. Skipping.\n",
      "Processing invoice 287 of 2000 (ID: 14642759)...\n",
      "Invoice ID: 14642759 already processed. Skipping.\n",
      "Processing invoice 288 of 2000 (ID: 14754038)...\n",
      "Invoice ID: 14754038 already processed. Skipping.\n",
      "Processing invoice 289 of 2000 (ID: 20535717)...\n",
      "Invoice ID: 20535717 already processed. Skipping.\n",
      "Processing invoice 290 of 2000 (ID: 20671180)...\n",
      "Invoice ID: 20671180 already processed. Skipping.\n",
      "Processing invoice 291 of 2000 (ID: 20622239)...\n",
      "Invoice ID: 20622239 already processed. Skipping.\n",
      "Processing invoice 292 of 2000 (ID: 14701493)...\n",
      "Invoice ID: 14701493 already processed. Skipping.\n",
      "Processing invoice 293 of 2000 (ID: 20764915)...\n",
      "Invoice ID: 20764915 already processed. Skipping.\n",
      "Processing invoice 294 of 2000 (ID: 19864984)...\n",
      "Invoice ID: 19864984 already processed. Skipping.\n",
      "Processing invoice 295 of 2000 (ID: 20666312)...\n",
      "Invoice ID: 20666312 already processed. Skipping.\n",
      "Processing invoice 296 of 2000 (ID: 14781613)...\n",
      "Invoice ID: 14781613 already processed. Skipping.\n",
      "Processing invoice 297 of 2000 (ID: 13848522)...\n",
      "Invoice ID: 13848522 already processed. Skipping.\n",
      "Processing invoice 298 of 2000 (ID: 20232925)...\n",
      "Invoice ID: 20232925 already processed. Skipping.\n",
      "Processing invoice 299 of 2000 (ID: 20456293)...\n",
      "Invoice ID: 20456293 already processed. Skipping.\n",
      "Processing invoice 300 of 2000 (ID: 14558131)...\n",
      "Invoice ID: 14558131 already processed. Skipping.\n",
      "Processing invoice 301 of 2000 (ID: 20831257)...\n",
      "Invoice ID: 20831257 already processed. Skipping.\n",
      "Processing invoice 302 of 2000 (ID: 21079178)...\n",
      "Invoice ID: 21079178 already processed. Skipping.\n",
      "Processing invoice 303 of 2000 (ID: 14272680)...\n",
      "Invoice ID: 14272680 already processed. Skipping.\n",
      "Processing invoice 304 of 2000 (ID: 13612681)...\n",
      "Invoice ID: 13612681 already processed. Skipping.\n",
      "Processing invoice 305 of 2000 (ID: 13644738)...\n",
      "Invoice ID: 13644738 already processed. Skipping.\n",
      "Processing invoice 306 of 2000 (ID: 21006322)...\n",
      "Invoice ID: 21006322 already processed. Skipping.\n",
      "Processing invoice 307 of 2000 (ID: 13915081)...\n",
      "Invoice ID: 13915081 already processed. Skipping.\n",
      "Processing invoice 308 of 2000 (ID: 14347270)...\n",
      "Invoice ID: 14347270 already processed. Skipping.\n",
      "Processing invoice 309 of 2000 (ID: 14555361)...\n",
      "Invoice ID: 14555361 already processed. Skipping.\n",
      "Processing invoice 310 of 2000 (ID: 19776399)...\n",
      "Invoice ID: 19776399 already processed. Skipping.\n",
      "Processing invoice 311 of 2000 (ID: 13975581)...\n",
      "Invoice ID: 13975581 already processed. Skipping.\n",
      "Processing invoice 312 of 2000 (ID: 14127548)...\n",
      "Invoice ID: 14127548 already processed. Skipping.\n",
      "Processing invoice 313 of 2000 (ID: 20022510)...\n",
      "Invoice ID: 20022510 already processed. Skipping.\n",
      "Processing invoice 314 of 2000 (ID: 20756612)...\n",
      "Invoice ID: 20756612 already processed. Skipping.\n",
      "Processing invoice 315 of 2000 (ID: 14635134)...\n",
      "Invoice ID: 14635134 already processed. Skipping.\n",
      "Processing invoice 316 of 2000 (ID: 14782512)...\n",
      "Invoice ID: 14782512 already processed. Skipping.\n",
      "Processing invoice 317 of 2000 (ID: 20305058)...\n",
      "Invoice ID: 20305058 already processed. Skipping.\n",
      "Processing invoice 318 of 2000 (ID: 14717167)...\n",
      "Invoice ID: 14717167 already processed. Skipping.\n",
      "Processing invoice 319 of 2000 (ID: 13702434)...\n",
      "Invoice ID: 13702434 already processed. Skipping.\n",
      "Processing invoice 320 of 2000 (ID: 19838882)...\n",
      "Invoice ID: 19838882 already processed. Skipping.\n",
      "Processing invoice 321 of 2000 (ID: 19965496)...\n",
      "Invoice ID: 19965496 already processed. Skipping.\n",
      "Processing invoice 322 of 2000 (ID: 13616412)...\n",
      "Invoice ID: 13616412 already processed. Skipping.\n",
      "Processing invoice 323 of 2000 (ID: 19940753)...\n",
      "Invoice ID: 19940753 already processed. Skipping.\n",
      "Processing invoice 324 of 2000 (ID: 19802900)...\n",
      "Invoice ID: 19802900 already processed. Skipping.\n",
      "Processing invoice 325 of 2000 (ID: 13922956)...\n",
      "Invoice ID: 13922956 already processed. Skipping.\n",
      "Processing invoice 326 of 2000 (ID: 20646404)...\n",
      "Invoice ID: 20646404 already processed. Skipping.\n",
      "Processing invoice 327 of 2000 (ID: 20842934)...\n",
      "Invoice ID: 20842934 already processed. Skipping.\n",
      "Processing invoice 328 of 2000 (ID: 20686346)...\n",
      "Invoice ID: 20686346 already processed. Skipping.\n",
      "Processing invoice 329 of 2000 (ID: 19870756)...\n",
      "Invoice ID: 19870756 already processed. Skipping.\n",
      "Processing invoice 330 of 2000 (ID: 15612594)...\n",
      "Invoice ID: 15612594 already processed. Skipping.\n",
      "Processing invoice 331 of 2000 (ID: 20434016)...\n",
      "Invoice ID: 20434016 already processed. Skipping.\n",
      "Processing invoice 332 of 2000 (ID: 14400072)...\n",
      "Invoice ID: 14400072 already processed. Skipping.\n",
      "Processing invoice 333 of 2000 (ID: 14878455)...\n",
      "Invoice ID: 14878455 already processed. Skipping.\n",
      "Processing invoice 334 of 2000 (ID: 20302603)...\n",
      "Invoice ID: 20302603 already processed. Skipping.\n",
      "Processing invoice 335 of 2000 (ID: 20387691)...\n",
      "Invoice ID: 20387691 already processed. Skipping.\n",
      "Processing invoice 336 of 2000 (ID: 14772431)...\n",
      "Invoice ID: 14772431 already processed. Skipping.\n",
      "Processing invoice 337 of 2000 (ID: 14750843)...\n",
      "Invoice ID: 14750843 already processed. Skipping.\n",
      "Processing invoice 338 of 2000 (ID: 14249838)...\n",
      "Invoice ID: 14249838 already processed. Skipping.\n",
      "Processing invoice 339 of 2000 (ID: 20311604)...\n",
      "Invoice ID: 20311604 already processed. Skipping.\n",
      "Processing invoice 340 of 2000 (ID: 14770105)...\n",
      "Invoice ID: 14770105 already processed. Skipping.\n",
      "Processing invoice 341 of 2000 (ID: 14196485)...\n",
      "Invoice ID: 14196485 already processed. Skipping.\n",
      "Processing invoice 342 of 2000 (ID: 14544461)...\n",
      "Invoice ID: 14544461 already processed. Skipping.\n",
      "Processing invoice 343 of 2000 (ID: 20236209)...\n",
      "Invoice ID: 20236209 already processed. Skipping.\n",
      "Processing invoice 344 of 2000 (ID: 21224314)...\n",
      "Invoice ID: 21224314 already processed. Skipping.\n",
      "Processing invoice 345 of 2000 (ID: 14666607)...\n",
      "Invoice ID: 14666607 already processed. Skipping.\n",
      "Processing invoice 346 of 2000 (ID: 19833964)...\n",
      "Invoice ID: 19833964 already processed. Skipping.\n",
      "Processing invoice 347 of 2000 (ID: 20150091)...\n",
      "Invoice ID: 20150091 already processed. Skipping.\n",
      "Processing invoice 348 of 2000 (ID: 20383158)...\n",
      "Invoice ID: 20383158 already processed. Skipping.\n",
      "Processing invoice 349 of 2000 (ID: 14574034)...\n",
      "Invoice ID: 14574034 already processed. Skipping.\n",
      "Processing invoice 350 of 2000 (ID: 21266942)...\n",
      "Invoice ID: 21266942 already processed. Skipping.\n",
      "Processing invoice 351 of 2000 (ID: 13996097)...\n",
      "Invoice ID: 13996097 already processed. Skipping.\n",
      "Processing invoice 352 of 2000 (ID: 20095386)...\n",
      "Invoice ID: 20095386 already processed. Skipping.\n",
      "Processing invoice 353 of 2000 (ID: 15065669)...\n",
      "Invoice ID: 15065669 already processed. Skipping.\n",
      "Processing invoice 354 of 2000 (ID: 19980522)...\n",
      "Invoice ID: 19980522 already processed. Skipping.\n",
      "Processing invoice 355 of 2000 (ID: 14643049)...\n",
      "Invoice ID: 14643049 already processed. Skipping.\n",
      "Processing invoice 356 of 2000 (ID: 13737669)...\n",
      "Invoice ID: 13737669 already processed. Skipping.\n",
      "Processing invoice 357 of 2000 (ID: 20186077)...\n",
      "Invoice ID: 20186077 already processed. Skipping.\n",
      "Processing invoice 358 of 2000 (ID: 14687475)...\n",
      "Invoice ID: 14687475 already processed. Skipping.\n",
      "Processing invoice 359 of 2000 (ID: 14277161)...\n",
      "Invoice ID: 14277161 already processed. Skipping.\n",
      "Processing invoice 360 of 2000 (ID: 14671654)...\n",
      "Invoice ID: 14671654 already processed. Skipping.\n",
      "Processing invoice 361 of 2000 (ID: 19926198)...\n",
      "Invoice ID: 19926198 already processed. Skipping.\n",
      "Processing invoice 362 of 2000 (ID: 21153159)...\n",
      "Invoice ID: 21153159 already processed. Skipping.\n",
      "Processing invoice 363 of 2000 (ID: 20254508)...\n",
      "Invoice ID: 20254508 already processed. Skipping.\n",
      "Processing invoice 364 of 2000 (ID: 21097892)...\n",
      "Invoice ID: 21097892 already processed. Skipping.\n",
      "Processing invoice 365 of 2000 (ID: 20152964)...\n",
      "Invoice ID: 20152964 already processed. Skipping.\n",
      "Processing invoice 366 of 2000 (ID: 13961582)...\n",
      "Invoice ID: 13961582 already processed. Skipping.\n",
      "Processing invoice 367 of 2000 (ID: 14189418)...\n",
      "Invoice ID: 14189418 already processed. Skipping.\n",
      "Processing invoice 368 of 2000 (ID: 14307195)...\n",
      "Invoice ID: 14307195 already processed. Skipping.\n",
      "Processing invoice 369 of 2000 (ID: 14411702)...\n",
      "Invoice ID: 14411702 already processed. Skipping.\n",
      "Processing invoice 370 of 2000 (ID: 20873893)...\n",
      "Invoice ID: 20873893 already processed. Skipping.\n",
      "Processing invoice 371 of 2000 (ID: 14407085)...\n",
      "Invoice ID: 14407085 already processed. Skipping.\n",
      "Processing invoice 372 of 2000 (ID: 13869027)...\n",
      "Invoice ID: 13869027 already processed. Skipping.\n",
      "Processing invoice 373 of 2000 (ID: 14328321)...\n",
      "Invoice ID: 14328321 already processed. Skipping.\n",
      "Processing invoice 374 of 2000 (ID: 13622188)...\n",
      "Invoice ID: 13622188 already processed. Skipping.\n",
      "Processing invoice 375 of 2000 (ID: 20920674)...\n",
      "Invoice ID: 20920674 already processed. Skipping.\n",
      "Processing invoice 376 of 2000 (ID: 20475110)...\n",
      "Invoice ID: 20475110 already processed. Skipping.\n",
      "Processing invoice 377 of 2000 (ID: 17177390)...\n",
      "Invoice ID: 17177390 already processed. Skipping.\n",
      "Processing invoice 378 of 2000 (ID: 20413553)...\n",
      "Invoice ID: 20413553 already processed. Skipping.\n",
      "Processing invoice 379 of 2000 (ID: 14606387)...\n",
      "Invoice ID: 14606387 already processed. Skipping.\n",
      "Processing invoice 380 of 2000 (ID: 14396999)...\n",
      "Invoice ID: 14396999 already processed. Skipping.\n",
      "Processing invoice 381 of 2000 (ID: 20976264)...\n",
      "Invoice ID: 20976264 already processed. Skipping.\n",
      "Processing invoice 382 of 2000 (ID: 20434730)...\n",
      "Invoice ID: 20434730 already processed. Skipping.\n",
      "Processing invoice 383 of 2000 (ID: 21116184)...\n",
      "Invoice ID: 21116184 already processed. Skipping.\n",
      "Processing invoice 384 of 2000 (ID: 20408768)...\n",
      "Invoice ID: 20408768 already processed. Skipping.\n",
      "Processing invoice 385 of 2000 (ID: 17174970)...\n",
      "Invoice ID: 17174970 already processed. Skipping.\n",
      "Processing invoice 386 of 2000 (ID: 14833881)...\n",
      "Invoice ID: 14833881 already processed. Skipping.\n",
      "Processing invoice 387 of 2000 (ID: 13723835)...\n",
      "Invoice ID: 13723835 already processed. Skipping.\n",
      "Processing invoice 388 of 2000 (ID: 14147513)...\n",
      "Invoice ID: 14147513 already processed. Skipping.\n",
      "Processing invoice 389 of 2000 (ID: 19881570)...\n",
      "Invoice ID: 19881570 already processed. Skipping.\n",
      "Processing invoice 390 of 2000 (ID: 13625772)...\n",
      "Invoice ID: 13625772 already processed. Skipping.\n",
      "Processing invoice 391 of 2000 (ID: 14579443)...\n",
      "Invoice ID: 14579443 already processed. Skipping.\n",
      "Processing invoice 392 of 2000 (ID: 21218064)...\n",
      "Invoice ID: 21218064 already processed. Skipping.\n",
      "Processing invoice 393 of 2000 (ID: 20966056)...\n",
      "Invoice ID: 20966056 already processed. Skipping.\n",
      "Processing invoice 394 of 2000 (ID: 14967334)...\n",
      "Invoice ID: 14967334 already processed. Skipping.\n",
      "Processing invoice 395 of 2000 (ID: 19773034)...\n",
      "Invoice ID: 19773034 already processed. Skipping.\n",
      "Processing invoice 396 of 2000 (ID: 19801214)...\n",
      "Invoice ID: 19801214 already processed. Skipping.\n",
      "Processing invoice 397 of 2000 (ID: 14155191)...\n",
      "Invoice ID: 14155191 already processed. Skipping.\n",
      "Processing invoice 398 of 2000 (ID: 14536321)...\n",
      "Invoice ID: 14536321 already processed. Skipping.\n",
      "Processing invoice 399 of 2000 (ID: 19772246)...\n",
      "Invoice ID: 19772246 already processed. Skipping.\n",
      "Processing invoice 400 of 2000 (ID: 21251308)...\n",
      "Invoice ID: 21251308 already processed. Skipping.\n",
      "Processing invoice 401 of 2000 (ID: 20230788)...\n",
      "Invoice ID: 20230788 already processed. Skipping.\n",
      "Processing invoice 402 of 2000 (ID: 14558116)...\n",
      "Invoice ID: 14558116 already processed. Skipping.\n",
      "Processing invoice 403 of 2000 (ID: 14838561)...\n",
      "Invoice ID: 14838561 already processed. Skipping.\n",
      "Processing invoice 404 of 2000 (ID: 14467310)...\n",
      "Invoice ID: 14467310 already processed. Skipping.\n",
      "Processing invoice 405 of 2000 (ID: 20785871)...\n",
      "Invoice ID: 20785871 already processed. Skipping.\n",
      "Processing invoice 406 of 2000 (ID: 20153593)...\n",
      "Invoice ID: 20153593 already processed. Skipping.\n",
      "Processing invoice 407 of 2000 (ID: 20738208)...\n",
      "Invoice ID: 20738208 already processed. Skipping.\n",
      "Processing invoice 408 of 2000 (ID: 20467346)...\n",
      "Invoice ID: 20467346 already processed. Skipping.\n",
      "Processing invoice 409 of 2000 (ID: 14183477)...\n",
      "Invoice ID: 14183477 already processed. Skipping.\n",
      "Processing invoice 410 of 2000 (ID: 14162619)...\n",
      "Invoice ID: 14162619 already processed. Skipping.\n",
      "Processing invoice 411 of 2000 (ID: 14412383)...\n",
      "Invoice ID: 14412383 already processed. Skipping.\n",
      "Processing invoice 412 of 2000 (ID: 19765728)...\n",
      "Invoice ID: 19765728 already processed. Skipping.\n",
      "Processing invoice 413 of 2000 (ID: 20261570)...\n",
      "Invoice ID: 20261570 already processed. Skipping.\n",
      "Processing invoice 414 of 2000 (ID: 20201483)...\n",
      "Invoice ID: 20201483 already processed. Skipping.\n",
      "Processing invoice 415 of 2000 (ID: 21277008)...\n",
      "Invoice ID: 21277008 already processed. Skipping.\n",
      "Processing invoice 416 of 2000 (ID: 20591435)...\n",
      "Invoice ID: 20591435 already processed. Skipping.\n",
      "Processing invoice 417 of 2000 (ID: 20703741)...\n",
      "Invoice ID: 20703741 already processed. Skipping.\n",
      "Processing invoice 418 of 2000 (ID: 14960641)...\n",
      "Invoice ID: 14960641 already processed. Skipping.\n",
      "Processing invoice 419 of 2000 (ID: 20018561)...\n",
      "Invoice ID: 20018561 already processed. Skipping.\n",
      "Processing invoice 420 of 2000 (ID: 20318782)...\n",
      "Invoice ID: 20318782 already processed. Skipping.\n",
      "Processing invoice 421 of 2000 (ID: 14858081)...\n",
      "Invoice ID: 14858081 already processed. Skipping.\n",
      "Processing invoice 422 of 2000 (ID: 14494857)...\n",
      "Invoice ID: 14494857 already processed. Skipping.\n",
      "Processing invoice 423 of 2000 (ID: 20846679)...\n",
      "Invoice ID: 20846679 already processed. Skipping.\n",
      "Processing invoice 424 of 2000 (ID: 14837521)...\n",
      "Invoice ID: 14837521 already processed. Skipping.\n",
      "Processing invoice 425 of 2000 (ID: 14037086)...\n",
      "Invoice ID: 14037086 already processed. Skipping.\n",
      "Processing invoice 426 of 2000 (ID: 14193870)...\n",
      "Invoice ID: 14193870 already processed. Skipping.\n",
      "Processing invoice 427 of 2000 (ID: 21098804)...\n",
      "Invoice ID: 21098804 already processed. Skipping.\n",
      "Processing invoice 428 of 2000 (ID: 20969905)...\n",
      "Invoice ID: 20969905 already processed. Skipping.\n",
      "Processing invoice 429 of 2000 (ID: 14001163)...\n",
      "Invoice ID: 14001163 already processed. Skipping.\n",
      "Processing invoice 430 of 2000 (ID: 20370451)...\n",
      "Invoice ID: 20370451 already processed. Skipping.\n",
      "Processing invoice 431 of 2000 (ID: 13909389)...\n",
      "Invoice ID: 13909389 already processed. Skipping.\n",
      "Processing invoice 432 of 2000 (ID: 20357357)...\n",
      "Invoice ID: 20357357 already processed. Skipping.\n",
      "Processing invoice 433 of 2000 (ID: 14620367)...\n",
      "Invoice ID: 14620367 already processed. Skipping.\n",
      "Processing invoice 434 of 2000 (ID: 20444357)...\n",
      "Invoice ID: 20444357 already processed. Skipping.\n",
      "Processing invoice 435 of 2000 (ID: 20444767)...\n",
      "Invoice ID: 20444767 already processed. Skipping.\n",
      "Processing invoice 436 of 2000 (ID: 20150775)...\n",
      "Invoice ID: 20150775 already processed. Skipping.\n",
      "Processing invoice 437 of 2000 (ID: 20067338)...\n",
      "Invoice ID: 20067338 already processed. Skipping.\n",
      "Processing invoice 438 of 2000 (ID: 14453878)...\n",
      "Invoice ID: 14453878 already processed. Skipping.\n",
      "Processing invoice 439 of 2000 (ID: 20917701)...\n",
      "Invoice ID: 20917701 already processed. Skipping.\n",
      "Processing invoice 440 of 2000 (ID: 14203888)...\n",
      "Invoice ID: 14203888 already processed. Skipping.\n",
      "Processing invoice 441 of 2000 (ID: 13973778)...\n",
      "Invoice ID: 13973778 already processed. Skipping.\n",
      "Processing invoice 442 of 2000 (ID: 14514640)...\n",
      "Invoice ID: 14514640 already processed. Skipping.\n",
      "Processing invoice 443 of 2000 (ID: 14019786)...\n",
      "Invoice ID: 14019786 already processed. Skipping.\n",
      "Processing invoice 444 of 2000 (ID: 20156959)...\n",
      "Invoice ID: 20156959 already processed. Skipping.\n",
      "Processing invoice 445 of 2000 (ID: 20971104)...\n",
      "Invoice ID: 20971104 already processed. Skipping.\n",
      "Processing invoice 446 of 2000 (ID: 13744178)...\n",
      "Invoice ID: 13744178 already processed. Skipping.\n",
      "Processing invoice 447 of 2000 (ID: 21179125)...\n",
      "Invoice ID: 21179125 already processed. Skipping.\n",
      "Processing invoice 448 of 2000 (ID: 13820672)...\n",
      "Invoice ID: 13820672 already processed. Skipping.\n",
      "Processing invoice 449 of 2000 (ID: 13730270)...\n",
      "Invoice ID: 13730270 already processed. Skipping.\n",
      "Processing invoice 450 of 2000 (ID: 13756572)...\n",
      "Invoice ID: 13756572 already processed. Skipping.\n",
      "Processing invoice 451 of 2000 (ID: 14502489)...\n",
      "Invoice ID: 14502489 already processed. Skipping.\n",
      "Processing invoice 452 of 2000 (ID: 20192798)...\n",
      "Invoice ID: 20192798 already processed. Skipping.\n",
      "Processing invoice 453 of 2000 (ID: 19824933)...\n",
      "Invoice ID: 19824933 already processed. Skipping.\n",
      "Processing invoice 454 of 2000 (ID: 20303373)...\n",
      "Invoice ID: 20303373 already processed. Skipping.\n",
      "Processing invoice 455 of 2000 (ID: 20090060)...\n",
      "Invoice ID: 20090060 already processed. Skipping.\n",
      "Processing invoice 456 of 2000 (ID: 21139019)...\n",
      "Invoice ID: 21139019 already processed. Skipping.\n",
      "Processing invoice 457 of 2000 (ID: 14259895)...\n",
      "Invoice ID: 14259895 already processed. Skipping.\n",
      "Processing invoice 458 of 2000 (ID: 14803884)...\n",
      "Invoice ID: 14803884 already processed. Skipping.\n",
      "Processing invoice 459 of 2000 (ID: 13688488)...\n",
      "Invoice ID: 13688488 already processed. Skipping.\n",
      "Processing invoice 460 of 2000 (ID: 20363804)...\n",
      "Invoice ID: 20363804 already processed. Skipping.\n",
      "Processing invoice 461 of 2000 (ID: 20871305)...\n",
      "Invoice ID: 20871305 already processed. Skipping.\n",
      "Processing invoice 462 of 2000 (ID: 13934755)...\n",
      "Invoice ID: 13934755 already processed. Skipping.\n",
      "Processing invoice 463 of 2000 (ID: 14663528)...\n",
      "Invoice ID: 14663528 already processed. Skipping.\n",
      "Processing invoice 464 of 2000 (ID: 20773239)...\n",
      "Invoice ID: 20773239 already processed. Skipping.\n",
      "Processing invoice 465 of 2000 (ID: 13645064)...\n",
      "Invoice ID: 13645064 already processed. Skipping.\n",
      "Processing invoice 466 of 2000 (ID: 14951880)...\n",
      "Invoice ID: 14951880 already processed. Skipping.\n",
      "Processing invoice 467 of 2000 (ID: 20530235)...\n",
      "Invoice ID: 20530235 already processed. Skipping.\n",
      "Processing invoice 468 of 2000 (ID: 19813604)...\n",
      "Invoice ID: 19813604 already processed. Skipping.\n",
      "Processing invoice 469 of 2000 (ID: 20935792)...\n",
      "Invoice ID: 20935792 already processed. Skipping.\n",
      "Processing invoice 470 of 2000 (ID: 14795386)...\n",
      "Invoice ID: 14795386 already processed. Skipping.\n",
      "Processing invoice 471 of 2000 (ID: 20001146)...\n",
      "Invoice ID: 20001146 already processed. Skipping.\n",
      "Processing invoice 472 of 2000 (ID: 20863482)...\n",
      "Invoice ID: 20863482 already processed. Skipping.\n",
      "Processing invoice 473 of 2000 (ID: 14015783)...\n",
      "Invoice ID: 14015783 already processed. Skipping.\n",
      "Processing invoice 474 of 2000 (ID: 13645908)...\n",
      "Invoice ID: 13645908 already processed. Skipping.\n",
      "Processing invoice 475 of 2000 (ID: 14883681)...\n",
      "Invoice ID: 14883681 already processed. Skipping.\n",
      "Processing invoice 476 of 2000 (ID: 14479150)...\n",
      "Invoice ID: 14479150 already processed. Skipping.\n",
      "Processing invoice 477 of 2000 (ID: 14763979)...\n",
      "Invoice ID: 14763979 already processed. Skipping.\n",
      "Processing invoice 478 of 2000 (ID: 14507303)...\n",
      "Invoice ID: 14507303 already processed. Skipping.\n",
      "Processing invoice 479 of 2000 (ID: 19966769)...\n",
      "Invoice ID: 19966769 already processed. Skipping.\n",
      "Processing invoice 480 of 2000 (ID: 14712779)...\n",
      "Invoice ID: 14712779 already processed. Skipping.\n",
      "Processing invoice 481 of 2000 (ID: 14342526)...\n",
      "Invoice ID: 14342526 already processed. Skipping.\n",
      "Processing invoice 482 of 2000 (ID: 20038089)...\n",
      "Invoice ID: 20038089 already processed. Skipping.\n",
      "Processing invoice 483 of 2000 (ID: 20921016)...\n",
      "Invoice ID: 20921016 already processed. Skipping.\n",
      "Processing invoice 484 of 2000 (ID: 20370314)...\n",
      "Invoice ID: 20370314 already processed. Skipping.\n",
      "Processing invoice 485 of 2000 (ID: 14595929)...\n",
      "Invoice ID: 14595929 already processed. Skipping.\n",
      "Processing invoice 486 of 2000 (ID: 19797947)...\n",
      "Invoice ID: 19797947 already processed. Skipping.\n",
      "Processing invoice 487 of 2000 (ID: 14422076)...\n",
      "Invoice ID: 14422076 already processed. Skipping.\n",
      "Processing invoice 488 of 2000 (ID: 14504344)...\n",
      "Invoice ID: 14504344 already processed. Skipping.\n",
      "Processing invoice 489 of 2000 (ID: 14435091)...\n",
      "Invoice ID: 14435091 already processed. Skipping.\n",
      "Processing invoice 490 of 2000 (ID: 20052822)...\n",
      "Invoice ID: 20052822 already processed. Skipping.\n",
      "Processing invoice 491 of 2000 (ID: 19819894)...\n",
      "Invoice ID: 19819894 already processed. Skipping.\n",
      "Processing invoice 492 of 2000 (ID: 19766496)...\n",
      "Invoice ID: 19766496 already processed. Skipping.\n",
      "Processing invoice 493 of 2000 (ID: 20657060)...\n",
      "Invoice ID: 20657060 already processed. Skipping.\n",
      "Processing invoice 494 of 2000 (ID: 14655707)...\n",
      "Invoice ID: 14655707 already processed. Skipping.\n",
      "Processing invoice 495 of 2000 (ID: 20958940)...\n",
      "Invoice ID: 20958940 already processed. Skipping.\n",
      "Processing invoice 496 of 2000 (ID: 19890080)...\n",
      "Invoice ID: 19890080 already processed. Skipping.\n",
      "Processing invoice 497 of 2000 (ID: 14864931)...\n",
      "Invoice ID: 14864931 already processed. Skipping.\n",
      "Processing invoice 498 of 2000 (ID: 20913422)...\n",
      "Invoice ID: 20913422 already processed. Skipping.\n",
      "Processing invoice 499 of 2000 (ID: 19816644)...\n",
      "Invoice ID: 19816644 already processed. Skipping.\n",
      "Processing invoice 500 of 2000 (ID: 20157254)...\n",
      "Invoice ID: 20157254 already processed. Skipping.\n",
      "Processing invoice 501 of 2000 (ID: 20233750)...\n",
      "Invoice ID: 20233750 already processed. Skipping.\n",
      "Processing invoice 502 of 2000 (ID: 14008713)...\n",
      "Invoice ID: 14008713 already processed. Skipping.\n",
      "Processing invoice 503 of 2000 (ID: 14308268)...\n",
      "Invoice ID: 14308268 already processed. Skipping.\n",
      "Processing invoice 504 of 2000 (ID: 14420716)...\n",
      "Invoice ID: 14420716 already processed. Skipping.\n",
      "Processing invoice 505 of 2000 (ID: 20850479)...\n",
      "Invoice ID: 20850479 already processed. Skipping.\n",
      "Processing invoice 506 of 2000 (ID: 21236829)...\n",
      "Invoice ID: 21236829 already processed. Skipping.\n",
      "Processing invoice 507 of 2000 (ID: 20423080)...\n",
      "Invoice ID: 20423080 already processed. Skipping.\n",
      "Processing invoice 508 of 2000 (ID: 20679346)...\n",
      "Invoice ID: 20679346 already processed. Skipping.\n",
      "Processing invoice 509 of 2000 (ID: 13630876)...\n",
      "Invoice ID: 13630876 already processed. Skipping.\n",
      "Processing invoice 510 of 2000 (ID: 14077619)...\n",
      "Invoice ID: 14077619 already processed. Skipping.\n",
      "Processing invoice 511 of 2000 (ID: 20699218)...\n",
      "Invoice ID: 20699218 already processed. Skipping.\n",
      "Processing invoice 512 of 2000 (ID: 21257988)...\n",
      "Invoice ID: 21257988 already processed. Skipping.\n",
      "Processing invoice 513 of 2000 (ID: 20003184)...\n",
      "Invoice ID: 20003184 already processed. Skipping.\n",
      "Processing invoice 514 of 2000 (ID: 20425741)...\n",
      "Invoice ID: 20425741 already processed. Skipping.\n",
      "Processing invoice 515 of 2000 (ID: 20558874)...\n",
      "Invoice ID: 20558874 already processed. Skipping.\n",
      "Processing invoice 516 of 2000 (ID: 14683196)...\n",
      "Invoice ID: 14683196 already processed. Skipping.\n",
      "Processing invoice 517 of 2000 (ID: 20621805)...\n",
      "Invoice ID: 20621805 already processed. Skipping.\n",
      "Processing invoice 518 of 2000 (ID: 14164491)...\n",
      "Invoice ID: 14164491 already processed. Skipping.\n",
      "Processing invoice 519 of 2000 (ID: 14781645)...\n",
      "Invoice ID: 14781645 already processed. Skipping.\n",
      "Processing invoice 520 of 2000 (ID: 14414533)...\n",
      "Invoice ID: 14414533 already processed. Skipping.\n",
      "Processing invoice 521 of 2000 (ID: 14765063)...\n",
      "Invoice ID: 14765063 already processed. Skipping.\n",
      "Processing invoice 522 of 2000 (ID: 20860196)...\n",
      "Invoice ID: 20860196 already processed. Skipping.\n",
      "Processing invoice 523 of 2000 (ID: 14764349)...\n",
      "Invoice ID: 14764349 already processed. Skipping.\n",
      "Processing invoice 524 of 2000 (ID: 20053502)...\n",
      "Invoice ID: 20053502 already processed. Skipping.\n",
      "Processing invoice 525 of 2000 (ID: 13819837)...\n",
      "Invoice ID: 13819837 already processed. Skipping.\n",
      "Processing invoice 526 of 2000 (ID: 20158091)...\n",
      "Invoice ID: 20158091 already processed. Skipping.\n",
      "Processing invoice 527 of 2000 (ID: 14867679)...\n",
      "Invoice ID: 14867679 already processed. Skipping.\n",
      "Processing invoice 528 of 2000 (ID: 14055381)...\n",
      "Invoice ID: 14055381 already processed. Skipping.\n",
      "Processing invoice 529 of 2000 (ID: 14468051)...\n",
      "Invoice ID: 14468051 already processed. Skipping.\n",
      "Processing invoice 530 of 2000 (ID: 13625141)...\n",
      "Invoice ID: 13625141 already processed. Skipping.\n",
      "Processing invoice 531 of 2000 (ID: 20682037)...\n",
      "Invoice ID: 20682037 already processed. Skipping.\n",
      "Processing invoice 532 of 2000 (ID: 14499387)...\n",
      "Invoice ID: 14499387 already processed. Skipping.\n",
      "Processing invoice 533 of 2000 (ID: 14069795)...\n",
      "Invoice ID: 14069795 already processed. Skipping.\n",
      "Processing invoice 534 of 2000 (ID: 14579925)...\n",
      "Invoice ID: 14579925 already processed. Skipping.\n",
      "Processing invoice 535 of 2000 (ID: 20213805)...\n",
      "Invoice ID: 20213805 already processed. Skipping.\n",
      "Processing invoice 536 of 2000 (ID: 21172367)...\n",
      "Invoice ID: 21172367 already processed. Skipping.\n",
      "Processing invoice 537 of 2000 (ID: 20466489)...\n",
      "Invoice ID: 20466489 already processed. Skipping.\n",
      "Processing invoice 538 of 2000 (ID: 20806489)...\n",
      "Invoice ID: 20806489 already processed. Skipping.\n",
      "Processing invoice 539 of 2000 (ID: 13757878)...\n",
      "Invoice ID: 13757878 already processed. Skipping.\n",
      "Processing invoice 540 of 2000 (ID: 14239277)...\n",
      "Invoice ID: 14239277 already processed. Skipping.\n",
      "Processing invoice 541 of 2000 (ID: 20013917)...\n",
      "Invoice ID: 20013917 already processed. Skipping.\n",
      "Processing invoice 542 of 2000 (ID: 14930544)...\n",
      "Invoice ID: 14930544 already processed. Skipping.\n",
      "Processing invoice 543 of 2000 (ID: 20757125)...\n",
      "Invoice ID: 20757125 already processed. Skipping.\n",
      "Processing invoice 544 of 2000 (ID: 20240530)...\n",
      "Invoice ID: 20240530 already processed. Skipping.\n",
      "Processing invoice 545 of 2000 (ID: 14779633)...\n",
      "Invoice ID: 14779633 already processed. Skipping.\n",
      "Processing invoice 546 of 2000 (ID: 14787083)...\n",
      "Invoice ID: 14787083 already processed. Skipping.\n",
      "Processing invoice 547 of 2000 (ID: 14526727)...\n",
      "Invoice ID: 14526727 already processed. Skipping.\n",
      "Processing invoice 548 of 2000 (ID: 13853144)...\n",
      "Invoice ID: 13853144 already processed. Skipping.\n",
      "Processing invoice 549 of 2000 (ID: 20149108)...\n",
      "Invoice ID: 20149108 already processed. Skipping.\n",
      "Processing invoice 550 of 2000 (ID: 20265665)...\n",
      "Invoice ID: 20265665 already processed. Skipping.\n",
      "Processing invoice 551 of 2000 (ID: 21079138)...\n",
      "Invoice ID: 21079138 already processed. Skipping.\n",
      "Processing invoice 552 of 2000 (ID: 19938010)...\n",
      "Invoice ID: 19938010 already processed. Skipping.\n",
      "Processing invoice 553 of 2000 (ID: 14531885)...\n",
      "Invoice ID: 14531885 already processed. Skipping.\n",
      "Processing invoice 554 of 2000 (ID: 14686624)...\n",
      "Invoice ID: 14686624 already processed. Skipping.\n",
      "Processing invoice 555 of 2000 (ID: 20489654)...\n",
      "Invoice ID: 20489654 already processed. Skipping.\n",
      "Processing invoice 556 of 2000 (ID: 14767711)...\n",
      "Invoice ID: 14767711 already processed. Skipping.\n",
      "Processing invoice 557 of 2000 (ID: 20605378)...\n",
      "Invoice ID: 20605378 already processed. Skipping.\n",
      "Processing invoice 558 of 2000 (ID: 19822460)...\n",
      "Invoice ID: 19822460 already processed. Skipping.\n",
      "Processing invoice 559 of 2000 (ID: 20195337)...\n",
      "Invoice ID: 20195337 already processed. Skipping.\n",
      "Processing invoice 560 of 2000 (ID: 20701028)...\n",
      "Invoice ID: 20701028 already processed. Skipping.\n",
      "Processing invoice 561 of 2000 (ID: 14409957)...\n",
      "Invoice ID: 14409957 already processed. Skipping.\n",
      "Processing invoice 562 of 2000 (ID: 20362045)...\n",
      "Invoice ID: 20362045 already processed. Skipping.\n",
      "Processing invoice 563 of 2000 (ID: 14324051)...\n",
      "Invoice ID: 14324051 already processed. Skipping.\n",
      "Processing invoice 564 of 2000 (ID: 14650993)...\n",
      "Invoice ID: 14650993 already processed. Skipping.\n",
      "Processing invoice 565 of 2000 (ID: 19792705)...\n",
      "Invoice ID: 19792705 already processed. Skipping.\n",
      "Processing invoice 566 of 2000 (ID: 14076385)...\n",
      "Invoice ID: 14076385 already processed. Skipping.\n",
      "Processing invoice 567 of 2000 (ID: 20328198)...\n",
      "Invoice ID: 20328198 already processed. Skipping.\n",
      "Processing invoice 568 of 2000 (ID: 13893950)...\n",
      "Invoice ID: 13893950 already processed. Skipping.\n",
      "Processing invoice 569 of 2000 (ID: 13852311)...\n",
      "Invoice ID: 13852311 already processed. Skipping.\n",
      "Processing invoice 570 of 2000 (ID: 20961907)...\n",
      "Invoice ID: 20961907 already processed. Skipping.\n",
      "Processing invoice 571 of 2000 (ID: 14694020)...\n",
      "Invoice ID: 14694020 already processed. Skipping.\n",
      "Processing invoice 572 of 2000 (ID: 20141127)...\n",
      "Invoice ID: 20141127 already processed. Skipping.\n",
      "Processing invoice 573 of 2000 (ID: 13785186)...\n",
      "Invoice ID: 13785186 already processed. Skipping.\n",
      "Processing invoice 574 of 2000 (ID: 14224053)...\n",
      "Invoice ID: 14224053 already processed. Skipping.\n",
      "Processing invoice 575 of 2000 (ID: 19967402)...\n",
      "Invoice ID: 19967402 already processed. Skipping.\n",
      "Processing invoice 576 of 2000 (ID: 20732191)...\n",
      "Invoice ID: 20732191 already processed. Skipping.\n",
      "Processing invoice 577 of 2000 (ID: 20017641)...\n",
      "Invoice ID: 20017641 already processed. Skipping.\n",
      "Processing invoice 578 of 2000 (ID: 20010605)...\n",
      "Invoice ID: 20010605 already processed. Skipping.\n",
      "Processing invoice 579 of 2000 (ID: 14449818)...\n",
      "Invoice ID: 14449818 already processed. Skipping.\n",
      "Processing invoice 580 of 2000 (ID: 20603762)...\n",
      "Invoice ID: 20603762 already processed. Skipping.\n",
      "Processing invoice 581 of 2000 (ID: 20481987)...\n",
      "Invoice ID: 20481987 already processed. Skipping.\n",
      "Processing invoice 582 of 2000 (ID: 14086685)...\n",
      "Invoice ID: 14086685 already processed. Skipping.\n",
      "Processing invoice 583 of 2000 (ID: 20253189)...\n",
      "Invoice ID: 20253189 already processed. Skipping.\n",
      "Processing invoice 584 of 2000 (ID: 14297707)...\n",
      "Invoice ID: 14297707 already processed. Skipping.\n",
      "Processing invoice 585 of 2000 (ID: 14667268)...\n",
      "Invoice ID: 14667268 already processed. Skipping.\n",
      "Processing invoice 586 of 2000 (ID: 13937388)...\n",
      "Invoice ID: 13937388 already processed. Skipping.\n",
      "Processing invoice 587 of 2000 (ID: 21075198)...\n",
      "Invoice ID: 21075198 already processed. Skipping.\n",
      "Processing invoice 588 of 2000 (ID: 20842197)...\n",
      "Invoice ID: 20842197 already processed. Skipping.\n",
      "Processing invoice 589 of 2000 (ID: 14050772)...\n",
      "Invoice ID: 14050772 already processed. Skipping.\n",
      "Processing invoice 590 of 2000 (ID: 14061849)...\n",
      "Invoice ID: 14061849 already processed. Skipping.\n",
      "Processing invoice 591 of 2000 (ID: 20275894)...\n",
      "Invoice ID: 20275894 already processed. Skipping.\n",
      "Processing invoice 592 of 2000 (ID: 13830801)...\n",
      "Invoice ID: 13830801 already processed. Skipping.\n",
      "Processing invoice 593 of 2000 (ID: 20315291)...\n",
      "Invoice ID: 20315291 already processed. Skipping.\n",
      "Processing invoice 594 of 2000 (ID: 20687032)...\n",
      "Invoice ID: 20687032 already processed. Skipping.\n",
      "Processing invoice 595 of 2000 (ID: 20982704)...\n",
      "Invoice ID: 20982704 already processed. Skipping.\n",
      "Processing invoice 596 of 2000 (ID: 14329824)...\n",
      "Invoice ID: 14329824 already processed. Skipping.\n",
      "Processing invoice 597 of 2000 (ID: 21275878)...\n",
      "Invoice ID: 21275878 already processed. Skipping.\n",
      "Processing invoice 598 of 2000 (ID: 20778476)...\n",
      "Invoice ID: 20778476 already processed. Skipping.\n",
      "Processing invoice 599 of 2000 (ID: 20691464)...\n",
      "Invoice ID: 20691464 already processed. Skipping.\n",
      "Processing invoice 600 of 2000 (ID: 20825172)...\n",
      "Invoice ID: 20825172 already processed. Skipping.\n",
      "Processing invoice 601 of 2000 (ID: 20678362)...\n",
      "Invoice ID: 20678362 already processed. Skipping.\n",
      "Processing invoice 602 of 2000 (ID: 19869236)...\n",
      "Invoice ID: 19869236 already processed. Skipping.\n",
      "Processing invoice 603 of 2000 (ID: 21251907)...\n",
      "Invoice ID: 21251907 already processed. Skipping.\n",
      "Processing invoice 604 of 2000 (ID: 13775423)...\n",
      "Invoice ID: 13775423 already processed. Skipping.\n",
      "Processing invoice 605 of 2000 (ID: 14511249)...\n",
      "Invoice ID: 14511249 already processed. Skipping.\n",
      "Processing invoice 606 of 2000 (ID: 21086931)...\n",
      "Invoice ID: 21086931 already processed. Skipping.\n",
      "Processing invoice 607 of 2000 (ID: 20272825)...\n",
      "Invoice ID: 20272825 already processed. Skipping.\n",
      "Processing invoice 608 of 2000 (ID: 14442676)...\n",
      "Invoice ID: 14442676 already processed. Skipping.\n",
      "Processing invoice 609 of 2000 (ID: 20600385)...\n",
      "Invoice ID: 20600385 already processed. Skipping.\n",
      "Processing invoice 610 of 2000 (ID: 20110841)...\n",
      "Invoice ID: 20110841 already processed. Skipping.\n",
      "Processing invoice 611 of 2000 (ID: 14051608)...\n",
      "Invoice ID: 14051608 already processed. Skipping.\n",
      "Processing invoice 612 of 2000 (ID: 13722031)...\n",
      "Invoice ID: 13722031 already processed. Skipping.\n",
      "Processing invoice 613 of 2000 (ID: 13795753)...\n",
      "Invoice ID: 13795753 already processed. Skipping.\n",
      "Processing invoice 614 of 2000 (ID: 20037570)...\n",
      "Invoice ID: 20037570 already processed. Skipping.\n",
      "Processing invoice 615 of 2000 (ID: 14640131)...\n",
      "Invoice ID: 14640131 already processed. Skipping.\n",
      "Processing invoice 616 of 2000 (ID: 14220696)...\n",
      "Invoice ID: 14220696 already processed. Skipping.\n",
      "Processing invoice 617 of 2000 (ID: 20022288)...\n",
      "Invoice ID: 20022288 already processed. Skipping.\n",
      "Processing invoice 618 of 2000 (ID: 20506762)...\n",
      "Invoice ID: 20506762 already processed. Skipping.\n",
      "Processing invoice 619 of 2000 (ID: 14418300)...\n",
      "Invoice ID: 14418300 already processed. Skipping.\n",
      "Processing invoice 620 of 2000 (ID: 13877690)...\n",
      "Invoice ID: 13877690 already processed. Skipping.\n",
      "Processing invoice 621 of 2000 (ID: 14254885)...\n",
      "Invoice ID: 14254885 already processed. Skipping.\n",
      "Processing invoice 622 of 2000 (ID: 20743251)...\n",
      "Invoice ID: 20743251 already processed. Skipping.\n",
      "Processing invoice 623 of 2000 (ID: 20395480)...\n",
      "Invoice ID: 20395480 already processed. Skipping.\n",
      "Processing invoice 624 of 2000 (ID: 14747670)...\n",
      "Invoice ID: 14747670 already processed. Skipping.\n",
      "Processing invoice 625 of 2000 (ID: 20074705)...\n",
      "Invoice ID: 20074705 already processed. Skipping.\n",
      "Processing invoice 626 of 2000 (ID: 14417151)...\n",
      "Invoice ID: 14417151 already processed. Skipping.\n",
      "Processing invoice 627 of 2000 (ID: 14367670)...\n",
      "Invoice ID: 14367670 already processed. Skipping.\n",
      "Processing invoice 628 of 2000 (ID: 14116569)...\n",
      "Invoice ID: 14116569 already processed. Skipping.\n",
      "Processing invoice 629 of 2000 (ID: 20349433)...\n",
      "Invoice ID: 20349433 already processed. Skipping.\n",
      "Processing invoice 630 of 2000 (ID: 17177053)...\n",
      "Invoice ID: 17177053 already processed. Skipping.\n",
      "Processing invoice 631 of 2000 (ID: 20845026)...\n",
      "Invoice ID: 20845026 already processed. Skipping.\n",
      "Processing invoice 632 of 2000 (ID: 20601728)...\n",
      "Invoice ID: 20601728 already processed. Skipping.\n",
      "Processing invoice 633 of 2000 (ID: 21202965)...\n",
      "Invoice ID: 21202965 already processed. Skipping.\n",
      "Processing invoice 634 of 2000 (ID: 20483581)...\n",
      "Invoice ID: 20483581 already processed. Skipping.\n",
      "Processing invoice 635 of 2000 (ID: 20089562)...\n",
      "Invoice ID: 20089562 already processed. Skipping.\n",
      "Processing invoice 636 of 2000 (ID: 19794096)...\n",
      "Invoice ID: 19794096 already processed. Skipping.\n",
      "Processing invoice 637 of 2000 (ID: 13961002)...\n",
      "Invoice ID: 13961002 already processed. Skipping.\n",
      "Processing invoice 638 of 2000 (ID: 14067592)...\n",
      "Invoice ID: 14067592 already processed. Skipping.\n",
      "Processing invoice 639 of 2000 (ID: 19958342)...\n",
      "Invoice ID: 19958342 already processed. Skipping.\n",
      "Processing invoice 640 of 2000 (ID: 20693326)...\n",
      "Invoice ID: 20693326 already processed. Skipping.\n",
      "Processing invoice 641 of 2000 (ID: 19916949)...\n",
      "Invoice ID: 19916949 already processed. Skipping.\n",
      "Processing invoice 642 of 2000 (ID: 19971986)...\n",
      "Invoice ID: 19971986 already processed. Skipping.\n",
      "Processing invoice 643 of 2000 (ID: 21155729)...\n",
      "Invoice ID: 21155729 already processed. Skipping.\n",
      "Processing invoice 644 of 2000 (ID: 20883402)...\n",
      "Invoice ID: 20883402 already processed. Skipping.\n",
      "Processing invoice 645 of 2000 (ID: 13963255)...\n",
      "Invoice ID: 13963255 already processed. Skipping.\n",
      "Processing invoice 646 of 2000 (ID: 13623984)...\n",
      "Invoice ID: 13623984 already processed. Skipping.\n",
      "Processing invoice 647 of 2000 (ID: 21257013)...\n",
      "Invoice ID: 21257013 already processed. Skipping.\n",
      "Processing invoice 648 of 2000 (ID: 15744754)...\n",
      "Invoice ID: 15744754 already processed. Skipping.\n",
      "Processing invoice 649 of 2000 (ID: 15636890)...\n",
      "Invoice ID: 15636890 already processed. Skipping.\n",
      "Processing invoice 650 of 2000 (ID: 14381735)...\n",
      "Invoice ID: 14381735 already processed. Skipping.\n",
      "Processing invoice 651 of 2000 (ID: 20141544)...\n",
      "Invoice ID: 20141544 already processed. Skipping.\n",
      "Processing invoice 652 of 2000 (ID: 20439740)...\n",
      "Invoice ID: 20439740 already processed. Skipping.\n",
      "Processing invoice 653 of 2000 (ID: 20615871)...\n",
      "Invoice ID: 20615871 already processed. Skipping.\n",
      "Processing invoice 654 of 2000 (ID: 20086533)...\n",
      "Invoice ID: 20086533 already processed. Skipping.\n",
      "Processing invoice 655 of 2000 (ID: 20710216)...\n",
      "Invoice ID: 20710216 already processed. Skipping.\n",
      "Processing invoice 656 of 2000 (ID: 20873216)...\n",
      "Invoice ID: 20873216 already processed. Skipping.\n",
      "Processing invoice 657 of 2000 (ID: 20279269)...\n",
      "Invoice ID: 20279269 already processed. Skipping.\n",
      "Processing invoice 658 of 2000 (ID: 14246842)...\n",
      "Invoice ID: 14246842 already processed. Skipping.\n",
      "Processing invoice 659 of 2000 (ID: 20779338)...\n",
      "Invoice ID: 20779338 already processed. Skipping.\n",
      "Processing invoice 660 of 2000 (ID: 20035079)...\n",
      "Invoice ID: 20035079 already processed. Skipping.\n",
      "Processing invoice 661 of 2000 (ID: 14516965)...\n",
      "Invoice ID: 14516965 already processed. Skipping.\n",
      "Processing invoice 662 of 2000 (ID: 20168959)...\n",
      "Invoice ID: 20168959 already processed. Skipping.\n",
      "Processing invoice 663 of 2000 (ID: 21160308)...\n",
      "Invoice ID: 21160308 already processed. Skipping.\n",
      "Processing invoice 664 of 2000 (ID: 20138302)...\n",
      "Invoice ID: 20138302 already processed. Skipping.\n",
      "Processing invoice 665 of 2000 (ID: 13677679)...\n",
      "Invoice ID: 13677679 already processed. Skipping.\n",
      "Processing invoice 666 of 2000 (ID: 14569718)...\n",
      "Invoice ID: 14569718 already processed. Skipping.\n",
      "Processing invoice 667 of 2000 (ID: 14968017)...\n",
      "Invoice ID: 14968017 already processed. Skipping.\n",
      "Processing invoice 668 of 2000 (ID: 14200005)...\n",
      "Invoice ID: 14200005 already processed. Skipping.\n",
      "Processing invoice 669 of 2000 (ID: 21074754)...\n",
      "Invoice ID: 21074754 already processed. Skipping.\n",
      "Processing invoice 670 of 2000 (ID: 19852398)...\n",
      "Invoice ID: 19852398 already processed. Skipping.\n",
      "Processing invoice 671 of 2000 (ID: 21220739)...\n",
      "Invoice ID: 21220739 already processed. Skipping.\n",
      "Processing invoice 672 of 2000 (ID: 14544992)...\n",
      "Invoice ID: 14544992 already processed. Skipping.\n",
      "Processing invoice 673 of 2000 (ID: 20001789)...\n",
      "Invoice ID: 20001789 already processed. Skipping.\n",
      "Processing invoice 674 of 2000 (ID: 21112354)...\n",
      "Invoice ID: 21112354 already processed. Skipping.\n",
      "Processing invoice 675 of 2000 (ID: 13799707)...\n",
      "Invoice ID: 13799707 already processed. Skipping.\n",
      "Processing invoice 676 of 2000 (ID: 20897705)...\n",
      "Invoice ID: 20897705 already processed. Skipping.\n",
      "Processing invoice 677 of 2000 (ID: 20640007)...\n",
      "Invoice ID: 20640007 already processed. Skipping.\n",
      "Processing invoice 678 of 2000 (ID: 14198949)...\n",
      "Invoice ID: 14198949 already processed. Skipping.\n",
      "Processing invoice 679 of 2000 (ID: 20225091)...\n",
      "Invoice ID: 20225091 already processed. Skipping.\n",
      "Processing invoice 680 of 2000 (ID: 20661377)...\n",
      "Invoice ID: 20661377 already processed. Skipping.\n",
      "Processing invoice 681 of 2000 (ID: 14018312)...\n",
      "Invoice ID: 14018312 already processed. Skipping.\n",
      "Processing invoice 682 of 2000 (ID: 14011512)...\n",
      "Invoice ID: 14011512 already processed. Skipping.\n",
      "Processing invoice 683 of 2000 (ID: 14271795)...\n",
      "Invoice ID: 14271795 already processed. Skipping.\n",
      "Processing invoice 684 of 2000 (ID: 20253234)...\n",
      "Invoice ID: 20253234 already processed. Skipping.\n",
      "Processing invoice 685 of 2000 (ID: 13975467)...\n",
      "Invoice ID: 13975467 already processed. Skipping.\n",
      "Processing invoice 686 of 2000 (ID: 20988444)...\n",
      "Invoice ID: 20988444 already processed. Skipping.\n",
      "Processing invoice 687 of 2000 (ID: 20654504)...\n",
      "Invoice ID: 20654504 already processed. Skipping.\n",
      "Processing invoice 688 of 2000 (ID: 13827784)...\n",
      "Invoice ID: 13827784 already processed. Skipping.\n",
      "Processing invoice 689 of 2000 (ID: 14067166)...\n",
      "Invoice ID: 14067166 already processed. Skipping.\n",
      "Processing invoice 690 of 2000 (ID: 20348612)...\n",
      "Invoice ID: 20348612 already processed. Skipping.\n",
      "Processing invoice 691 of 2000 (ID: 20103663)...\n",
      "Invoice ID: 20103663 already processed. Skipping.\n",
      "Processing invoice 692 of 2000 (ID: 20200621)...\n",
      "Invoice ID: 20200621 already processed. Skipping.\n",
      "Processing invoice 693 of 2000 (ID: 13696197)...\n",
      "Invoice ID: 13696197 already processed. Skipping.\n",
      "Processing invoice 694 of 2000 (ID: 14713666)...\n",
      "Invoice ID: 14713666 already processed. Skipping.\n",
      "Processing invoice 695 of 2000 (ID: 14139430)...\n",
      "Invoice ID: 14139430 already processed. Skipping.\n",
      "Processing invoice 696 of 2000 (ID: 14639818)...\n",
      "Invoice ID: 14639818 already processed. Skipping.\n",
      "Processing invoice 697 of 2000 (ID: 13919156)...\n",
      "Invoice ID: 13919156 already processed. Skipping.\n",
      "Processing invoice 698 of 2000 (ID: 13859841)...\n",
      "Invoice ID: 13859841 already processed. Skipping.\n",
      "Processing invoice 699 of 2000 (ID: 20530345)...\n",
      "Invoice ID: 20530345 already processed. Skipping.\n",
      "Processing invoice 700 of 2000 (ID: 14740286)...\n",
      "Invoice ID: 14740286 already processed. Skipping.\n",
      "Processing invoice 701 of 2000 (ID: 20473968)...\n",
      "Invoice ID: 20473968 already processed. Skipping.\n",
      "Processing invoice 702 of 2000 (ID: 13898312)...\n",
      "Invoice ID: 13898312 already processed. Skipping.\n",
      "Processing invoice 703 of 2000 (ID: 20940023)...\n",
      "Invoice ID: 20940023 already processed. Skipping.\n",
      "Processing invoice 704 of 2000 (ID: 13673644)...\n",
      "Invoice ID: 13673644 already processed. Skipping.\n",
      "Processing invoice 705 of 2000 (ID: 13934429)...\n",
      "Invoice ID: 13934429 already processed. Skipping.\n",
      "Processing invoice 706 of 2000 (ID: 14714236)...\n",
      "Invoice ID: 14714236 already processed. Skipping.\n",
      "Processing invoice 707 of 2000 (ID: 20052482)...\n",
      "Invoice ID: 20052482 already processed. Skipping.\n",
      "Processing invoice 708 of 2000 (ID: 20460385)...\n",
      "Invoice ID: 20460385 already processed. Skipping.\n",
      "Processing invoice 709 of 2000 (ID: 21083174)...\n",
      "Invoice ID: 21083174 already processed. Skipping.\n",
      "Processing invoice 710 of 2000 (ID: 20638742)...\n",
      "Invoice ID: 20638742 already processed. Skipping.\n",
      "Processing invoice 711 of 2000 (ID: 14294782)...\n",
      "Invoice ID: 14294782 already processed. Skipping.\n",
      "Processing invoice 712 of 2000 (ID: 14242298)...\n",
      "Invoice ID: 14242298 already processed. Skipping.\n",
      "Processing invoice 713 of 2000 (ID: 13664020)...\n",
      "Invoice ID: 13664020 already processed. Skipping.\n",
      "Processing invoice 714 of 2000 (ID: 20603634)...\n",
      "Invoice ID: 20603634 already processed. Skipping.\n",
      "Processing invoice 715 of 2000 (ID: 20121654)...\n",
      "Invoice ID: 20121654 already processed. Skipping.\n",
      "Processing invoice 716 of 2000 (ID: 13887476)...\n",
      "Invoice ID: 13887476 already processed. Skipping.\n",
      "Processing invoice 717 of 2000 (ID: 14697159)...\n",
      "Invoice ID: 14697159 already processed. Skipping.\n",
      "Processing invoice 718 of 2000 (ID: 20925760)...\n",
      "Invoice ID: 20925760 already processed. Skipping.\n",
      "Processing invoice 719 of 2000 (ID: 14746205)...\n",
      "Invoice ID: 14746205 already processed. Skipping.\n",
      "Processing invoice 720 of 2000 (ID: 20873887)...\n",
      "Invoice ID: 20873887 already processed. Skipping.\n",
      "Processing invoice 721 of 2000 (ID: 20042807)...\n",
      "Invoice ID: 20042807 already processed. Skipping.\n",
      "Processing invoice 722 of 2000 (ID: 13816398)...\n",
      "Invoice ID: 13816398 already processed. Skipping.\n",
      "Processing invoice 723 of 2000 (ID: 14193773)...\n",
      "Invoice ID: 14193773 already processed. Skipping.\n",
      "Processing invoice 724 of 2000 (ID: 14167949)...\n",
      "Invoice ID: 14167949 already processed. Skipping.\n",
      "Processing invoice 725 of 2000 (ID: 14543612)...\n",
      "Invoice ID: 14543612 already processed. Skipping.\n",
      "Processing invoice 726 of 2000 (ID: 14156552)...\n",
      "Invoice ID: 14156552 already processed. Skipping.\n",
      "Processing invoice 727 of 2000 (ID: 20228616)...\n",
      "Invoice ID: 20228616 already processed. Skipping.\n",
      "Processing invoice 728 of 2000 (ID: 20661103)...\n",
      "Invoice ID: 20661103 already processed. Skipping.\n",
      "Processing invoice 729 of 2000 (ID: 20608761)...\n",
      "Invoice ID: 20608761 already processed. Skipping.\n",
      "Processing invoice 730 of 2000 (ID: 19855852)...\n",
      "Invoice ID: 19855852 already processed. Skipping.\n",
      "Processing invoice 731 of 2000 (ID: 14031947)...\n",
      "Invoice ID: 14031947 already processed. Skipping.\n",
      "Processing invoice 732 of 2000 (ID: 21100537)...\n",
      "Invoice ID: 21100537 already processed. Skipping.\n",
      "Processing invoice 733 of 2000 (ID: 15755674)...\n",
      "Invoice ID: 15755674 already processed. Skipping.\n",
      "Processing invoice 734 of 2000 (ID: 20592942)...\n",
      "Invoice ID: 20592942 already processed. Skipping.\n",
      "Processing invoice 735 of 2000 (ID: 13896582)...\n",
      "Invoice ID: 13896582 already processed. Skipping.\n",
      "Processing invoice 736 of 2000 (ID: 13834589)...\n",
      "Invoice ID: 13834589 already processed. Skipping.\n",
      "Processing invoice 737 of 2000 (ID: 20244305)...\n",
      "Invoice ID: 20244305 already processed. Skipping.\n",
      "Processing invoice 738 of 2000 (ID: 20758072)...\n",
      "Invoice ID: 20758072 already processed. Skipping.\n",
      "Processing invoice 739 of 2000 (ID: 20042567)...\n",
      "Invoice ID: 20042567 already processed. Skipping.\n",
      "Processing invoice 740 of 2000 (ID: 21277606)...\n",
      "Invoice ID: 21277606 already processed. Skipping.\n",
      "Processing invoice 741 of 2000 (ID: 14551194)...\n",
      "Invoice ID: 14551194 already processed. Skipping.\n",
      "Processing invoice 742 of 2000 (ID: 20514195)...\n",
      "Invoice ID: 20514195 already processed. Skipping.\n",
      "Processing invoice 743 of 2000 (ID: 20839778)...\n",
      "Invoice ID: 20839778 already processed. Skipping.\n",
      "Processing invoice 744 of 2000 (ID: 20038548)...\n",
      "Invoice ID: 20038548 already processed. Skipping.\n",
      "Processing invoice 745 of 2000 (ID: 14021957)...\n",
      "Invoice ID: 14021957 already processed. Skipping.\n",
      "Processing invoice 746 of 2000 (ID: 14935333)...\n",
      "Invoice ID: 14935333 already processed. Skipping.\n",
      "Processing invoice 747 of 2000 (ID: 14375047)...\n",
      "Invoice ID: 14375047 already processed. Skipping.\n",
      "Processing invoice 748 of 2000 (ID: 14016673)...\n",
      "Invoice ID: 14016673 already processed. Skipping.\n",
      "Processing invoice 749 of 2000 (ID: 13859601)...\n",
      "Invoice ID: 13859601 already processed. Skipping.\n",
      "Processing invoice 750 of 2000 (ID: 14664246)...\n",
      "Invoice ID: 14664246 already processed. Skipping.\n",
      "Processing invoice 751 of 2000 (ID: 20754227)...\n",
      "Invoice ID: 20754227 already processed. Skipping.\n",
      "Processing invoice 752 of 2000 (ID: 14597231)...\n",
      "Invoice ID: 14597231 already processed. Skipping.\n",
      "Processing invoice 753 of 2000 (ID: 14565979)...\n",
      "Invoice ID: 14565979 already processed. Skipping.\n",
      "Processing invoice 754 of 2000 (ID: 14370278)...\n",
      "Invoice ID: 14370278 already processed. Skipping.\n",
      "Processing invoice 755 of 2000 (ID: 14561168)...\n",
      "Invoice ID: 14561168 already processed. Skipping.\n",
      "Processing invoice 756 of 2000 (ID: 14171791)...\n",
      "Invoice ID: 14171791 already processed. Skipping.\n",
      "Processing invoice 757 of 2000 (ID: 20508492)...\n",
      "Invoice ID: 20508492 already processed. Skipping.\n",
      "Processing invoice 758 of 2000 (ID: 14913941)...\n",
      "Invoice ID: 14913941 already processed. Skipping.\n",
      "Processing invoice 759 of 2000 (ID: 14024252)...\n",
      "Invoice ID: 14024252 already processed. Skipping.\n",
      "Processing invoice 760 of 2000 (ID: 20659549)...\n",
      "Invoice ID: 20659549 already processed. Skipping.\n",
      "Processing invoice 761 of 2000 (ID: 20145318)...\n",
      "Invoice ID: 20145318 already processed. Skipping.\n",
      "Processing invoice 762 of 2000 (ID: 14722098)...\n",
      "Invoice ID: 14722098 already processed. Skipping.\n",
      "Processing invoice 763 of 2000 (ID: 14380537)...\n",
      "Invoice ID: 14380537 already processed. Skipping.\n",
      "Processing invoice 764 of 2000 (ID: 14621376)...\n",
      "Invoice ID: 14621376 already processed. Skipping.\n",
      "Processing invoice 765 of 2000 (ID: 14194381)...\n",
      "Invoice ID: 14194381 already processed. Skipping.\n",
      "Processing invoice 766 of 2000 (ID: 13961246)...\n",
      "Invoice ID: 13961246 already processed. Skipping.\n",
      "Processing invoice 767 of 2000 (ID: 20258302)...\n",
      "Invoice ID: 20258302 already processed. Skipping.\n",
      "Processing invoice 768 of 2000 (ID: 20559591)...\n",
      "Invoice ID: 20559591 already processed. Skipping.\n",
      "Processing invoice 769 of 2000 (ID: 20773781)...\n",
      "Invoice ID: 20773781 already processed. Skipping.\n",
      "Processing invoice 770 of 2000 (ID: 21102017)...\n",
      "Invoice ID: 21102017 already processed. Skipping.\n",
      "Processing invoice 771 of 2000 (ID: 13690565)...\n",
      "Invoice ID: 13690565 already processed. Skipping.\n",
      "Processing invoice 772 of 2000 (ID: 20631683)...\n",
      "Invoice ID: 20631683 already processed. Skipping.\n",
      "Processing invoice 773 of 2000 (ID: 13951520)...\n",
      "Invoice ID: 13951520 already processed. Skipping.\n",
      "Processing invoice 774 of 2000 (ID: 14818115)...\n",
      "Invoice ID: 14818115 already processed. Skipping.\n",
      "Processing invoice 775 of 2000 (ID: 14676226)...\n",
      "Invoice ID: 14676226 already processed. Skipping.\n",
      "Processing invoice 776 of 2000 (ID: 21172934)...\n",
      "Invoice ID: 21172934 already processed. Skipping.\n",
      "Processing invoice 777 of 2000 (ID: 20256983)...\n",
      "Invoice ID: 20256983 already processed. Skipping.\n",
      "Processing invoice 778 of 2000 (ID: 20803158)...\n",
      "Invoice ID: 20803158 already processed. Skipping.\n",
      "Processing invoice 779 of 2000 (ID: 20659555)...\n",
      "Invoice ID: 20659555 already processed. Skipping.\n",
      "Processing invoice 780 of 2000 (ID: 14818219)...\n",
      "Invoice ID: 14818219 already processed. Skipping.\n",
      "Processing invoice 781 of 2000 (ID: 20375259)...\n",
      "Invoice ID: 20375259 already processed. Skipping.\n",
      "Processing invoice 782 of 2000 (ID: 20956298)...\n",
      "Invoice ID: 20956298 already processed. Skipping.\n",
      "Processing invoice 783 of 2000 (ID: 14120736)...\n",
      "Invoice ID: 14120736 already processed. Skipping.\n",
      "Processing invoice 784 of 2000 (ID: 14469329)...\n",
      "Invoice ID: 14469329 already processed. Skipping.\n",
      "Processing invoice 785 of 2000 (ID: 20984361)...\n",
      "Invoice ID: 20984361 already processed. Skipping.\n",
      "Processing invoice 786 of 2000 (ID: 19879000)...\n",
      "Invoice ID: 19879000 already processed. Skipping.\n",
      "Processing invoice 787 of 2000 (ID: 20231456)...\n",
      "Invoice ID: 20231456 already processed. Skipping.\n",
      "Processing invoice 788 of 2000 (ID: 19904017)...\n",
      "Invoice ID: 19904017 already processed. Skipping.\n",
      "Processing invoice 789 of 2000 (ID: 13827138)...\n",
      "Invoice ID: 13827138 already processed. Skipping.\n",
      "Processing invoice 790 of 2000 (ID: 13943845)...\n",
      "Invoice ID: 13943845 already processed. Skipping.\n",
      "Processing invoice 791 of 2000 (ID: 14838907)...\n",
      "Invoice ID: 14838907 already processed. Skipping.\n",
      "Processing invoice 792 of 2000 (ID: 14796362)...\n",
      "Invoice ID: 14796362 already processed. Skipping.\n",
      "Processing invoice 793 of 2000 (ID: 20103695)...\n",
      "Invoice ID: 20103695 already processed. Skipping.\n",
      "Processing invoice 794 of 2000 (ID: 21274740)...\n",
      "Invoice ID: 21274740 already processed. Skipping.\n",
      "Processing invoice 795 of 2000 (ID: 20426528)...\n",
      "Invoice ID: 20426528 already processed. Skipping.\n",
      "Processing invoice 796 of 2000 (ID: 20120909)...\n",
      "Invoice ID: 20120909 already processed. Skipping.\n",
      "Processing invoice 797 of 2000 (ID: 20261310)...\n",
      "Invoice ID: 20261310 already processed. Skipping.\n",
      "Processing invoice 798 of 2000 (ID: 20102757)...\n",
      "Invoice ID: 20102757 already processed. Skipping.\n",
      "Processing invoice 799 of 2000 (ID: 14129069)...\n",
      "Invoice ID: 14129069 already processed. Skipping.\n",
      "Processing invoice 800 of 2000 (ID: 14744638)...\n",
      "Invoice ID: 14744638 already processed. Skipping.\n",
      "Processing invoice 801 of 2000 (ID: 20984600)...\n",
      "Invoice ID: 20984600 already processed. Skipping.\n",
      "Processing invoice 802 of 2000 (ID: 14370029)...\n",
      "Invoice ID: 14370029 already processed. Skipping.\n",
      "Processing invoice 803 of 2000 (ID: 21030354)...\n",
      "Invoice ID: 21030354 already processed. Skipping.\n",
      "Processing invoice 804 of 2000 (ID: 20717650)...\n",
      "Invoice ID: 20717650 already processed. Skipping.\n",
      "Processing invoice 805 of 2000 (ID: 14519248)...\n",
      "Invoice ID: 14519248 already processed. Skipping.\n",
      "Processing invoice 806 of 2000 (ID: 14332435)...\n",
      "Invoice ID: 14332435 already processed. Skipping.\n",
      "Processing invoice 807 of 2000 (ID: 14728781)...\n",
      "Invoice ID: 14728781 already processed. Skipping.\n",
      "Processing invoice 808 of 2000 (ID: 14389965)...\n",
      "Invoice ID: 14389965 already processed. Skipping.\n",
      "Processing invoice 809 of 2000 (ID: 14768967)...\n",
      "Invoice ID: 14768967 already processed. Skipping.\n",
      "Processing invoice 810 of 2000 (ID: 21065460)...\n",
      "Invoice ID: 21065460 already processed. Skipping.\n",
      "Processing invoice 811 of 2000 (ID: 14928788)...\n",
      "Invoice ID: 14928788 already processed. Skipping.\n",
      "Processing invoice 812 of 2000 (ID: 14209180)...\n",
      "Invoice ID: 14209180 already processed. Skipping.\n",
      "Processing invoice 813 of 2000 (ID: 20882550)...\n",
      "Invoice ID: 20882550 already processed. Skipping.\n",
      "Processing invoice 814 of 2000 (ID: 20557124)...\n",
      "Invoice ID: 20557124 already processed. Skipping.\n",
      "Processing invoice 815 of 2000 (ID: 14776249)...\n",
      "Invoice ID: 14776249 already processed. Skipping.\n",
      "Processing invoice 816 of 2000 (ID: 14622959)...\n",
      "Invoice ID: 14622959 already processed. Skipping.\n",
      "Processing invoice 817 of 2000 (ID: 14109821)...\n",
      "Invoice ID: 14109821 already processed. Skipping.\n",
      "Processing invoice 818 of 2000 (ID: 21006467)...\n",
      "Invoice ID: 21006467 already processed. Skipping.\n",
      "Processing invoice 819 of 2000 (ID: 14694072)...\n",
      "Invoice ID: 14694072 already processed. Skipping.\n",
      "Processing invoice 820 of 2000 (ID: 14342352)...\n",
      "Invoice ID: 14342352 already processed. Skipping.\n",
      "Processing invoice 821 of 2000 (ID: 20392210)...\n",
      "Invoice ID: 20392210 already processed. Skipping.\n",
      "Processing invoice 822 of 2000 (ID: 19773614)...\n",
      "Invoice ID: 19773614 already processed. Skipping.\n",
      "Processing invoice 823 of 2000 (ID: 14170197)...\n",
      "Invoice ID: 14170197 already processed. Skipping.\n",
      "Processing invoice 824 of 2000 (ID: 13771195)...\n",
      "Invoice ID: 13771195 already processed. Skipping.\n",
      "Processing invoice 825 of 2000 (ID: 20778963)...\n",
      "Invoice ID: 20778963 already processed. Skipping.\n",
      "Processing invoice 826 of 2000 (ID: 20923589)...\n",
      "Invoice ID: 20923589 already processed. Skipping.\n",
      "Processing invoice 827 of 2000 (ID: 14650572)...\n",
      "Invoice ID: 14650572 already processed. Skipping.\n",
      "Processing invoice 828 of 2000 (ID: 14427672)...\n",
      "Invoice ID: 14427672 already processed. Skipping.\n",
      "Processing invoice 829 of 2000 (ID: 14772827)...\n",
      "Invoice ID: 14772827 already processed. Skipping.\n",
      "Processing invoice 830 of 2000 (ID: 20924737)...\n",
      "Invoice ID: 20924737 already processed. Skipping.\n",
      "Processing invoice 831 of 2000 (ID: 14906024)...\n",
      "Invoice ID: 14906024 already processed. Skipping.\n",
      "Processing invoice 832 of 2000 (ID: 14497275)...\n",
      "Invoice ID: 14497275 already processed. Skipping.\n",
      "Processing invoice 833 of 2000 (ID: 14043431)...\n",
      "Invoice ID: 14043431 already processed. Skipping.\n",
      "Processing invoice 834 of 2000 (ID: 14581358)...\n",
      "Invoice ID: 14581358 already processed. Skipping.\n",
      "Processing invoice 835 of 2000 (ID: 20809295)...\n",
      "Invoice ID: 20809295 already processed. Skipping.\n",
      "Processing invoice 836 of 2000 (ID: 20311954)...\n",
      "Invoice ID: 20311954 already processed. Skipping.\n",
      "Processing invoice 837 of 2000 (ID: 14531971)...\n",
      "Invoice ID: 14531971 already processed. Skipping.\n",
      "Processing invoice 838 of 2000 (ID: 20297302)...\n",
      "Invoice ID: 20297302 already processed. Skipping.\n",
      "Processing invoice 839 of 2000 (ID: 14108834)...\n",
      "Invoice ID: 14108834 already processed. Skipping.\n",
      "Processing invoice 840 of 2000 (ID: 14889047)...\n",
      "Invoice ID: 14889047 already processed. Skipping.\n",
      "Processing invoice 841 of 2000 (ID: 20780767)...\n",
      "Invoice ID: 20780767 already processed. Skipping.\n",
      "Processing invoice 842 of 2000 (ID: 14618750)...\n",
      "Invoice ID: 14618750 already processed. Skipping.\n",
      "Processing invoice 843 of 2000 (ID: 20196247)...\n",
      "Invoice ID: 20196247 already processed. Skipping.\n",
      "Processing invoice 844 of 2000 (ID: 13710461)...\n",
      "Invoice ID: 13710461 already processed. Skipping.\n",
      "Processing invoice 845 of 2000 (ID: 20546515)...\n",
      "Invoice ID: 20546515 already processed. Skipping.\n",
      "Processing invoice 846 of 2000 (ID: 20984720)...\n",
      "Invoice ID: 20984720 already processed. Skipping.\n",
      "Processing invoice 847 of 2000 (ID: 20836712)...\n",
      "Invoice ID: 20836712 already processed. Skipping.\n",
      "Processing invoice 848 of 2000 (ID: 19894029)...\n",
      "Invoice ID: 19894029 already processed. Skipping.\n",
      "Processing invoice 849 of 2000 (ID: 14046454)...\n",
      "Invoice ID: 14046454 already processed. Skipping.\n",
      "Processing invoice 850 of 2000 (ID: 20456999)...\n",
      "Invoice ID: 20456999 already processed. Skipping.\n",
      "Processing invoice 851 of 2000 (ID: 20695121)...\n",
      "Invoice ID: 20695121 already processed. Skipping.\n",
      "Processing invoice 852 of 2000 (ID: 20564178)...\n",
      "Invoice ID: 20564178 already processed. Skipping.\n",
      "Processing invoice 853 of 2000 (ID: 14824418)...\n",
      "Invoice ID: 14824418 already processed. Skipping.\n",
      "Processing invoice 854 of 2000 (ID: 20015038)...\n",
      "Invoice ID: 20015038 already processed. Skipping.\n",
      "Processing invoice 855 of 2000 (ID: 20665649)...\n",
      "Invoice ID: 20665649 already processed. Skipping.\n",
      "Processing invoice 856 of 2000 (ID: 19894833)...\n",
      "Invoice ID: 19894833 already processed. Skipping.\n",
      "Processing invoice 857 of 2000 (ID: 20021641)...\n",
      "Invoice ID: 20021641 already processed. Skipping.\n",
      "Processing invoice 858 of 2000 (ID: 13668638)...\n",
      "Invoice ID: 13668638 already processed. Skipping.\n",
      "Processing invoice 859 of 2000 (ID: 14803258)...\n",
      "Invoice ID: 14803258 already processed. Skipping.\n",
      "Processing invoice 860 of 2000 (ID: 20465796)...\n",
      "Invoice ID: 20465796 already processed. Skipping.\n",
      "Processing invoice 861 of 2000 (ID: 20773685)...\n",
      "Invoice ID: 20773685 already processed. Skipping.\n",
      "Processing invoice 862 of 2000 (ID: 20140044)...\n",
      "Invoice ID: 20140044 already processed. Skipping.\n",
      "Processing invoice 863 of 2000 (ID: 14073418)...\n",
      "Invoice ID: 14073418 already processed. Skipping.\n",
      "Processing invoice 864 of 2000 (ID: 20110197)...\n",
      "Invoice ID: 20110197 already processed. Skipping.\n",
      "Processing invoice 865 of 2000 (ID: 14141807)...\n",
      "Invoice ID: 14141807 already processed. Skipping.\n",
      "Processing invoice 866 of 2000 (ID: 14952337)...\n",
      "Invoice ID: 14952337 already processed. Skipping.\n",
      "Processing invoice 867 of 2000 (ID: 14165773)...\n",
      "Invoice ID: 14165773 already processed. Skipping.\n",
      "Processing invoice 868 of 2000 (ID: 20260453)...\n",
      "Invoice ID: 20260453 already processed. Skipping.\n",
      "Processing invoice 869 of 2000 (ID: 20012934)...\n",
      "Invoice ID: 20012934 already processed. Skipping.\n",
      "Processing invoice 870 of 2000 (ID: 20933758)...\n",
      "Invoice ID: 20933758 already processed. Skipping.\n",
      "Processing invoice 871 of 2000 (ID: 20344801)...\n",
      "Invoice ID: 20344801 already processed. Skipping.\n",
      "Processing invoice 872 of 2000 (ID: 13962199)...\n",
      "Invoice ID: 13962199 already processed. Skipping.\n",
      "Processing invoice 873 of 2000 (ID: 20691342)...\n",
      "Invoice ID: 20691342 already processed. Skipping.\n",
      "Processing invoice 874 of 2000 (ID: 13931469)...\n",
      "Invoice ID: 13931469 already processed. Skipping.\n",
      "Processing invoice 875 of 2000 (ID: 21135278)...\n",
      "Invoice ID: 21135278 already processed. Skipping.\n",
      "Processing invoice 876 of 2000 (ID: 21273683)...\n",
      "Invoice ID: 21273683 already processed. Skipping.\n",
      "Processing invoice 877 of 2000 (ID: 20104054)...\n",
      "Invoice ID: 20104054 already processed. Skipping.\n",
      "Processing invoice 878 of 2000 (ID: 14955348)...\n",
      "Invoice ID: 14955348 already processed. Skipping.\n",
      "Processing invoice 879 of 2000 (ID: 14933007)...\n",
      "Invoice ID: 14933007 already processed. Skipping.\n",
      "Processing invoice 880 of 2000 (ID: 20115517)...\n",
      "Invoice ID: 20115517 already processed. Skipping.\n",
      "Processing invoice 881 of 2000 (ID: 19798169)...\n",
      "Invoice ID: 19798169 already processed. Skipping.\n",
      "Processing invoice 882 of 2000 (ID: 20860692)...\n",
      "Invoice ID: 20860692 already processed. Skipping.\n",
      "Processing invoice 883 of 2000 (ID: 20230448)...\n",
      "Invoice ID: 20230448 already processed. Skipping.\n",
      "Processing invoice 884 of 2000 (ID: 14307156)...\n",
      "Invoice ID: 14307156 already processed. Skipping.\n",
      "Processing invoice 885 of 2000 (ID: 13825092)...\n",
      "Invoice ID: 13825092 already processed. Skipping.\n",
      "Processing invoice 886 of 2000 (ID: 14288853)...\n",
      "Invoice ID: 14288853 already processed. Skipping.\n",
      "Processing invoice 887 of 2000 (ID: 21028093)...\n",
      "Invoice ID: 21028093 already processed. Skipping.\n",
      "Processing invoice 888 of 2000 (ID: 20028179)...\n",
      "Invoice ID: 20028179 already processed. Skipping.\n",
      "Processing invoice 889 of 2000 (ID: 20714978)...\n",
      "Invoice ID: 20714978 already processed. Skipping.\n",
      "Processing invoice 890 of 2000 (ID: 19768474)...\n",
      "Invoice ID: 19768474 already processed. Skipping.\n",
      "Processing invoice 891 of 2000 (ID: 13836731)...\n",
      "Invoice ID: 13836731 already processed. Skipping.\n",
      "Processing invoice 892 of 2000 (ID: 14505494)...\n",
      "Invoice ID: 14505494 already processed. Skipping.\n",
      "Processing invoice 893 of 2000 (ID: 20002770)...\n",
      "Invoice ID: 20002770 already processed. Skipping.\n",
      "Processing invoice 894 of 2000 (ID: 20063708)...\n",
      "Invoice ID: 20063708 already processed. Skipping.\n",
      "Processing invoice 895 of 2000 (ID: 14741904)...\n",
      "Invoice ID: 14741904 already processed. Skipping.\n",
      "Processing invoice 896 of 2000 (ID: 20077147)...\n",
      "Invoice ID: 20077147 already processed. Skipping.\n",
      "Processing invoice 897 of 2000 (ID: 14179509)...\n",
      "Invoice ID: 14179509 already processed. Skipping.\n",
      "Processing invoice 898 of 2000 (ID: 20088311)...\n",
      "Invoice ID: 20088311 already processed. Skipping.\n",
      "Processing invoice 899 of 2000 (ID: 20090307)...\n",
      "Invoice ID: 20090307 already processed. Skipping.\n",
      "Processing invoice 900 of 2000 (ID: 14074714)...\n",
      "Invoice ID: 14074714 already processed. Skipping.\n",
      "Processing invoice 901 of 2000 (ID: 14733316)...\n",
      "Invoice ID: 14733316 already processed. Skipping.\n",
      "Processing invoice 902 of 2000 (ID: 21195978)...\n",
      "Invoice ID: 21195978 already processed. Skipping.\n",
      "Processing invoice 903 of 2000 (ID: 14730123)...\n",
      "Invoice ID: 14730123 already processed. Skipping.\n",
      "Processing invoice 904 of 2000 (ID: 14524683)...\n",
      "Invoice ID: 14524683 already processed. Skipping.\n",
      "Processing invoice 905 of 2000 (ID: 14627125)...\n",
      "Invoice ID: 14627125 already processed. Skipping.\n",
      "Processing invoice 906 of 2000 (ID: 21148413)...\n",
      "Invoice ID: 21148413 already processed. Skipping.\n",
      "Processing invoice 907 of 2000 (ID: 20848925)...\n",
      "Invoice ID: 20848925 already processed. Skipping.\n",
      "Processing invoice 908 of 2000 (ID: 20832483)...\n",
      "Invoice ID: 20832483 already processed. Skipping.\n",
      "Processing invoice 909 of 2000 (ID: 20235747)...\n",
      "Invoice ID: 20235747 already processed. Skipping.\n",
      "Processing invoice 910 of 2000 (ID: 20477803)...\n",
      "Invoice ID: 20477803 already processed. Skipping.\n",
      "Processing invoice 911 of 2000 (ID: 13738307)...\n",
      "Invoice ID: 13738307 already processed. Skipping.\n",
      "Processing invoice 912 of 2000 (ID: 13847507)...\n",
      "Invoice ID: 13847507 already processed. Skipping.\n",
      "Processing invoice 913 of 2000 (ID: 20997039)...\n",
      "Invoice ID: 20997039 already processed. Skipping.\n",
      "Processing invoice 914 of 2000 (ID: 20148523)...\n",
      "Invoice ID: 20148523 already processed. Skipping.\n",
      "Processing invoice 915 of 2000 (ID: 20986251)...\n",
      "Invoice ID: 20986251 already processed. Skipping.\n",
      "Processing invoice 916 of 2000 (ID: 19916609)...\n",
      "Invoice ID: 19916609 already processed. Skipping.\n",
      "Processing invoice 917 of 2000 (ID: 21220397)...\n",
      "Invoice ID: 21220397 already processed. Skipping.\n",
      "Processing invoice 918 of 2000 (ID: 14581998)...\n",
      "Invoice ID: 14581998 already processed. Skipping.\n",
      "Processing invoice 919 of 2000 (ID: 20937689)...\n",
      "Invoice ID: 20937689 already processed. Skipping.\n",
      "Processing invoice 920 of 2000 (ID: 14097826)...\n",
      "Invoice ID: 14097826 already processed. Skipping.\n",
      "Processing invoice 921 of 2000 (ID: 20300705)...\n",
      "Invoice ID: 20300705 already processed. Skipping.\n",
      "Processing invoice 922 of 2000 (ID: 20972852)...\n",
      "Invoice ID: 20972852 already processed. Skipping.\n",
      "Processing invoice 923 of 2000 (ID: 19896838)...\n",
      "Invoice ID: 19896838 already processed. Skipping.\n",
      "Processing invoice 924 of 2000 (ID: 14462524)...\n",
      "Invoice ID: 14462524 already processed. Skipping.\n",
      "Processing invoice 925 of 2000 (ID: 20016633)...\n",
      "Invoice ID: 20016633 already processed. Skipping.\n",
      "Processing invoice 926 of 2000 (ID: 21212861)...\n",
      "Invoice ID: 21212861 already processed. Skipping.\n",
      "Processing invoice 927 of 2000 (ID: 20292173)...\n",
      "Invoice ID: 20292173 already processed. Skipping.\n",
      "Processing invoice 928 of 2000 (ID: 13706898)...\n",
      "Invoice ID: 13706898 already processed. Skipping.\n",
      "Processing invoice 929 of 2000 (ID: 20321782)...\n",
      "Invoice ID: 20321782 already processed. Skipping.\n",
      "Processing invoice 930 of 2000 (ID: 21149320)...\n",
      "Invoice ID: 21149320 already processed. Skipping.\n",
      "Processing invoice 931 of 2000 (ID: 14953602)...\n",
      "Invoice ID: 14953602 already processed. Skipping.\n",
      "Processing invoice 932 of 2000 (ID: 20197904)...\n",
      "Invoice ID: 20197904 already processed. Skipping.\n",
      "Processing invoice 933 of 2000 (ID: 20945649)...\n",
      "Invoice ID: 20945649 already processed. Skipping.\n",
      "Processing invoice 934 of 2000 (ID: 20041746)...\n",
      "Invoice ID: 20041746 already processed. Skipping.\n",
      "Processing invoice 935 of 2000 (ID: 20843367)...\n",
      "Invoice ID: 20843367 already processed. Skipping.\n",
      "Processing invoice 936 of 2000 (ID: 13937852)...\n",
      "Invoice ID: 13937852 already processed. Skipping.\n",
      "Processing invoice 937 of 2000 (ID: 14133989)...\n",
      "Invoice ID: 14133989 already processed. Skipping.\n",
      "Processing invoice 938 of 2000 (ID: 20865950)...\n",
      "Invoice ID: 20865950 already processed. Skipping.\n",
      "Processing invoice 939 of 2000 (ID: 13740518)...\n",
      "Invoice ID: 13740518 already processed. Skipping.\n",
      "Processing invoice 940 of 2000 (ID: 20161094)...\n",
      "Invoice ID: 20161094 already processed. Skipping.\n",
      "Processing invoice 941 of 2000 (ID: 19785657)...\n",
      "Invoice ID: 19785657 already processed. Skipping.\n",
      "Processing invoice 942 of 2000 (ID: 20467410)...\n",
      "Invoice ID: 20467410 already processed. Skipping.\n",
      "Processing invoice 943 of 2000 (ID: 14223899)...\n",
      "Invoice ID: 14223899 already processed. Skipping.\n",
      "Processing invoice 944 of 2000 (ID: 14875290)...\n",
      "Invoice ID: 14875290 already processed. Skipping.\n",
      "Processing invoice 945 of 2000 (ID: 14950348)...\n",
      "Invoice ID: 14950348 already processed. Skipping.\n",
      "Processing invoice 946 of 2000 (ID: 14187198)...\n",
      "Invoice ID: 14187198 already processed. Skipping.\n",
      "Processing invoice 947 of 2000 (ID: 13928214)...\n",
      "Invoice ID: 13928214 already processed. Skipping.\n",
      "Processing invoice 948 of 2000 (ID: 13923263)...\n",
      "Invoice ID: 13923263 already processed. Skipping.\n",
      "Processing invoice 949 of 2000 (ID: 14812605)...\n",
      "Invoice ID: 14812605 already processed. Skipping.\n",
      "Processing invoice 950 of 2000 (ID: 14106071)...\n",
      "Invoice ID: 14106071 already processed. Skipping.\n",
      "Processing invoice 951 of 2000 (ID: 13995861)...\n",
      "Invoice ID: 13995861 already processed. Skipping.\n",
      "Processing invoice 952 of 2000 (ID: 20174113)...\n",
      "Invoice ID: 20174113 already processed. Skipping.\n",
      "Processing invoice 953 of 2000 (ID: 20547314)...\n",
      "Invoice ID: 20547314 already processed. Skipping.\n",
      "Processing invoice 954 of 2000 (ID: 20307462)...\n",
      "Invoice ID: 20307462 already processed. Skipping.\n",
      "Processing invoice 955 of 2000 (ID: 14306133)...\n",
      "Invoice ID: 14306133 already processed. Skipping.\n",
      "Processing invoice 956 of 2000 (ID: 14789307)...\n",
      "Invoice ID: 14789307 already processed. Skipping.\n",
      "Processing invoice 957 of 2000 (ID: 20723346)...\n",
      "Invoice ID: 20723346 already processed. Skipping.\n",
      "Processing invoice 958 of 2000 (ID: 14231469)...\n",
      "Invoice ID: 14231469 already processed. Skipping.\n",
      "Processing invoice 959 of 2000 (ID: 21142333)...\n",
      "Invoice ID: 21142333 already processed. Skipping.\n",
      "Processing invoice 960 of 2000 (ID: 20066003)...\n",
      "Invoice ID: 20066003 already processed. Skipping.\n",
      "Processing invoice 961 of 2000 (ID: 14688832)...\n",
      "Invoice ID: 14688832 already processed. Skipping.\n",
      "Processing invoice 962 of 2000 (ID: 19873910)...\n",
      "Invoice ID: 19873910 already processed. Skipping.\n",
      "Processing invoice 963 of 2000 (ID: 14349080)...\n",
      "Invoice ID: 14349080 already processed. Skipping.\n",
      "Processing invoice 964 of 2000 (ID: 20749821)...\n",
      "Invoice ID: 20749821 already processed. Skipping.\n",
      "Processing invoice 965 of 2000 (ID: 13801267)...\n",
      "Invoice ID: 13801267 already processed. Skipping.\n",
      "Processing invoice 966 of 2000 (ID: 14617991)...\n",
      "Invoice ID: 14617991 already processed. Skipping.\n",
      "Processing invoice 967 of 2000 (ID: 20591726)...\n",
      "Invoice ID: 20591726 already processed. Skipping.\n",
      "Processing invoice 968 of 2000 (ID: 13878270)...\n",
      "Invoice ID: 13878270 already processed. Skipping.\n",
      "Processing invoice 969 of 2000 (ID: 20759642)...\n",
      "Invoice ID: 20759642 already processed. Skipping.\n",
      "Processing invoice 970 of 2000 (ID: 14455460)...\n",
      "Invoice ID: 14455460 already processed. Skipping.\n",
      "Processing invoice 971 of 2000 (ID: 14579412)...\n",
      "Invoice ID: 14579412 already processed. Skipping.\n",
      "Processing invoice 972 of 2000 (ID: 20125355)...\n",
      "Invoice ID: 20125355 already processed. Skipping.\n",
      "Processing invoice 973 of 2000 (ID: 13886677)...\n",
      "Invoice ID: 13886677 already processed. Skipping.\n",
      "Processing invoice 974 of 2000 (ID: 20173530)...\n",
      "Invoice ID: 20173530 already processed. Skipping.\n",
      "Processing invoice 975 of 2000 (ID: 14874014)...\n",
      "Invoice ID: 14874014 already processed. Skipping.\n",
      "Processing invoice 976 of 2000 (ID: 20737927)...\n",
      "Invoice ID: 20737927 already processed. Skipping.\n",
      "Processing invoice 977 of 2000 (ID: 14316674)...\n",
      "Invoice ID: 14316674 already processed. Skipping.\n",
      "Processing invoice 978 of 2000 (ID: 20470502)...\n",
      "Invoice ID: 20470502 already processed. Skipping.\n",
      "Processing invoice 979 of 2000 (ID: 14442062)...\n",
      "Invoice ID: 14442062 already processed. Skipping.\n",
      "Processing invoice 980 of 2000 (ID: 20470757)...\n",
      "Invoice ID: 20470757 already processed. Skipping.\n",
      "Processing invoice 981 of 2000 (ID: 13913894)...\n",
      "Invoice ID: 13913894 already processed. Skipping.\n",
      "Processing invoice 982 of 2000 (ID: 20432557)...\n",
      "Invoice ID: 20432557 already processed. Skipping.\n",
      "Processing invoice 983 of 2000 (ID: 20022407)...\n",
      "Invoice ID: 20022407 already processed. Skipping.\n",
      "Processing invoice 984 of 2000 (ID: 14216745)...\n",
      "Invoice ID: 14216745 already processed. Skipping.\n",
      "Processing invoice 985 of 2000 (ID: 20463918)...\n",
      "Invoice ID: 20463918 already processed. Skipping.\n",
      "Processing invoice 986 of 2000 (ID: 19892772)...\n",
      "Invoice ID: 19892772 already processed. Skipping.\n",
      "Processing invoice 987 of 2000 (ID: 20506427)...\n",
      "Invoice ID: 20506427 already processed. Skipping.\n",
      "Processing invoice 988 of 2000 (ID: 20061503)...\n",
      "Invoice ID: 20061503 already processed. Skipping.\n",
      "Processing invoice 989 of 2000 (ID: 19781534)...\n",
      "Invoice ID: 19781534 already processed. Skipping.\n",
      "Processing invoice 990 of 2000 (ID: 13699189)...\n",
      "Invoice ID: 13699189 already processed. Skipping.\n",
      "Processing invoice 991 of 2000 (ID: 14250299)...\n",
      "Invoice ID: 14250299 already processed. Skipping.\n",
      "Processing invoice 992 of 2000 (ID: 14714519)...\n",
      "Invoice ID: 14714519 already processed. Skipping.\n",
      "Processing invoice 993 of 2000 (ID: 14052022)...\n",
      "Invoice ID: 14052022 already processed. Skipping.\n",
      "Processing invoice 994 of 2000 (ID: 19873375)...\n",
      "Invoice ID: 19873375 already processed. Skipping.\n",
      "Processing invoice 995 of 2000 (ID: 14899807)...\n",
      "Invoice ID: 14899807 already processed. Skipping.\n",
      "Processing invoice 996 of 2000 (ID: 14618343)...\n",
      "Invoice ID: 14618343 already processed. Skipping.\n",
      "Processing invoice 997 of 2000 (ID: 20274797)...\n",
      "Invoice ID: 20274797 already processed. Skipping.\n",
      "Processing invoice 998 of 2000 (ID: 13691903)...\n",
      "Invoice ID: 13691903 already processed. Skipping.\n",
      "Processing invoice 999 of 2000 (ID: 13649881)...\n",
      "Invoice ID: 13649881 already processed. Skipping.\n",
      "Processing invoice 1000 of 2000 (ID: 14651392)...\n",
      "Invoice ID: 14651392 already processed. Skipping.\n",
      "Processing invoice 1001 of 2000 (ID: 20549301)...\n",
      "Invoice ID: 20549301 already processed. Skipping.\n",
      "Processing invoice 1002 of 2000 (ID: 14464293)...\n",
      "Invoice ID: 14464293 already processed. Skipping.\n",
      "Processing invoice 1003 of 2000 (ID: 21117009)...\n",
      "Invoice ID: 21117009 already processed. Skipping.\n",
      "Processing invoice 1004 of 2000 (ID: 20700292)...\n",
      "Invoice ID: 20700292 already processed. Skipping.\n",
      "Processing invoice 1005 of 2000 (ID: 14650285)...\n",
      "Invoice ID: 14650285 already processed. Skipping.\n",
      "Processing invoice 1006 of 2000 (ID: 20008763)...\n",
      "Invoice ID: 20008763 already processed. Skipping.\n",
      "Processing invoice 1007 of 2000 (ID: 20693782)...\n",
      "Invoice ID: 20693782 already processed. Skipping.\n",
      "Processing invoice 1008 of 2000 (ID: 21074810)...\n",
      "Invoice ID: 21074810 already processed. Skipping.\n",
      "Processing invoice 1009 of 2000 (ID: 14724015)...\n",
      "Invoice ID: 14724015 already processed. Skipping.\n",
      "Processing invoice 1010 of 2000 (ID: 14384001)...\n",
      "Invoice ID: 14384001 already processed. Skipping.\n",
      "Processing invoice 1011 of 2000 (ID: 14224099)...\n",
      "Invoice ID: 14224099 already processed. Skipping.\n",
      "Processing invoice 1012 of 2000 (ID: 20661442)...\n",
      "Invoice ID: 20661442 already processed. Skipping.\n",
      "Processing invoice 1013 of 2000 (ID: 20898956)...\n",
      "Invoice ID: 20898956 already processed. Skipping.\n",
      "Processing invoice 1014 of 2000 (ID: 13856974)...\n",
      "Invoice ID: 13856974 already processed. Skipping.\n",
      "Processing invoice 1015 of 2000 (ID: 14626072)...\n",
      "Invoice ID: 14626072 already processed. Skipping.\n",
      "Processing invoice 1016 of 2000 (ID: 14637531)...\n",
      "Invoice ID: 14637531 already processed. Skipping.\n",
      "Processing invoice 1017 of 2000 (ID: 14326500)...\n",
      "Invoice ID: 14326500 already processed. Skipping.\n",
      "Processing invoice 1018 of 2000 (ID: 13969164)...\n",
      "Invoice ID: 13969164 already processed. Skipping.\n",
      "Processing invoice 1019 of 2000 (ID: 21024581)...\n",
      "Invoice ID: 21024581 already processed. Skipping.\n",
      "Processing invoice 1020 of 2000 (ID: 20575284)...\n",
      "Invoice ID: 20575284 already processed. Skipping.\n",
      "Processing invoice 1021 of 2000 (ID: 14638436)...\n",
      "Invoice ID: 14638436 already processed. Skipping.\n",
      "Processing invoice 1022 of 2000 (ID: 21069955)...\n",
      "Invoice ID: 21069955 already processed. Skipping.\n",
      "Processing invoice 1023 of 2000 (ID: 14032314)...\n",
      "Invoice ID: 14032314 already processed. Skipping.\n",
      "Processing invoice 1024 of 2000 (ID: 15065373)...\n",
      "Invoice ID: 15065373 already processed. Skipping.\n",
      "Processing invoice 1025 of 2000 (ID: 20274987)...\n",
      "Invoice ID: 20274987 already processed. Skipping.\n",
      "Processing invoice 1026 of 2000 (ID: 20397653)...\n",
      "Invoice ID: 20397653 already processed. Skipping.\n",
      "Processing invoice 1027 of 2000 (ID: 13807606)...\n",
      "Invoice ID: 13807606 already processed. Skipping.\n",
      "Processing invoice 1028 of 2000 (ID: 13733020)...\n",
      "Invoice ID: 13733020 already processed. Skipping.\n",
      "Processing invoice 1029 of 2000 (ID: 20760731)...\n",
      "Invoice ID: 20760731 already processed. Skipping.\n",
      "Processing invoice 1030 of 2000 (ID: 20472751)...\n",
      "Invoice ID: 20472751 already processed. Skipping.\n",
      "Processing invoice 1031 of 2000 (ID: 20348138)...\n",
      "Invoice ID: 20348138 already processed. Skipping.\n",
      "Processing invoice 1032 of 2000 (ID: 13907426)...\n",
      "Invoice ID: 13907426 already processed. Skipping.\n",
      "Processing invoice 1033 of 2000 (ID: 13868374)...\n",
      "Invoice ID: 13868374 already processed. Skipping.\n",
      "Processing invoice 1034 of 2000 (ID: 20953322)...\n",
      "Invoice ID: 20953322 already processed. Skipping.\n",
      "Processing invoice 1035 of 2000 (ID: 21026690)...\n",
      "Invoice ID: 21026690 already processed. Skipping.\n",
      "Processing invoice 1036 of 2000 (ID: 20529349)...\n",
      "Invoice ID: 20529349 already processed. Skipping.\n",
      "Processing invoice 1037 of 2000 (ID: 13876005)...\n",
      "Invoice ID: 13876005 already processed. Skipping.\n",
      "Processing invoice 1038 of 2000 (ID: 21070742)...\n",
      "Invoice ID: 21070742 already processed. Skipping.\n",
      "Processing invoice 1039 of 2000 (ID: 20947203)...\n",
      "Invoice ID: 20947203 already processed. Skipping.\n",
      "Processing invoice 1040 of 2000 (ID: 14816742)...\n",
      "Invoice ID: 14816742 already processed. Skipping.\n",
      "Processing invoice 1041 of 2000 (ID: 20817150)...\n",
      "Invoice ID: 20817150 already processed. Skipping.\n",
      "Processing invoice 1042 of 2000 (ID: 21187922)...\n",
      "Invoice ID: 21187922 already processed. Skipping.\n",
      "Processing invoice 1043 of 2000 (ID: 19777331)...\n",
      "Invoice ID: 19777331 already processed. Skipping.\n",
      "Processing invoice 1044 of 2000 (ID: 20331790)...\n",
      "Invoice ID: 20331790 already processed. Skipping.\n",
      "Processing invoice 1045 of 2000 (ID: 20661120)...\n",
      "Invoice ID: 20661120 already processed. Skipping.\n",
      "Processing invoice 1046 of 2000 (ID: 20249365)...\n",
      "Invoice ID: 20249365 already processed. Skipping.\n",
      "Processing invoice 1047 of 2000 (ID: 20811811)...\n",
      "Invoice ID: 20811811 already processed. Skipping.\n",
      "Processing invoice 1048 of 2000 (ID: 14212575)...\n",
      "Invoice ID: 14212575 already processed. Skipping.\n",
      "Processing invoice 1049 of 2000 (ID: 20654700)...\n",
      "Invoice ID: 20654700 already processed. Skipping.\n",
      "Processing invoice 1050 of 2000 (ID: 14434018)...\n",
      "Invoice ID: 14434018 already processed. Skipping.\n",
      "Processing invoice 1051 of 2000 (ID: 20053227)...\n",
      "Invoice ID: 20053227 already processed. Skipping.\n",
      "Processing invoice 1052 of 2000 (ID: 20317690)...\n",
      "Invoice ID: 20317690 already processed. Skipping.\n",
      "Processing invoice 1053 of 2000 (ID: 14832822)...\n",
      "Invoice ID: 14832822 already processed. Skipping.\n",
      "Processing invoice 1054 of 2000 (ID: 14902108)...\n",
      "Invoice ID: 14902108 already processed. Skipping.\n",
      "Processing invoice 1055 of 2000 (ID: 14759539)...\n",
      "Invoice ID: 14759539 already processed. Skipping.\n",
      "Processing invoice 1056 of 2000 (ID: 20776214)...\n",
      "Invoice ID: 20776214 already processed. Skipping.\n",
      "Processing invoice 1057 of 2000 (ID: 21221119)...\n",
      "Invoice ID: 21221119 already processed. Skipping.\n",
      "Processing invoice 1058 of 2000 (ID: 21141128)...\n",
      "Invoice ID: 21141128 already processed. Skipping.\n",
      "Processing invoice 1059 of 2000 (ID: 14152163)...\n",
      "Invoice ID: 14152163 already processed. Skipping.\n",
      "Processing invoice 1060 of 2000 (ID: 20611834)...\n",
      "Invoice ID: 20611834 already processed. Skipping.\n",
      "Processing invoice 1061 of 2000 (ID: 19792524)...\n",
      "Invoice ID: 19792524 already processed. Skipping.\n",
      "Processing invoice 1062 of 2000 (ID: 20052215)...\n",
      "Invoice ID: 20052215 already processed. Skipping.\n",
      "Processing invoice 1063 of 2000 (ID: 13683804)...\n",
      "Invoice ID: 13683804 already processed. Skipping.\n",
      "Processing invoice 1064 of 2000 (ID: 20245970)...\n",
      "Invoice ID: 20245970 already processed. Skipping.\n",
      "Processing invoice 1065 of 2000 (ID: 14175288)...\n",
      "Invoice ID: 14175288 already processed. Skipping.\n",
      "Processing invoice 1066 of 2000 (ID: 20459973)...\n",
      "Invoice ID: 20459973 already processed. Skipping.\n",
      "Processing invoice 1067 of 2000 (ID: 14593516)...\n",
      "Invoice ID: 14593516 already processed. Skipping.\n",
      "Processing invoice 1068 of 2000 (ID: 14219229)...\n",
      "Invoice ID: 14219229 already processed. Skipping.\n",
      "Processing invoice 1069 of 2000 (ID: 13763094)...\n",
      "Invoice ID: 13763094 already processed. Skipping.\n",
      "Processing invoice 1070 of 2000 (ID: 14258662)...\n",
      "Invoice ID: 14258662 already processed. Skipping.\n",
      "Processing invoice 1071 of 2000 (ID: 21075317)...\n",
      "Invoice ID: 21075317 already processed. Skipping.\n",
      "Processing invoice 1072 of 2000 (ID: 20014057)...\n",
      "Invoice ID: 20014057 already processed. Skipping.\n",
      "Processing invoice 1073 of 2000 (ID: 13873617)...\n",
      "Invoice ID: 13873617 already processed. Skipping.\n",
      "Processing invoice 1074 of 2000 (ID: 20405642)...\n",
      "Invoice ID: 20405642 already processed. Skipping.\n",
      "Processing invoice 1075 of 2000 (ID: 13896209)...\n",
      "Invoice ID: 13896209 already processed. Skipping.\n",
      "Processing invoice 1076 of 2000 (ID: 14380062)...\n",
      "Invoice ID: 14380062 already processed. Skipping.\n",
      "Processing invoice 1077 of 2000 (ID: 20340615)...\n",
      "Invoice ID: 20340615 already processed. Skipping.\n",
      "Processing invoice 1078 of 2000 (ID: 13884251)...\n",
      "Invoice ID: 13884251 already processed. Skipping.\n",
      "Processing invoice 1079 of 2000 (ID: 19838449)...\n",
      "Invoice ID: 19838449 already processed. Skipping.\n",
      "Processing invoice 1080 of 2000 (ID: 20899385)...\n",
      "Invoice ID: 20899385 already processed. Skipping.\n",
      "Processing invoice 1081 of 2000 (ID: 14703878)...\n",
      "Invoice ID: 14703878 already processed. Skipping.\n",
      "Processing invoice 1082 of 2000 (ID: 19916160)...\n",
      "Invoice ID: 19916160 already processed. Skipping.\n",
      "Processing invoice 1083 of 2000 (ID: 14666223)...\n",
      "Invoice ID: 14666223 already processed. Skipping.\n",
      "Processing invoice 1084 of 2000 (ID: 21180091)...\n",
      "Invoice ID: 21180091 already processed. Skipping.\n",
      "Processing invoice 1085 of 2000 (ID: 20248122)...\n",
      "Invoice ID: 20248122 already processed. Skipping.\n",
      "Processing invoice 1086 of 2000 (ID: 14788136)...\n",
      "Invoice ID: 14788136 already processed. Skipping.\n",
      "Processing invoice 1087 of 2000 (ID: 19806445)...\n",
      "Invoice ID: 19806445 already processed. Skipping.\n",
      "Processing invoice 1088 of 2000 (ID: 14538566)...\n",
      "Invoice ID: 14538566 already processed. Skipping.\n",
      "Processing invoice 1089 of 2000 (ID: 21234632)...\n",
      "Invoice ID: 21234632 already processed. Skipping.\n",
      "Processing invoice 1090 of 2000 (ID: 20548941)...\n",
      "Invoice ID: 20548941 already processed. Skipping.\n",
      "Processing invoice 1091 of 2000 (ID: 14530775)...\n",
      "Invoice ID: 14530775 already processed. Skipping.\n",
      "Processing invoice 1092 of 2000 (ID: 20093174)...\n",
      "Invoice ID: 20093174 already processed. Skipping.\n",
      "Processing invoice 1093 of 2000 (ID: 20584399)...\n",
      "Invoice ID: 20584399 already processed. Skipping.\n",
      "Processing invoice 1094 of 2000 (ID: 20694314)...\n",
      "Invoice ID: 20694314 already processed. Skipping.\n",
      "Processing invoice 1095 of 2000 (ID: 20589674)...\n",
      "Invoice ID: 20589674 already processed. Skipping.\n",
      "Processing invoice 1096 of 2000 (ID: 16200226)...\n",
      "Invoice ID: 16200226 already processed. Skipping.\n",
      "Processing invoice 1097 of 2000 (ID: 14776310)...\n",
      "Invoice ID: 14776310 already processed. Skipping.\n",
      "Processing invoice 1098 of 2000 (ID: 14652308)...\n",
      "Invoice ID: 14652308 already processed. Skipping.\n",
      "Processing invoice 1099 of 2000 (ID: 14462199)...\n",
      "Invoice ID: 14462199 already processed. Skipping.\n",
      "Processing invoice 1100 of 2000 (ID: 20187592)...\n",
      "Invoice ID: 20187592 already processed. Skipping.\n",
      "Processing invoice 1101 of 2000 (ID: 13982006)...\n",
      "Invoice ID: 13982006 already processed. Skipping.\n",
      "Processing invoice 1102 of 2000 (ID: 21152166)...\n",
      "Invoice ID: 21152166 already processed. Skipping.\n",
      "Processing invoice 1103 of 2000 (ID: 14177224)...\n",
      "Invoice ID: 14177224 already processed. Skipping.\n",
      "Processing invoice 1104 of 2000 (ID: 20711028)...\n",
      "Invoice ID: 20711028 already processed. Skipping.\n",
      "Processing invoice 1105 of 2000 (ID: 13809055)...\n",
      "Invoice ID: 13809055 already processed. Skipping.\n",
      "Processing invoice 1106 of 2000 (ID: 20574071)...\n",
      "Invoice ID: 20574071 already processed. Skipping.\n",
      "Processing invoice 1107 of 2000 (ID: 14851310)...\n",
      "Invoice ID: 14851310 already processed. Skipping.\n",
      "Processing invoice 1108 of 2000 (ID: 20248876)...\n",
      "Invoice ID: 20248876 already processed. Skipping.\n",
      "Processing invoice 1109 of 2000 (ID: 20104940)...\n",
      "Invoice ID: 20104940 already processed. Skipping.\n",
      "Processing invoice 1110 of 2000 (ID: 20302564)...\n",
      "Invoice ID: 20302564 already processed. Skipping.\n",
      "Processing invoice 1111 of 2000 (ID: 20036255)...\n",
      "Invoice ID: 20036255 already processed. Skipping.\n",
      "Processing invoice 1112 of 2000 (ID: 14767161)...\n",
      "Invoice ID: 14767161 already processed. Skipping.\n",
      "Processing invoice 1113 of 2000 (ID: 14192268)...\n",
      "Invoice ID: 14192268 already processed. Skipping.\n",
      "Processing invoice 1114 of 2000 (ID: 20733406)...\n",
      "Invoice ID: 20733406 already processed. Skipping.\n",
      "Processing invoice 1115 of 2000 (ID: 20579364)...\n",
      "Invoice ID: 20579364 already processed. Skipping.\n",
      "Processing invoice 1116 of 2000 (ID: 19931704)...\n",
      "Invoice ID: 19931704 already processed. Skipping.\n",
      "Processing invoice 1117 of 2000 (ID: 21092992)...\n",
      "Invoice ID: 21092992 already processed. Skipping.\n",
      "Processing invoice 1118 of 2000 (ID: 20607917)...\n",
      "Invoice ID: 20607917 already processed. Skipping.\n",
      "Processing invoice 1119 of 2000 (ID: 13623255)...\n",
      "Invoice ID: 13623255 already processed. Skipping.\n",
      "Processing invoice 1120 of 2000 (ID: 14951935)...\n",
      "Invoice ID: 14951935 already processed. Skipping.\n",
      "Processing invoice 1121 of 2000 (ID: 14137217)...\n",
      "Invoice ID: 14137217 already processed. Skipping.\n",
      "Processing invoice 1122 of 2000 (ID: 14417365)...\n",
      "Invoice ID: 14417365 already processed. Skipping.\n",
      "Processing invoice 1123 of 2000 (ID: 13856502)...\n",
      "Invoice ID: 13856502 already processed. Skipping.\n",
      "Processing invoice 1124 of 2000 (ID: 14490550)...\n",
      "Invoice ID: 14490550 already processed. Skipping.\n",
      "Processing invoice 1125 of 2000 (ID: 14510674)...\n",
      "Invoice ID: 14510674 already processed. Skipping.\n",
      "Processing invoice 1126 of 2000 (ID: 19870616)...\n",
      "Invoice ID: 19870616 already processed. Skipping.\n",
      "Processing invoice 1127 of 2000 (ID: 20886214)...\n",
      "Invoice ID: 20886214 already processed. Skipping.\n",
      "Processing invoice 1128 of 2000 (ID: 13668777)...\n",
      "Invoice ID: 13668777 already processed. Skipping.\n",
      "Processing invoice 1129 of 2000 (ID: 21200279)...\n",
      "Invoice ID: 21200279 already processed. Skipping.\n",
      "Processing invoice 1130 of 2000 (ID: 21233741)...\n",
      "Invoice ID: 21233741 already processed. Skipping.\n",
      "Processing invoice 1131 of 2000 (ID: 14662274)...\n",
      "Invoice ID: 14662274 already processed. Skipping.\n",
      "Processing invoice 1132 of 2000 (ID: 13739602)...\n",
      "Invoice ID: 13739602 already processed. Skipping.\n",
      "Processing invoice 1133 of 2000 (ID: 13939415)...\n",
      "Invoice ID: 13939415 already processed. Skipping.\n",
      "Processing invoice 1134 of 2000 (ID: 14711375)...\n",
      "Invoice ID: 14711375 already processed. Skipping.\n",
      "Processing invoice 1135 of 2000 (ID: 20072945)...\n",
      "Invoice ID: 20072945 already processed. Skipping.\n",
      "Processing invoice 1136 of 2000 (ID: 21189251)...\n",
      "Invoice ID: 21189251 already processed. Skipping.\n",
      "Processing invoice 1137 of 2000 (ID: 20580041)...\n",
      "Invoice ID: 20580041 already processed. Skipping.\n",
      "Processing invoice 1138 of 2000 (ID: 20472906)...\n",
      "Invoice ID: 20472906 already processed. Skipping.\n",
      "Processing invoice 1139 of 2000 (ID: 14198875)...\n",
      "Invoice ID: 14198875 already processed. Skipping.\n",
      "Processing invoice 1140 of 2000 (ID: 19774912)...\n",
      "Invoice ID: 19774912 already processed. Skipping.\n",
      "Processing invoice 1141 of 2000 (ID: 19837381)...\n",
      "Invoice ID: 19837381 already processed. Skipping.\n",
      "Processing invoice 1142 of 2000 (ID: 20542913)...\n",
      "Invoice ID: 20542913 already processed. Skipping.\n",
      "Processing invoice 1143 of 2000 (ID: 20641966)...\n",
      "Invoice ID: 20641966 already processed. Skipping.\n",
      "Processing invoice 1144 of 2000 (ID: 19794570)...\n",
      "Invoice ID: 19794570 already processed. Skipping.\n",
      "Processing invoice 1145 of 2000 (ID: 20611447)...\n",
      "Invoice ID: 20611447 already processed. Skipping.\n",
      "Processing invoice 1146 of 2000 (ID: 19874243)...\n",
      "Invoice ID: 19874243 already processed. Skipping.\n",
      "Processing invoice 1147 of 2000 (ID: 20481805)...\n",
      "Invoice ID: 20481805 already processed. Skipping.\n",
      "Processing invoice 1148 of 2000 (ID: 20014670)...\n",
      "Invoice ID: 20014670 already processed. Skipping.\n",
      "Processing invoice 1149 of 2000 (ID: 14376572)...\n",
      "Invoice ID: 14376572 already processed. Skipping.\n",
      "Processing invoice 1150 of 2000 (ID: 19953287)...\n",
      "Invoice ID: 19953287 already processed. Skipping.\n",
      "Processing invoice 1151 of 2000 (ID: 14182912)...\n",
      "Invoice ID: 14182912 already processed. Skipping.\n",
      "Processing invoice 1152 of 2000 (ID: 19834411)...\n",
      "Invoice ID: 19834411 already processed. Skipping.\n",
      "Processing invoice 1153 of 2000 (ID: 14380207)...\n",
      "Invoice ID: 14380207 already processed. Skipping.\n",
      "Processing invoice 1154 of 2000 (ID: 20345760)...\n",
      "Invoice ID: 20345760 already processed. Skipping.\n",
      "Processing invoice 1155 of 2000 (ID: 14442012)...\n",
      "Invoice ID: 14442012 already processed. Skipping.\n",
      "Processing invoice 1156 of 2000 (ID: 20764883)...\n",
      "Invoice ID: 20764883 already processed. Skipping.\n",
      "Processing invoice 1157 of 2000 (ID: 20243920)...\n",
      "Invoice ID: 20243920 already processed. Skipping.\n",
      "Processing invoice 1158 of 2000 (ID: 21204138)...\n",
      "Invoice ID: 21204138 already processed. Skipping.\n",
      "Processing invoice 1159 of 2000 (ID: 13677784)...\n",
      "Invoice ID: 13677784 already processed. Skipping.\n",
      "Processing invoice 1160 of 2000 (ID: 14637778)...\n",
      "Invoice ID: 14637778 already processed. Skipping.\n",
      "Processing invoice 1161 of 2000 (ID: 19889215)...\n",
      "Invoice ID: 19889215 already processed. Skipping.\n",
      "Processing invoice 1162 of 2000 (ID: 14037148)...\n",
      "Invoice ID: 14037148 already processed. Skipping.\n",
      "Processing invoice 1163 of 2000 (ID: 20177694)...\n",
      "Invoice ID: 20177694 already processed. Skipping.\n",
      "Processing invoice 1164 of 2000 (ID: 20492386)...\n",
      "Invoice ID: 20492386 already processed. Skipping.\n",
      "Processing invoice 1165 of 2000 (ID: 20637424)...\n"
     ]
    },
    {
     "name": "stderr",
     "output_type": "stream",
     "text": [
      "Processing PDF with 1 pages...\n",
      "Processing 1 image(s) with AWS Bedrock...\n",
      "Found 1 invoices\n"
     ]
    },
    {
     "name": "stdout",
     "output_type": "stream",
     "text": [
      "Completed processing for invoice_id: 20637424. Results saved to invoice_extraction_results_local.csv\n",
      "\n",
      "Processing invoice 1166 of 2000 (ID: 14271985)...\n",
      "Completed processing for invoice_id: 14271985. Results saved to invoice_extraction_results_local.csv\n",
      "\n",
      "Processing invoice 1167 of 2000 (ID: 19871094)...\n"
     ]
    },
    {
     "name": "stderr",
     "output_type": "stream",
     "text": [
      "Processing PDF with 1 pages...\n",
      "Processing 1 image(s) with AWS Bedrock...\n",
      "Found 1 invoices\n"
     ]
    },
    {
     "name": "stdout",
     "output_type": "stream",
     "text": [
      "Completed processing for invoice_id: 19871094. Results saved to invoice_extraction_results_local.csv\n",
      "\n",
      "Processing invoice 1168 of 2000 (ID: 21081393)...\n"
     ]
    },
    {
     "name": "stderr",
     "output_type": "stream",
     "text": [
      "Processing PDF with 1 pages...\n",
      "Processing 1 image(s) with AWS Bedrock...\n",
      "Found 1 invoices\n"
     ]
    },
    {
     "name": "stdout",
     "output_type": "stream",
     "text": [
      "Completed processing for invoice_id: 21081393. Results saved to invoice_extraction_results_local.csv\n",
      "\n",
      "Processing invoice 1169 of 2000 (ID: 20271187)...\n"
     ]
    },
    {
     "name": "stderr",
     "output_type": "stream",
     "text": [
      "Processing PDF with 1 pages...\n",
      "Processing 1 image(s) with AWS Bedrock...\n",
      "Found 1 invoices\n"
     ]
    },
    {
     "name": "stdout",
     "output_type": "stream",
     "text": [
      "Completed processing for invoice_id: 20271187. Results saved to invoice_extraction_results_local.csv\n",
      "\n",
      "Processing invoice 1170 of 2000 (ID: 19782313)...\n",
      "Completed processing for invoice_id: 19782313. Results saved to invoice_extraction_results_local.csv\n",
      "\n",
      "Processing invoice 1171 of 2000 (ID: 13682956)...\n",
      "Completed processing for invoice_id: 13682956. Results saved to invoice_extraction_results_local.csv\n",
      "\n",
      "Processing invoice 1172 of 2000 (ID: 14722627)...\n"
     ]
    },
    {
     "name": "stderr",
     "output_type": "stream",
     "text": [
      "Processing PDF with 1 pages...\n",
      "Processing 1 image(s) with AWS Bedrock...\n",
      "Found 1 invoices\n"
     ]
    },
    {
     "name": "stdout",
     "output_type": "stream",
     "text": [
      "Completed processing for invoice_id: 14722627. Results saved to invoice_extraction_results_local.csv\n",
      "\n",
      "Processing invoice 1173 of 2000 (ID: 14051319)...\n"
     ]
    },
    {
     "name": "stderr",
     "output_type": "stream",
     "text": [
      "Processing PDF with 1 pages...\n",
      "Processing 1 image(s) with AWS Bedrock...\n",
      "Found 1 invoices\n"
     ]
    },
    {
     "name": "stdout",
     "output_type": "stream",
     "text": [
      "Completed processing for invoice_id: 14051319. Results saved to invoice_extraction_results_local.csv\n",
      "\n",
      "Processing invoice 1174 of 2000 (ID: 13860672)...\n",
      "Completed processing for invoice_id: 13860672. Results saved to invoice_extraction_results_local.csv\n",
      "\n",
      "Processing invoice 1175 of 2000 (ID: 14573538)...\n",
      "Completed processing for invoice_id: 14573538. Results saved to invoice_extraction_results_local.csv\n",
      "\n",
      "Processing invoice 1176 of 2000 (ID: 20130207)...\n"
     ]
    },
    {
     "name": "stderr",
     "output_type": "stream",
     "text": [
      "Processing PDF with 1 pages...\n",
      "Processing 1 image(s) with AWS Bedrock...\n",
      "Found 1 invoices\n"
     ]
    },
    {
     "name": "stdout",
     "output_type": "stream",
     "text": [
      "Completed processing for invoice_id: 20130207. Results saved to invoice_extraction_results_local.csv\n",
      "\n",
      "Processing invoice 1177 of 2000 (ID: 20976777)...\n"
     ]
    },
    {
     "name": "stderr",
     "output_type": "stream",
     "text": [
      "Processing PDF with 1 pages...\n",
      "Processing 1 image(s) with AWS Bedrock...\n",
      "Found 1 invoices\n"
     ]
    },
    {
     "name": "stdout",
     "output_type": "stream",
     "text": [
      "Completed processing for invoice_id: 20976777. Results saved to invoice_extraction_results_local.csv\n",
      "\n",
      "Processing invoice 1178 of 2000 (ID: 13939730)...\n"
     ]
    },
    {
     "name": "stderr",
     "output_type": "stream",
     "text": [
      "Processing PDF with 1 pages...\n",
      "Processing 1 image(s) with AWS Bedrock...\n",
      "Found 1 invoices\n"
     ]
    },
    {
     "name": "stdout",
     "output_type": "stream",
     "text": [
      "Completed processing for invoice_id: 13939730. Results saved to invoice_extraction_results_local.csv\n",
      "\n",
      "Processing invoice 1179 of 2000 (ID: 14775526)...\n"
     ]
    },
    {
     "name": "stderr",
     "output_type": "stream",
     "text": [
      "Processing PDF with 1 pages...\n",
      "Processing 1 image(s) with AWS Bedrock...\n",
      "Found 1 invoices\n"
     ]
    },
    {
     "name": "stdout",
     "output_type": "stream",
     "text": [
      "Completed processing for invoice_id: 14775526. Results saved to invoice_extraction_results_local.csv\n",
      "\n",
      "Processing invoice 1180 of 2000 (ID: 20189710)...\n",
      "Completed processing for invoice_id: 20189710. Results saved to invoice_extraction_results_local.csv\n",
      "\n",
      "Processing invoice 1181 of 2000 (ID: 13830070)...\n"
     ]
    },
    {
     "name": "stderr",
     "output_type": "stream",
     "text": [
      "Processing PDF with 1 pages...\n",
      "Processing 1 image(s) with AWS Bedrock...\n",
      "Found 1 invoices\n"
     ]
    },
    {
     "name": "stdout",
     "output_type": "stream",
     "text": [
      "Completed processing for invoice_id: 13830070. Results saved to invoice_extraction_results_local.csv\n",
      "\n",
      "Processing invoice 1182 of 2000 (ID: 20234881)...\n",
      "Completed processing for invoice_id: 20234881. Results saved to invoice_extraction_results_local.csv\n",
      "\n",
      "Processing invoice 1183 of 2000 (ID: 14201729)...\n",
      "Completed processing for invoice_id: 14201729. Results saved to invoice_extraction_results_local.csv\n",
      "\n",
      "Processing invoice 1184 of 2000 (ID: 20066184)...\n"
     ]
    },
    {
     "name": "stderr",
     "output_type": "stream",
     "text": [
      "Processing PDF with 1 pages...\n",
      "Processing 1 image(s) with AWS Bedrock...\n",
      "Found 1 invoices\n"
     ]
    },
    {
     "name": "stdout",
     "output_type": "stream",
     "text": [
      "Completed processing for invoice_id: 20066184. Results saved to invoice_extraction_results_local.csv\n",
      "\n",
      "Processing invoice 1185 of 2000 (ID: 16700866)...\n",
      "Completed processing for invoice_id: 16700866. Results saved to invoice_extraction_results_local.csv\n",
      "\n",
      "Processing invoice 1186 of 2000 (ID: 14331886)...\n",
      "Completed processing for invoice_id: 14331886. Results saved to invoice_extraction_results_local.csv\n",
      "\n",
      "Processing invoice 1187 of 2000 (ID: 20108193)...\n",
      "Completed processing for invoice_id: 20108193. Results saved to invoice_extraction_results_local.csv\n",
      "\n",
      "Processing invoice 1188 of 2000 (ID: 14709423)...\n",
      "Completed processing for invoice_id: 14709423. Results saved to invoice_extraction_results_local.csv\n",
      "\n",
      "Processing invoice 1189 of 2000 (ID: 14122248)...\n",
      "Completed processing for invoice_id: 14122248. Results saved to invoice_extraction_results_local.csv\n",
      "\n",
      "Processing invoice 1190 of 2000 (ID: 13632079)...\n",
      "Completed processing for invoice_id: 13632079. Results saved to invoice_extraction_results_local.csv\n",
      "\n",
      "Processing invoice 1191 of 2000 (ID: 19928264)...\n"
     ]
    },
    {
     "name": "stderr",
     "output_type": "stream",
     "text": [
      "Processing PDF with 1 pages...\n",
      "Processing 1 image(s) with AWS Bedrock...\n",
      "Found 1 invoices\n"
     ]
    },
    {
     "name": "stdout",
     "output_type": "stream",
     "text": [
      "Completed processing for invoice_id: 19928264. Results saved to invoice_extraction_results_local.csv\n",
      "\n",
      "Processing invoice 1192 of 2000 (ID: 14569443)...\n",
      "Completed processing for invoice_id: 14569443. Results saved to invoice_extraction_results_local.csv\n",
      "\n",
      "Processing invoice 1193 of 2000 (ID: 14487541)...\n",
      "Completed processing for invoice_id: 14487541. Results saved to invoice_extraction_results_local.csv\n",
      "\n",
      "Processing invoice 1194 of 2000 (ID: 20573854)...\n"
     ]
    },
    {
     "name": "stderr",
     "output_type": "stream",
     "text": [
      "Processing PDF with 1 pages...\n",
      "Processing 1 image(s) with AWS Bedrock...\n",
      "Found 1 invoices\n"
     ]
    },
    {
     "name": "stdout",
     "output_type": "stream",
     "text": [
      "Completed processing for invoice_id: 20573854. Results saved to invoice_extraction_results_local.csv\n",
      "\n",
      "Processing invoice 1195 of 2000 (ID: 19908881)...\n",
      "Completed processing for invoice_id: 19908881. Results saved to invoice_extraction_results_local.csv\n",
      "\n",
      "Processing invoice 1196 of 2000 (ID: 14038415)...\n"
     ]
    },
    {
     "name": "stderr",
     "output_type": "stream",
     "text": [
      "Processing PDF with 1 pages...\n",
      "Processing 1 image(s) with AWS Bedrock...\n",
      "Found 1 invoices\n"
     ]
    },
    {
     "name": "stdout",
     "output_type": "stream",
     "text": [
      "Completed processing for invoice_id: 14038415. Results saved to invoice_extraction_results_local.csv\n",
      "\n",
      "Processing invoice 1197 of 2000 (ID: 20580051)...\n"
     ]
    },
    {
     "name": "stderr",
     "output_type": "stream",
     "text": [
      "Processing PDF with 1 pages...\n",
      "Processing 1 image(s) with AWS Bedrock...\n",
      "Found 1 invoices\n"
     ]
    },
    {
     "name": "stdout",
     "output_type": "stream",
     "text": [
      "Completed processing for invoice_id: 20580051. Results saved to invoice_extraction_results_local.csv\n",
      "\n",
      "Processing invoice 1198 of 2000 (ID: 20042303)...\n"
     ]
    },
    {
     "name": "stderr",
     "output_type": "stream",
     "text": [
      "Processing PDF with 1 pages...\n",
      "Processing 1 image(s) with AWS Bedrock...\n",
      "Found 1 invoices\n"
     ]
    },
    {
     "name": "stdout",
     "output_type": "stream",
     "text": [
      "Completed processing for invoice_id: 20042303. Results saved to invoice_extraction_results_local.csv\n",
      "\n",
      "Processing invoice 1199 of 2000 (ID: 14073421)...\n"
     ]
    },
    {
     "name": "stderr",
     "output_type": "stream",
     "text": [
      "Processing PDF with 1 pages...\n",
      "Processing 1 image(s) with AWS Bedrock...\n",
      "Found 1 invoices\n"
     ]
    },
    {
     "name": "stdout",
     "output_type": "stream",
     "text": [
      "Completed processing for invoice_id: 14073421. Results saved to invoice_extraction_results_local.csv\n",
      "\n",
      "Processing invoice 1200 of 2000 (ID: 21144272)...\n",
      "Completed processing for invoice_id: 21144272. Results saved to invoice_extraction_results_local.csv\n",
      "\n",
      "Processing invoice 1201 of 2000 (ID: 14938829)...\n"
     ]
    },
    {
     "name": "stderr",
     "output_type": "stream",
     "text": [
      "Processing PDF with 1 pages...\n",
      "Processing 1 image(s) with AWS Bedrock...\n",
      "Found 1 invoices\n"
     ]
    },
    {
     "name": "stdout",
     "output_type": "stream",
     "text": [
      "Completed processing for invoice_id: 14938829. Results saved to invoice_extraction_results_local.csv\n",
      "\n",
      "Processing invoice 1202 of 2000 (ID: 13703575)...\n",
      "Completed processing for invoice_id: 13703575. Results saved to invoice_extraction_results_local.csv\n",
      "\n",
      "Processing invoice 1203 of 2000 (ID: 20876435)...\n"
     ]
    },
    {
     "name": "stderr",
     "output_type": "stream",
     "text": [
      "Processing PDF with 1 pages...\n",
      "Processing 1 image(s) with AWS Bedrock...\n",
      "Found 1 invoices\n"
     ]
    },
    {
     "name": "stdout",
     "output_type": "stream",
     "text": [
      "Completed processing for invoice_id: 20876435. Results saved to invoice_extraction_results_local.csv\n",
      "\n",
      "Processing invoice 1204 of 2000 (ID: 14561352)...\n"
     ]
    },
    {
     "name": "stderr",
     "output_type": "stream",
     "text": [
      "Processing PDF with 1 pages...\n",
      "Processing 1 image(s) with AWS Bedrock...\n",
      "Found 1 invoices\n"
     ]
    },
    {
     "name": "stdout",
     "output_type": "stream",
     "text": [
      "Completed processing for invoice_id: 14561352. Results saved to invoice_extraction_results_local.csv\n",
      "\n",
      "Processing invoice 1205 of 2000 (ID: 14049521)...\n",
      "Completed processing for invoice_id: 14049521. Results saved to invoice_extraction_results_local.csv\n",
      "\n",
      "Processing invoice 1206 of 2000 (ID: 13936136)...\n"
     ]
    },
    {
     "name": "stderr",
     "output_type": "stream",
     "text": [
      "Processing PDF with 1 pages...\n",
      "Processing 1 image(s) with AWS Bedrock...\n",
      "Found 1 invoices\n"
     ]
    },
    {
     "name": "stdout",
     "output_type": "stream",
     "text": [
      "Completed processing for invoice_id: 13936136. Results saved to invoice_extraction_results_local.csv\n",
      "\n",
      "Processing invoice 1207 of 2000 (ID: 20683499)...\n"
     ]
    },
    {
     "name": "stderr",
     "output_type": "stream",
     "text": [
      "Processing PDF with 3 pages...\n",
      "Processing 3 image(s) with AWS Bedrock...\n",
      "Found 1 invoices\n"
     ]
    },
    {
     "name": "stdout",
     "output_type": "stream",
     "text": [
      "Completed processing for invoice_id: 20683499. Results saved to invoice_extraction_results_local.csv\n",
      "\n",
      "Processing invoice 1208 of 2000 (ID: 14183552)...\n"
     ]
    },
    {
     "name": "stderr",
     "output_type": "stream",
     "text": [
      "Processing PDF with 3 pages...\n",
      "Processing 3 image(s) with AWS Bedrock...\n",
      "Found 1 invoices\n"
     ]
    },
    {
     "name": "stdout",
     "output_type": "stream",
     "text": [
      "Completed processing for invoice_id: 14183552. Results saved to invoice_extraction_results_local.csv\n",
      "\n",
      "Processing invoice 1209 of 2000 (ID: 14348658)...\n",
      "Completed processing for invoice_id: 14348658. Results saved to invoice_extraction_results_local.csv\n",
      "\n",
      "Processing invoice 1210 of 2000 (ID: 20819008)...\n"
     ]
    },
    {
     "name": "stderr",
     "output_type": "stream",
     "text": [
      "Processing PDF with 1 pages...\n",
      "Processing 1 image(s) with AWS Bedrock...\n",
      "Found 1 invoices\n"
     ]
    },
    {
     "name": "stdout",
     "output_type": "stream",
     "text": [
      "Completed processing for invoice_id: 20819008. Results saved to invoice_extraction_results_local.csv\n",
      "\n",
      "Processing invoice 1211 of 2000 (ID: 21075339)...\n",
      "Completed processing for invoice_id: 21075339. Results saved to invoice_extraction_results_local.csv\n",
      "\n",
      "Processing invoice 1212 of 2000 (ID: 14128846)...\n"
     ]
    },
    {
     "name": "stderr",
     "output_type": "stream",
     "text": [
      "Processing PDF with 1 pages...\n",
      "Processing 1 image(s) with AWS Bedrock...\n",
      "Found 1 invoices\n"
     ]
    },
    {
     "name": "stdout",
     "output_type": "stream",
     "text": [
      "Completed processing for invoice_id: 14128846. Results saved to invoice_extraction_results_local.csv\n",
      "\n",
      "Processing invoice 1213 of 2000 (ID: 14244141)...\n"
     ]
    },
    {
     "name": "stderr",
     "output_type": "stream",
     "text": [
      "Processing PDF with 1 pages...\n",
      "Processing 1 image(s) with AWS Bedrock...\n",
      "Found 1 invoices\n"
     ]
    },
    {
     "name": "stdout",
     "output_type": "stream",
     "text": [
      "Completed processing for invoice_id: 14244141. Results saved to invoice_extraction_results_local.csv\n",
      "\n",
      "Processing invoice 1214 of 2000 (ID: 19863350)...\n"
     ]
    },
    {
     "name": "stderr",
     "output_type": "stream",
     "text": [
      "Processing PDF with 1 pages...\n",
      "Processing 1 image(s) with AWS Bedrock...\n",
      "Found 1 invoices\n"
     ]
    },
    {
     "name": "stdout",
     "output_type": "stream",
     "text": [
      "Completed processing for invoice_id: 19863350. Results saved to invoice_extraction_results_local.csv\n",
      "\n",
      "Processing invoice 1215 of 2000 (ID: 14660793)...\n"
     ]
    },
    {
     "name": "stderr",
     "output_type": "stream",
     "text": [
      "Processing PDF with 1 pages...\n",
      "Processing 1 image(s) with AWS Bedrock...\n",
      "Found 1 invoices\n"
     ]
    },
    {
     "name": "stdout",
     "output_type": "stream",
     "text": [
      "Completed processing for invoice_id: 14660793. Results saved to invoice_extraction_results_local.csv\n",
      "\n",
      "Processing invoice 1216 of 2000 (ID: 13786442)...\n"
     ]
    },
    {
     "name": "stderr",
     "output_type": "stream",
     "text": [
      "Processing PDF with 1 pages...\n",
      "Processing 1 image(s) with AWS Bedrock...\n",
      "Found 1 invoices\n"
     ]
    },
    {
     "name": "stdout",
     "output_type": "stream",
     "text": [
      "Completed processing for invoice_id: 13786442. Results saved to invoice_extraction_results_local.csv\n",
      "\n",
      "Processing invoice 1217 of 2000 (ID: 20005073)...\n",
      "Completed processing for invoice_id: 20005073. Results saved to invoice_extraction_results_local.csv\n",
      "\n",
      "Processing invoice 1218 of 2000 (ID: 14390416)...\n",
      "Completed processing for invoice_id: 14390416. Results saved to invoice_extraction_results_local.csv\n",
      "\n",
      "Processing invoice 1219 of 2000 (ID: 14579321)...\n",
      "Completed processing for invoice_id: 14579321. Results saved to invoice_extraction_results_local.csv\n",
      "\n",
      "Processing invoice 1220 of 2000 (ID: 14395342)...\n"
     ]
    },
    {
     "name": "stderr",
     "output_type": "stream",
     "text": [
      "Processing PDF with 1 pages...\n",
      "Processing 1 image(s) with AWS Bedrock...\n",
      "Found 1 invoices\n"
     ]
    },
    {
     "name": "stdout",
     "output_type": "stream",
     "text": [
      "Completed processing for invoice_id: 14395342. Results saved to invoice_extraction_results_local.csv\n",
      "\n",
      "Processing invoice 1221 of 2000 (ID: 14402769)...\n"
     ]
    },
    {
     "name": "stderr",
     "output_type": "stream",
     "text": [
      "Processing PDF with 2 pages...\n",
      "Processing 2 image(s) with AWS Bedrock...\n",
      "Found 1 invoices\n"
     ]
    },
    {
     "name": "stdout",
     "output_type": "stream",
     "text": [
      "Completed processing for invoice_id: 14402769. Results saved to invoice_extraction_results_local.csv\n",
      "\n",
      "Processing invoice 1222 of 2000 (ID: 20170310)...\n",
      "Completed processing for invoice_id: 20170310. Results saved to invoice_extraction_results_local.csv\n",
      "\n",
      "Processing invoice 1223 of 2000 (ID: 20373833)...\n"
     ]
    },
    {
     "name": "stderr",
     "output_type": "stream",
     "text": [
      "Processing PDF with 1 pages...\n",
      "Processing 1 image(s) with AWS Bedrock...\n",
      "Found 1 invoices\n"
     ]
    },
    {
     "name": "stdout",
     "output_type": "stream",
     "text": [
      "Completed processing for invoice_id: 20373833. Results saved to invoice_extraction_results_local.csv\n",
      "\n",
      "Processing invoice 1224 of 2000 (ID: 14908560)...\n"
     ]
    },
    {
     "name": "stderr",
     "output_type": "stream",
     "text": [
      "Processing PDF with 25 pages...\n",
      "Processing 25 image(s) with AWS Bedrock...\n",
      "Error calling Bedrock: An error occurred (ValidationException) when calling the InvokeModel operation: too many images and documents: 25 + 0 > 20\n"
     ]
    },
    {
     "name": "stdout",
     "output_type": "stream",
     "text": [
      "Completed processing for invoice_id: 14908560. Results saved to invoice_extraction_results_local.csv\n",
      "\n",
      "Processing invoice 1225 of 2000 (ID: 19962978)...\n",
      "Completed processing for invoice_id: 19962978. Results saved to invoice_extraction_results_local.csv\n",
      "\n",
      "Processing invoice 1226 of 2000 (ID: 19983099)...\n",
      "Completed processing for invoice_id: 19983099. Results saved to invoice_extraction_results_local.csv\n",
      "\n",
      "Processing invoice 1227 of 2000 (ID: 14489133)...\n",
      "Completed processing for invoice_id: 14489133. Results saved to invoice_extraction_results_local.csv\n",
      "\n",
      "Processing invoice 1228 of 2000 (ID: 20072319)...\n",
      "Completed processing for invoice_id: 20072319. Results saved to invoice_extraction_results_local.csv\n",
      "\n",
      "Processing invoice 1229 of 2000 (ID: 20504247)...\n",
      "Completed processing for invoice_id: 20504247. Results saved to invoice_extraction_results_local.csv\n",
      "\n",
      "Processing invoice 1230 of 2000 (ID: 20659944)...\n",
      "Completed processing for invoice_id: 20659944. Results saved to invoice_extraction_results_local.csv\n",
      "\n",
      "Processing invoice 1231 of 2000 (ID: 14132668)...\n"
     ]
    },
    {
     "name": "stderr",
     "output_type": "stream",
     "text": [
      "Processing PDF with 2 pages...\n",
      "Processing 2 image(s) with AWS Bedrock...\n",
      "Error calling Bedrock: Could not connect to the endpoint URL: \"https://bedrock-runtime.us-east-1.amazonaws.com/model/anthropic.claude-3-5-sonnet-20240620-v1%3A0/invoke\"\n"
     ]
    },
    {
     "name": "stdout",
     "output_type": "stream",
     "text": [
      "Completed processing for invoice_id: 14132668. Results saved to invoice_extraction_results_local.csv\n",
      "\n",
      "Processing invoice 1232 of 2000 (ID: 13844265)...\n"
     ]
    },
    {
     "name": "stderr",
     "output_type": "stream",
     "text": [
      "Processing PDF with 4 pages...\n",
      "Processing 4 image(s) with AWS Bedrock...\n",
      "Error calling Bedrock: Unterminated string starting at: line 94 column 36 (char 3403)\n"
     ]
    },
    {
     "name": "stdout",
     "output_type": "stream",
     "text": [
      "Completed processing for invoice_id: 13844265. Results saved to invoice_extraction_results_local.csv\n",
      "\n",
      "Processing invoice 1233 of 2000 (ID: 20987255)...\n"
     ]
    },
    {
     "name": "stderr",
     "output_type": "stream",
     "text": [
      "Processing PDF with 1 pages...\n",
      "Processing 1 image(s) with AWS Bedrock...\n",
      "Found 1 invoices\n"
     ]
    },
    {
     "name": "stdout",
     "output_type": "stream",
     "text": [
      "Completed processing for invoice_id: 20987255. Results saved to invoice_extraction_results_local.csv\n",
      "\n",
      "Processing invoice 1234 of 2000 (ID: 14317306)...\n",
      "Completed processing for invoice_id: 14317306. Results saved to invoice_extraction_results_local.csv\n",
      "\n",
      "Processing invoice 1235 of 2000 (ID: 13828888)...\n",
      "Completed processing for invoice_id: 13828888. Results saved to invoice_extraction_results_local.csv\n",
      "\n",
      "Processing invoice 1236 of 2000 (ID: 14057854)...\n"
     ]
    },
    {
     "name": "stderr",
     "output_type": "stream",
     "text": [
      "Processing PDF with 1 pages...\n",
      "Processing 1 image(s) with AWS Bedrock...\n",
      "Found 1 invoices\n"
     ]
    },
    {
     "name": "stdout",
     "output_type": "stream",
     "text": [
      "Completed processing for invoice_id: 14057854. Results saved to invoice_extraction_results_local.csv\n",
      "\n",
      "Processing invoice 1237 of 2000 (ID: 20236111)...\n"
     ]
    },
    {
     "name": "stderr",
     "output_type": "stream",
     "text": [
      "Processing PDF with 1 pages...\n",
      "Processing 1 image(s) with AWS Bedrock...\n",
      "Found 1 invoices\n"
     ]
    },
    {
     "name": "stdout",
     "output_type": "stream",
     "text": [
      "Completed processing for invoice_id: 20236111. Results saved to invoice_extraction_results_local.csv\n",
      "\n",
      "Processing invoice 1238 of 2000 (ID: 16212581)...\n"
     ]
    },
    {
     "name": "stderr",
     "output_type": "stream",
     "text": [
      "Processing PDF with 1 pages...\n",
      "Processing 1 image(s) with AWS Bedrock...\n",
      "Found 1 invoices\n"
     ]
    },
    {
     "name": "stdout",
     "output_type": "stream",
     "text": [
      "Completed processing for invoice_id: 16212581. Results saved to invoice_extraction_results_local.csv\n",
      "\n",
      "Processing invoice 1239 of 2000 (ID: 14651830)...\n",
      "Completed processing for invoice_id: 14651830. Results saved to invoice_extraction_results_local.csv\n",
      "\n",
      "Processing invoice 1240 of 2000 (ID: 20023193)...\n",
      "Completed processing for invoice_id: 20023193. Results saved to invoice_extraction_results_local.csv\n",
      "\n",
      "Processing invoice 1241 of 2000 (ID: 20262993)...\n",
      "Completed processing for invoice_id: 20262993. Results saved to invoice_extraction_results_local.csv\n",
      "\n",
      "Processing invoice 1242 of 2000 (ID: 13816589)...\n",
      "Completed processing for invoice_id: 13816589. Results saved to invoice_extraction_results_local.csv\n",
      "\n",
      "Processing invoice 1243 of 2000 (ID: 14489543)...\n",
      "Completed processing for invoice_id: 14489543. Results saved to invoice_extraction_results_local.csv\n",
      "\n",
      "Processing invoice 1244 of 2000 (ID: 14499780)...\n",
      "Completed processing for invoice_id: 14499780. Results saved to invoice_extraction_results_local.csv\n",
      "\n",
      "Processing invoice 1245 of 2000 (ID: 14142287)...\n",
      "Completed processing for invoice_id: 14142287. Results saved to invoice_extraction_results_local.csv\n",
      "\n",
      "Processing invoice 1246 of 2000 (ID: 14575310)...\n",
      "Completed processing for invoice_id: 14575310. Results saved to invoice_extraction_results_local.csv\n",
      "\n",
      "Processing invoice 1247 of 2000 (ID: 13962458)...\n"
     ]
    },
    {
     "name": "stderr",
     "output_type": "stream",
     "text": [
      "Processing PDF with 1 pages...\n",
      "Processing 1 image(s) with AWS Bedrock...\n",
      "Found 1 invoices\n"
     ]
    },
    {
     "name": "stdout",
     "output_type": "stream",
     "text": [
      "Completed processing for invoice_id: 13962458. Results saved to invoice_extraction_results_local.csv\n",
      "\n",
      "Processing invoice 1248 of 2000 (ID: 20930754)...\n"
     ]
    },
    {
     "name": "stderr",
     "output_type": "stream",
     "text": [
      "Processing PDF with 1 pages...\n",
      "Processing 1 image(s) with AWS Bedrock...\n",
      "Found 1 invoices\n"
     ]
    },
    {
     "name": "stdout",
     "output_type": "stream",
     "text": [
      "Completed processing for invoice_id: 20930754. Results saved to invoice_extraction_results_local.csv\n",
      "\n",
      "Processing invoice 1249 of 2000 (ID: 14492466)...\n"
     ]
    },
    {
     "name": "stderr",
     "output_type": "stream",
     "text": [
      "Processing PDF with 1 pages...\n",
      "Processing 1 image(s) with AWS Bedrock...\n",
      "Found 1 invoices\n"
     ]
    },
    {
     "name": "stdout",
     "output_type": "stream",
     "text": [
      "Completed processing for invoice_id: 14492466. Results saved to invoice_extraction_results_local.csv\n",
      "\n",
      "Processing invoice 1250 of 2000 (ID: 20071139)...\n"
     ]
    },
    {
     "name": "stderr",
     "output_type": "stream",
     "text": [
      "Processing PDF with 6 pages...\n",
      "Processing 6 image(s) with AWS Bedrock...\n",
      "Found 1 invoices\n"
     ]
    },
    {
     "name": "stdout",
     "output_type": "stream",
     "text": [
      "Completed processing for invoice_id: 20071139. Results saved to invoice_extraction_results_local.csv\n",
      "\n",
      "Processing invoice 1251 of 2000 (ID: 20627133)...\n",
      "Completed processing for invoice_id: 20627133. Results saved to invoice_extraction_results_local.csv\n",
      "\n",
      "Processing invoice 1252 of 2000 (ID: 20547069)...\n"
     ]
    },
    {
     "name": "stderr",
     "output_type": "stream",
     "text": [
      "Processing PDF with 4 pages...\n",
      "Processing 4 image(s) with AWS Bedrock...\n",
      "Error calling Bedrock: Expecting property name enclosed in double quotes: line 123 column 46 (char 3626)\n"
     ]
    },
    {
     "name": "stdout",
     "output_type": "stream",
     "text": [
      "Completed processing for invoice_id: 20547069. Results saved to invoice_extraction_results_local.csv\n",
      "\n",
      "Processing invoice 1253 of 2000 (ID: 20759651)...\n",
      "Completed processing for invoice_id: 20759651. Results saved to invoice_extraction_results_local.csv\n",
      "\n",
      "Processing invoice 1254 of 2000 (ID: 19855471)...\n"
     ]
    },
    {
     "name": "stderr",
     "output_type": "stream",
     "text": [
      "Processing PDF with 1 pages...\n",
      "Processing 1 image(s) with AWS Bedrock...\n",
      "Found 1 invoices\n"
     ]
    },
    {
     "name": "stdout",
     "output_type": "stream",
     "text": [
      "Completed processing for invoice_id: 19855471. Results saved to invoice_extraction_results_local.csv\n",
      "\n",
      "Processing invoice 1255 of 2000 (ID: 13857971)...\n",
      "Completed processing for invoice_id: 13857971. Results saved to invoice_extraction_results_local.csv\n",
      "\n",
      "Processing invoice 1256 of 2000 (ID: 14727832)...\n",
      "Completed processing for invoice_id: 14727832. Results saved to invoice_extraction_results_local.csv\n",
      "\n",
      "Processing invoice 1257 of 2000 (ID: 14161084)...\n",
      "Completed processing for invoice_id: 14161084. Results saved to invoice_extraction_results_local.csv\n",
      "\n",
      "Processing invoice 1258 of 2000 (ID: 21149734)...\n",
      "Completed processing for invoice_id: 21149734. Results saved to invoice_extraction_results_local.csv\n",
      "\n",
      "Processing invoice 1259 of 2000 (ID: 20068276)...\n",
      "Completed processing for invoice_id: 20068276. Results saved to invoice_extraction_results_local.csv\n",
      "\n",
      "Processing invoice 1260 of 2000 (ID: 20266459)...\n",
      "Completed processing for invoice_id: 20266459. Results saved to invoice_extraction_results_local.csv\n",
      "\n",
      "Processing invoice 1261 of 2000 (ID: 14826338)...\n",
      "Completed processing for invoice_id: 14826338. Results saved to invoice_extraction_results_local.csv\n",
      "\n",
      "Processing invoice 1262 of 2000 (ID: 20193995)...\n"
     ]
    },
    {
     "name": "stderr",
     "output_type": "stream",
     "text": [
      "Processing PDF with 1 pages...\n",
      "Processing 1 image(s) with AWS Bedrock...\n",
      "Found 1 invoices\n"
     ]
    },
    {
     "name": "stdout",
     "output_type": "stream",
     "text": [
      "Completed processing for invoice_id: 20193995. Results saved to invoice_extraction_results_local.csv\n",
      "\n",
      "Processing invoice 1263 of 2000 (ID: 14547743)...\n"
     ]
    },
    {
     "name": "stderr",
     "output_type": "stream",
     "text": [
      "Processing PDF with 1 pages...\n",
      "Processing 1 image(s) with AWS Bedrock...\n",
      "Found 1 invoices\n"
     ]
    },
    {
     "name": "stdout",
     "output_type": "stream",
     "text": [
      "Completed processing for invoice_id: 14547743. Results saved to invoice_extraction_results_local.csv\n",
      "\n",
      "Processing invoice 1264 of 2000 (ID: 19907807)...\n",
      "Completed processing for invoice_id: 19907807. Results saved to invoice_extraction_results_local.csv\n",
      "\n",
      "Processing invoice 1265 of 2000 (ID: 21025499)...\n"
     ]
    },
    {
     "name": "stderr",
     "output_type": "stream",
     "text": [
      "Processing PDF with 1 pages...\n",
      "Processing 1 image(s) with AWS Bedrock...\n",
      "Found 1 invoices\n"
     ]
    },
    {
     "name": "stdout",
     "output_type": "stream",
     "text": [
      "Completed processing for invoice_id: 21025499. Results saved to invoice_extraction_results_local.csv\n",
      "\n",
      "Processing invoice 1266 of 2000 (ID: 14690297)...\n"
     ]
    },
    {
     "name": "stderr",
     "output_type": "stream",
     "text": [
      "Processing PDF with 1 pages...\n",
      "Processing 1 image(s) with AWS Bedrock...\n",
      "Found 1 invoices\n"
     ]
    },
    {
     "name": "stdout",
     "output_type": "stream",
     "text": [
      "Completed processing for invoice_id: 14690297. Results saved to invoice_extraction_results_local.csv\n",
      "\n",
      "Processing invoice 1267 of 2000 (ID: 20675420)...\n",
      "Completed processing for invoice_id: 20675420. Results saved to invoice_extraction_results_local.csv\n",
      "\n",
      "Processing invoice 1268 of 2000 (ID: 19993149)...\n",
      "Completed processing for invoice_id: 19993149. Results saved to invoice_extraction_results_local.csv\n",
      "\n",
      "Processing invoice 1269 of 2000 (ID: 14281532)...\n"
     ]
    },
    {
     "name": "stderr",
     "output_type": "stream",
     "text": [
      "Processing PDF with 1 pages...\n",
      "Processing 1 image(s) with AWS Bedrock...\n",
      "Found 1 invoices\n"
     ]
    },
    {
     "name": "stdout",
     "output_type": "stream",
     "text": [
      "Completed processing for invoice_id: 14281532. Results saved to invoice_extraction_results_local.csv\n",
      "\n",
      "Processing invoice 1270 of 2000 (ID: 14293869)...\n",
      "Completed processing for invoice_id: 14293869. Results saved to invoice_extraction_results_local.csv\n",
      "\n",
      "Processing invoice 1271 of 2000 (ID: 14092485)...\n"
     ]
    },
    {
     "name": "stderr",
     "output_type": "stream",
     "text": [
      "Processing PDF with 1 pages...\n",
      "Processing 1 image(s) with AWS Bedrock...\n",
      "Found 1 invoices\n"
     ]
    },
    {
     "name": "stdout",
     "output_type": "stream",
     "text": [
      "Completed processing for invoice_id: 14092485. Results saved to invoice_extraction_results_local.csv\n",
      "\n",
      "Processing invoice 1272 of 2000 (ID: 20638211)...\n",
      "Completed processing for invoice_id: 20638211. Results saved to invoice_extraction_results_local.csv\n",
      "\n",
      "Processing invoice 1273 of 2000 (ID: 14193375)...\n"
     ]
    },
    {
     "name": "stderr",
     "output_type": "stream",
     "text": [
      "Processing PDF with 1 pages...\n",
      "Processing 1 image(s) with AWS Bedrock...\n",
      "Found 1 invoices\n"
     ]
    },
    {
     "name": "stdout",
     "output_type": "stream",
     "text": [
      "Completed processing for invoice_id: 14193375. Results saved to invoice_extraction_results_local.csv\n",
      "\n",
      "Processing invoice 1274 of 2000 (ID: 19982523)...\n"
     ]
    },
    {
     "name": "stderr",
     "output_type": "stream",
     "text": [
      "Processing PDF with 1 pages...\n",
      "Processing 1 image(s) with AWS Bedrock...\n",
      "Found 1 invoices\n"
     ]
    },
    {
     "name": "stdout",
     "output_type": "stream",
     "text": [
      "Completed processing for invoice_id: 19982523. Results saved to invoice_extraction_results_local.csv\n",
      "\n",
      "Processing invoice 1275 of 2000 (ID: 14893867)...\n",
      "Completed processing for invoice_id: 14893867. Results saved to invoice_extraction_results_local.csv\n",
      "\n",
      "Processing invoice 1276 of 2000 (ID: 13699878)...\n",
      "Completed processing for invoice_id: 13699878. Results saved to invoice_extraction_results_local.csv\n",
      "\n",
      "Processing invoice 1277 of 2000 (ID: 20926144)...\n",
      "Completed processing for invoice_id: 20926144. Results saved to invoice_extraction_results_local.csv\n",
      "\n",
      "Processing invoice 1278 of 2000 (ID: 20792741)...\n"
     ]
    },
    {
     "name": "stderr",
     "output_type": "stream",
     "text": [
      "Processing PDF with 6 pages...\n",
      "Processing 6 image(s) with AWS Bedrock...\n",
      "Found 1 invoices\n"
     ]
    },
    {
     "name": "stdout",
     "output_type": "stream",
     "text": [
      "Completed processing for invoice_id: 20792741. Results saved to invoice_extraction_results_local.csv\n",
      "\n",
      "Processing invoice 1279 of 2000 (ID: 20960174)...\n",
      "Completed processing for invoice_id: 20960174. Results saved to invoice_extraction_results_local.csv\n",
      "\n",
      "Processing invoice 1280 of 2000 (ID: 13643465)...\n",
      "Completed processing for invoice_id: 13643465. Results saved to invoice_extraction_results_local.csv\n",
      "\n",
      "Processing invoice 1281 of 2000 (ID: 20017493)...\n"
     ]
    },
    {
     "name": "stderr",
     "output_type": "stream",
     "text": [
      "Processing PDF with 2 pages...\n",
      "Processing 2 image(s) with AWS Bedrock...\n",
      "Found 1 invoices\n"
     ]
    },
    {
     "name": "stdout",
     "output_type": "stream",
     "text": [
      "Completed processing for invoice_id: 20017493. Results saved to invoice_extraction_results_local.csv\n",
      "\n",
      "Processing invoice 1282 of 2000 (ID: 14869796)...\n"
     ]
    },
    {
     "name": "stderr",
     "output_type": "stream",
     "text": [
      "Processing PDF with 1 pages...\n",
      "Processing 1 image(s) with AWS Bedrock...\n",
      "Found 1 invoices\n"
     ]
    },
    {
     "name": "stdout",
     "output_type": "stream",
     "text": [
      "Completed processing for invoice_id: 14869796. Results saved to invoice_extraction_results_local.csv\n",
      "\n",
      "Processing invoice 1283 of 2000 (ID: 20301144)...\n"
     ]
    },
    {
     "name": "stderr",
     "output_type": "stream",
     "text": [
      "Processing PDF with 1 pages...\n",
      "Processing 1 image(s) with AWS Bedrock...\n",
      "Found 1 invoices\n"
     ]
    },
    {
     "name": "stdout",
     "output_type": "stream",
     "text": [
      "Completed processing for invoice_id: 20301144. Results saved to invoice_extraction_results_local.csv\n",
      "\n",
      "Processing invoice 1284 of 2000 (ID: 14777983)...\n"
     ]
    },
    {
     "name": "stderr",
     "output_type": "stream",
     "text": [
      "Processing PDF with 1 pages...\n",
      "Processing 1 image(s) with AWS Bedrock...\n",
      "Found 1 invoices\n"
     ]
    },
    {
     "name": "stdout",
     "output_type": "stream",
     "text": [
      "Completed processing for invoice_id: 14777983. Results saved to invoice_extraction_results_local.csv\n",
      "\n",
      "Processing invoice 1285 of 2000 (ID: 21278686)...\n"
     ]
    },
    {
     "name": "stderr",
     "output_type": "stream",
     "text": [
      "Processing PDF with 1 pages...\n",
      "Processing 1 image(s) with AWS Bedrock...\n",
      "Found 1 invoices\n"
     ]
    },
    {
     "name": "stdout",
     "output_type": "stream",
     "text": [
      "Completed processing for invoice_id: 21278686. Results saved to invoice_extraction_results_local.csv\n",
      "\n",
      "Processing invoice 1286 of 2000 (ID: 20539925)...\n"
     ]
    },
    {
     "name": "stderr",
     "output_type": "stream",
     "text": [
      "Processing PDF with 1 pages...\n",
      "Processing 1 image(s) with AWS Bedrock...\n",
      "Error calling Bedrock: Expecting ',' delimiter: line 121 column 13 (char 3521)\n"
     ]
    },
    {
     "name": "stdout",
     "output_type": "stream",
     "text": [
      "Completed processing for invoice_id: 20539925. Results saved to invoice_extraction_results_local.csv\n",
      "\n",
      "Processing invoice 1287 of 2000 (ID: 20117365)...\n"
     ]
    },
    {
     "name": "stderr",
     "output_type": "stream",
     "text": [
      "Processing PDF with 1 pages...\n",
      "Processing 1 image(s) with AWS Bedrock...\n",
      "Found 1 invoices\n"
     ]
    },
    {
     "name": "stdout",
     "output_type": "stream",
     "text": [
      "Completed processing for invoice_id: 20117365. Results saved to invoice_extraction_results_local.csv\n",
      "\n",
      "Processing invoice 1288 of 2000 (ID: 13934370)...\n"
     ]
    },
    {
     "name": "stderr",
     "output_type": "stream",
     "text": [
      "Processing PDF with 1 pages...\n",
      "Processing 1 image(s) with AWS Bedrock...\n",
      "Found 1 invoices\n"
     ]
    },
    {
     "name": "stdout",
     "output_type": "stream",
     "text": [
      "Completed processing for invoice_id: 13934370. Results saved to invoice_extraction_results_local.csv\n",
      "\n",
      "Processing invoice 1289 of 2000 (ID: 14420925)...\n",
      "Completed processing for invoice_id: 14420925. Results saved to invoice_extraction_results_local.csv\n",
      "\n",
      "Processing invoice 1290 of 2000 (ID: 14891035)...\n"
     ]
    },
    {
     "name": "stderr",
     "output_type": "stream",
     "text": [
      "Processing PDF with 1 pages...\n",
      "Processing 1 image(s) with AWS Bedrock...\n",
      "Found 1 invoices\n"
     ]
    },
    {
     "name": "stdout",
     "output_type": "stream",
     "text": [
      "Completed processing for invoice_id: 14891035. Results saved to invoice_extraction_results_local.csv\n",
      "\n",
      "Processing invoice 1291 of 2000 (ID: 20199699)...\n",
      "Completed processing for invoice_id: 20199699. Results saved to invoice_extraction_results_local.csv\n",
      "\n",
      "Processing invoice 1292 of 2000 (ID: 14897367)...\n",
      "Completed processing for invoice_id: 14897367. Results saved to invoice_extraction_results_local.csv\n",
      "\n",
      "Processing invoice 1293 of 2000 (ID: 13807461)...\n",
      "Completed processing for invoice_id: 13807461. Results saved to invoice_extraction_results_local.csv\n",
      "\n",
      "Processing invoice 1294 of 2000 (ID: 20061394)...\n"
     ]
    },
    {
     "name": "stderr",
     "output_type": "stream",
     "text": [
      "Processing PDF with 1 pages...\n",
      "Processing 1 image(s) with AWS Bedrock...\n",
      "Found 1 invoices\n"
     ]
    },
    {
     "name": "stdout",
     "output_type": "stream",
     "text": [
      "Completed processing for invoice_id: 20061394. Results saved to invoice_extraction_results_local.csv\n",
      "\n",
      "Processing invoice 1295 of 2000 (ID: 13931655)...\n"
     ]
    },
    {
     "name": "stderr",
     "output_type": "stream",
     "text": [
      "Processing PDF with 1 pages...\n",
      "Processing 1 image(s) with AWS Bedrock...\n",
      "Found 1 invoices\n"
     ]
    },
    {
     "name": "stdout",
     "output_type": "stream",
     "text": [
      "Completed processing for invoice_id: 13931655. Results saved to invoice_extraction_results_local.csv\n",
      "\n",
      "Processing invoice 1296 of 2000 (ID: 20670587)...\n",
      "Completed processing for invoice_id: 20670587. Results saved to invoice_extraction_results_local.csv\n",
      "\n",
      "Processing invoice 1297 of 2000 (ID: 14012022)...\n"
     ]
    },
    {
     "name": "stderr",
     "output_type": "stream",
     "text": [
      "Processing PDF with 1 pages...\n",
      "Processing 1 image(s) with AWS Bedrock...\n",
      "Found 1 invoices\n"
     ]
    },
    {
     "name": "stdout",
     "output_type": "stream",
     "text": [
      "Completed processing for invoice_id: 14012022. Results saved to invoice_extraction_results_local.csv\n",
      "\n",
      "Processing invoice 1298 of 2000 (ID: 21199454)...\n"
     ]
    },
    {
     "name": "stderr",
     "output_type": "stream",
     "text": [
      "Processing PDF with 1 pages...\n",
      "Processing 1 image(s) with AWS Bedrock...\n",
      "Found 1 invoices\n"
     ]
    },
    {
     "name": "stdout",
     "output_type": "stream",
     "text": [
      "Completed processing for invoice_id: 21199454. Results saved to invoice_extraction_results_local.csv\n",
      "\n",
      "Processing invoice 1299 of 2000 (ID: 20560288)...\n",
      "Completed processing for invoice_id: 20560288. Results saved to invoice_extraction_results_local.csv\n",
      "\n",
      "Processing invoice 1300 of 2000 (ID: 13823777)...\n"
     ]
    },
    {
     "name": "stderr",
     "output_type": "stream",
     "text": [
      "Processing PDF with 2 pages...\n",
      "Processing 2 image(s) with AWS Bedrock...\n",
      "Found 1 invoices\n"
     ]
    },
    {
     "name": "stdout",
     "output_type": "stream",
     "text": [
      "Completed processing for invoice_id: 13823777. Results saved to invoice_extraction_results_local.csv\n",
      "\n",
      "Processing invoice 1301 of 2000 (ID: 14196886)...\n",
      "Completed processing for invoice_id: 14196886. Results saved to invoice_extraction_results_local.csv\n",
      "\n",
      "Processing invoice 1302 of 2000 (ID: 14555242)...\n",
      "Completed processing for invoice_id: 14555242. Results saved to invoice_extraction_results_local.csv\n",
      "\n",
      "Processing invoice 1303 of 2000 (ID: 21211954)...\n"
     ]
    },
    {
     "name": "stderr",
     "output_type": "stream",
     "text": [
      "Processing PDF with 1 pages...\n",
      "Processing 1 image(s) with AWS Bedrock...\n",
      "Found 1 invoices\n"
     ]
    },
    {
     "name": "stdout",
     "output_type": "stream",
     "text": [
      "Completed processing for invoice_id: 21211954. Results saved to invoice_extraction_results_local.csv\n",
      "\n",
      "Processing invoice 1304 of 2000 (ID: 20977290)...\n"
     ]
    },
    {
     "name": "stderr",
     "output_type": "stream",
     "text": [
      "Processing PDF with 1 pages...\n",
      "Processing 1 image(s) with AWS Bedrock...\n",
      "Found 1 invoices\n"
     ]
    },
    {
     "name": "stdout",
     "output_type": "stream",
     "text": [
      "Completed processing for invoice_id: 20977290. Results saved to invoice_extraction_results_local.csv\n",
      "\n",
      "Processing invoice 1305 of 2000 (ID: 13625601)...\n"
     ]
    },
    {
     "name": "stderr",
     "output_type": "stream",
     "text": [
      "Processing PDF with 2 pages...\n",
      "Processing 2 image(s) with AWS Bedrock...\n",
      "Found 1 invoices\n"
     ]
    },
    {
     "name": "stdout",
     "output_type": "stream",
     "text": [
      "Completed processing for invoice_id: 13625601. Results saved to invoice_extraction_results_local.csv\n",
      "\n",
      "Processing invoice 1306 of 2000 (ID: 14868608)...\n"
     ]
    },
    {
     "name": "stderr",
     "output_type": "stream",
     "text": [
      "Processing PDF with 1 pages...\n",
      "Processing 1 image(s) with AWS Bedrock...\n",
      "Found 1 invoices\n"
     ]
    },
    {
     "name": "stdout",
     "output_type": "stream",
     "text": [
      "Completed processing for invoice_id: 14868608. Results saved to invoice_extraction_results_local.csv\n",
      "\n",
      "Processing invoice 1307 of 2000 (ID: 20483348)...\n",
      "Completed processing for invoice_id: 20483348. Results saved to invoice_extraction_results_local.csv\n",
      "\n",
      "Processing invoice 1308 of 2000 (ID: 13989039)...\n"
     ]
    },
    {
     "name": "stderr",
     "output_type": "stream",
     "text": [
      "Processing PDF with 1 pages...\n",
      "Processing 1 image(s) with AWS Bedrock...\n",
      "Found 1 invoices\n"
     ]
    },
    {
     "name": "stdout",
     "output_type": "stream",
     "text": [
      "Completed processing for invoice_id: 13989039. Results saved to invoice_extraction_results_local.csv\n",
      "\n",
      "Processing invoice 1309 of 2000 (ID: 14565055)...\n",
      "Completed processing for invoice_id: 14565055. Results saved to invoice_extraction_results_local.csv\n",
      "\n",
      "Processing invoice 1310 of 2000 (ID: 14474397)...\n",
      "Completed processing for invoice_id: 14474397. Results saved to invoice_extraction_results_local.csv\n",
      "\n",
      "Processing invoice 1311 of 2000 (ID: 13969211)...\n",
      "Completed processing for invoice_id: 13969211. Results saved to invoice_extraction_results_local.csv\n",
      "\n",
      "Processing invoice 1312 of 2000 (ID: 14263744)...\n"
     ]
    },
    {
     "name": "stderr",
     "output_type": "stream",
     "text": [
      "Processing PDF with 1 pages...\n",
      "Processing 1 image(s) with AWS Bedrock...\n",
      "Found 1 invoices\n"
     ]
    },
    {
     "name": "stdout",
     "output_type": "stream",
     "text": [
      "Completed processing for invoice_id: 14263744. Results saved to invoice_extraction_results_local.csv\n",
      "\n",
      "Processing invoice 1313 of 2000 (ID: 20929344)...\n"
     ]
    },
    {
     "name": "stderr",
     "output_type": "stream",
     "text": [
      "Processing PDF with 2 pages...\n",
      "Processing 2 image(s) with AWS Bedrock...\n",
      "Found 1 invoices\n"
     ]
    },
    {
     "name": "stdout",
     "output_type": "stream",
     "text": [
      "Completed processing for invoice_id: 20929344. Results saved to invoice_extraction_results_local.csv\n",
      "\n",
      "Processing invoice 1314 of 2000 (ID: 14851398)...\n"
     ]
    },
    {
     "name": "stderr",
     "output_type": "stream",
     "text": [
      "Processing PDF with 2 pages...\n",
      "Processing 2 image(s) with AWS Bedrock...\n",
      "Found 1 invoices\n"
     ]
    },
    {
     "name": "stdout",
     "output_type": "stream",
     "text": [
      "Completed processing for invoice_id: 14851398. Results saved to invoice_extraction_results_local.csv\n",
      "\n",
      "Processing invoice 1315 of 2000 (ID: 20807876)...\n"
     ]
    },
    {
     "name": "stderr",
     "output_type": "stream",
     "text": [
      "Processing PDF with 1 pages...\n",
      "Processing 1 image(s) with AWS Bedrock...\n",
      "Found 1 invoices\n"
     ]
    },
    {
     "name": "stdout",
     "output_type": "stream",
     "text": [
      "Completed processing for invoice_id: 20807876. Results saved to invoice_extraction_results_local.csv\n",
      "\n",
      "Processing invoice 1316 of 2000 (ID: 14897334)...\n",
      "Completed processing for invoice_id: 14897334. Results saved to invoice_extraction_results_local.csv\n",
      "\n",
      "Processing invoice 1317 of 2000 (ID: 14028579)...\n"
     ]
    },
    {
     "name": "stderr",
     "output_type": "stream",
     "text": [
      "Processing PDF with 1 pages...\n",
      "Processing 1 image(s) with AWS Bedrock...\n",
      "Found 1 invoices\n"
     ]
    },
    {
     "name": "stdout",
     "output_type": "stream",
     "text": [
      "Completed processing for invoice_id: 14028579. Results saved to invoice_extraction_results_local.csv\n",
      "\n",
      "Processing invoice 1318 of 2000 (ID: 14563304)...\n",
      "Completed processing for invoice_id: 14563304. Results saved to invoice_extraction_results_local.csv\n",
      "\n",
      "Processing invoice 1319 of 2000 (ID: 14674572)...\n",
      "Completed processing for invoice_id: 14674572. Results saved to invoice_extraction_results_local.csv\n",
      "\n",
      "Processing invoice 1320 of 2000 (ID: 14953839)...\n"
     ]
    },
    {
     "name": "stderr",
     "output_type": "stream",
     "text": [
      "Processing PDF with 5 pages...\n",
      "Processing 5 image(s) with AWS Bedrock...\n",
      "Found 1 invoices\n"
     ]
    },
    {
     "name": "stdout",
     "output_type": "stream",
     "text": [
      "Completed processing for invoice_id: 14953839. Results saved to invoice_extraction_results_local.csv\n",
      "\n",
      "Processing invoice 1321 of 2000 (ID: 20173240)...\n"
     ]
    },
    {
     "name": "stderr",
     "output_type": "stream",
     "text": [
      "Processing PDF with 2 pages...\n",
      "Processing 2 image(s) with AWS Bedrock...\n",
      "Found 1 invoices\n"
     ]
    },
    {
     "name": "stdout",
     "output_type": "stream",
     "text": [
      "Completed processing for invoice_id: 20173240. Results saved to invoice_extraction_results_local.csv\n",
      "\n",
      "Processing invoice 1322 of 2000 (ID: 20318769)...\n"
     ]
    },
    {
     "name": "stderr",
     "output_type": "stream",
     "text": [
      "Processing PDF with 1 pages...\n",
      "Processing 1 image(s) with AWS Bedrock...\n",
      "Found 1 invoices\n"
     ]
    },
    {
     "name": "stdout",
     "output_type": "stream",
     "text": [
      "Completed processing for invoice_id: 20318769. Results saved to invoice_extraction_results_local.csv\n",
      "\n",
      "Processing invoice 1323 of 2000 (ID: 19928348)...\n"
     ]
    },
    {
     "name": "stderr",
     "output_type": "stream",
     "text": [
      "Processing PDF with 2 pages...\n",
      "Processing 2 image(s) with AWS Bedrock...\n",
      "Found 1 invoices\n"
     ]
    },
    {
     "name": "stdout",
     "output_type": "stream",
     "text": [
      "Completed processing for invoice_id: 19928348. Results saved to invoice_extraction_results_local.csv\n",
      "\n",
      "Processing invoice 1324 of 2000 (ID: 19890053)...\n"
     ]
    },
    {
     "name": "stderr",
     "output_type": "stream",
     "text": [
      "Processing PDF with 3 pages...\n",
      "Processing 3 image(s) with AWS Bedrock...\n",
      "Found 1 invoices\n"
     ]
    },
    {
     "name": "stdout",
     "output_type": "stream",
     "text": [
      "Completed processing for invoice_id: 19890053. Results saved to invoice_extraction_results_local.csv\n",
      "\n",
      "Processing invoice 1325 of 2000 (ID: 14216789)...\n",
      "Completed processing for invoice_id: 14216789. Results saved to invoice_extraction_results_local.csv\n",
      "\n",
      "Processing invoice 1326 of 2000 (ID: 14396506)...\n",
      "Completed processing for invoice_id: 14396506. Results saved to invoice_extraction_results_local.csv\n",
      "\n",
      "Processing invoice 1327 of 2000 (ID: 14586910)...\n",
      "Completed processing for invoice_id: 14586910. Results saved to invoice_extraction_results_local.csv\n",
      "\n",
      "Processing invoice 1328 of 2000 (ID: 20214295)...\n",
      "Completed processing for invoice_id: 20214295. Results saved to invoice_extraction_results_local.csv\n",
      "\n",
      "Processing invoice 1329 of 2000 (ID: 14296851)...\n"
     ]
    },
    {
     "name": "stderr",
     "output_type": "stream",
     "text": [
      "Processing PDF with 1 pages...\n",
      "Processing 1 image(s) with AWS Bedrock...\n",
      "Found 1 invoices\n"
     ]
    },
    {
     "name": "stdout",
     "output_type": "stream",
     "text": [
      "Completed processing for invoice_id: 14296851. Results saved to invoice_extraction_results_local.csv\n",
      "\n",
      "Processing invoice 1330 of 2000 (ID: 20052999)...\n"
     ]
    },
    {
     "name": "stderr",
     "output_type": "stream",
     "text": [
      "Processing PDF with 1 pages...\n",
      "Processing 1 image(s) with AWS Bedrock...\n",
      "Found 1 invoices\n"
     ]
    },
    {
     "name": "stdout",
     "output_type": "stream",
     "text": [
      "Completed processing for invoice_id: 20052999. Results saved to invoice_extraction_results_local.csv\n",
      "\n",
      "Processing invoice 1331 of 2000 (ID: 14438454)...\n",
      "Completed processing for invoice_id: 14438454. Results saved to invoice_extraction_results_local.csv\n",
      "\n",
      "Processing invoice 1332 of 2000 (ID: 20762333)...\n"
     ]
    },
    {
     "name": "stderr",
     "output_type": "stream",
     "text": [
      "Processing PDF with 1 pages...\n",
      "Processing 1 image(s) with AWS Bedrock...\n",
      "Found 1 invoices\n"
     ]
    },
    {
     "name": "stdout",
     "output_type": "stream",
     "text": [
      "Completed processing for invoice_id: 20762333. Results saved to invoice_extraction_results_local.csv\n",
      "\n",
      "Processing invoice 1333 of 2000 (ID: 14110712)...\n",
      "Completed processing for invoice_id: 14110712. Results saved to invoice_extraction_results_local.csv\n",
      "\n",
      "Processing invoice 1334 of 2000 (ID: 21011142)...\n"
     ]
    },
    {
     "name": "stderr",
     "output_type": "stream",
     "text": [
      "Processing PDF with 1 pages...\n",
      "Processing 1 image(s) with AWS Bedrock...\n",
      "Found 1 invoices\n"
     ]
    },
    {
     "name": "stdout",
     "output_type": "stream",
     "text": [
      "Completed processing for invoice_id: 21011142. Results saved to invoice_extraction_results_local.csv\n",
      "\n",
      "Processing invoice 1335 of 2000 (ID: 20288251)...\n",
      "Completed processing for invoice_id: 20288251. Results saved to invoice_extraction_results_local.csv\n",
      "\n",
      "Processing invoice 1336 of 2000 (ID: 19902012)...\n"
     ]
    },
    {
     "name": "stderr",
     "output_type": "stream",
     "text": [
      "Processing PDF with 1 pages...\n",
      "Processing 1 image(s) with AWS Bedrock...\n",
      "Found 1 invoices\n"
     ]
    },
    {
     "name": "stdout",
     "output_type": "stream",
     "text": [
      "Completed processing for invoice_id: 19902012. Results saved to invoice_extraction_results_local.csv\n",
      "\n",
      "Processing invoice 1337 of 2000 (ID: 14407288)...\n"
     ]
    },
    {
     "name": "stderr",
     "output_type": "stream",
     "text": [
      "Processing PDF with 1 pages...\n",
      "Processing 1 image(s) with AWS Bedrock...\n",
      "Found 1 invoices\n"
     ]
    },
    {
     "name": "stdout",
     "output_type": "stream",
     "text": [
      "Completed processing for invoice_id: 14407288. Results saved to invoice_extraction_results_local.csv\n",
      "\n",
      "Processing invoice 1338 of 2000 (ID: 14781772)...\n"
     ]
    },
    {
     "name": "stderr",
     "output_type": "stream",
     "text": [
      "Processing PDF with 1 pages...\n",
      "Processing 1 image(s) with AWS Bedrock...\n",
      "Found 1 invoices\n"
     ]
    },
    {
     "name": "stdout",
     "output_type": "stream",
     "text": [
      "Completed processing for invoice_id: 14781772. Results saved to invoice_extraction_results_local.csv\n",
      "\n",
      "Processing invoice 1339 of 2000 (ID: 14240137)...\n",
      "Completed processing for invoice_id: 14240137. Results saved to invoice_extraction_results_local.csv\n",
      "\n",
      "Processing invoice 1340 of 2000 (ID: 20020819)...\n",
      "Completed processing for invoice_id: 20020819. Results saved to invoice_extraction_results_local.csv\n",
      "\n",
      "Processing invoice 1341 of 2000 (ID: 20421849)...\n"
     ]
    },
    {
     "name": "stderr",
     "output_type": "stream",
     "text": [
      "Processing PDF with 1 pages...\n",
      "Processing 1 image(s) with AWS Bedrock...\n",
      "Found 1 invoices\n"
     ]
    },
    {
     "name": "stdout",
     "output_type": "stream",
     "text": [
      "Completed processing for invoice_id: 20421849. Results saved to invoice_extraction_results_local.csv\n",
      "\n",
      "Processing invoice 1342 of 2000 (ID: 13809510)...\n",
      "Completed processing for invoice_id: 13809510. Results saved to invoice_extraction_results_local.csv\n",
      "\n",
      "Processing invoice 1343 of 2000 (ID: 14693380)...\n",
      "Completed processing for invoice_id: 14693380. Results saved to invoice_extraction_results_local.csv\n",
      "\n",
      "Processing invoice 1344 of 2000 (ID: 20192653)...\n"
     ]
    },
    {
     "name": "stderr",
     "output_type": "stream",
     "text": [
      "Processing PDF with 1 pages...\n",
      "Processing 1 image(s) with AWS Bedrock...\n",
      "Found 1 invoices\n"
     ]
    },
    {
     "name": "stdout",
     "output_type": "stream",
     "text": [
      "Completed processing for invoice_id: 20192653. Results saved to invoice_extraction_results_local.csv\n",
      "\n",
      "Processing invoice 1345 of 2000 (ID: 13634721)...\n"
     ]
    },
    {
     "name": "stderr",
     "output_type": "stream",
     "text": [
      "Processing PDF with 1 pages...\n",
      "Processing 1 image(s) with AWS Bedrock...\n",
      "Found 1 invoices\n"
     ]
    },
    {
     "name": "stdout",
     "output_type": "stream",
     "text": [
      "Completed processing for invoice_id: 13634721. Results saved to invoice_extraction_results_local.csv\n",
      "\n",
      "Processing invoice 1346 of 2000 (ID: 14535311)...\n",
      "Completed processing for invoice_id: 14535311. Results saved to invoice_extraction_results_local.csv\n",
      "\n",
      "Processing invoice 1347 of 2000 (ID: 20622385)...\n",
      "Completed processing for invoice_id: 20622385. Results saved to invoice_extraction_results_local.csv\n",
      "\n",
      "Processing invoice 1348 of 2000 (ID: 14336262)...\n",
      "Completed processing for invoice_id: 14336262. Results saved to invoice_extraction_results_local.csv\n",
      "\n",
      "Processing invoice 1349 of 2000 (ID: 21122813)...\n"
     ]
    },
    {
     "name": "stderr",
     "output_type": "stream",
     "text": [
      "Processing PDF with 1 pages...\n",
      "Processing 1 image(s) with AWS Bedrock...\n",
      "Found 1 invoices\n"
     ]
    },
    {
     "name": "stdout",
     "output_type": "stream",
     "text": [
      "Completed processing for invoice_id: 21122813. Results saved to invoice_extraction_results_local.csv\n",
      "\n",
      "Processing invoice 1350 of 2000 (ID: 13620920)...\n"
     ]
    },
    {
     "name": "stderr",
     "output_type": "stream",
     "text": [
      "Processing PDF with 1 pages...\n",
      "Processing 1 image(s) with AWS Bedrock...\n",
      "Found 1 invoices\n"
     ]
    },
    {
     "name": "stdout",
     "output_type": "stream",
     "text": [
      "Completed processing for invoice_id: 13620920. Results saved to invoice_extraction_results_local.csv\n",
      "\n",
      "Processing invoice 1351 of 2000 (ID: 13784845)...\n"
     ]
    },
    {
     "name": "stderr",
     "output_type": "stream",
     "text": [
      "Processing PDF with 1 pages...\n",
      "Processing 1 image(s) with AWS Bedrock...\n",
      "Found 1 invoices\n"
     ]
    },
    {
     "name": "stdout",
     "output_type": "stream",
     "text": [
      "Completed processing for invoice_id: 13784845. Results saved to invoice_extraction_results_local.csv\n",
      "\n",
      "Processing invoice 1352 of 2000 (ID: 14198074)...\n"
     ]
    },
    {
     "name": "stderr",
     "output_type": "stream",
     "text": [
      "Processing PDF with 1 pages...\n",
      "Processing 1 image(s) with AWS Bedrock...\n",
      "Found 1 invoices\n"
     ]
    },
    {
     "name": "stdout",
     "output_type": "stream",
     "text": [
      "Completed processing for invoice_id: 14198074. Results saved to invoice_extraction_results_local.csv\n",
      "\n",
      "Processing invoice 1353 of 2000 (ID: 13623035)...\n"
     ]
    },
    {
     "name": "stderr",
     "output_type": "stream",
     "text": [
      "Processing PDF with 1 pages...\n",
      "Processing 1 image(s) with AWS Bedrock...\n",
      "Found 1 invoices\n"
     ]
    },
    {
     "name": "stdout",
     "output_type": "stream",
     "text": [
      "Completed processing for invoice_id: 13623035. Results saved to invoice_extraction_results_local.csv\n",
      "\n",
      "Processing invoice 1354 of 2000 (ID: 20368590)...\n"
     ]
    },
    {
     "name": "stderr",
     "output_type": "stream",
     "text": [
      "Processing PDF with 1 pages...\n",
      "Processing 1 image(s) with AWS Bedrock...\n",
      "Found 1 invoices\n"
     ]
    },
    {
     "name": "stdout",
     "output_type": "stream",
     "text": [
      "Completed processing for invoice_id: 20368590. Results saved to invoice_extraction_results_local.csv\n",
      "\n",
      "Processing invoice 1355 of 2000 (ID: 21232621)...\n",
      "Completed processing for invoice_id: 21232621. Results saved to invoice_extraction_results_local.csv\n",
      "\n",
      "Processing invoice 1356 of 2000 (ID: 20160849)...\n"
     ]
    },
    {
     "name": "stderr",
     "output_type": "stream",
     "text": [
      "Processing PDF with 1 pages...\n",
      "Processing 1 image(s) with AWS Bedrock...\n",
      "Found 1 invoices\n"
     ]
    },
    {
     "name": "stdout",
     "output_type": "stream",
     "text": [
      "Completed processing for invoice_id: 20160849. Results saved to invoice_extraction_results_local.csv\n",
      "\n",
      "Processing invoice 1357 of 2000 (ID: 14968777)...\n"
     ]
    },
    {
     "name": "stderr",
     "output_type": "stream",
     "text": [
      "Processing PDF with 1 pages...\n",
      "Processing 1 image(s) with AWS Bedrock...\n",
      "Found 1 invoices\n"
     ]
    },
    {
     "name": "stdout",
     "output_type": "stream",
     "text": [
      "Completed processing for invoice_id: 14968777. Results saved to invoice_extraction_results_local.csv\n",
      "\n",
      "Processing invoice 1358 of 2000 (ID: 14570967)...\n"
     ]
    },
    {
     "name": "stderr",
     "output_type": "stream",
     "text": [
      "Processing PDF with 1 pages...\n",
      "Processing 1 image(s) with AWS Bedrock...\n",
      "Found 1 invoices\n"
     ]
    },
    {
     "name": "stdout",
     "output_type": "stream",
     "text": [
      "Completed processing for invoice_id: 14570967. Results saved to invoice_extraction_results_local.csv\n",
      "\n",
      "Processing invoice 1359 of 2000 (ID: 14796357)...\n"
     ]
    },
    {
     "name": "stderr",
     "output_type": "stream",
     "text": [
      "Processing PDF with 2 pages...\n",
      "Processing 2 image(s) with AWS Bedrock...\n",
      "Found 1 invoices\n"
     ]
    },
    {
     "name": "stdout",
     "output_type": "stream",
     "text": [
      "Completed processing for invoice_id: 14796357. Results saved to invoice_extraction_results_local.csv\n",
      "\n",
      "Processing invoice 1360 of 2000 (ID: 14949690)...\n"
     ]
    },
    {
     "name": "stderr",
     "output_type": "stream",
     "text": [
      "Processing PDF with 1 pages...\n",
      "Processing 1 image(s) with AWS Bedrock...\n",
      "Found 1 invoices\n"
     ]
    },
    {
     "name": "stdout",
     "output_type": "stream",
     "text": [
      "Completed processing for invoice_id: 14949690. Results saved to invoice_extraction_results_local.csv\n",
      "\n",
      "Processing invoice 1361 of 2000 (ID: 19764578)...\n"
     ]
    },
    {
     "name": "stderr",
     "output_type": "stream",
     "text": [
      "Processing PDF with 1 pages...\n",
      "Processing 1 image(s) with AWS Bedrock...\n",
      "Found 1 invoices\n"
     ]
    },
    {
     "name": "stdout",
     "output_type": "stream",
     "text": [
      "Completed processing for invoice_id: 19764578. Results saved to invoice_extraction_results_local.csv\n",
      "\n",
      "Processing invoice 1362 of 2000 (ID: 21191824)...\n"
     ]
    },
    {
     "name": "stderr",
     "output_type": "stream",
     "text": [
      "Processing PDF with 1 pages...\n",
      "Processing 1 image(s) with AWS Bedrock...\n",
      "Found 1 invoices\n"
     ]
    },
    {
     "name": "stdout",
     "output_type": "stream",
     "text": [
      "Completed processing for invoice_id: 21191824. Results saved to invoice_extraction_results_local.csv\n",
      "\n",
      "Processing invoice 1363 of 2000 (ID: 14967209)...\n"
     ]
    },
    {
     "name": "stderr",
     "output_type": "stream",
     "text": [
      "Processing PDF with 1 pages...\n",
      "Processing 1 image(s) with AWS Bedrock...\n",
      "Found 1 invoices\n"
     ]
    },
    {
     "name": "stdout",
     "output_type": "stream",
     "text": [
      "Completed processing for invoice_id: 14967209. Results saved to invoice_extraction_results_local.csv\n",
      "\n",
      "Processing invoice 1364 of 2000 (ID: 20551300)...\n",
      "Completed processing for invoice_id: 20551300. Results saved to invoice_extraction_results_local.csv\n",
      "\n",
      "Processing invoice 1365 of 2000 (ID: 13901255)...\n"
     ]
    },
    {
     "name": "stderr",
     "output_type": "stream",
     "text": [
      "Processing PDF with 1 pages...\n",
      "Processing 1 image(s) with AWS Bedrock...\n",
      "Found 1 invoices\n"
     ]
    },
    {
     "name": "stdout",
     "output_type": "stream",
     "text": [
      "Completed processing for invoice_id: 13901255. Results saved to invoice_extraction_results_local.csv\n",
      "\n",
      "Processing invoice 1366 of 2000 (ID: 18866113)...\n",
      "Completed processing for invoice_id: 18866113. Results saved to invoice_extraction_results_local.csv\n",
      "\n",
      "Processing invoice 1367 of 2000 (ID: 20509594)...\n"
     ]
    },
    {
     "name": "stderr",
     "output_type": "stream",
     "text": [
      "Processing PDF with 1 pages...\n",
      "Processing 1 image(s) with AWS Bedrock...\n",
      "Found 1 invoices\n"
     ]
    },
    {
     "name": "stdout",
     "output_type": "stream",
     "text": [
      "Completed processing for invoice_id: 20509594. Results saved to invoice_extraction_results_local.csv\n",
      "\n",
      "Processing invoice 1368 of 2000 (ID: 14804668)...\n",
      "Completed processing for invoice_id: 14804668. Results saved to invoice_extraction_results_local.csv\n",
      "\n",
      "Processing invoice 1369 of 2000 (ID: 14680969)...\n",
      "Completed processing for invoice_id: 14680969. Results saved to invoice_extraction_results_local.csv\n",
      "\n",
      "Processing invoice 1370 of 2000 (ID: 14194349)...\n"
     ]
    },
    {
     "name": "stderr",
     "output_type": "stream",
     "text": [
      "Processing PDF with 2 pages...\n",
      "Processing 2 image(s) with AWS Bedrock...\n",
      "Found 1 invoices\n"
     ]
    },
    {
     "name": "stdout",
     "output_type": "stream",
     "text": [
      "Completed processing for invoice_id: 14194349. Results saved to invoice_extraction_results_local.csv\n",
      "\n",
      "Processing invoice 1371 of 2000 (ID: 14641551)...\n",
      "Completed processing for invoice_id: 14641551. Results saved to invoice_extraction_results_local.csv\n",
      "\n",
      "Processing invoice 1372 of 2000 (ID: 14154728)...\n"
     ]
    },
    {
     "name": "stderr",
     "output_type": "stream",
     "text": [
      "Processing PDF with 2 pages...\n",
      "Processing 2 image(s) with AWS Bedrock...\n",
      "Found 1 invoices\n"
     ]
    },
    {
     "name": "stdout",
     "output_type": "stream",
     "text": [
      "Completed processing for invoice_id: 14154728. Results saved to invoice_extraction_results_local.csv\n",
      "\n",
      "Processing invoice 1373 of 2000 (ID: 14830636)...\n"
     ]
    },
    {
     "name": "stderr",
     "output_type": "stream",
     "text": [
      "Processing PDF with 2 pages...\n",
      "Processing 2 image(s) with AWS Bedrock...\n",
      "Found 1 invoices\n"
     ]
    },
    {
     "name": "stdout",
     "output_type": "stream",
     "text": [
      "Completed processing for invoice_id: 14830636. Results saved to invoice_extraction_results_local.csv\n",
      "\n",
      "Processing invoice 1374 of 2000 (ID: 21021264)...\n",
      "Completed processing for invoice_id: 21021264. Results saved to invoice_extraction_results_local.csv\n",
      "\n",
      "Processing invoice 1375 of 2000 (ID: 14695151)...\n",
      "Completed processing for invoice_id: 14695151. Results saved to invoice_extraction_results_local.csv\n",
      "\n",
      "Processing invoice 1376 of 2000 (ID: 20258635)...\n"
     ]
    },
    {
     "name": "stderr",
     "output_type": "stream",
     "text": [
      "Processing PDF with 1 pages...\n",
      "Processing 1 image(s) with AWS Bedrock...\n",
      "Found 1 invoices\n"
     ]
    },
    {
     "name": "stdout",
     "output_type": "stream",
     "text": [
      "Completed processing for invoice_id: 20258635. Results saved to invoice_extraction_results_local.csv\n",
      "\n",
      "Processing invoice 1377 of 2000 (ID: 14645750)...\n"
     ]
    },
    {
     "name": "stderr",
     "output_type": "stream",
     "text": [
      "Processing PDF with 1 pages...\n",
      "Processing 1 image(s) with AWS Bedrock...\n",
      "Found 1 invoices\n"
     ]
    },
    {
     "name": "stdout",
     "output_type": "stream",
     "text": [
      "Completed processing for invoice_id: 14645750. Results saved to invoice_extraction_results_local.csv\n",
      "\n",
      "Processing invoice 1378 of 2000 (ID: 13750965)...\n"
     ]
    },
    {
     "name": "stderr",
     "output_type": "stream",
     "text": [
      "Processing PDF with 2 pages...\n",
      "Processing 2 image(s) with AWS Bedrock...\n",
      "Found 1 invoices\n"
     ]
    },
    {
     "name": "stdout",
     "output_type": "stream",
     "text": [
      "Completed processing for invoice_id: 13750965. Results saved to invoice_extraction_results_local.csv\n",
      "\n",
      "Processing invoice 1379 of 2000 (ID: 20946033)...\n",
      "Completed processing for invoice_id: 20946033. Results saved to invoice_extraction_results_local.csv\n",
      "\n",
      "Processing invoice 1380 of 2000 (ID: 20633458)...\n"
     ]
    },
    {
     "name": "stderr",
     "output_type": "stream",
     "text": [
      "Processing PDF with 2 pages...\n",
      "Processing 2 image(s) with AWS Bedrock...\n",
      "Found 1 invoices\n"
     ]
    },
    {
     "name": "stdout",
     "output_type": "stream",
     "text": [
      "Completed processing for invoice_id: 20633458. Results saved to invoice_extraction_results_local.csv\n",
      "\n",
      "Processing invoice 1381 of 2000 (ID: 13896958)...\n",
      "Completed processing for invoice_id: 13896958. Results saved to invoice_extraction_results_local.csv\n",
      "\n",
      "Processing invoice 1382 of 2000 (ID: 19871718)...\n"
     ]
    },
    {
     "name": "stderr",
     "output_type": "stream",
     "text": [
      "Processing PDF with 1 pages...\n",
      "Processing 1 image(s) with AWS Bedrock...\n",
      "Found 1 invoices\n"
     ]
    },
    {
     "name": "stdout",
     "output_type": "stream",
     "text": [
      "Completed processing for invoice_id: 19871718. Results saved to invoice_extraction_results_local.csv\n",
      "\n",
      "Processing invoice 1383 of 2000 (ID: 20972890)...\n"
     ]
    },
    {
     "name": "stderr",
     "output_type": "stream",
     "text": [
      "Processing PDF with 1 pages...\n",
      "Processing 1 image(s) with AWS Bedrock...\n",
      "Found 1 invoices\n"
     ]
    },
    {
     "name": "stdout",
     "output_type": "stream",
     "text": [
      "Completed processing for invoice_id: 20972890. Results saved to invoice_extraction_results_local.csv\n",
      "\n",
      "Processing invoice 1384 of 2000 (ID: 20432740)...\n"
     ]
    },
    {
     "name": "stderr",
     "output_type": "stream",
     "text": [
      "Processing PDF with 1 pages...\n",
      "Processing 1 image(s) with AWS Bedrock...\n",
      "Found 1 invoices\n"
     ]
    },
    {
     "name": "stdout",
     "output_type": "stream",
     "text": [
      "Completed processing for invoice_id: 20432740. Results saved to invoice_extraction_results_local.csv\n",
      "\n",
      "Processing invoice 1385 of 2000 (ID: 14008317)...\n",
      "Completed processing for invoice_id: 14008317. Results saved to invoice_extraction_results_local.csv\n",
      "\n",
      "Processing invoice 1386 of 2000 (ID: 19850065)...\n",
      "Completed processing for invoice_id: 19850065. Results saved to invoice_extraction_results_local.csv\n",
      "\n",
      "Processing invoice 1387 of 2000 (ID: 21032335)...\n"
     ]
    },
    {
     "name": "stderr",
     "output_type": "stream",
     "text": [
      "Processing PDF with 2 pages...\n",
      "Processing 2 image(s) with AWS Bedrock...\n",
      "Found 1 invoices\n"
     ]
    },
    {
     "name": "stdout",
     "output_type": "stream",
     "text": [
      "Completed processing for invoice_id: 21032335. Results saved to invoice_extraction_results_local.csv\n",
      "\n",
      "Processing invoice 1388 of 2000 (ID: 14186179)...\n"
     ]
    },
    {
     "name": "stderr",
     "output_type": "stream",
     "text": [
      "Processing PDF with 1 pages...\n",
      "Processing 1 image(s) with AWS Bedrock...\n",
      "Found 1 invoices\n"
     ]
    },
    {
     "name": "stdout",
     "output_type": "stream",
     "text": [
      "Completed processing for invoice_id: 14186179. Results saved to invoice_extraction_results_local.csv\n",
      "\n",
      "Processing invoice 1389 of 2000 (ID: 13828931)...\n",
      "Completed processing for invoice_id: 13828931. Results saved to invoice_extraction_results_local.csv\n",
      "\n",
      "Processing invoice 1390 of 2000 (ID: 20518966)...\n"
     ]
    },
    {
     "name": "stderr",
     "output_type": "stream",
     "text": [
      "Processing PDF with 1 pages...\n",
      "Processing 1 image(s) with AWS Bedrock...\n",
      "Found 1 invoices\n"
     ]
    },
    {
     "name": "stdout",
     "output_type": "stream",
     "text": [
      "Completed processing for invoice_id: 20518966. Results saved to invoice_extraction_results_local.csv\n",
      "\n",
      "Processing invoice 1391 of 2000 (ID: 19806656)...\n"
     ]
    },
    {
     "name": "stderr",
     "output_type": "stream",
     "text": [
      "Processing PDF with 1 pages...\n",
      "Processing 1 image(s) with AWS Bedrock...\n",
      "Found 1 invoices\n"
     ]
    },
    {
     "name": "stdout",
     "output_type": "stream",
     "text": [
      "Completed processing for invoice_id: 19806656. Results saved to invoice_extraction_results_local.csv\n",
      "\n",
      "Processing invoice 1392 of 2000 (ID: 13992135)...\n",
      "Completed processing for invoice_id: 13992135. Results saved to invoice_extraction_results_local.csv\n",
      "\n",
      "Processing invoice 1393 of 2000 (ID: 20563225)...\n",
      "Completed processing for invoice_id: 20563225. Results saved to invoice_extraction_results_local.csv\n",
      "\n",
      "Processing invoice 1394 of 2000 (ID: 14183467)...\n"
     ]
    },
    {
     "name": "stderr",
     "output_type": "stream",
     "text": [
      "Processing PDF with 2 pages...\n",
      "Processing 2 image(s) with AWS Bedrock...\n",
      "Found 1 invoices\n"
     ]
    },
    {
     "name": "stdout",
     "output_type": "stream",
     "text": [
      "Completed processing for invoice_id: 14183467. Results saved to invoice_extraction_results_local.csv\n",
      "\n",
      "Processing invoice 1395 of 2000 (ID: 13731341)...\n",
      "Completed processing for invoice_id: 13731341. Results saved to invoice_extraction_results_local.csv\n",
      "\n",
      "Processing invoice 1396 of 2000 (ID: 14396385)...\n",
      "Completed processing for invoice_id: 14396385. Results saved to invoice_extraction_results_local.csv\n",
      "\n",
      "Processing invoice 1397 of 2000 (ID: 14278167)...\n",
      "Completed processing for invoice_id: 14278167. Results saved to invoice_extraction_results_local.csv\n",
      "\n",
      "Processing invoice 1398 of 2000 (ID: 13702719)...\n",
      "Completed processing for invoice_id: 13702719. Results saved to invoice_extraction_results_local.csv\n",
      "\n",
      "Processing invoice 1399 of 2000 (ID: 13822448)...\n"
     ]
    },
    {
     "name": "stderr",
     "output_type": "stream",
     "text": [
      "Processing PDF with 4 pages...\n",
      "Processing 4 image(s) with AWS Bedrock...\n",
      "Error calling Bedrock: Expecting ',' delimiter: line 115 column 36 (char 3833)\n"
     ]
    },
    {
     "name": "stdout",
     "output_type": "stream",
     "text": [
      "Completed processing for invoice_id: 13822448. Results saved to invoice_extraction_results_local.csv\n",
      "\n",
      "Processing invoice 1400 of 2000 (ID: 13733116)...\n"
     ]
    },
    {
     "name": "stderr",
     "output_type": "stream",
     "text": [
      "Processing PDF with 1 pages...\n",
      "Processing 1 image(s) with AWS Bedrock...\n",
      "Found 1 invoices\n"
     ]
    },
    {
     "name": "stdout",
     "output_type": "stream",
     "text": [
      "Completed processing for invoice_id: 13733116. Results saved to invoice_extraction_results_local.csv\n",
      "\n",
      "Processing invoice 1401 of 2000 (ID: 14489025)...\n",
      "Completed processing for invoice_id: 14489025. Results saved to invoice_extraction_results_local.csv\n",
      "\n",
      "Processing invoice 1402 of 2000 (ID: 20293525)...\n",
      "Completed processing for invoice_id: 20293525. Results saved to invoice_extraction_results_local.csv\n",
      "\n",
      "Processing invoice 1403 of 2000 (ID: 19767253)...\n"
     ]
    },
    {
     "name": "stderr",
     "output_type": "stream",
     "text": [
      "Processing PDF with 2 pages...\n",
      "Processing 2 image(s) with AWS Bedrock...\n",
      "Found 1 invoices\n"
     ]
    },
    {
     "name": "stdout",
     "output_type": "stream",
     "text": [
      "Completed processing for invoice_id: 19767253. Results saved to invoice_extraction_results_local.csv\n",
      "\n",
      "Processing invoice 1404 of 2000 (ID: 13974252)...\n",
      "Completed processing for invoice_id: 13974252. Results saved to invoice_extraction_results_local.csv\n",
      "\n",
      "Processing invoice 1405 of 2000 (ID: 14947322)...\n"
     ]
    },
    {
     "name": "stderr",
     "output_type": "stream",
     "text": [
      "Processing PDF with 1 pages...\n",
      "Processing 1 image(s) with AWS Bedrock...\n",
      "Found 1 invoices\n"
     ]
    },
    {
     "name": "stdout",
     "output_type": "stream",
     "text": [
      "Completed processing for invoice_id: 14947322. Results saved to invoice_extraction_results_local.csv\n",
      "\n",
      "Processing invoice 1406 of 2000 (ID: 14493257)...\n",
      "Completed processing for invoice_id: 14493257. Results saved to invoice_extraction_results_local.csv\n",
      "\n",
      "Processing invoice 1407 of 2000 (ID: 14160113)...\n",
      "Completed processing for invoice_id: 14160113. Results saved to invoice_extraction_results_local.csv\n",
      "\n",
      "Processing invoice 1408 of 2000 (ID: 14088481)...\n"
     ]
    },
    {
     "name": "stderr",
     "output_type": "stream",
     "text": [
      "Processing PDF with 1 pages...\n",
      "Processing 1 image(s) with AWS Bedrock...\n",
      "Found 1 invoices\n"
     ]
    },
    {
     "name": "stdout",
     "output_type": "stream",
     "text": [
      "Completed processing for invoice_id: 14088481. Results saved to invoice_extraction_results_local.csv\n",
      "\n",
      "Processing invoice 1409 of 2000 (ID: 14368676)...\n",
      "Completed processing for invoice_id: 14368676. Results saved to invoice_extraction_results_local.csv\n",
      "\n",
      "Processing invoice 1410 of 2000 (ID: 13759832)...\n",
      "Completed processing for invoice_id: 13759832. Results saved to invoice_extraction_results_local.csv\n",
      "\n",
      "Processing invoice 1411 of 2000 (ID: 14287612)...\n"
     ]
    },
    {
     "name": "stderr",
     "output_type": "stream",
     "text": [
      "Processing PDF with 1 pages...\n",
      "Processing 1 image(s) with AWS Bedrock...\n",
      "Found 1 invoices\n"
     ]
    },
    {
     "name": "stdout",
     "output_type": "stream",
     "text": [
      "Completed processing for invoice_id: 14287612. Results saved to invoice_extraction_results_local.csv\n",
      "\n",
      "Processing invoice 1412 of 2000 (ID: 20570479)...\n"
     ]
    },
    {
     "name": "stderr",
     "output_type": "stream",
     "text": [
      "Processing PDF with 1 pages...\n",
      "Processing 1 image(s) with AWS Bedrock...\n",
      "Found 1 invoices\n"
     ]
    },
    {
     "name": "stdout",
     "output_type": "stream",
     "text": [
      "Completed processing for invoice_id: 20570479. Results saved to invoice_extraction_results_local.csv\n",
      "\n",
      "Processing invoice 1413 of 2000 (ID: 20275939)...\n"
     ]
    },
    {
     "name": "stderr",
     "output_type": "stream",
     "text": [
      "Processing PDF with 1 pages...\n",
      "Processing 1 image(s) with AWS Bedrock...\n",
      "Found 1 invoices\n"
     ]
    },
    {
     "name": "stdout",
     "output_type": "stream",
     "text": [
      "Completed processing for invoice_id: 20275939. Results saved to invoice_extraction_results_local.csv\n",
      "\n",
      "Processing invoice 1414 of 2000 (ID: 14542178)...\n",
      "Completed processing for invoice_id: 14542178. Results saved to invoice_extraction_results_local.csv\n",
      "\n",
      "Processing invoice 1415 of 2000 (ID: 13741254)...\n",
      "Completed processing for invoice_id: 13741254. Results saved to invoice_extraction_results_local.csv\n",
      "\n",
      "Processing invoice 1416 of 2000 (ID: 20980725)...\n"
     ]
    },
    {
     "name": "stderr",
     "output_type": "stream",
     "text": [
      "Processing PDF with 2 pages...\n",
      "Processing 2 image(s) with AWS Bedrock...\n",
      "Found 1 invoices\n"
     ]
    },
    {
     "name": "stdout",
     "output_type": "stream",
     "text": [
      "Completed processing for invoice_id: 20980725. Results saved to invoice_extraction_results_local.csv\n",
      "\n",
      "Processing invoice 1417 of 2000 (ID: 20968190)...\n",
      "Completed processing for invoice_id: 20968190. Results saved to invoice_extraction_results_local.csv\n",
      "\n",
      "Processing invoice 1418 of 2000 (ID: 14107633)...\n"
     ]
    },
    {
     "name": "stderr",
     "output_type": "stream",
     "text": [
      "Processing PDF with 3 pages...\n",
      "Processing 3 image(s) with AWS Bedrock...\n",
      "Found 1 invoices\n"
     ]
    },
    {
     "name": "stdout",
     "output_type": "stream",
     "text": [
      "Completed processing for invoice_id: 14107633. Results saved to invoice_extraction_results_local.csv\n",
      "\n",
      "Processing invoice 1419 of 2000 (ID: 19967642)...\n"
     ]
    },
    {
     "name": "stderr",
     "output_type": "stream",
     "text": [
      "Processing PDF with 1 pages...\n",
      "Processing 1 image(s) with AWS Bedrock...\n",
      "Found 1 invoices\n"
     ]
    },
    {
     "name": "stdout",
     "output_type": "stream",
     "text": [
      "Completed processing for invoice_id: 19967642. Results saved to invoice_extraction_results_local.csv\n",
      "\n",
      "Processing invoice 1420 of 2000 (ID: 20339053)...\n"
     ]
    },
    {
     "name": "stderr",
     "output_type": "stream",
     "text": [
      "Processing PDF with 1 pages...\n",
      "Processing 1 image(s) with AWS Bedrock...\n",
      "Found 1 invoices\n"
     ]
    },
    {
     "name": "stdout",
     "output_type": "stream",
     "text": [
      "Completed processing for invoice_id: 20339053. Results saved to invoice_extraction_results_local.csv\n",
      "\n",
      "Processing invoice 1421 of 2000 (ID: 16668160)...\n"
     ]
    },
    {
     "name": "stderr",
     "output_type": "stream",
     "text": [
      "Processing PDF with 2 pages...\n",
      "Processing 2 image(s) with AWS Bedrock...\n",
      "Found 1 invoices\n"
     ]
    },
    {
     "name": "stdout",
     "output_type": "stream",
     "text": [
      "Completed processing for invoice_id: 16668160. Results saved to invoice_extraction_results_local.csv\n",
      "\n",
      "Processing invoice 1422 of 2000 (ID: 20138667)...\n"
     ]
    },
    {
     "name": "stderr",
     "output_type": "stream",
     "text": [
      "Processing PDF with 1 pages...\n",
      "Processing 1 image(s) with AWS Bedrock...\n",
      "Found 1 invoices\n"
     ]
    },
    {
     "name": "stdout",
     "output_type": "stream",
     "text": [
      "Completed processing for invoice_id: 20138667. Results saved to invoice_extraction_results_local.csv\n",
      "\n",
      "Processing invoice 1423 of 2000 (ID: 19945380)...\n"
     ]
    },
    {
     "name": "stderr",
     "output_type": "stream",
     "text": [
      "Processing PDF with 1 pages...\n",
      "Processing 1 image(s) with AWS Bedrock...\n",
      "Found 1 invoices\n"
     ]
    },
    {
     "name": "stdout",
     "output_type": "stream",
     "text": [
      "Completed processing for invoice_id: 19945380. Results saved to invoice_extraction_results_local.csv\n",
      "\n",
      "Processing invoice 1424 of 2000 (ID: 13725170)...\n",
      "Completed processing for invoice_id: 13725170. Results saved to invoice_extraction_results_local.csv\n",
      "\n",
      "Processing invoice 1425 of 2000 (ID: 14515678)...\n",
      "Completed processing for invoice_id: 14515678. Results saved to invoice_extraction_results_local.csv\n",
      "\n",
      "Processing invoice 1426 of 2000 (ID: 14331627)...\n",
      "Completed processing for invoice_id: 14331627. Results saved to invoice_extraction_results_local.csv\n",
      "\n",
      "Processing invoice 1427 of 2000 (ID: 19389483)...\n"
     ]
    },
    {
     "name": "stderr",
     "output_type": "stream",
     "text": [
      "Processing PDF with 3 pages...\n",
      "Processing 3 image(s) with AWS Bedrock...\n",
      "Found 1 invoices\n"
     ]
    },
    {
     "name": "stdout",
     "output_type": "stream",
     "text": [
      "Completed processing for invoice_id: 19389483. Results saved to invoice_extraction_results_local.csv\n",
      "\n",
      "Processing invoice 1428 of 2000 (ID: 14454456)...\n",
      "Completed processing for invoice_id: 14454456. Results saved to invoice_extraction_results_local.csv\n",
      "\n",
      "Processing invoice 1429 of 2000 (ID: 20442393)...\n"
     ]
    },
    {
     "name": "stderr",
     "output_type": "stream",
     "text": [
      "Processing PDF with 1 pages...\n",
      "Processing 1 image(s) with AWS Bedrock...\n",
      "Found 1 invoices\n"
     ]
    },
    {
     "name": "stdout",
     "output_type": "stream",
     "text": [
      "Completed processing for invoice_id: 20442393. Results saved to invoice_extraction_results_local.csv\n",
      "\n",
      "Processing invoice 1430 of 2000 (ID: 20181204)...\n"
     ]
    },
    {
     "name": "stderr",
     "output_type": "stream",
     "text": [
      "Processing PDF with 1 pages...\n",
      "Processing 1 image(s) with AWS Bedrock...\n",
      "Found 1 invoices\n"
     ]
    },
    {
     "name": "stdout",
     "output_type": "stream",
     "text": [
      "Completed processing for invoice_id: 20181204. Results saved to invoice_extraction_results_local.csv\n",
      "\n",
      "Processing invoice 1431 of 2000 (ID: 14775117)...\n",
      "Completed processing for invoice_id: 14775117. Results saved to invoice_extraction_results_local.csv\n",
      "\n",
      "Processing invoice 1432 of 2000 (ID: 19768734)...\n"
     ]
    },
    {
     "name": "stderr",
     "output_type": "stream",
     "text": [
      "Processing PDF with 4 pages...\n",
      "Processing 4 image(s) with AWS Bedrock...\n",
      "Found 1 invoices\n"
     ]
    },
    {
     "name": "stdout",
     "output_type": "stream",
     "text": [
      "Completed processing for invoice_id: 19768734. Results saved to invoice_extraction_results_local.csv\n",
      "\n",
      "Processing invoice 1433 of 2000 (ID: 14553395)...\n",
      "Completed processing for invoice_id: 14553395. Results saved to invoice_extraction_results_local.csv\n",
      "\n",
      "Processing invoice 1434 of 2000 (ID: 14003094)...\n"
     ]
    },
    {
     "name": "stderr",
     "output_type": "stream",
     "text": [
      "Processing PDF with 1 pages...\n",
      "Processing 1 image(s) with AWS Bedrock...\n",
      "Found 1 invoices\n"
     ]
    },
    {
     "name": "stdout",
     "output_type": "stream",
     "text": [
      "Completed processing for invoice_id: 14003094. Results saved to invoice_extraction_results_local.csv\n",
      "\n",
      "Processing invoice 1435 of 2000 (ID: 14501064)...\n"
     ]
    },
    {
     "name": "stderr",
     "output_type": "stream",
     "text": [
      "Processing PDF with 2 pages...\n",
      "Processing 2 image(s) with AWS Bedrock...\n",
      "Found 1 invoices\n"
     ]
    },
    {
     "name": "stdout",
     "output_type": "stream",
     "text": [
      "Completed processing for invoice_id: 14501064. Results saved to invoice_extraction_results_local.csv\n",
      "\n",
      "Processing invoice 1436 of 2000 (ID: 20422865)...\n",
      "Completed processing for invoice_id: 20422865. Results saved to invoice_extraction_results_local.csv\n",
      "\n",
      "Processing invoice 1437 of 2000 (ID: 14841525)...\n",
      "Completed processing for invoice_id: 14841525. Results saved to invoice_extraction_results_local.csv\n",
      "\n",
      "Processing invoice 1438 of 2000 (ID: 14628214)...\n"
     ]
    },
    {
     "name": "stderr",
     "output_type": "stream",
     "text": [
      "Processing PDF with 1 pages...\n",
      "Processing 1 image(s) with AWS Bedrock...\n",
      "Found 1 invoices\n"
     ]
    },
    {
     "name": "stdout",
     "output_type": "stream",
     "text": [
      "Completed processing for invoice_id: 14628214. Results saved to invoice_extraction_results_local.csv\n",
      "\n",
      "Processing invoice 1439 of 2000 (ID: 14674880)...\n",
      "Completed processing for invoice_id: 14674880. Results saved to invoice_extraction_results_local.csv\n",
      "\n",
      "Processing invoice 1440 of 2000 (ID: 20519818)...\n"
     ]
    },
    {
     "name": "stderr",
     "output_type": "stream",
     "text": [
      "Processing PDF with 1 pages...\n",
      "Processing 1 image(s) with AWS Bedrock...\n",
      "Found 1 invoices\n"
     ]
    },
    {
     "name": "stdout",
     "output_type": "stream",
     "text": [
      "Completed processing for invoice_id: 20519818. Results saved to invoice_extraction_results_local.csv\n",
      "\n",
      "Processing invoice 1441 of 2000 (ID: 14872945)...\n"
     ]
    },
    {
     "name": "stderr",
     "output_type": "stream",
     "text": [
      "Processing PDF with 1 pages...\n",
      "Processing 1 image(s) with AWS Bedrock...\n",
      "Found 1 invoices\n"
     ]
    },
    {
     "name": "stdout",
     "output_type": "stream",
     "text": [
      "Completed processing for invoice_id: 14872945. Results saved to invoice_extraction_results_local.csv\n",
      "\n",
      "Processing invoice 1442 of 2000 (ID: 13749853)...\n"
     ]
    },
    {
     "name": "stderr",
     "output_type": "stream",
     "text": [
      "Processing PDF with 4 pages...\n",
      "Processing 4 image(s) with AWS Bedrock...\n",
      "Found 1 invoices\n"
     ]
    },
    {
     "name": "stdout",
     "output_type": "stream",
     "text": [
      "Completed processing for invoice_id: 13749853. Results saved to invoice_extraction_results_local.csv\n",
      "\n",
      "Processing invoice 1443 of 2000 (ID: 20535908)...\n",
      "Completed processing for invoice_id: 20535908. Results saved to invoice_extraction_results_local.csv\n",
      "\n",
      "Processing invoice 1444 of 2000 (ID: 20197056)...\n",
      "Completed processing for invoice_id: 20197056. Results saved to invoice_extraction_results_local.csv\n",
      "\n",
      "Processing invoice 1445 of 2000 (ID: 13727678)...\n",
      "Completed processing for invoice_id: 13727678. Results saved to invoice_extraction_results_local.csv\n",
      "\n",
      "Processing invoice 1446 of 2000 (ID: 15677588)...\n",
      "Completed processing for invoice_id: 15677588. Results saved to invoice_extraction_results_local.csv\n",
      "\n",
      "Processing invoice 1447 of 2000 (ID: 20824432)...\n"
     ]
    },
    {
     "name": "stderr",
     "output_type": "stream",
     "text": [
      "Processing PDF with 1 pages...\n",
      "Processing 1 image(s) with AWS Bedrock...\n",
      "Found 1 invoices\n"
     ]
    },
    {
     "name": "stdout",
     "output_type": "stream",
     "text": [
      "Completed processing for invoice_id: 20824432. Results saved to invoice_extraction_results_local.csv\n",
      "\n",
      "Processing invoice 1448 of 2000 (ID: 20939954)...\n"
     ]
    },
    {
     "name": "stderr",
     "output_type": "stream",
     "text": [
      "Processing PDF with 2 pages...\n",
      "Processing 2 image(s) with AWS Bedrock...\n",
      "Found 1 invoices\n"
     ]
    },
    {
     "name": "stdout",
     "output_type": "stream",
     "text": [
      "Completed processing for invoice_id: 20939954. Results saved to invoice_extraction_results_local.csv\n",
      "\n",
      "Processing invoice 1449 of 2000 (ID: 14638877)...\n"
     ]
    },
    {
     "name": "stderr",
     "output_type": "stream",
     "text": [
      "Processing PDF with 1 pages...\n",
      "Processing 1 image(s) with AWS Bedrock...\n",
      "Found 1 invoices\n"
     ]
    },
    {
     "name": "stdout",
     "output_type": "stream",
     "text": [
      "Completed processing for invoice_id: 14638877. Results saved to invoice_extraction_results_local.csv\n",
      "\n",
      "Processing invoice 1450 of 2000 (ID: 14222201)...\n"
     ]
    },
    {
     "name": "stderr",
     "output_type": "stream",
     "text": [
      "Processing PDF with 1 pages...\n",
      "Processing 1 image(s) with AWS Bedrock...\n",
      "Found 1 invoices\n"
     ]
    },
    {
     "name": "stdout",
     "output_type": "stream",
     "text": [
      "Completed processing for invoice_id: 14222201. Results saved to invoice_extraction_results_local.csv\n",
      "\n",
      "Processing invoice 1451 of 2000 (ID: 20439911)...\n",
      "Completed processing for invoice_id: 20439911. Results saved to invoice_extraction_results_local.csv\n",
      "\n",
      "Processing invoice 1452 of 2000 (ID: 14674343)...\n",
      "Completed processing for invoice_id: 14674343. Results saved to invoice_extraction_results_local.csv\n",
      "\n",
      "Processing invoice 1453 of 2000 (ID: 20182277)...\n"
     ]
    },
    {
     "name": "stderr",
     "output_type": "stream",
     "text": [
      "Processing PDF with 1 pages...\n",
      "Processing 1 image(s) with AWS Bedrock...\n",
      "Found 1 invoices\n"
     ]
    },
    {
     "name": "stdout",
     "output_type": "stream",
     "text": [
      "Completed processing for invoice_id: 20182277. Results saved to invoice_extraction_results_local.csv\n",
      "\n",
      "Processing invoice 1454 of 2000 (ID: 14653654)...\n"
     ]
    },
    {
     "name": "stderr",
     "output_type": "stream",
     "text": [
      "Processing PDF with 1 pages...\n",
      "Processing 1 image(s) with AWS Bedrock...\n",
      "Found 1 invoices\n"
     ]
    },
    {
     "name": "stdout",
     "output_type": "stream",
     "text": [
      "Completed processing for invoice_id: 14653654. Results saved to invoice_extraction_results_local.csv\n",
      "\n",
      "Processing invoice 1455 of 2000 (ID: 14110874)...\n",
      "Completed processing for invoice_id: 14110874. Results saved to invoice_extraction_results_local.csv\n",
      "\n",
      "Processing invoice 1456 of 2000 (ID: 14656597)...\n"
     ]
    },
    {
     "name": "stderr",
     "output_type": "stream",
     "text": [
      "Processing PDF with 1 pages...\n",
      "Processing 1 image(s) with AWS Bedrock...\n",
      "Found 1 invoices\n"
     ]
    },
    {
     "name": "stdout",
     "output_type": "stream",
     "text": [
      "Completed processing for invoice_id: 14656597. Results saved to invoice_extraction_results_local.csv\n",
      "\n",
      "Processing invoice 1457 of 2000 (ID: 20667968)...\n",
      "Completed processing for invoice_id: 20667968. Results saved to invoice_extraction_results_local.csv\n",
      "\n",
      "Processing invoice 1458 of 2000 (ID: 20692522)...\n"
     ]
    },
    {
     "name": "stderr",
     "output_type": "stream",
     "text": [
      "Processing PDF with 1 pages...\n",
      "Processing 1 image(s) with AWS Bedrock...\n",
      "Found 1 invoices\n"
     ]
    },
    {
     "name": "stdout",
     "output_type": "stream",
     "text": [
      "Completed processing for invoice_id: 20692522. Results saved to invoice_extraction_results_local.csv\n",
      "\n",
      "Processing invoice 1459 of 2000 (ID: 14036509)...\n"
     ]
    },
    {
     "name": "stderr",
     "output_type": "stream",
     "text": [
      "Processing PDF with 1 pages...\n",
      "Processing 1 image(s) with AWS Bedrock...\n",
      "Found 1 invoices\n"
     ]
    },
    {
     "name": "stdout",
     "output_type": "stream",
     "text": [
      "Completed processing for invoice_id: 14036509. Results saved to invoice_extraction_results_local.csv\n",
      "\n",
      "Processing invoice 1460 of 2000 (ID: 19817291)...\n",
      "Completed processing for invoice_id: 19817291. Results saved to invoice_extraction_results_local.csv\n",
      "\n",
      "Processing invoice 1461 of 2000 (ID: 20921991)...\n"
     ]
    },
    {
     "name": "stderr",
     "output_type": "stream",
     "text": [
      "Processing PDF with 1 pages...\n",
      "Processing 1 image(s) with AWS Bedrock...\n",
      "Found 1 invoices\n"
     ]
    },
    {
     "name": "stdout",
     "output_type": "stream",
     "text": [
      "Completed processing for invoice_id: 20921991. Results saved to invoice_extraction_results_local.csv\n",
      "\n",
      "Processing invoice 1462 of 2000 (ID: 20461192)...\n",
      "Completed processing for invoice_id: 20461192. Results saved to invoice_extraction_results_local.csv\n",
      "\n",
      "Processing invoice 1463 of 2000 (ID: 14660851)...\n"
     ]
    },
    {
     "name": "stderr",
     "output_type": "stream",
     "text": [
      "Processing PDF with 1 pages...\n",
      "Processing 1 image(s) with AWS Bedrock...\n",
      "Found 1 invoices\n"
     ]
    },
    {
     "name": "stdout",
     "output_type": "stream",
     "text": [
      "Completed processing for invoice_id: 14660851. Results saved to invoice_extraction_results_local.csv\n",
      "\n",
      "Processing invoice 1464 of 2000 (ID: 20543477)...\n"
     ]
    },
    {
     "name": "stderr",
     "output_type": "stream",
     "text": [
      "Processing PDF with 1 pages...\n",
      "Processing 1 image(s) with AWS Bedrock...\n",
      "Found 1 invoices\n"
     ]
    },
    {
     "name": "stdout",
     "output_type": "stream",
     "text": [
      "Completed processing for invoice_id: 20543477. Results saved to invoice_extraction_results_local.csv\n",
      "\n",
      "Processing invoice 1465 of 2000 (ID: 14812066)...\n"
     ]
    },
    {
     "name": "stderr",
     "output_type": "stream",
     "text": [
      "Processing PDF with 1 pages...\n",
      "Processing 1 image(s) with AWS Bedrock...\n",
      "Found 1 invoices\n"
     ]
    },
    {
     "name": "stdout",
     "output_type": "stream",
     "text": [
      "Completed processing for invoice_id: 14812066. Results saved to invoice_extraction_results_local.csv\n",
      "\n",
      "Processing invoice 1466 of 2000 (ID: 14141570)...\n"
     ]
    },
    {
     "name": "stderr",
     "output_type": "stream",
     "text": [
      "Processing PDF with 1 pages...\n",
      "Processing 1 image(s) with AWS Bedrock...\n",
      "Found 1 invoices\n"
     ]
    },
    {
     "name": "stdout",
     "output_type": "stream",
     "text": [
      "Completed processing for invoice_id: 14141570. Results saved to invoice_extraction_results_local.csv\n",
      "\n",
      "Processing invoice 1467 of 2000 (ID: 13929304)...\n"
     ]
    },
    {
     "name": "stderr",
     "output_type": "stream",
     "text": [
      "Processing PDF with 1 pages...\n",
      "Processing 1 image(s) with AWS Bedrock...\n",
      "Found 1 invoices\n"
     ]
    },
    {
     "name": "stdout",
     "output_type": "stream",
     "text": [
      "Completed processing for invoice_id: 13929304. Results saved to invoice_extraction_results_local.csv\n",
      "\n",
      "Processing invoice 1468 of 2000 (ID: 14691708)...\n",
      "Completed processing for invoice_id: 14691708. Results saved to invoice_extraction_results_local.csv\n",
      "\n",
      "Processing invoice 1469 of 2000 (ID: 14065676)...\n",
      "Completed processing for invoice_id: 14065676. Results saved to invoice_extraction_results_local.csv\n",
      "\n",
      "Processing invoice 1470 of 2000 (ID: 13863491)...\n"
     ]
    },
    {
     "name": "stderr",
     "output_type": "stream",
     "text": [
      "Processing PDF with 1 pages...\n",
      "Processing 1 image(s) with AWS Bedrock...\n",
      "Found 1 invoices\n"
     ]
    },
    {
     "name": "stdout",
     "output_type": "stream",
     "text": [
      "Completed processing for invoice_id: 13863491. Results saved to invoice_extraction_results_local.csv\n",
      "\n",
      "Processing invoice 1471 of 2000 (ID: 20797614)...\n"
     ]
    },
    {
     "name": "stderr",
     "output_type": "stream",
     "text": [
      "Processing PDF with 1 pages...\n",
      "Processing 1 image(s) with AWS Bedrock...\n",
      "Found 1 invoices\n"
     ]
    },
    {
     "name": "stdout",
     "output_type": "stream",
     "text": [
      "Completed processing for invoice_id: 20797614. Results saved to invoice_extraction_results_local.csv\n",
      "\n",
      "Processing invoice 1472 of 2000 (ID: 19948368)...\n"
     ]
    },
    {
     "name": "stderr",
     "output_type": "stream",
     "text": [
      "Processing PDF with 5 pages...\n",
      "Processing 5 image(s) with AWS Bedrock...\n",
      "Found 1 invoices\n"
     ]
    },
    {
     "name": "stdout",
     "output_type": "stream",
     "text": [
      "Completed processing for invoice_id: 19948368. Results saved to invoice_extraction_results_local.csv\n",
      "\n",
      "Processing invoice 1473 of 2000 (ID: 20797206)...\n"
     ]
    },
    {
     "name": "stderr",
     "output_type": "stream",
     "text": [
      "Processing PDF with 1 pages...\n",
      "Processing 1 image(s) with AWS Bedrock...\n",
      "Found 1 invoices\n"
     ]
    },
    {
     "name": "stdout",
     "output_type": "stream",
     "text": [
      "Completed processing for invoice_id: 20797206. Results saved to invoice_extraction_results_local.csv\n",
      "\n",
      "Processing invoice 1474 of 2000 (ID: 13868222)...\n"
     ]
    },
    {
     "name": "stderr",
     "output_type": "stream",
     "text": [
      "Processing PDF with 1 pages...\n",
      "Processing 1 image(s) with AWS Bedrock...\n",
      "Found 1 invoices\n"
     ]
    },
    {
     "name": "stdout",
     "output_type": "stream",
     "text": [
      "Completed processing for invoice_id: 13868222. Results saved to invoice_extraction_results_local.csv\n",
      "\n",
      "Processing invoice 1475 of 2000 (ID: 19785709)...\n"
     ]
    },
    {
     "name": "stderr",
     "output_type": "stream",
     "text": [
      "Processing PDF with 1 pages...\n",
      "Processing 1 image(s) with AWS Bedrock...\n",
      "Found 1 invoices\n"
     ]
    },
    {
     "name": "stdout",
     "output_type": "stream",
     "text": [
      "Completed processing for invoice_id: 19785709. Results saved to invoice_extraction_results_local.csv\n",
      "\n",
      "Processing invoice 1476 of 2000 (ID: 20160947)...\n"
     ]
    },
    {
     "name": "stderr",
     "output_type": "stream",
     "text": [
      "Processing PDF with 2 pages...\n",
      "Processing 2 image(s) with AWS Bedrock...\n",
      "Found 1 invoices\n"
     ]
    },
    {
     "name": "stdout",
     "output_type": "stream",
     "text": [
      "Completed processing for invoice_id: 20160947. Results saved to invoice_extraction_results_local.csv\n",
      "\n",
      "Processing invoice 1477 of 2000 (ID: 14339750)...\n",
      "Completed processing for invoice_id: 14339750. Results saved to invoice_extraction_results_local.csv\n",
      "\n",
      "Processing invoice 1478 of 2000 (ID: 14956051)...\n",
      "Completed processing for invoice_id: 14956051. Results saved to invoice_extraction_results_local.csv\n",
      "\n",
      "Processing invoice 1479 of 2000 (ID: 14771802)...\n"
     ]
    },
    {
     "name": "stderr",
     "output_type": "stream",
     "text": [
      "Processing PDF with 1 pages...\n",
      "Processing 1 image(s) with AWS Bedrock...\n",
      "Found 1 invoices\n"
     ]
    },
    {
     "name": "stdout",
     "output_type": "stream",
     "text": [
      "Completed processing for invoice_id: 14771802. Results saved to invoice_extraction_results_local.csv\n",
      "\n",
      "Processing invoice 1480 of 2000 (ID: 14011168)...\n"
     ]
    },
    {
     "name": "stderr",
     "output_type": "stream",
     "text": [
      "Processing PDF with 4 pages...\n",
      "Processing 4 image(s) with AWS Bedrock...\n",
      "Found 1 invoices\n"
     ]
    },
    {
     "name": "stdout",
     "output_type": "stream",
     "text": [
      "Completed processing for invoice_id: 14011168. Results saved to invoice_extraction_results_local.csv\n",
      "\n",
      "Processing invoice 1481 of 2000 (ID: 14195232)...\n",
      "Completed processing for invoice_id: 14195232. Results saved to invoice_extraction_results_local.csv\n",
      "\n",
      "Processing invoice 1482 of 2000 (ID: 14682952)...\n",
      "Completed processing for invoice_id: 14682952. Results saved to invoice_extraction_results_local.csv\n",
      "\n",
      "Processing invoice 1483 of 2000 (ID: 13971649)...\n",
      "Completed processing for invoice_id: 13971649. Results saved to invoice_extraction_results_local.csv\n",
      "\n",
      "Processing invoice 1484 of 2000 (ID: 14958035)...\n"
     ]
    },
    {
     "name": "stderr",
     "output_type": "stream",
     "text": [
      "Processing PDF with 1 pages...\n",
      "Processing 1 image(s) with AWS Bedrock...\n",
      "Found 1 invoices\n"
     ]
    },
    {
     "name": "stdout",
     "output_type": "stream",
     "text": [
      "Completed processing for invoice_id: 14958035. Results saved to invoice_extraction_results_local.csv\n",
      "\n",
      "Processing invoice 1485 of 2000 (ID: 20660842)...\n"
     ]
    },
    {
     "name": "stderr",
     "output_type": "stream",
     "text": [
      "Processing PDF with 1 pages...\n",
      "Processing 1 image(s) with AWS Bedrock...\n",
      "Found 1 invoices\n"
     ]
    },
    {
     "name": "stdout",
     "output_type": "stream",
     "text": [
      "Completed processing for invoice_id: 20660842. Results saved to invoice_extraction_results_local.csv\n",
      "\n",
      "Processing invoice 1486 of 2000 (ID: 13785424)...\n"
     ]
    },
    {
     "name": "stderr",
     "output_type": "stream",
     "text": [
      "Processing PDF with 2 pages...\n",
      "Processing 2 image(s) with AWS Bedrock...\n",
      "Found 1 invoices\n"
     ]
    },
    {
     "name": "stdout",
     "output_type": "stream",
     "text": [
      "Completed processing for invoice_id: 13785424. Results saved to invoice_extraction_results_local.csv\n",
      "\n",
      "Processing invoice 1487 of 2000 (ID: 14609853)...\n",
      "Completed processing for invoice_id: 14609853. Results saved to invoice_extraction_results_local.csv\n",
      "\n",
      "Processing invoice 1488 of 2000 (ID: 21257874)...\n"
     ]
    },
    {
     "name": "stderr",
     "output_type": "stream",
     "text": [
      "Processing PDF with 1 pages...\n",
      "Processing 1 image(s) with AWS Bedrock...\n",
      "Found 1 invoices\n"
     ]
    },
    {
     "name": "stdout",
     "output_type": "stream",
     "text": [
      "Completed processing for invoice_id: 21257874. Results saved to invoice_extraction_results_local.csv\n",
      "\n",
      "Processing invoice 1489 of 2000 (ID: 20011725)...\n"
     ]
    },
    {
     "name": "stderr",
     "output_type": "stream",
     "text": [
      "Processing PDF with 1 pages...\n",
      "Processing 1 image(s) with AWS Bedrock...\n",
      "Found 1 invoices\n"
     ]
    },
    {
     "name": "stdout",
     "output_type": "stream",
     "text": [
      "Completed processing for invoice_id: 20011725. Results saved to invoice_extraction_results_local.csv\n",
      "\n",
      "Processing invoice 1490 of 2000 (ID: 13972285)...\n",
      "Completed processing for invoice_id: 13972285. Results saved to invoice_extraction_results_local.csv\n",
      "\n",
      "Processing invoice 1491 of 2000 (ID: 13977203)...\n",
      "Completed processing for invoice_id: 13977203. Results saved to invoice_extraction_results_local.csv\n",
      "\n",
      "Processing invoice 1492 of 2000 (ID: 16213016)...\n",
      "Completed processing for invoice_id: 16213016. Results saved to invoice_extraction_results_local.csv\n",
      "\n",
      "Processing invoice 1493 of 2000 (ID: 14485435)...\n",
      "Completed processing for invoice_id: 14485435. Results saved to invoice_extraction_results_local.csv\n",
      "\n",
      "Processing invoice 1494 of 2000 (ID: 20105599)...\n",
      "Completed processing for invoice_id: 20105599. Results saved to invoice_extraction_results_local.csv\n",
      "\n",
      "Processing invoice 1495 of 2000 (ID: 20713239)...\n"
     ]
    },
    {
     "name": "stderr",
     "output_type": "stream",
     "text": [
      "Processing PDF with 1 pages...\n",
      "Processing 1 image(s) with AWS Bedrock...\n",
      "Found 1 invoices\n"
     ]
    },
    {
     "name": "stdout",
     "output_type": "stream",
     "text": [
      "Completed processing for invoice_id: 20713239. Results saved to invoice_extraction_results_local.csv\n",
      "\n",
      "Processing invoice 1496 of 2000 (ID: 14432654)...\n",
      "Completed processing for invoice_id: 14432654. Results saved to invoice_extraction_results_local.csv\n",
      "\n",
      "Processing invoice 1497 of 2000 (ID: 14332817)...\n"
     ]
    },
    {
     "name": "stderr",
     "output_type": "stream",
     "text": [
      "Processing PDF with 1 pages...\n",
      "Processing 1 image(s) with AWS Bedrock...\n",
      "Found 1 invoices\n"
     ]
    },
    {
     "name": "stdout",
     "output_type": "stream",
     "text": [
      "Completed processing for invoice_id: 14332817. Results saved to invoice_extraction_results_local.csv\n",
      "\n",
      "Processing invoice 1498 of 2000 (ID: 19822212)...\n"
     ]
    },
    {
     "name": "stderr",
     "output_type": "stream",
     "text": [
      "Processing PDF with 1 pages...\n",
      "Processing 1 image(s) with AWS Bedrock...\n",
      "Found 1 invoices\n"
     ]
    },
    {
     "name": "stdout",
     "output_type": "stream",
     "text": [
      "Completed processing for invoice_id: 19822212. Results saved to invoice_extraction_results_local.csv\n",
      "\n",
      "Processing invoice 1499 of 2000 (ID: 14280481)...\n",
      "Completed processing for invoice_id: 14280481. Results saved to invoice_extraction_results_local.csv\n",
      "\n",
      "Processing invoice 1500 of 2000 (ID: 20339082)...\n"
     ]
    },
    {
     "name": "stderr",
     "output_type": "stream",
     "text": [
      "Processing PDF with 2 pages...\n",
      "Processing 2 image(s) with AWS Bedrock...\n",
      "Found 1 invoices\n"
     ]
    },
    {
     "name": "stdout",
     "output_type": "stream",
     "text": [
      "Completed processing for invoice_id: 20339082. Results saved to invoice_extraction_results_local.csv\n",
      "\n",
      "Processing invoice 1501 of 2000 (ID: 20762286)...\n"
     ]
    },
    {
     "name": "stderr",
     "output_type": "stream",
     "text": [
      "Processing PDF with 2 pages...\n",
      "Processing 2 image(s) with AWS Bedrock...\n",
      "Found 1 invoices\n"
     ]
    },
    {
     "name": "stdout",
     "output_type": "stream",
     "text": [
      "Completed processing for invoice_id: 20762286. Results saved to invoice_extraction_results_local.csv\n",
      "\n",
      "Processing invoice 1502 of 2000 (ID: 13810324)...\n",
      "Completed processing for invoice_id: 13810324. Results saved to invoice_extraction_results_local.csv\n",
      "\n",
      "Processing invoice 1503 of 2000 (ID: 21000901)...\n",
      "Completed processing for invoice_id: 21000901. Results saved to invoice_extraction_results_local.csv\n",
      "\n",
      "Processing invoice 1504 of 2000 (ID: 14632778)...\n",
      "Completed processing for invoice_id: 14632778. Results saved to invoice_extraction_results_local.csv\n",
      "\n",
      "Processing invoice 1505 of 2000 (ID: 14852152)...\n",
      "Completed processing for invoice_id: 14852152. Results saved to invoice_extraction_results_local.csv\n",
      "\n",
      "Processing invoice 1506 of 2000 (ID: 13812890)...\n",
      "Completed processing for invoice_id: 13812890. Results saved to invoice_extraction_results_local.csv\n",
      "\n",
      "Processing invoice 1507 of 2000 (ID: 21140542)...\n"
     ]
    },
    {
     "name": "stderr",
     "output_type": "stream",
     "text": [
      "Processing PDF with 2 pages...\n",
      "Processing 2 image(s) with AWS Bedrock...\n",
      "Found 1 invoices\n"
     ]
    },
    {
     "name": "stdout",
     "output_type": "stream",
     "text": [
      "Completed processing for invoice_id: 21140542. Results saved to invoice_extraction_results_local.csv\n",
      "\n",
      "Processing invoice 1508 of 2000 (ID: 14480632)...\n"
     ]
    },
    {
     "name": "stderr",
     "output_type": "stream",
     "text": [
      "Processing PDF with 1 pages...\n",
      "Processing 1 image(s) with AWS Bedrock...\n",
      "Found 1 invoices\n"
     ]
    },
    {
     "name": "stdout",
     "output_type": "stream",
     "text": [
      "Completed processing for invoice_id: 14480632. Results saved to invoice_extraction_results_local.csv\n",
      "\n",
      "Processing invoice 1509 of 2000 (ID: 14791305)...\n"
     ]
    },
    {
     "name": "stderr",
     "output_type": "stream",
     "text": [
      "Processing PDF with 1 pages...\n",
      "Processing 1 image(s) with AWS Bedrock...\n",
      "Found 1 invoices\n"
     ]
    },
    {
     "name": "stdout",
     "output_type": "stream",
     "text": [
      "Completed processing for invoice_id: 14791305. Results saved to invoice_extraction_results_local.csv\n",
      "\n",
      "Processing invoice 1510 of 2000 (ID: 13872107)...\n"
     ]
    },
    {
     "name": "stderr",
     "output_type": "stream",
     "text": [
      "Processing PDF with 86 pages...\n",
      "Processing 86 image(s) with AWS Bedrock...\n",
      "Error calling Bedrock: An error occurred (ValidationException) when calling the InvokeModel operation: too many images and documents: 86 + 0 > 20\n"
     ]
    },
    {
     "name": "stdout",
     "output_type": "stream",
     "text": [
      "Completed processing for invoice_id: 13872107. Results saved to invoice_extraction_results_local.csv\n",
      "\n",
      "Processing invoice 1511 of 2000 (ID: 14624446)...\n"
     ]
    },
    {
     "name": "stderr",
     "output_type": "stream",
     "text": [
      "Processing PDF with 1 pages...\n",
      "Processing 1 image(s) with AWS Bedrock...\n",
      "Found 1 invoices\n"
     ]
    },
    {
     "name": "stdout",
     "output_type": "stream",
     "text": [
      "Completed processing for invoice_id: 14624446. Results saved to invoice_extraction_results_local.csv\n",
      "\n",
      "Processing invoice 1512 of 2000 (ID: 19808935)...\n"
     ]
    },
    {
     "name": "stderr",
     "output_type": "stream",
     "text": [
      "Processing PDF with 1 pages...\n",
      "Processing 1 image(s) with AWS Bedrock...\n",
      "Found 1 invoices\n"
     ]
    },
    {
     "name": "stdout",
     "output_type": "stream",
     "text": [
      "Completed processing for invoice_id: 19808935. Results saved to invoice_extraction_results_local.csv\n",
      "\n",
      "Processing invoice 1513 of 2000 (ID: 14747238)...\n"
     ]
    },
    {
     "name": "stderr",
     "output_type": "stream",
     "text": [
      "Processing PDF with 1 pages...\n",
      "Processing 1 image(s) with AWS Bedrock...\n",
      "Found 1 invoices\n"
     ]
    },
    {
     "name": "stdout",
     "output_type": "stream",
     "text": [
      "Completed processing for invoice_id: 14747238. Results saved to invoice_extraction_results_local.csv\n",
      "\n",
      "Processing invoice 1514 of 2000 (ID: 13836485)...\n"
     ]
    },
    {
     "name": "stderr",
     "output_type": "stream",
     "text": [
      "Processing PDF with 2 pages...\n",
      "Processing 2 image(s) with AWS Bedrock...\n",
      "Found 1 invoices\n"
     ]
    },
    {
     "name": "stdout",
     "output_type": "stream",
     "text": [
      "Completed processing for invoice_id: 13836485. Results saved to invoice_extraction_results_local.csv\n",
      "\n",
      "Processing invoice 1515 of 2000 (ID: 20084324)...\n"
     ]
    },
    {
     "name": "stderr",
     "output_type": "stream",
     "text": [
      "Processing PDF with 1 pages...\n",
      "Processing 1 image(s) with AWS Bedrock...\n",
      "Found 1 invoices\n"
     ]
    },
    {
     "name": "stdout",
     "output_type": "stream",
     "text": [
      "Completed processing for invoice_id: 20084324. Results saved to invoice_extraction_results_local.csv\n",
      "\n",
      "Processing invoice 1516 of 2000 (ID: 14244736)...\n"
     ]
    },
    {
     "name": "stderr",
     "output_type": "stream",
     "text": [
      "Processing PDF with 2 pages...\n",
      "Processing 2 image(s) with AWS Bedrock...\n",
      "Found 1 invoices\n"
     ]
    },
    {
     "name": "stdout",
     "output_type": "stream",
     "text": [
      "Completed processing for invoice_id: 14244736. Results saved to invoice_extraction_results_local.csv\n",
      "\n",
      "Processing invoice 1517 of 2000 (ID: 14189666)...\n",
      "Completed processing for invoice_id: 14189666. Results saved to invoice_extraction_results_local.csv\n",
      "\n",
      "Processing invoice 1518 of 2000 (ID: 20821950)...\n",
      "Completed processing for invoice_id: 20821950. Results saved to invoice_extraction_results_local.csv\n",
      "\n",
      "Processing invoice 1519 of 2000 (ID: 13705822)...\n",
      "Completed processing for invoice_id: 13705822. Results saved to invoice_extraction_results_local.csv\n",
      "\n",
      "Processing invoice 1520 of 2000 (ID: 14475534)...\n"
     ]
    },
    {
     "name": "stderr",
     "output_type": "stream",
     "text": [
      "Processing PDF with 1 pages...\n",
      "Processing 1 image(s) with AWS Bedrock...\n",
      "Found 1 invoices\n"
     ]
    },
    {
     "name": "stdout",
     "output_type": "stream",
     "text": [
      "Completed processing for invoice_id: 14475534. Results saved to invoice_extraction_results_local.csv\n",
      "\n",
      "Processing invoice 1521 of 2000 (ID: 14962258)...\n"
     ]
    },
    {
     "name": "stderr",
     "output_type": "stream",
     "text": [
      "Processing PDF with 2 pages...\n",
      "Processing 2 image(s) with AWS Bedrock...\n",
      "Found 1 invoices\n"
     ]
    },
    {
     "name": "stdout",
     "output_type": "stream",
     "text": [
      "Completed processing for invoice_id: 14962258. Results saved to invoice_extraction_results_local.csv\n",
      "\n",
      "Processing invoice 1522 of 2000 (ID: 13863438)...\n"
     ]
    },
    {
     "name": "stderr",
     "output_type": "stream",
     "text": [
      "Processing PDF with 1 pages...\n",
      "Processing 1 image(s) with AWS Bedrock...\n",
      "Found 1 invoices\n"
     ]
    },
    {
     "name": "stdout",
     "output_type": "stream",
     "text": [
      "Completed processing for invoice_id: 13863438. Results saved to invoice_extraction_results_local.csv\n",
      "\n",
      "Processing invoice 1523 of 2000 (ID: 20242911)...\n"
     ]
    },
    {
     "name": "stderr",
     "output_type": "stream",
     "text": [
      "Processing PDF with 3 pages...\n",
      "Processing 3 image(s) with AWS Bedrock...\n",
      "Error calling Bedrock: Unterminated string starting at: line 94 column 36 (char 3456)\n"
     ]
    },
    {
     "name": "stdout",
     "output_type": "stream",
     "text": [
      "Completed processing for invoice_id: 20242911. Results saved to invoice_extraction_results_local.csv\n",
      "\n",
      "Processing invoice 1524 of 2000 (ID: 21273270)...\n"
     ]
    },
    {
     "name": "stderr",
     "output_type": "stream",
     "text": [
      "Processing PDF with 1 pages...\n",
      "Processing 1 image(s) with AWS Bedrock...\n",
      "Found 1 invoices\n"
     ]
    },
    {
     "name": "stdout",
     "output_type": "stream",
     "text": [
      "Completed processing for invoice_id: 21273270. Results saved to invoice_extraction_results_local.csv\n",
      "\n",
      "Processing invoice 1525 of 2000 (ID: 19961087)...\n"
     ]
    },
    {
     "name": "stderr",
     "output_type": "stream",
     "text": [
      "Processing PDF with 1 pages...\n",
      "Processing 1 image(s) with AWS Bedrock...\n",
      "Found 1 invoices\n"
     ]
    },
    {
     "name": "stdout",
     "output_type": "stream",
     "text": [
      "Completed processing for invoice_id: 19961087. Results saved to invoice_extraction_results_local.csv\n",
      "\n",
      "Processing invoice 1526 of 2000 (ID: 14251800)...\n"
     ]
    },
    {
     "name": "stderr",
     "output_type": "stream",
     "text": [
      "Processing PDF with 2 pages...\n",
      "Processing 2 image(s) with AWS Bedrock...\n",
      "Found 1 invoices\n"
     ]
    },
    {
     "name": "stdout",
     "output_type": "stream",
     "text": [
      "Completed processing for invoice_id: 14251800. Results saved to invoice_extraction_results_local.csv\n",
      "\n",
      "Processing invoice 1527 of 2000 (ID: 14949547)...\n"
     ]
    },
    {
     "name": "stderr",
     "output_type": "stream",
     "text": [
      "Processing PDF with 1 pages...\n",
      "Processing 1 image(s) with AWS Bedrock...\n",
      "Found 1 invoices\n"
     ]
    },
    {
     "name": "stdout",
     "output_type": "stream",
     "text": [
      "Completed processing for invoice_id: 14949547. Results saved to invoice_extraction_results_local.csv\n",
      "\n",
      "Processing invoice 1528 of 2000 (ID: 14086776)...\n",
      "Completed processing for invoice_id: 14086776. Results saved to invoice_extraction_results_local.csv\n",
      "\n",
      "Processing invoice 1529 of 2000 (ID: 14326371)...\n"
     ]
    },
    {
     "name": "stderr",
     "output_type": "stream",
     "text": [
      "Processing PDF with 1 pages...\n",
      "Processing 1 image(s) with AWS Bedrock...\n",
      "Found 1 invoices\n"
     ]
    },
    {
     "name": "stdout",
     "output_type": "stream",
     "text": [
      "Completed processing for invoice_id: 14326371. Results saved to invoice_extraction_results_local.csv\n",
      "\n",
      "Processing invoice 1530 of 2000 (ID: 20145713)...\n"
     ]
    },
    {
     "name": "stderr",
     "output_type": "stream",
     "text": [
      "Processing PDF with 1 pages...\n",
      "Processing 1 image(s) with AWS Bedrock...\n",
      "Found 1 invoices\n"
     ]
    },
    {
     "name": "stdout",
     "output_type": "stream",
     "text": [
      "Completed processing for invoice_id: 20145713. Results saved to invoice_extraction_results_local.csv\n",
      "\n",
      "Processing invoice 1531 of 2000 (ID: 14941563)...\n",
      "Completed processing for invoice_id: 14941563. Results saved to invoice_extraction_results_local.csv\n",
      "\n",
      "Processing invoice 1532 of 2000 (ID: 13627166)...\n"
     ]
    },
    {
     "name": "stderr",
     "output_type": "stream",
     "text": [
      "Processing PDF with 1 pages...\n",
      "Processing 1 image(s) with AWS Bedrock...\n",
      "Found 1 invoices\n"
     ]
    },
    {
     "name": "stdout",
     "output_type": "stream",
     "text": [
      "Completed processing for invoice_id: 13627166. Results saved to invoice_extraction_results_local.csv\n",
      "\n",
      "Processing invoice 1533 of 2000 (ID: 20823831)...\n",
      "Completed processing for invoice_id: 20823831. Results saved to invoice_extraction_results_local.csv\n",
      "\n",
      "Processing invoice 1534 of 2000 (ID: 13670999)...\n",
      "Completed processing for invoice_id: 13670999. Results saved to invoice_extraction_results_local.csv\n",
      "\n",
      "Processing invoice 1535 of 2000 (ID: 14486098)...\n"
     ]
    },
    {
     "name": "stderr",
     "output_type": "stream",
     "text": [
      "Processing PDF with 1 pages...\n",
      "Processing 1 image(s) with AWS Bedrock...\n",
      "Found 1 invoices\n"
     ]
    },
    {
     "name": "stdout",
     "output_type": "stream",
     "text": [
      "Completed processing for invoice_id: 14486098. Results saved to invoice_extraction_results_local.csv\n",
      "\n",
      "Processing invoice 1536 of 2000 (ID: 13935044)...\n",
      "Completed processing for invoice_id: 13935044. Results saved to invoice_extraction_results_local.csv\n",
      "\n",
      "Processing invoice 1537 of 2000 (ID: 20137179)...\n",
      "Completed processing for invoice_id: 20137179. Results saved to invoice_extraction_results_local.csv\n",
      "\n",
      "Processing invoice 1538 of 2000 (ID: 14173716)...\n",
      "Completed processing for invoice_id: 14173716. Results saved to invoice_extraction_results_local.csv\n",
      "\n",
      "Processing invoice 1539 of 2000 (ID: 13958274)...\n"
     ]
    },
    {
     "name": "stderr",
     "output_type": "stream",
     "text": [
      "Processing PDF with 1 pages...\n",
      "Processing 1 image(s) with AWS Bedrock...\n",
      "Found 1 invoices\n"
     ]
    },
    {
     "name": "stdout",
     "output_type": "stream",
     "text": [
      "Completed processing for invoice_id: 13958274. Results saved to invoice_extraction_results_local.csv\n",
      "\n",
      "Processing invoice 1540 of 2000 (ID: 20039393)...\n",
      "Completed processing for invoice_id: 20039393. Results saved to invoice_extraction_results_local.csv\n",
      "\n",
      "Processing invoice 1541 of 2000 (ID: 14079137)...\n"
     ]
    },
    {
     "name": "stderr",
     "output_type": "stream",
     "text": [
      "Processing PDF with 1 pages...\n",
      "Processing 1 image(s) with AWS Bedrock...\n",
      "Found 1 invoices\n"
     ]
    },
    {
     "name": "stdout",
     "output_type": "stream",
     "text": [
      "Completed processing for invoice_id: 14079137. Results saved to invoice_extraction_results_local.csv\n",
      "\n",
      "Processing invoice 1542 of 2000 (ID: 14224480)...\n"
     ]
    },
    {
     "name": "stderr",
     "output_type": "stream",
     "text": [
      "Processing PDF with 1 pages...\n",
      "Processing 1 image(s) with AWS Bedrock...\n",
      "Found 1 invoices\n"
     ]
    },
    {
     "name": "stdout",
     "output_type": "stream",
     "text": [
      "Completed processing for invoice_id: 14224480. Results saved to invoice_extraction_results_local.csv\n",
      "\n",
      "Processing invoice 1543 of 2000 (ID: 21259774)...\n",
      "Completed processing for invoice_id: 21259774. Results saved to invoice_extraction_results_local.csv\n",
      "\n",
      "Processing invoice 1544 of 2000 (ID: 20876267)...\n"
     ]
    },
    {
     "name": "stderr",
     "output_type": "stream",
     "text": [
      "Processing PDF with 2 pages...\n",
      "Processing 2 image(s) with AWS Bedrock...\n",
      "Found 1 invoices\n"
     ]
    },
    {
     "name": "stdout",
     "output_type": "stream",
     "text": [
      "Completed processing for invoice_id: 20876267. Results saved to invoice_extraction_results_local.csv\n",
      "\n",
      "Processing invoice 1545 of 2000 (ID: 13668947)...\n",
      "Completed processing for invoice_id: 13668947. Results saved to invoice_extraction_results_local.csv\n",
      "\n",
      "Processing invoice 1546 of 2000 (ID: 21212019)...\n"
     ]
    },
    {
     "name": "stderr",
     "output_type": "stream",
     "text": [
      "Processing PDF with 1 pages...\n",
      "Processing 1 image(s) with AWS Bedrock...\n",
      "Found 1 invoices\n"
     ]
    },
    {
     "name": "stdout",
     "output_type": "stream",
     "text": [
      "Completed processing for invoice_id: 21212019. Results saved to invoice_extraction_results_local.csv\n",
      "\n",
      "Processing invoice 1547 of 2000 (ID: 20549877)...\n",
      "Completed processing for invoice_id: 20549877. Results saved to invoice_extraction_results_local.csv\n",
      "\n",
      "Processing invoice 1548 of 2000 (ID: 14777322)...\n"
     ]
    },
    {
     "name": "stderr",
     "output_type": "stream",
     "text": [
      "Processing PDF with 1 pages...\n",
      "Processing 1 image(s) with AWS Bedrock...\n",
      "Found 1 invoices\n"
     ]
    },
    {
     "name": "stdout",
     "output_type": "stream",
     "text": [
      "Completed processing for invoice_id: 14777322. Results saved to invoice_extraction_results_local.csv\n",
      "\n",
      "Processing invoice 1549 of 2000 (ID: 21286959)...\n",
      "Completed processing for invoice_id: 21286959. Results saved to invoice_extraction_results_local.csv\n",
      "\n",
      "Processing invoice 1550 of 2000 (ID: 20128075)...\n"
     ]
    },
    {
     "name": "stderr",
     "output_type": "stream",
     "text": [
      "Processing PDF with 1 pages...\n",
      "Processing 1 image(s) with AWS Bedrock...\n",
      "Found 1 invoices\n"
     ]
    },
    {
     "name": "stdout",
     "output_type": "stream",
     "text": [
      "Completed processing for invoice_id: 20128075. Results saved to invoice_extraction_results_local.csv\n",
      "\n",
      "Processing invoice 1551 of 2000 (ID: 13970933)...\n",
      "Completed processing for invoice_id: 13970933. Results saved to invoice_extraction_results_local.csv\n",
      "\n",
      "Processing invoice 1552 of 2000 (ID: 14854523)...\n",
      "Completed processing for invoice_id: 14854523. Results saved to invoice_extraction_results_local.csv\n",
      "\n",
      "Processing invoice 1553 of 2000 (ID: 20375283)...\n",
      "Completed processing for invoice_id: 20375283. Results saved to invoice_extraction_results_local.csv\n",
      "\n",
      "Processing invoice 1554 of 2000 (ID: 14492270)...\n"
     ]
    },
    {
     "name": "stderr",
     "output_type": "stream",
     "text": [
      "Processing PDF with 1 pages...\n",
      "Processing 1 image(s) with AWS Bedrock...\n",
      "Found 1 invoices\n"
     ]
    },
    {
     "name": "stdout",
     "output_type": "stream",
     "text": [
      "Completed processing for invoice_id: 14492270. Results saved to invoice_extraction_results_local.csv\n",
      "\n",
      "Processing invoice 1555 of 2000 (ID: 14129735)...\n",
      "Completed processing for invoice_id: 14129735. Results saved to invoice_extraction_results_local.csv\n",
      "\n",
      "Processing invoice 1556 of 2000 (ID: 14747790)...\n"
     ]
    },
    {
     "name": "stderr",
     "output_type": "stream",
     "text": [
      "Processing PDF with 1 pages...\n",
      "Processing 1 image(s) with AWS Bedrock...\n",
      "Found 1 invoices\n"
     ]
    },
    {
     "name": "stdout",
     "output_type": "stream",
     "text": [
      "Completed processing for invoice_id: 14747790. Results saved to invoice_extraction_results_local.csv\n",
      "\n",
      "Processing invoice 1557 of 2000 (ID: 20387469)...\n"
     ]
    },
    {
     "name": "stderr",
     "output_type": "stream",
     "text": [
      "Processing PDF with 1 pages...\n",
      "Processing 1 image(s) with AWS Bedrock...\n",
      "Found 1 invoices\n"
     ]
    },
    {
     "name": "stdout",
     "output_type": "stream",
     "text": [
      "Completed processing for invoice_id: 20387469. Results saved to invoice_extraction_results_local.csv\n",
      "\n",
      "Processing invoice 1558 of 2000 (ID: 20941132)...\n",
      "Completed processing for invoice_id: 20941132. Results saved to invoice_extraction_results_local.csv\n",
      "\n",
      "Processing invoice 1559 of 2000 (ID: 20121419)...\n"
     ]
    },
    {
     "name": "stderr",
     "output_type": "stream",
     "text": [
      "Processing PDF with 4 pages...\n",
      "Processing 4 image(s) with AWS Bedrock...\n",
      "Found 1 invoices\n"
     ]
    },
    {
     "name": "stdout",
     "output_type": "stream",
     "text": [
      "Completed processing for invoice_id: 20121419. Results saved to invoice_extraction_results_local.csv\n",
      "\n",
      "Processing invoice 1560 of 2000 (ID: 20651437)...\n",
      "Completed processing for invoice_id: 20651437. Results saved to invoice_extraction_results_local.csv\n",
      "\n",
      "Processing invoice 1561 of 2000 (ID: 14907813)...\n",
      "Completed processing for invoice_id: 14907813. Results saved to invoice_extraction_results_local.csv\n",
      "\n",
      "Processing invoice 1562 of 2000 (ID: 14606015)...\n",
      "Completed processing for invoice_id: 14606015. Results saved to invoice_extraction_results_local.csv\n",
      "\n",
      "Processing invoice 1563 of 2000 (ID: 13683327)...\n",
      "Completed processing for invoice_id: 13683327. Results saved to invoice_extraction_results_local.csv\n",
      "\n",
      "Processing invoice 1564 of 2000 (ID: 13718174)...\n",
      "Completed processing for invoice_id: 13718174. Results saved to invoice_extraction_results_local.csv\n",
      "\n",
      "Processing invoice 1565 of 2000 (ID: 20997251)...\n"
     ]
    },
    {
     "name": "stderr",
     "output_type": "stream",
     "text": [
      "Processing PDF with 2 pages...\n",
      "Processing 2 image(s) with AWS Bedrock...\n",
      "Found 1 invoices\n"
     ]
    },
    {
     "name": "stdout",
     "output_type": "stream",
     "text": [
      "Completed processing for invoice_id: 20997251. Results saved to invoice_extraction_results_local.csv\n",
      "\n",
      "Processing invoice 1566 of 2000 (ID: 21159151)...\n"
     ]
    },
    {
     "name": "stderr",
     "output_type": "stream",
     "text": [
      "Processing PDF with 1 pages...\n",
      "Processing 1 image(s) with AWS Bedrock...\n",
      "Found 1 invoices\n"
     ]
    },
    {
     "name": "stdout",
     "output_type": "stream",
     "text": [
      "Completed processing for invoice_id: 21159151. Results saved to invoice_extraction_results_local.csv\n",
      "\n",
      "Processing invoice 1567 of 2000 (ID: 14015690)...\n",
      "Completed processing for invoice_id: 14015690. Results saved to invoice_extraction_results_local.csv\n",
      "\n",
      "Processing invoice 1568 of 2000 (ID: 20090597)...\n"
     ]
    },
    {
     "name": "stderr",
     "output_type": "stream",
     "text": [
      "Processing PDF with 2 pages...\n",
      "Processing 2 image(s) with AWS Bedrock...\n",
      "Found 1 invoices\n"
     ]
    },
    {
     "name": "stdout",
     "output_type": "stream",
     "text": [
      "Completed processing for invoice_id: 20090597. Results saved to invoice_extraction_results_local.csv\n",
      "\n",
      "Processing invoice 1569 of 2000 (ID: 19878472)...\n",
      "Completed processing for invoice_id: 19878472. Results saved to invoice_extraction_results_local.csv\n",
      "\n",
      "Processing invoice 1570 of 2000 (ID: 21141521)...\n",
      "Completed processing for invoice_id: 21141521. Results saved to invoice_extraction_results_local.csv\n",
      "\n",
      "Processing invoice 1571 of 2000 (ID: 14738796)...\n"
     ]
    },
    {
     "name": "stderr",
     "output_type": "stream",
     "text": [
      "Processing PDF with 1 pages...\n",
      "Processing 1 image(s) with AWS Bedrock...\n",
      "Found 1 invoices\n"
     ]
    },
    {
     "name": "stdout",
     "output_type": "stream",
     "text": [
      "Completed processing for invoice_id: 14738796. Results saved to invoice_extraction_results_local.csv\n",
      "\n",
      "Processing invoice 1572 of 2000 (ID: 19794342)...\n"
     ]
    },
    {
     "name": "stderr",
     "output_type": "stream",
     "text": [
      "Processing PDF with 1 pages...\n",
      "Processing 1 image(s) with AWS Bedrock...\n",
      "Found 1 invoices\n"
     ]
    },
    {
     "name": "stdout",
     "output_type": "stream",
     "text": [
      "Completed processing for invoice_id: 19794342. Results saved to invoice_extraction_results_local.csv\n",
      "\n",
      "Processing invoice 1573 of 2000 (ID: 20293739)...\n",
      "Completed processing for invoice_id: 20293739. Results saved to invoice_extraction_results_local.csv\n",
      "\n",
      "Processing invoice 1574 of 2000 (ID: 21147525)...\n",
      "Completed processing for invoice_id: 21147525. Results saved to invoice_extraction_results_local.csv\n",
      "\n",
      "Processing invoice 1575 of 2000 (ID: 14475991)...\n",
      "Completed processing for invoice_id: 14475991. Results saved to invoice_extraction_results_local.csv\n",
      "\n",
      "Processing invoice 1576 of 2000 (ID: 20031150)...\n"
     ]
    },
    {
     "name": "stderr",
     "output_type": "stream",
     "text": [
      "Processing PDF with 1 pages...\n",
      "Processing 1 image(s) with AWS Bedrock...\n",
      "Found 1 invoices\n"
     ]
    },
    {
     "name": "stdout",
     "output_type": "stream",
     "text": [
      "Completed processing for invoice_id: 20031150. Results saved to invoice_extraction_results_local.csv\n",
      "\n",
      "Processing invoice 1577 of 2000 (ID: 19806667)...\n"
     ]
    },
    {
     "name": "stderr",
     "output_type": "stream",
     "text": [
      "Processing PDF with 1 pages...\n",
      "Processing 1 image(s) with AWS Bedrock...\n",
      "Found 1 invoices\n"
     ]
    },
    {
     "name": "stdout",
     "output_type": "stream",
     "text": [
      "Completed processing for invoice_id: 19806667. Results saved to invoice_extraction_results_local.csv\n",
      "\n",
      "Processing invoice 1578 of 2000 (ID: 20745860)...\n"
     ]
    },
    {
     "name": "stderr",
     "output_type": "stream",
     "text": [
      "Processing PDF with 1 pages...\n",
      "Processing 1 image(s) with AWS Bedrock...\n",
      "Found 1 invoices\n"
     ]
    },
    {
     "name": "stdout",
     "output_type": "stream",
     "text": [
      "Completed processing for invoice_id: 20745860. Results saved to invoice_extraction_results_local.csv\n",
      "\n",
      "Processing invoice 1579 of 2000 (ID: 13634293)...\n",
      "Completed processing for invoice_id: 13634293. Results saved to invoice_extraction_results_local.csv\n",
      "\n",
      "Processing invoice 1580 of 2000 (ID: 19857706)...\n",
      "Completed processing for invoice_id: 19857706. Results saved to invoice_extraction_results_local.csv\n",
      "\n",
      "Processing invoice 1581 of 2000 (ID: 21213410)...\n"
     ]
    },
    {
     "name": "stderr",
     "output_type": "stream",
     "text": [
      "Processing PDF with 1 pages...\n",
      "Processing 1 image(s) with AWS Bedrock...\n",
      "Found 1 invoices\n"
     ]
    },
    {
     "name": "stdout",
     "output_type": "stream",
     "text": [
      "Completed processing for invoice_id: 21213410. Results saved to invoice_extraction_results_local.csv\n",
      "\n",
      "Processing invoice 1582 of 2000 (ID: 13669168)...\n",
      "Completed processing for invoice_id: 13669168. Results saved to invoice_extraction_results_local.csv\n",
      "\n",
      "Processing invoice 1583 of 2000 (ID: 14370398)...\n"
     ]
    },
    {
     "name": "stderr",
     "output_type": "stream",
     "text": [
      "Processing PDF with 2 pages...\n",
      "Processing 2 image(s) with AWS Bedrock...\n",
      "Found 1 invoices\n"
     ]
    },
    {
     "name": "stdout",
     "output_type": "stream",
     "text": [
      "Completed processing for invoice_id: 14370398. Results saved to invoice_extraction_results_local.csv\n",
      "\n",
      "Processing invoice 1584 of 2000 (ID: 21113249)...\n"
     ]
    },
    {
     "name": "stderr",
     "output_type": "stream",
     "text": [
      "Processing PDF with 1 pages...\n",
      "Processing 1 image(s) with AWS Bedrock...\n",
      "Error calling Bedrock: Expecting ',' delimiter: line 101 column 35 (char 3352)\n"
     ]
    },
    {
     "name": "stdout",
     "output_type": "stream",
     "text": [
      "Completed processing for invoice_id: 21113249. Results saved to invoice_extraction_results_local.csv\n",
      "\n",
      "Processing invoice 1585 of 2000 (ID: 20611558)...\n",
      "Completed processing for invoice_id: 20611558. Results saved to invoice_extraction_results_local.csv\n",
      "\n",
      "Processing invoice 1586 of 2000 (ID: 14865135)...\n",
      "Completed processing for invoice_id: 14865135. Results saved to invoice_extraction_results_local.csv\n",
      "\n",
      "Processing invoice 1587 of 2000 (ID: 20133301)...\n",
      "Completed processing for invoice_id: 20133301. Results saved to invoice_extraction_results_local.csv\n",
      "\n",
      "Processing invoice 1588 of 2000 (ID: 14630975)...\n"
     ]
    },
    {
     "name": "stderr",
     "output_type": "stream",
     "text": [
      "Processing PDF with 1 pages...\n",
      "Processing 1 image(s) with AWS Bedrock...\n",
      "Found 1 invoices\n"
     ]
    },
    {
     "name": "stdout",
     "output_type": "stream",
     "text": [
      "Completed processing for invoice_id: 14630975. Results saved to invoice_extraction_results_local.csv\n",
      "\n",
      "Processing invoice 1589 of 2000 (ID: 14945789)...\n"
     ]
    },
    {
     "name": "stderr",
     "output_type": "stream",
     "text": [
      "Processing PDF with 1 pages...\n",
      "Processing 1 image(s) with AWS Bedrock...\n",
      "Found 1 invoices\n"
     ]
    },
    {
     "name": "stdout",
     "output_type": "stream",
     "text": [
      "Completed processing for invoice_id: 14945789. Results saved to invoice_extraction_results_local.csv\n",
      "\n",
      "Processing invoice 1590 of 2000 (ID: 20420994)...\n"
     ]
    },
    {
     "name": "stderr",
     "output_type": "stream",
     "text": [
      "Processing PDF with 2 pages...\n",
      "Processing 2 image(s) with AWS Bedrock...\n",
      "Found 1 invoices\n"
     ]
    },
    {
     "name": "stdout",
     "output_type": "stream",
     "text": [
      "Completed processing for invoice_id: 20420994. Results saved to invoice_extraction_results_local.csv\n",
      "\n",
      "Processing invoice 1591 of 2000 (ID: 20411346)...\n",
      "Completed processing for invoice_id: 20411346. Results saved to invoice_extraction_results_local.csv\n",
      "\n",
      "Processing invoice 1592 of 2000 (ID: 13900593)...\n"
     ]
    },
    {
     "name": "stderr",
     "output_type": "stream",
     "text": [
      "Processing PDF with 1 pages...\n",
      "Processing 1 image(s) with AWS Bedrock...\n",
      "Found 1 invoices\n"
     ]
    },
    {
     "name": "stdout",
     "output_type": "stream",
     "text": [
      "Completed processing for invoice_id: 13900593. Results saved to invoice_extraction_results_local.csv\n",
      "\n",
      "Processing invoice 1593 of 2000 (ID: 14223380)...\n",
      "Completed processing for invoice_id: 14223380. Results saved to invoice_extraction_results_local.csv\n",
      "\n",
      "Processing invoice 1594 of 2000 (ID: 20411314)...\n",
      "Completed processing for invoice_id: 20411314. Results saved to invoice_extraction_results_local.csv\n",
      "\n",
      "Processing invoice 1595 of 2000 (ID: 13956289)...\n",
      "Completed processing for invoice_id: 13956289. Results saved to invoice_extraction_results_local.csv\n",
      "\n",
      "Processing invoice 1596 of 2000 (ID: 14451006)...\n",
      "Completed processing for invoice_id: 14451006. Results saved to invoice_extraction_results_local.csv\n",
      "\n",
      "Processing invoice 1597 of 2000 (ID: 15628157)...\n"
     ]
    },
    {
     "name": "stderr",
     "output_type": "stream",
     "text": [
      "Processing PDF with 2 pages...\n",
      "Processing 2 image(s) with AWS Bedrock...\n",
      "Found 1 invoices\n"
     ]
    },
    {
     "name": "stdout",
     "output_type": "stream",
     "text": [
      "Completed processing for invoice_id: 15628157. Results saved to invoice_extraction_results_local.csv\n",
      "\n",
      "Processing invoice 1598 of 2000 (ID: 14799076)...\n",
      "Completed processing for invoice_id: 14799076. Results saved to invoice_extraction_results_local.csv\n",
      "\n",
      "Processing invoice 1599 of 2000 (ID: 14133894)...\n"
     ]
    },
    {
     "name": "stderr",
     "output_type": "stream",
     "text": [
      "Processing PDF with 2 pages...\n",
      "Processing 2 image(s) with AWS Bedrock...\n",
      "Found 1 invoices\n"
     ]
    },
    {
     "name": "stdout",
     "output_type": "stream",
     "text": [
      "Completed processing for invoice_id: 14133894. Results saved to invoice_extraction_results_local.csv\n",
      "\n",
      "Processing invoice 1600 of 2000 (ID: 21029216)...\n",
      "Completed processing for invoice_id: 21029216. Results saved to invoice_extraction_results_local.csv\n",
      "\n",
      "Processing invoice 1601 of 2000 (ID: 14763721)...\n",
      "Completed processing for invoice_id: 14763721. Results saved to invoice_extraction_results_local.csv\n",
      "\n",
      "Processing invoice 1602 of 2000 (ID: 14217323)...\n",
      "Completed processing for invoice_id: 14217323. Results saved to invoice_extraction_results_local.csv\n",
      "\n",
      "Processing invoice 1603 of 2000 (ID: 14553836)...\n"
     ]
    },
    {
     "name": "stderr",
     "output_type": "stream",
     "text": [
      "Processing PDF with 1 pages...\n",
      "Processing 1 image(s) with AWS Bedrock...\n",
      "Found 1 invoices\n"
     ]
    },
    {
     "name": "stdout",
     "output_type": "stream",
     "text": [
      "Completed processing for invoice_id: 14553836. Results saved to invoice_extraction_results_local.csv\n",
      "\n",
      "Processing invoice 1604 of 2000 (ID: 20573226)...\n",
      "Completed processing for invoice_id: 20573226. Results saved to invoice_extraction_results_local.csv\n",
      "\n",
      "Processing invoice 1605 of 2000 (ID: 14152922)...\n"
     ]
    },
    {
     "name": "stderr",
     "output_type": "stream",
     "text": [
      "Processing PDF with 7 pages...\n",
      "Processing 7 image(s) with AWS Bedrock...\n",
      "Found 1 invoices\n"
     ]
    },
    {
     "name": "stdout",
     "output_type": "stream",
     "text": [
      "Completed processing for invoice_id: 14152922. Results saved to invoice_extraction_results_local.csv\n",
      "\n",
      "Processing invoice 1606 of 2000 (ID: 14066885)...\n",
      "Completed processing for invoice_id: 14066885. Results saved to invoice_extraction_results_local.csv\n",
      "\n",
      "Processing invoice 1607 of 2000 (ID: 14478511)...\n",
      "Completed processing for invoice_id: 14478511. Results saved to invoice_extraction_results_local.csv\n",
      "\n",
      "Processing invoice 1608 of 2000 (ID: 19867427)...\n"
     ]
    },
    {
     "name": "stderr",
     "output_type": "stream",
     "text": [
      "Processing PDF with 1 pages...\n",
      "Processing 1 image(s) with AWS Bedrock...\n",
      "Found 1 invoices\n"
     ]
    },
    {
     "name": "stdout",
     "output_type": "stream",
     "text": [
      "Completed processing for invoice_id: 19867427. Results saved to invoice_extraction_results_local.csv\n",
      "\n",
      "Processing invoice 1609 of 2000 (ID: 20276694)...\n",
      "Completed processing for invoice_id: 20276694. Results saved to invoice_extraction_results_local.csv\n",
      "\n",
      "Processing invoice 1610 of 2000 (ID: 14099548)...\n",
      "Completed processing for invoice_id: 14099548. Results saved to invoice_extraction_results_local.csv\n",
      "\n",
      "Processing invoice 1611 of 2000 (ID: 20234565)...\n",
      "Completed processing for invoice_id: 20234565. Results saved to invoice_extraction_results_local.csv\n",
      "\n",
      "Processing invoice 1612 of 2000 (ID: 14049291)...\n",
      "Completed processing for invoice_id: 14049291. Results saved to invoice_extraction_results_local.csv\n",
      "\n",
      "Processing invoice 1613 of 2000 (ID: 19809615)...\n",
      "Completed processing for invoice_id: 19809615. Results saved to invoice_extraction_results_local.csv\n",
      "\n",
      "Processing invoice 1614 of 2000 (ID: 14475346)...\n"
     ]
    },
    {
     "name": "stderr",
     "output_type": "stream",
     "text": [
      "Processing PDF with 1 pages...\n",
      "Processing 1 image(s) with AWS Bedrock...\n",
      "Found 1 invoices\n"
     ]
    },
    {
     "name": "stdout",
     "output_type": "stream",
     "text": [
      "Completed processing for invoice_id: 14475346. Results saved to invoice_extraction_results_local.csv\n",
      "\n",
      "Processing invoice 1615 of 2000 (ID: 14905953)...\n",
      "Completed processing for invoice_id: 14905953. Results saved to invoice_extraction_results_local.csv\n",
      "\n",
      "Processing invoice 1616 of 2000 (ID: 14203507)...\n"
     ]
    },
    {
     "name": "stderr",
     "output_type": "stream",
     "text": [
      "Processing PDF with 1 pages...\n",
      "Processing 1 image(s) with AWS Bedrock...\n",
      "Found 1 invoices\n"
     ]
    },
    {
     "name": "stdout",
     "output_type": "stream",
     "text": [
      "Completed processing for invoice_id: 14203507. Results saved to invoice_extraction_results_local.csv\n",
      "\n",
      "Processing invoice 1617 of 2000 (ID: 14013997)...\n"
     ]
    },
    {
     "name": "stderr",
     "output_type": "stream",
     "text": [
      "Processing PDF with 16 pages...\n",
      "Processing 16 image(s) with AWS Bedrock...\n",
      "Found 1 invoices\n"
     ]
    },
    {
     "name": "stdout",
     "output_type": "stream",
     "text": [
      "Completed processing for invoice_id: 14013997. Results saved to invoice_extraction_results_local.csv\n",
      "\n",
      "Processing invoice 1618 of 2000 (ID: 13973169)...\n"
     ]
    },
    {
     "name": "stderr",
     "output_type": "stream",
     "text": [
      "Processing PDF with 1 pages...\n",
      "Processing 1 image(s) with AWS Bedrock...\n",
      "Found 1 invoices\n"
     ]
    },
    {
     "name": "stdout",
     "output_type": "stream",
     "text": [
      "Completed processing for invoice_id: 13973169. Results saved to invoice_extraction_results_local.csv\n",
      "\n",
      "Processing invoice 1619 of 2000 (ID: 19781665)...\n"
     ]
    },
    {
     "name": "stderr",
     "output_type": "stream",
     "text": [
      "Processing PDF with 1 pages...\n",
      "Processing 1 image(s) with AWS Bedrock...\n",
      "Found 1 invoices\n"
     ]
    },
    {
     "name": "stdout",
     "output_type": "stream",
     "text": [
      "Completed processing for invoice_id: 19781665. Results saved to invoice_extraction_results_local.csv\n",
      "\n",
      "Processing invoice 1620 of 2000 (ID: 13791790)...\n",
      "Completed processing for invoice_id: 13791790. Results saved to invoice_extraction_results_local.csv\n",
      "\n",
      "Processing invoice 1621 of 2000 (ID: 19949747)...\n"
     ]
    },
    {
     "name": "stderr",
     "output_type": "stream",
     "text": [
      "Processing PDF with 1 pages...\n",
      "Processing 1 image(s) with AWS Bedrock...\n",
      "Found 1 invoices\n"
     ]
    },
    {
     "name": "stdout",
     "output_type": "stream",
     "text": [
      "Completed processing for invoice_id: 19949747. Results saved to invoice_extraction_results_local.csv\n",
      "\n",
      "Processing invoice 1622 of 2000 (ID: 20549770)...\n",
      "Completed processing for invoice_id: 20549770. Results saved to invoice_extraction_results_local.csv\n",
      "\n",
      "Processing invoice 1623 of 2000 (ID: 20593435)...\n",
      "Completed processing for invoice_id: 20593435. Results saved to invoice_extraction_results_local.csv\n",
      "\n",
      "Processing invoice 1624 of 2000 (ID: 20428997)...\n"
     ]
    },
    {
     "name": "stderr",
     "output_type": "stream",
     "text": [
      "Processing PDF with 1 pages...\n",
      "Processing 1 image(s) with AWS Bedrock...\n",
      "Found 1 invoices\n"
     ]
    },
    {
     "name": "stdout",
     "output_type": "stream",
     "text": [
      "Completed processing for invoice_id: 20428997. Results saved to invoice_extraction_results_local.csv\n",
      "\n",
      "Processing invoice 1625 of 2000 (ID: 14691081)...\n",
      "Completed processing for invoice_id: 14691081. Results saved to invoice_extraction_results_local.csv\n",
      "\n",
      "Processing invoice 1626 of 2000 (ID: 14450003)...\n"
     ]
    },
    {
     "name": "stderr",
     "output_type": "stream",
     "text": [
      "Processing PDF with 1 pages...\n",
      "Processing 1 image(s) with AWS Bedrock...\n",
      "Found 1 invoices\n"
     ]
    },
    {
     "name": "stdout",
     "output_type": "stream",
     "text": [
      "Completed processing for invoice_id: 14450003. Results saved to invoice_extraction_results_local.csv\n",
      "\n",
      "Processing invoice 1627 of 2000 (ID: 14557671)...\n",
      "Completed processing for invoice_id: 14557671. Results saved to invoice_extraction_results_local.csv\n",
      "\n",
      "Processing invoice 1628 of 2000 (ID: 21269927)...\n",
      "Completed processing for invoice_id: 21269927. Results saved to invoice_extraction_results_local.csv\n",
      "\n",
      "Processing invoice 1629 of 2000 (ID: 15573745)...\n",
      "Completed processing for invoice_id: 15573745. Results saved to invoice_extraction_results_local.csv\n",
      "\n",
      "Processing invoice 1630 of 2000 (ID: 14698166)...\n"
     ]
    },
    {
     "name": "stderr",
     "output_type": "stream",
     "text": [
      "Processing PDF with 1 pages...\n",
      "Processing 1 image(s) with AWS Bedrock...\n",
      "Found 1 invoices\n"
     ]
    },
    {
     "name": "stdout",
     "output_type": "stream",
     "text": [
      "Completed processing for invoice_id: 14698166. Results saved to invoice_extraction_results_local.csv\n",
      "\n",
      "Processing invoice 1631 of 2000 (ID: 21257138)...\n",
      "Completed processing for invoice_id: 21257138. Results saved to invoice_extraction_results_local.csv\n",
      "\n",
      "Processing invoice 1632 of 2000 (ID: 14806643)...\n",
      "Completed processing for invoice_id: 14806643. Results saved to invoice_extraction_results_local.csv\n",
      "\n",
      "Processing invoice 1633 of 2000 (ID: 20226634)...\n"
     ]
    },
    {
     "name": "stderr",
     "output_type": "stream",
     "text": [
      "Processing PDF with 1 pages...\n",
      "Processing 1 image(s) with AWS Bedrock...\n",
      "Found 1 invoices\n"
     ]
    },
    {
     "name": "stdout",
     "output_type": "stream",
     "text": [
      "Completed processing for invoice_id: 20226634. Results saved to invoice_extraction_results_local.csv\n",
      "\n",
      "Processing invoice 1634 of 2000 (ID: 14684837)...\n",
      "Completed processing for invoice_id: 14684837. Results saved to invoice_extraction_results_local.csv\n",
      "\n",
      "Processing invoice 1635 of 2000 (ID: 14516108)...\n"
     ]
    },
    {
     "name": "stderr",
     "output_type": "stream",
     "text": [
      "Processing PDF with 4 pages...\n",
      "Processing 4 image(s) with AWS Bedrock...\n",
      "Found 1 invoices\n"
     ]
    },
    {
     "name": "stdout",
     "output_type": "stream",
     "text": [
      "Completed processing for invoice_id: 14516108. Results saved to invoice_extraction_results_local.csv\n",
      "\n",
      "Processing invoice 1636 of 2000 (ID: 20156489)...\n",
      "Completed processing for invoice_id: 20156489. Results saved to invoice_extraction_results_local.csv\n",
      "\n",
      "Processing invoice 1637 of 2000 (ID: 19874061)...\n"
     ]
    },
    {
     "name": "stderr",
     "output_type": "stream",
     "text": [
      "Processing PDF with 1 pages...\n",
      "Processing 1 image(s) with AWS Bedrock...\n",
      "Found 1 invoices\n"
     ]
    },
    {
     "name": "stdout",
     "output_type": "stream",
     "text": [
      "Completed processing for invoice_id: 19874061. Results saved to invoice_extraction_results_local.csv\n",
      "\n",
      "Processing invoice 1638 of 2000 (ID: 19845952)...\n"
     ]
    },
    {
     "name": "stderr",
     "output_type": "stream",
     "text": [
      "Processing PDF with 1 pages...\n",
      "Processing 1 image(s) with AWS Bedrock...\n",
      "Found 1 invoices\n"
     ]
    },
    {
     "name": "stdout",
     "output_type": "stream",
     "text": [
      "Completed processing for invoice_id: 19845952. Results saved to invoice_extraction_results_local.csv\n",
      "\n",
      "Processing invoice 1639 of 2000 (ID: 20865937)...\n",
      "Completed processing for invoice_id: 20865937. Results saved to invoice_extraction_results_local.csv\n",
      "\n",
      "Processing invoice 1640 of 2000 (ID: 14852288)...\n",
      "Completed processing for invoice_id: 14852288. Results saved to invoice_extraction_results_local.csv\n",
      "\n",
      "Processing invoice 1641 of 2000 (ID: 20933013)...\n"
     ]
    },
    {
     "name": "stderr",
     "output_type": "stream",
     "text": [
      "Processing PDF with 4 pages...\n",
      "Processing 4 image(s) with AWS Bedrock...\n",
      "Found 1 invoices\n"
     ]
    },
    {
     "name": "stdout",
     "output_type": "stream",
     "text": [
      "Completed processing for invoice_id: 20933013. Results saved to invoice_extraction_results_local.csv\n",
      "\n",
      "Processing invoice 1642 of 2000 (ID: 19903381)...\n"
     ]
    },
    {
     "name": "stderr",
     "output_type": "stream",
     "text": [
      "Processing PDF with 1 pages...\n",
      "Processing 1 image(s) with AWS Bedrock...\n",
      "Found 1 invoices\n"
     ]
    },
    {
     "name": "stdout",
     "output_type": "stream",
     "text": [
      "Completed processing for invoice_id: 19903381. Results saved to invoice_extraction_results_local.csv\n",
      "\n",
      "Processing invoice 1643 of 2000 (ID: 20999307)...\n"
     ]
    },
    {
     "name": "stderr",
     "output_type": "stream",
     "text": [
      "Processing PDF with 1 pages...\n",
      "Processing 1 image(s) with AWS Bedrock...\n",
      "Found 1 invoices\n"
     ]
    },
    {
     "name": "stdout",
     "output_type": "stream",
     "text": [
      "Completed processing for invoice_id: 20999307. Results saved to invoice_extraction_results_local.csv\n",
      "\n",
      "Processing invoice 1644 of 2000 (ID: 21104689)...\n"
     ]
    },
    {
     "name": "stderr",
     "output_type": "stream",
     "text": [
      "Processing PDF with 1 pages...\n",
      "Processing 1 image(s) with AWS Bedrock...\n",
      "Found 1 invoices\n"
     ]
    },
    {
     "name": "stdout",
     "output_type": "stream",
     "text": [
      "Completed processing for invoice_id: 21104689. Results saved to invoice_extraction_results_local.csv\n",
      "\n",
      "Processing invoice 1645 of 2000 (ID: 20148198)...\n",
      "Completed processing for invoice_id: 20148198. Results saved to invoice_extraction_results_local.csv\n",
      "\n",
      "Processing invoice 1646 of 2000 (ID: 14184506)...\n",
      "Completed processing for invoice_id: 14184506. Results saved to invoice_extraction_results_local.csv\n",
      "\n",
      "Processing invoice 1647 of 2000 (ID: 20823193)...\n",
      "Completed processing for invoice_id: 20823193. Results saved to invoice_extraction_results_local.csv\n",
      "\n",
      "Processing invoice 1648 of 2000 (ID: 20101994)...\n",
      "Completed processing for invoice_id: 20101994. Results saved to invoice_extraction_results_local.csv\n",
      "\n",
      "Processing invoice 1649 of 2000 (ID: 20794832)...\n"
     ]
    },
    {
     "name": "stderr",
     "output_type": "stream",
     "text": [
      "Processing PDF with 1 pages...\n",
      "Processing 1 image(s) with AWS Bedrock...\n",
      "Found 1 invoices\n"
     ]
    },
    {
     "name": "stdout",
     "output_type": "stream",
     "text": [
      "Completed processing for invoice_id: 20794832. Results saved to invoice_extraction_results_local.csv\n",
      "\n",
      "Processing invoice 1650 of 2000 (ID: 20545820)...\n"
     ]
    },
    {
     "name": "stderr",
     "output_type": "stream",
     "text": [
      "Processing PDF with 1 pages...\n",
      "Processing 1 image(s) with AWS Bedrock...\n",
      "Found 1 invoices\n"
     ]
    },
    {
     "name": "stdout",
     "output_type": "stream",
     "text": [
      "Completed processing for invoice_id: 20545820. Results saved to invoice_extraction_results_local.csv\n",
      "\n",
      "Processing invoice 1651 of 2000 (ID: 20879861)...\n"
     ]
    },
    {
     "name": "stderr",
     "output_type": "stream",
     "text": [
      "Processing PDF with 1 pages...\n",
      "Processing 1 image(s) with AWS Bedrock...\n",
      "Found 1 invoices\n"
     ]
    },
    {
     "name": "stdout",
     "output_type": "stream",
     "text": [
      "Completed processing for invoice_id: 20879861. Results saved to invoice_extraction_results_local.csv\n",
      "\n",
      "Processing invoice 1652 of 2000 (ID: 14585926)...\n"
     ]
    },
    {
     "name": "stderr",
     "output_type": "stream",
     "text": [
      "Processing PDF with 1 pages...\n",
      "Processing 1 image(s) with AWS Bedrock...\n",
      "Found 1 invoices\n"
     ]
    },
    {
     "name": "stdout",
     "output_type": "stream",
     "text": [
      "Completed processing for invoice_id: 14585926. Results saved to invoice_extraction_results_local.csv\n",
      "\n",
      "Processing invoice 1653 of 2000 (ID: 20202545)...\n"
     ]
    },
    {
     "name": "stderr",
     "output_type": "stream",
     "text": [
      "Processing PDF with 13 pages...\n",
      "Processing 13 image(s) with AWS Bedrock...\n",
      "Found 1 invoices\n"
     ]
    },
    {
     "name": "stdout",
     "output_type": "stream",
     "text": [
      "Completed processing for invoice_id: 20202545. Results saved to invoice_extraction_results_local.csv\n",
      "\n",
      "Processing invoice 1654 of 2000 (ID: 20061255)...\n"
     ]
    },
    {
     "name": "stderr",
     "output_type": "stream",
     "text": [
      "Processing PDF with 4 pages...\n",
      "Processing 4 image(s) with AWS Bedrock...\n",
      "Found 1 invoices\n"
     ]
    },
    {
     "name": "stdout",
     "output_type": "stream",
     "text": [
      "Completed processing for invoice_id: 20061255. Results saved to invoice_extraction_results_local.csv\n",
      "\n",
      "Processing invoice 1655 of 2000 (ID: 20069836)...\n"
     ]
    },
    {
     "name": "stderr",
     "output_type": "stream",
     "text": [
      "Processing PDF with 1 pages...\n",
      "Processing 1 image(s) with AWS Bedrock...\n",
      "Found 1 invoices\n"
     ]
    },
    {
     "name": "stdout",
     "output_type": "stream",
     "text": [
      "Completed processing for invoice_id: 20069836. Results saved to invoice_extraction_results_local.csv\n",
      "\n",
      "Processing invoice 1656 of 2000 (ID: 20275815)...\n",
      "Completed processing for invoice_id: 20275815. Results saved to invoice_extraction_results_local.csv\n",
      "\n",
      "Processing invoice 1657 of 2000 (ID: 14680384)...\n",
      "Completed processing for invoice_id: 14680384. Results saved to invoice_extraction_results_local.csv\n",
      "\n",
      "Processing invoice 1658 of 2000 (ID: 14337463)...\n"
     ]
    },
    {
     "name": "stderr",
     "output_type": "stream",
     "text": [
      "Processing PDF with 1 pages...\n",
      "Processing 1 image(s) with AWS Bedrock...\n",
      "Found 1 invoices\n"
     ]
    },
    {
     "name": "stdout",
     "output_type": "stream",
     "text": [
      "Completed processing for invoice_id: 14337463. Results saved to invoice_extraction_results_local.csv\n",
      "\n",
      "Processing invoice 1659 of 2000 (ID: 20676781)...\n",
      "Completed processing for invoice_id: 20676781. Results saved to invoice_extraction_results_local.csv\n",
      "\n",
      "Processing invoice 1660 of 2000 (ID: 19841661)...\n",
      "Completed processing for invoice_id: 19841661. Results saved to invoice_extraction_results_local.csv\n",
      "\n",
      "Processing invoice 1661 of 2000 (ID: 20259760)...\n",
      "Completed processing for invoice_id: 20259760. Results saved to invoice_extraction_results_local.csv\n",
      "\n",
      "Processing invoice 1662 of 2000 (ID: 20608908)...\n"
     ]
    },
    {
     "name": "stderr",
     "output_type": "stream",
     "text": [
      "Processing PDF with 3 pages...\n",
      "Processing 3 image(s) with AWS Bedrock...\n",
      "Error calling Bedrock: Expecting value: line 124 column 28 (char 3646)\n"
     ]
    },
    {
     "name": "stdout",
     "output_type": "stream",
     "text": [
      "Completed processing for invoice_id: 20608908. Results saved to invoice_extraction_results_local.csv\n",
      "\n",
      "Processing invoice 1663 of 2000 (ID: 14532344)...\n"
     ]
    },
    {
     "name": "stderr",
     "output_type": "stream",
     "text": [
      "Processing PDF with 1 pages...\n",
      "Processing 1 image(s) with AWS Bedrock...\n",
      "Found 1 invoices\n"
     ]
    },
    {
     "name": "stdout",
     "output_type": "stream",
     "text": [
      "Completed processing for invoice_id: 14532344. Results saved to invoice_extraction_results_local.csv\n",
      "\n",
      "Processing invoice 1664 of 2000 (ID: 20232293)...\n",
      "Completed processing for invoice_id: 20232293. Results saved to invoice_extraction_results_local.csv\n",
      "\n",
      "Processing invoice 1665 of 2000 (ID: 14552148)...\n"
     ]
    },
    {
     "name": "stderr",
     "output_type": "stream",
     "text": [
      "Processing PDF with 1 pages...\n",
      "Processing 1 image(s) with AWS Bedrock...\n",
      "Found 1 invoices\n"
     ]
    },
    {
     "name": "stdout",
     "output_type": "stream",
     "text": [
      "Completed processing for invoice_id: 14552148. Results saved to invoice_extraction_results_local.csv\n",
      "\n",
      "Processing invoice 1666 of 2000 (ID: 21155139)...\n",
      "Completed processing for invoice_id: 21155139. Results saved to invoice_extraction_results_local.csv\n",
      "\n",
      "Processing invoice 1667 of 2000 (ID: 14715559)...\n",
      "Completed processing for invoice_id: 14715559. Results saved to invoice_extraction_results_local.csv\n",
      "\n",
      "Processing invoice 1668 of 2000 (ID: 20365962)...\n",
      "Completed processing for invoice_id: 20365962. Results saved to invoice_extraction_results_local.csv\n",
      "\n",
      "Processing invoice 1669 of 2000 (ID: 16699797)...\n"
     ]
    },
    {
     "name": "stderr",
     "output_type": "stream",
     "text": [
      "Processing PDF with 1 pages...\n",
      "Processing 1 image(s) with AWS Bedrock...\n",
      "Found 1 invoices\n"
     ]
    },
    {
     "name": "stdout",
     "output_type": "stream",
     "text": [
      "Completed processing for invoice_id: 16699797. Results saved to invoice_extraction_results_local.csv\n",
      "\n",
      "Processing invoice 1670 of 2000 (ID: 20220634)...\n"
     ]
    },
    {
     "name": "stderr",
     "output_type": "stream",
     "text": [
      "Processing PDF with 13 pages...\n",
      "Processing 13 image(s) with AWS Bedrock...\n",
      "Error calling Bedrock: Expecting ',' delimiter: line 107 column 34 (char 3693)\n"
     ]
    },
    {
     "name": "stdout",
     "output_type": "stream",
     "text": [
      "Completed processing for invoice_id: 20220634. Results saved to invoice_extraction_results_local.csv\n",
      "\n",
      "Processing invoice 1671 of 2000 (ID: 14102780)...\n",
      "Completed processing for invoice_id: 14102780. Results saved to invoice_extraction_results_local.csv\n",
      "\n",
      "Processing invoice 1672 of 2000 (ID: 14361405)...\n"
     ]
    },
    {
     "name": "stderr",
     "output_type": "stream",
     "text": [
      "Processing PDF with 1 pages...\n",
      "Processing 1 image(s) with AWS Bedrock...\n",
      "Found 1 invoices\n"
     ]
    },
    {
     "name": "stdout",
     "output_type": "stream",
     "text": [
      "Completed processing for invoice_id: 14361405. Results saved to invoice_extraction_results_local.csv\n",
      "\n",
      "Processing invoice 1673 of 2000 (ID: 20781211)...\n"
     ]
    },
    {
     "name": "stderr",
     "output_type": "stream",
     "text": [
      "Processing PDF with 1 pages...\n",
      "Processing 1 image(s) with AWS Bedrock...\n",
      "Found 1 invoices\n"
     ]
    },
    {
     "name": "stdout",
     "output_type": "stream",
     "text": [
      "Completed processing for invoice_id: 20781211. Results saved to invoice_extraction_results_local.csv\n",
      "\n",
      "Processing invoice 1674 of 2000 (ID: 19934248)...\n",
      "Completed processing for invoice_id: 19934248. Results saved to invoice_extraction_results_local.csv\n",
      "\n",
      "Processing invoice 1675 of 2000 (ID: 13992564)...\n",
      "Completed processing for invoice_id: 13992564. Results saved to invoice_extraction_results_local.csv\n",
      "\n",
      "Processing invoice 1676 of 2000 (ID: 20417396)...\n"
     ]
    },
    {
     "name": "stderr",
     "output_type": "stream",
     "text": [
      "Processing PDF with 1 pages...\n",
      "Processing 1 image(s) with AWS Bedrock...\n",
      "Found 1 invoices\n"
     ]
    },
    {
     "name": "stdout",
     "output_type": "stream",
     "text": [
      "Completed processing for invoice_id: 20417396. Results saved to invoice_extraction_results_local.csv\n",
      "\n",
      "Processing invoice 1677 of 2000 (ID: 20991780)...\n"
     ]
    },
    {
     "name": "stderr",
     "output_type": "stream",
     "text": [
      "Processing PDF with 1 pages...\n",
      "Processing 1 image(s) with AWS Bedrock...\n",
      "Found 1 invoices\n"
     ]
    },
    {
     "name": "stdout",
     "output_type": "stream",
     "text": [
      "Completed processing for invoice_id: 20991780. Results saved to invoice_extraction_results_local.csv\n",
      "\n",
      "Processing invoice 1678 of 2000 (ID: 13919914)...\n",
      "Completed processing for invoice_id: 13919914. Results saved to invoice_extraction_results_local.csv\n",
      "\n",
      "Processing invoice 1679 of 2000 (ID: 20038634)...\n"
     ]
    },
    {
     "name": "stderr",
     "output_type": "stream",
     "text": [
      "Processing PDF with 2 pages...\n",
      "Processing 2 image(s) with AWS Bedrock...\n",
      "Found 1 invoices\n"
     ]
    },
    {
     "name": "stdout",
     "output_type": "stream",
     "text": [
      "Completed processing for invoice_id: 20038634. Results saved to invoice_extraction_results_local.csv\n",
      "\n",
      "Processing invoice 1680 of 2000 (ID: 20118793)...\n"
     ]
    },
    {
     "name": "stderr",
     "output_type": "stream",
     "text": [
      "Processing PDF with 1 pages...\n",
      "Processing 1 image(s) with AWS Bedrock...\n",
      "Found 1 invoices\n"
     ]
    },
    {
     "name": "stdout",
     "output_type": "stream",
     "text": [
      "Completed processing for invoice_id: 20118793. Results saved to invoice_extraction_results_local.csv\n",
      "\n",
      "Processing invoice 1681 of 2000 (ID: 14010552)...\n"
     ]
    },
    {
     "name": "stderr",
     "output_type": "stream",
     "text": [
      "Processing PDF with 1 pages...\n",
      "Processing 1 image(s) with AWS Bedrock...\n",
      "Found 1 invoices\n"
     ]
    },
    {
     "name": "stdout",
     "output_type": "stream",
     "text": [
      "Completed processing for invoice_id: 14010552. Results saved to invoice_extraction_results_local.csv\n",
      "\n",
      "Processing invoice 1682 of 2000 (ID: 20293099)...\n"
     ]
    },
    {
     "name": "stderr",
     "output_type": "stream",
     "text": [
      "Processing PDF with 1 pages...\n",
      "Processing 1 image(s) with AWS Bedrock...\n",
      "Found 1 invoices\n"
     ]
    },
    {
     "name": "stdout",
     "output_type": "stream",
     "text": [
      "Completed processing for invoice_id: 20293099. Results saved to invoice_extraction_results_local.csv\n",
      "\n",
      "Processing invoice 1683 of 2000 (ID: 20388103)...\n",
      "Completed processing for invoice_id: 20388103. Results saved to invoice_extraction_results_local.csv\n",
      "\n",
      "Processing invoice 1684 of 2000 (ID: 14532661)...\n"
     ]
    },
    {
     "name": "stderr",
     "output_type": "stream",
     "text": [
      "Processing PDF with 1 pages...\n",
      "Processing 1 image(s) with AWS Bedrock...\n",
      "Found 1 invoices\n"
     ]
    },
    {
     "name": "stdout",
     "output_type": "stream",
     "text": [
      "Completed processing for invoice_id: 14532661. Results saved to invoice_extraction_results_local.csv\n",
      "\n",
      "Processing invoice 1685 of 2000 (ID: 19927900)...\n",
      "Completed processing for invoice_id: 19927900. Results saved to invoice_extraction_results_local.csv\n",
      "\n",
      "Processing invoice 1686 of 2000 (ID: 14163985)...\n"
     ]
    },
    {
     "name": "stderr",
     "output_type": "stream",
     "text": [
      "Processing PDF with 1 pages...\n",
      "Processing 1 image(s) with AWS Bedrock...\n",
      "Found 1 invoices\n"
     ]
    },
    {
     "name": "stdout",
     "output_type": "stream",
     "text": [
      "Completed processing for invoice_id: 14163985. Results saved to invoice_extraction_results_local.csv\n",
      "\n",
      "Processing invoice 1687 of 2000 (ID: 14462745)...\n"
     ]
    },
    {
     "name": "stderr",
     "output_type": "stream",
     "text": [
      "Processing PDF with 1 pages...\n",
      "Processing 1 image(s) with AWS Bedrock...\n",
      "Found 1 invoices\n"
     ]
    },
    {
     "name": "stdout",
     "output_type": "stream",
     "text": [
      "Completed processing for invoice_id: 14462745. Results saved to invoice_extraction_results_local.csv\n",
      "\n",
      "Processing invoice 1688 of 2000 (ID: 13926009)...\n"
     ]
    },
    {
     "name": "stderr",
     "output_type": "stream",
     "text": [
      "Processing PDF with 1 pages...\n",
      "Processing 1 image(s) with AWS Bedrock...\n",
      "Found 1 invoices\n"
     ]
    },
    {
     "name": "stdout",
     "output_type": "stream",
     "text": [
      "Completed processing for invoice_id: 13926009. Results saved to invoice_extraction_results_local.csv\n",
      "\n",
      "Processing invoice 1689 of 2000 (ID: 19888208)...\n",
      "Completed processing for invoice_id: 19888208. Results saved to invoice_extraction_results_local.csv\n",
      "\n",
      "Processing invoice 1690 of 2000 (ID: 19809921)...\n",
      "Completed processing for invoice_id: 19809921. Results saved to invoice_extraction_results_local.csv\n",
      "\n",
      "Processing invoice 1691 of 2000 (ID: 14022720)...\n"
     ]
    },
    {
     "name": "stderr",
     "output_type": "stream",
     "text": [
      "Processing PDF with 2 pages...\n",
      "Processing 2 image(s) with AWS Bedrock...\n",
      "Found 1 invoices\n"
     ]
    },
    {
     "name": "stdout",
     "output_type": "stream",
     "text": [
      "Completed processing for invoice_id: 14022720. Results saved to invoice_extraction_results_local.csv\n",
      "\n",
      "Processing invoice 1692 of 2000 (ID: 20005215)...\n"
     ]
    },
    {
     "name": "stderr",
     "output_type": "stream",
     "text": [
      "Processing PDF with 1 pages...\n",
      "Processing 1 image(s) with AWS Bedrock...\n",
      "Found 1 invoices\n"
     ]
    },
    {
     "name": "stdout",
     "output_type": "stream",
     "text": [
      "Completed processing for invoice_id: 20005215. Results saved to invoice_extraction_results_local.csv\n",
      "\n",
      "Processing invoice 1693 of 2000 (ID: 14297839)...\n"
     ]
    },
    {
     "name": "stderr",
     "output_type": "stream",
     "text": [
      "Processing PDF with 1 pages...\n",
      "Processing 1 image(s) with AWS Bedrock...\n",
      "Found 1 invoices\n"
     ]
    },
    {
     "name": "stdout",
     "output_type": "stream",
     "text": [
      "Completed processing for invoice_id: 14297839. Results saved to invoice_extraction_results_local.csv\n",
      "\n",
      "Processing invoice 1694 of 2000 (ID: 20329760)...\n",
      "Completed processing for invoice_id: 20329760. Results saved to invoice_extraction_results_local.csv\n",
      "\n",
      "Processing invoice 1695 of 2000 (ID: 14012543)...\n"
     ]
    },
    {
     "name": "stderr",
     "output_type": "stream",
     "text": [
      "Processing PDF with 1 pages...\n",
      "Processing 1 image(s) with AWS Bedrock...\n",
      "Found 1 invoices\n"
     ]
    },
    {
     "name": "stdout",
     "output_type": "stream",
     "text": [
      "Completed processing for invoice_id: 14012543. Results saved to invoice_extraction_results_local.csv\n",
      "\n",
      "Processing invoice 1696 of 2000 (ID: 14477056)...\n",
      "Completed processing for invoice_id: 14477056. Results saved to invoice_extraction_results_local.csv\n",
      "\n",
      "Processing invoice 1697 of 2000 (ID: 14152059)...\n"
     ]
    },
    {
     "name": "stderr",
     "output_type": "stream",
     "text": [
      "Processing PDF with 1 pages...\n",
      "Processing 1 image(s) with AWS Bedrock...\n",
      "Found 1 invoices\n"
     ]
    },
    {
     "name": "stdout",
     "output_type": "stream",
     "text": [
      "Completed processing for invoice_id: 14152059. Results saved to invoice_extraction_results_local.csv\n",
      "\n",
      "Processing invoice 1698 of 2000 (ID: 20097446)...\n"
     ]
    },
    {
     "name": "stderr",
     "output_type": "stream",
     "text": [
      "Processing PDF with 1 pages...\n",
      "Processing 1 image(s) with AWS Bedrock...\n",
      "Found 1 invoices\n"
     ]
    },
    {
     "name": "stdout",
     "output_type": "stream",
     "text": [
      "Completed processing for invoice_id: 20097446. Results saved to invoice_extraction_results_local.csv\n",
      "\n",
      "Processing invoice 1699 of 2000 (ID: 14640598)...\n"
     ]
    },
    {
     "name": "stderr",
     "output_type": "stream",
     "text": [
      "Processing PDF with 1 pages...\n",
      "Processing 1 image(s) with AWS Bedrock...\n",
      "Found 1 invoices\n"
     ]
    },
    {
     "name": "stdout",
     "output_type": "stream",
     "text": [
      "Completed processing for invoice_id: 14640598. Results saved to invoice_extraction_results_local.csv\n",
      "\n",
      "Processing invoice 1700 of 2000 (ID: 20054046)...\n"
     ]
    },
    {
     "name": "stderr",
     "output_type": "stream",
     "text": [
      "Processing PDF with 1 pages...\n",
      "Processing 1 image(s) with AWS Bedrock...\n",
      "Found 1 invoices\n"
     ]
    },
    {
     "name": "stdout",
     "output_type": "stream",
     "text": [
      "Completed processing for invoice_id: 20054046. Results saved to invoice_extraction_results_local.csv\n",
      "\n",
      "Processing invoice 1701 of 2000 (ID: 20375481)...\n",
      "Completed processing for invoice_id: 20375481. Results saved to invoice_extraction_results_local.csv\n",
      "\n",
      "Processing invoice 1702 of 2000 (ID: 14736106)...\n"
     ]
    },
    {
     "name": "stderr",
     "output_type": "stream",
     "text": [
      "Processing PDF with 1 pages...\n",
      "Processing 1 image(s) with AWS Bedrock...\n",
      "Found 1 invoices\n"
     ]
    },
    {
     "name": "stdout",
     "output_type": "stream",
     "text": [
      "Completed processing for invoice_id: 14736106. Results saved to invoice_extraction_results_local.csv\n",
      "\n",
      "Processing invoice 1703 of 2000 (ID: 20187885)...\n"
     ]
    },
    {
     "name": "stderr",
     "output_type": "stream",
     "text": [
      "Processing PDF with 1 pages...\n",
      "Processing 1 image(s) with AWS Bedrock...\n",
      "Found 1 invoices\n"
     ]
    },
    {
     "name": "stdout",
     "output_type": "stream",
     "text": [
      "Completed processing for invoice_id: 20187885. Results saved to invoice_extraction_results_local.csv\n",
      "\n",
      "Processing invoice 1704 of 2000 (ID: 14825747)...\n",
      "Completed processing for invoice_id: 14825747. Results saved to invoice_extraction_results_local.csv\n",
      "\n",
      "Processing invoice 1705 of 2000 (ID: 14905659)...\n"
     ]
    },
    {
     "name": "stderr",
     "output_type": "stream",
     "text": [
      "Processing PDF with 1 pages...\n",
      "Processing 1 image(s) with AWS Bedrock...\n",
      "Found 1 invoices\n"
     ]
    },
    {
     "name": "stdout",
     "output_type": "stream",
     "text": [
      "Completed processing for invoice_id: 14905659. Results saved to invoice_extraction_results_local.csv\n",
      "\n",
      "Processing invoice 1706 of 2000 (ID: 13982588)...\n",
      "Completed processing for invoice_id: 13982588. Results saved to invoice_extraction_results_local.csv\n",
      "\n",
      "Processing invoice 1707 of 2000 (ID: 13750932)...\n"
     ]
    },
    {
     "name": "stderr",
     "output_type": "stream",
     "text": [
      "Processing PDF with 1 pages...\n",
      "Processing 1 image(s) with AWS Bedrock...\n",
      "Found 1 invoices\n"
     ]
    },
    {
     "name": "stdout",
     "output_type": "stream",
     "text": [
      "Completed processing for invoice_id: 13750932. Results saved to invoice_extraction_results_local.csv\n",
      "\n",
      "Processing invoice 1708 of 2000 (ID: 14245052)...\n"
     ]
    },
    {
     "name": "stderr",
     "output_type": "stream",
     "text": [
      "Processing PDF with 1 pages...\n",
      "Processing 1 image(s) with AWS Bedrock...\n",
      "Found 1 invoices\n"
     ]
    },
    {
     "name": "stdout",
     "output_type": "stream",
     "text": [
      "Completed processing for invoice_id: 14245052. Results saved to invoice_extraction_results_local.csv\n",
      "\n",
      "Processing invoice 1709 of 2000 (ID: 14091538)...\n"
     ]
    },
    {
     "name": "stderr",
     "output_type": "stream",
     "text": [
      "Processing PDF with 3 pages...\n",
      "Processing 3 image(s) with AWS Bedrock...\n",
      "Found 1 invoices\n"
     ]
    },
    {
     "name": "stdout",
     "output_type": "stream",
     "text": [
      "Completed processing for invoice_id: 14091538. Results saved to invoice_extraction_results_local.csv\n",
      "\n",
      "Processing invoice 1710 of 2000 (ID: 20843574)...\n",
      "Completed processing for invoice_id: 20843574. Results saved to invoice_extraction_results_local.csv\n",
      "\n",
      "Processing invoice 1711 of 2000 (ID: 14799397)...\n",
      "Completed processing for invoice_id: 14799397. Results saved to invoice_extraction_results_local.csv\n",
      "\n",
      "Processing invoice 1712 of 2000 (ID: 19820182)...\n",
      "Completed processing for invoice_id: 19820182. Results saved to invoice_extraction_results_local.csv\n",
      "\n",
      "Processing invoice 1713 of 2000 (ID: 20531181)...\n"
     ]
    },
    {
     "name": "stderr",
     "output_type": "stream",
     "text": [
      "Processing PDF with 5 pages...\n",
      "Processing 5 image(s) with AWS Bedrock...\n",
      "Error calling Bedrock: Unterminated string starting at: line 124 column 17 (char 3730)\n"
     ]
    },
    {
     "name": "stdout",
     "output_type": "stream",
     "text": [
      "Completed processing for invoice_id: 20531181. Results saved to invoice_extraction_results_local.csv\n",
      "\n",
      "Processing invoice 1714 of 2000 (ID: 14292377)...\n",
      "Completed processing for invoice_id: 14292377. Results saved to invoice_extraction_results_local.csv\n",
      "\n",
      "Processing invoice 1715 of 2000 (ID: 14692385)...\n"
     ]
    },
    {
     "name": "stderr",
     "output_type": "stream",
     "text": [
      "Processing PDF with 1 pages...\n",
      "Processing 1 image(s) with AWS Bedrock...\n",
      "Found 1 invoices\n"
     ]
    },
    {
     "name": "stdout",
     "output_type": "stream",
     "text": [
      "Completed processing for invoice_id: 14692385. Results saved to invoice_extraction_results_local.csv\n",
      "\n",
      "Processing invoice 1716 of 2000 (ID: 14862733)...\n",
      "Completed processing for invoice_id: 14862733. Results saved to invoice_extraction_results_local.csv\n",
      "\n",
      "Processing invoice 1717 of 2000 (ID: 14252998)...\n",
      "Completed processing for invoice_id: 14252998. Results saved to invoice_extraction_results_local.csv\n",
      "\n",
      "Processing invoice 1718 of 2000 (ID: 20618735)...\n",
      "Completed processing for invoice_id: 20618735. Results saved to invoice_extraction_results_local.csv\n",
      "\n",
      "Processing invoice 1719 of 2000 (ID: 14600409)...\n",
      "Completed processing for invoice_id: 14600409. Results saved to invoice_extraction_results_local.csv\n",
      "\n",
      "Processing invoice 1720 of 2000 (ID: 14012359)...\n"
     ]
    },
    {
     "name": "stderr",
     "output_type": "stream",
     "text": [
      "Processing PDF with 5 pages...\n",
      "Processing 5 image(s) with AWS Bedrock...\n",
      "Error calling Bedrock: Unterminated string starting at: line 94 column 36 (char 3331)\n"
     ]
    },
    {
     "name": "stdout",
     "output_type": "stream",
     "text": [
      "Completed processing for invoice_id: 14012359. Results saved to invoice_extraction_results_local.csv\n",
      "\n",
      "Processing invoice 1721 of 2000 (ID: 14201474)...\n",
      "Completed processing for invoice_id: 14201474. Results saved to invoice_extraction_results_local.csv\n",
      "\n",
      "Processing invoice 1722 of 2000 (ID: 14917206)...\n",
      "Completed processing for invoice_id: 14917206. Results saved to invoice_extraction_results_local.csv\n",
      "\n",
      "Processing invoice 1723 of 2000 (ID: 20237798)...\n"
     ]
    },
    {
     "name": "stderr",
     "output_type": "stream",
     "text": [
      "Processing PDF with 1 pages...\n",
      "Processing 1 image(s) with AWS Bedrock...\n",
      "Error calling Bedrock: Invalid \\escape: line 15 column 56 (char 444)\n"
     ]
    },
    {
     "name": "stdout",
     "output_type": "stream",
     "text": [
      "Completed processing for invoice_id: 20237798. Results saved to invoice_extraction_results_local.csv\n",
      "\n",
      "Processing invoice 1724 of 2000 (ID: 21225185)...\n",
      "Completed processing for invoice_id: 21225185. Results saved to invoice_extraction_results_local.csv\n",
      "\n",
      "Processing invoice 1725 of 2000 (ID: 14484488)...\n",
      "Completed processing for invoice_id: 14484488. Results saved to invoice_extraction_results_local.csv\n",
      "\n",
      "Processing invoice 1726 of 2000 (ID: 19875666)...\n"
     ]
    },
    {
     "name": "stderr",
     "output_type": "stream",
     "text": [
      "Processing PDF with 1 pages...\n",
      "Processing 1 image(s) with AWS Bedrock...\n",
      "Found 1 invoices\n"
     ]
    },
    {
     "name": "stdout",
     "output_type": "stream",
     "text": [
      "Completed processing for invoice_id: 19875666. Results saved to invoice_extraction_results_local.csv\n",
      "\n",
      "Processing invoice 1727 of 2000 (ID: 21116474)...\n",
      "Completed processing for invoice_id: 21116474. Results saved to invoice_extraction_results_local.csv\n",
      "\n",
      "Processing invoice 1728 of 2000 (ID: 20629298)...\n"
     ]
    },
    {
     "name": "stderr",
     "output_type": "stream",
     "text": [
      "Processing PDF with 1 pages...\n",
      "Processing 1 image(s) with AWS Bedrock...\n",
      "Found 1 invoices\n"
     ]
    },
    {
     "name": "stdout",
     "output_type": "stream",
     "text": [
      "Completed processing for invoice_id: 20629298. Results saved to invoice_extraction_results_local.csv\n",
      "\n",
      "Processing invoice 1729 of 2000 (ID: 14077163)...\n",
      "Completed processing for invoice_id: 14077163. Results saved to invoice_extraction_results_local.csv\n",
      "\n",
      "Processing invoice 1730 of 2000 (ID: 13881958)...\n"
     ]
    },
    {
     "name": "stderr",
     "output_type": "stream",
     "text": [
      "Processing PDF with 1 pages...\n",
      "Processing 1 image(s) with AWS Bedrock...\n",
      "Found 1 invoices\n"
     ]
    },
    {
     "name": "stdout",
     "output_type": "stream",
     "text": [
      "Completed processing for invoice_id: 13881958. Results saved to invoice_extraction_results_local.csv\n",
      "\n",
      "Processing invoice 1731 of 2000 (ID: 21200884)...\n"
     ]
    },
    {
     "name": "stderr",
     "output_type": "stream",
     "text": [
      "Processing PDF with 1 pages...\n",
      "Processing 1 image(s) with AWS Bedrock...\n",
      "Found 1 invoices\n"
     ]
    },
    {
     "name": "stdout",
     "output_type": "stream",
     "text": [
      "Completed processing for invoice_id: 21200884. Results saved to invoice_extraction_results_local.csv\n",
      "\n",
      "Processing invoice 1732 of 2000 (ID: 14300257)...\n"
     ]
    },
    {
     "name": "stderr",
     "output_type": "stream",
     "text": [
      "Processing PDF with 1 pages...\n",
      "Processing 1 image(s) with AWS Bedrock...\n",
      "Found 1 invoices\n"
     ]
    },
    {
     "name": "stdout",
     "output_type": "stream",
     "text": [
      "Completed processing for invoice_id: 14300257. Results saved to invoice_extraction_results_local.csv\n",
      "\n",
      "Processing invoice 1733 of 2000 (ID: 19973405)...\n",
      "Completed processing for invoice_id: 19973405. Results saved to invoice_extraction_results_local.csv\n",
      "\n",
      "Processing invoice 1734 of 2000 (ID: 21155955)...\n"
     ]
    },
    {
     "name": "stderr",
     "output_type": "stream",
     "text": [
      "Processing PDF with 1 pages...\n",
      "Processing 1 image(s) with AWS Bedrock...\n",
      "Found 1 invoices\n"
     ]
    },
    {
     "name": "stdout",
     "output_type": "stream",
     "text": [
      "Completed processing for invoice_id: 21155955. Results saved to invoice_extraction_results_local.csv\n",
      "\n",
      "Processing invoice 1735 of 2000 (ID: 14635529)...\n",
      "Completed processing for invoice_id: 14635529. Results saved to invoice_extraction_results_local.csv\n",
      "\n",
      "Processing invoice 1736 of 2000 (ID: 14682734)...\n"
     ]
    },
    {
     "name": "stderr",
     "output_type": "stream",
     "text": [
      "Processing PDF with 1 pages...\n",
      "Processing 1 image(s) with AWS Bedrock...\n",
      "Found 1 invoices\n"
     ]
    },
    {
     "name": "stdout",
     "output_type": "stream",
     "text": [
      "Completed processing for invoice_id: 14682734. Results saved to invoice_extraction_results_local.csv\n",
      "\n",
      "Processing invoice 1737 of 2000 (ID: 20354006)...\n"
     ]
    },
    {
     "name": "stderr",
     "output_type": "stream",
     "text": [
      "Processing PDF with 5 pages...\n",
      "Processing 5 image(s) with AWS Bedrock...\n",
      "Found 1 invoices\n"
     ]
    },
    {
     "name": "stdout",
     "output_type": "stream",
     "text": [
      "Completed processing for invoice_id: 20354006. Results saved to invoice_extraction_results_local.csv\n",
      "\n",
      "Processing invoice 1738 of 2000 (ID: 14543776)...\n",
      "Completed processing for invoice_id: 14543776. Results saved to invoice_extraction_results_local.csv\n",
      "\n",
      "Processing invoice 1739 of 2000 (ID: 20892349)...\n",
      "Completed processing for invoice_id: 20892349. Results saved to invoice_extraction_results_local.csv\n",
      "\n",
      "Processing invoice 1740 of 2000 (ID: 20154019)...\n",
      "Completed processing for invoice_id: 20154019. Results saved to invoice_extraction_results_local.csv\n",
      "\n",
      "Processing invoice 1741 of 2000 (ID: 20684939)...\n"
     ]
    },
    {
     "name": "stderr",
     "output_type": "stream",
     "text": [
      "Processing PDF with 1 pages...\n",
      "Processing 1 image(s) with AWS Bedrock...\n",
      "Found 1 invoices\n"
     ]
    },
    {
     "name": "stdout",
     "output_type": "stream",
     "text": [
      "Completed processing for invoice_id: 20684939. Results saved to invoice_extraction_results_local.csv\n",
      "\n",
      "Processing invoice 1742 of 2000 (ID: 20114091)...\n"
     ]
    },
    {
     "name": "stderr",
     "output_type": "stream",
     "text": [
      "Processing PDF with 1 pages...\n",
      "Processing 1 image(s) with AWS Bedrock...\n",
      "Found 1 invoices\n"
     ]
    },
    {
     "name": "stdout",
     "output_type": "stream",
     "text": [
      "Completed processing for invoice_id: 20114091. Results saved to invoice_extraction_results_local.csv\n",
      "\n",
      "Processing invoice 1743 of 2000 (ID: 14924819)...\n",
      "Completed processing for invoice_id: 14924819. Results saved to invoice_extraction_results_local.csv\n",
      "\n",
      "Processing invoice 1744 of 2000 (ID: 13710969)...\n",
      "Completed processing for invoice_id: 13710969. Results saved to invoice_extraction_results_local.csv\n",
      "\n",
      "Processing invoice 1745 of 2000 (ID: 13939281)...\n"
     ]
    },
    {
     "name": "stderr",
     "output_type": "stream",
     "text": [
      "Processing PDF with 2 pages...\n",
      "Processing 2 image(s) with AWS Bedrock...\n",
      "Found 1 invoices\n"
     ]
    },
    {
     "name": "stdout",
     "output_type": "stream",
     "text": [
      "Completed processing for invoice_id: 13939281. Results saved to invoice_extraction_results_local.csv\n",
      "\n",
      "Processing invoice 1746 of 2000 (ID: 20113050)...\n"
     ]
    },
    {
     "name": "stderr",
     "output_type": "stream",
     "text": [
      "Processing PDF with 1 pages...\n",
      "Processing 1 image(s) with AWS Bedrock...\n",
      "Found 1 invoices\n"
     ]
    },
    {
     "name": "stdout",
     "output_type": "stream",
     "text": [
      "Completed processing for invoice_id: 20113050. Results saved to invoice_extraction_results_local.csv\n",
      "\n",
      "Processing invoice 1747 of 2000 (ID: 20171590)...\n",
      "Completed processing for invoice_id: 20171590. Results saved to invoice_extraction_results_local.csv\n",
      "\n",
      "Processing invoice 1748 of 2000 (ID: 20662400)...\n"
     ]
    },
    {
     "name": "stderr",
     "output_type": "stream",
     "text": [
      "Processing PDF with 1 pages...\n",
      "Processing 1 image(s) with AWS Bedrock...\n",
      "Found 1 invoices\n"
     ]
    },
    {
     "name": "stdout",
     "output_type": "stream",
     "text": [
      "Completed processing for invoice_id: 20662400. Results saved to invoice_extraction_results_local.csv\n",
      "\n",
      "Processing invoice 1749 of 2000 (ID: 14386866)...\n"
     ]
    },
    {
     "name": "stderr",
     "output_type": "stream",
     "text": [
      "Processing PDF with 1 pages...\n",
      "Processing 1 image(s) with AWS Bedrock...\n",
      "Found 1 invoices\n"
     ]
    },
    {
     "name": "stdout",
     "output_type": "stream",
     "text": [
      "Completed processing for invoice_id: 14386866. Results saved to invoice_extraction_results_local.csv\n",
      "\n",
      "Processing invoice 1750 of 2000 (ID: 14457253)...\n",
      "Completed processing for invoice_id: 14457253. Results saved to invoice_extraction_results_local.csv\n",
      "\n",
      "Processing invoice 1751 of 2000 (ID: 13863650)...\n",
      "Completed processing for invoice_id: 13863650. Results saved to invoice_extraction_results_local.csv\n",
      "\n",
      "Processing invoice 1752 of 2000 (ID: 20119249)...\n",
      "Completed processing for invoice_id: 20119249. Results saved to invoice_extraction_results_local.csv\n",
      "\n",
      "Processing invoice 1753 of 2000 (ID: 13986772)...\n",
      "Completed processing for invoice_id: 13986772. Results saved to invoice_extraction_results_local.csv\n",
      "\n",
      "Processing invoice 1754 of 2000 (ID: 20378972)...\n"
     ]
    },
    {
     "name": "stderr",
     "output_type": "stream",
     "text": [
      "Processing PDF with 1 pages...\n",
      "Processing 1 image(s) with AWS Bedrock...\n",
      "Found 1 invoices\n"
     ]
    },
    {
     "name": "stdout",
     "output_type": "stream",
     "text": [
      "Completed processing for invoice_id: 20378972. Results saved to invoice_extraction_results_local.csv\n",
      "\n",
      "Processing invoice 1755 of 2000 (ID: 20790911)...\n",
      "Completed processing for invoice_id: 20790911. Results saved to invoice_extraction_results_local.csv\n",
      "\n",
      "Processing invoice 1756 of 2000 (ID: 14320655)...\n",
      "Completed processing for invoice_id: 14320655. Results saved to invoice_extraction_results_local.csv\n",
      "\n",
      "Processing invoice 1757 of 2000 (ID: 14041135)...\n",
      "Completed processing for invoice_id: 14041135. Results saved to invoice_extraction_results_local.csv\n",
      "\n",
      "Processing invoice 1758 of 2000 (ID: 20306299)...\n"
     ]
    },
    {
     "name": "stderr",
     "output_type": "stream",
     "text": [
      "Processing PDF with 1 pages...\n",
      "Processing 1 image(s) with AWS Bedrock...\n",
      "Found 1 invoices\n"
     ]
    },
    {
     "name": "stdout",
     "output_type": "stream",
     "text": [
      "Completed processing for invoice_id: 20306299. Results saved to invoice_extraction_results_local.csv\n",
      "\n",
      "Processing invoice 1759 of 2000 (ID: 19864553)...\n"
     ]
    },
    {
     "name": "stderr",
     "output_type": "stream",
     "text": [
      "Processing PDF with 1 pages...\n",
      "Processing 1 image(s) with AWS Bedrock...\n",
      "Found 1 invoices\n"
     ]
    },
    {
     "name": "stdout",
     "output_type": "stream",
     "text": [
      "Completed processing for invoice_id: 19864553. Results saved to invoice_extraction_results_local.csv\n",
      "\n",
      "Processing invoice 1760 of 2000 (ID: 20721303)...\n",
      "Completed processing for invoice_id: 20721303. Results saved to invoice_extraction_results_local.csv\n",
      "\n",
      "Processing invoice 1761 of 2000 (ID: 14609625)...\n",
      "Completed processing for invoice_id: 14609625. Results saved to invoice_extraction_results_local.csv\n",
      "\n",
      "Processing invoice 1762 of 2000 (ID: 13619861)...\n"
     ]
    },
    {
     "name": "stderr",
     "output_type": "stream",
     "text": [
      "Processing PDF with 3 pages...\n",
      "Processing 3 image(s) with AWS Bedrock...\n",
      "Found 1 invoices\n"
     ]
    },
    {
     "name": "stdout",
     "output_type": "stream",
     "text": [
      "Completed processing for invoice_id: 13619861. Results saved to invoice_extraction_results_local.csv\n",
      "\n",
      "Processing invoice 1763 of 2000 (ID: 14958787)...\n"
     ]
    },
    {
     "name": "stderr",
     "output_type": "stream",
     "text": [
      "Processing PDF with 1 pages...\n",
      "Processing 1 image(s) with AWS Bedrock...\n",
      "Found 1 invoices\n"
     ]
    },
    {
     "name": "stdout",
     "output_type": "stream",
     "text": [
      "Completed processing for invoice_id: 14958787. Results saved to invoice_extraction_results_local.csv\n",
      "\n",
      "Processing invoice 1764 of 2000 (ID: 14009537)...\n",
      "Completed processing for invoice_id: 14009537. Results saved to invoice_extraction_results_local.csv\n",
      "\n",
      "Processing invoice 1765 of 2000 (ID: 20702804)...\n"
     ]
    },
    {
     "name": "stderr",
     "output_type": "stream",
     "text": [
      "Processing PDF with 1 pages...\n",
      "Processing 1 image(s) with AWS Bedrock...\n",
      "Found 1 invoices\n"
     ]
    },
    {
     "name": "stdout",
     "output_type": "stream",
     "text": [
      "Completed processing for invoice_id: 20702804. Results saved to invoice_extraction_results_local.csv\n",
      "\n",
      "Processing invoice 1766 of 2000 (ID: 14509321)...\n"
     ]
    },
    {
     "name": "stderr",
     "output_type": "stream",
     "text": [
      "Processing PDF with 1 pages...\n",
      "Processing 1 image(s) with AWS Bedrock...\n",
      "Found 1 invoices\n"
     ]
    },
    {
     "name": "stdout",
     "output_type": "stream",
     "text": [
      "Completed processing for invoice_id: 14509321. Results saved to invoice_extraction_results_local.csv\n",
      "\n",
      "Processing invoice 1767 of 2000 (ID: 20347277)...\n"
     ]
    },
    {
     "name": "stderr",
     "output_type": "stream",
     "text": [
      "Processing PDF with 2 pages...\n",
      "Processing 2 image(s) with AWS Bedrock...\n",
      "Found 1 invoices\n"
     ]
    },
    {
     "name": "stdout",
     "output_type": "stream",
     "text": [
      "Completed processing for invoice_id: 20347277. Results saved to invoice_extraction_results_local.csv\n",
      "\n",
      "Processing invoice 1768 of 2000 (ID: 14253498)...\n",
      "Completed processing for invoice_id: 14253498. Results saved to invoice_extraction_results_local.csv\n",
      "\n",
      "Processing invoice 1769 of 2000 (ID: 20977442)...\n",
      "Completed processing for invoice_id: 20977442. Results saved to invoice_extraction_results_local.csv\n",
      "\n",
      "Processing invoice 1770 of 2000 (ID: 14095616)...\n"
     ]
    },
    {
     "name": "stderr",
     "output_type": "stream",
     "text": [
      "Processing PDF with 3 pages...\n",
      "Processing 3 image(s) with AWS Bedrock...\n",
      "Error calling Bedrock: Expecting ',' delimiter: line 109 column 33 (char 3679)\n"
     ]
    },
    {
     "name": "stdout",
     "output_type": "stream",
     "text": [
      "Completed processing for invoice_id: 14095616. Results saved to invoice_extraction_results_local.csv\n",
      "\n",
      "Processing invoice 1771 of 2000 (ID: 14432652)...\n",
      "Completed processing for invoice_id: 14432652. Results saved to invoice_extraction_results_local.csv\n",
      "\n",
      "Processing invoice 1772 of 2000 (ID: 13780906)...\n",
      "Completed processing for invoice_id: 13780906. Results saved to invoice_extraction_results_local.csv\n",
      "\n",
      "Processing invoice 1773 of 2000 (ID: 20303570)...\n"
     ]
    },
    {
     "name": "stderr",
     "output_type": "stream",
     "text": [
      "Processing PDF with 2 pages...\n",
      "Processing 2 image(s) with AWS Bedrock...\n",
      "Found 1 invoices\n"
     ]
    },
    {
     "name": "stdout",
     "output_type": "stream",
     "text": [
      "Completed processing for invoice_id: 20303570. Results saved to invoice_extraction_results_local.csv\n",
      "\n",
      "Processing invoice 1774 of 2000 (ID: 20168388)...\n"
     ]
    },
    {
     "name": "stderr",
     "output_type": "stream",
     "text": [
      "Processing PDF with 2 pages...\n",
      "Processing 2 image(s) with AWS Bedrock...\n",
      "Found 1 invoices\n"
     ]
    },
    {
     "name": "stdout",
     "output_type": "stream",
     "text": [
      "Completed processing for invoice_id: 20168388. Results saved to invoice_extraction_results_local.csv\n",
      "\n",
      "Processing invoice 1775 of 2000 (ID: 19812883)...\n"
     ]
    },
    {
     "name": "stderr",
     "output_type": "stream",
     "text": [
      "Processing PDF with 2 pages...\n",
      "Processing 2 image(s) with AWS Bedrock...\n",
      "Found 1 invoices\n"
     ]
    },
    {
     "name": "stdout",
     "output_type": "stream",
     "text": [
      "Completed processing for invoice_id: 19812883. Results saved to invoice_extraction_results_local.csv\n",
      "\n",
      "Processing invoice 1776 of 2000 (ID: 20741657)...\n"
     ]
    },
    {
     "name": "stderr",
     "output_type": "stream",
     "text": [
      "Processing PDF with 1 pages...\n",
      "Processing 1 image(s) with AWS Bedrock...\n",
      "Found 1 invoices\n"
     ]
    },
    {
     "name": "stdout",
     "output_type": "stream",
     "text": [
      "Completed processing for invoice_id: 20741657. Results saved to invoice_extraction_results_local.csv\n",
      "\n",
      "Processing invoice 1777 of 2000 (ID: 19856447)...\n",
      "Completed processing for invoice_id: 19856447. Results saved to invoice_extraction_results_local.csv\n",
      "\n",
      "Processing invoice 1778 of 2000 (ID: 14325257)...\n",
      "Completed processing for invoice_id: 14325257. Results saved to invoice_extraction_results_local.csv\n",
      "\n",
      "Processing invoice 1779 of 2000 (ID: 14273074)...\n"
     ]
    },
    {
     "name": "stderr",
     "output_type": "stream",
     "text": [
      "Processing PDF with 1 pages...\n",
      "Processing 1 image(s) with AWS Bedrock...\n",
      "Found 1 invoices\n"
     ]
    },
    {
     "name": "stdout",
     "output_type": "stream",
     "text": [
      "Completed processing for invoice_id: 14273074. Results saved to invoice_extraction_results_local.csv\n",
      "\n",
      "Processing invoice 1780 of 2000 (ID: 19874540)...\n"
     ]
    },
    {
     "name": "stderr",
     "output_type": "stream",
     "text": [
      "Processing PDF with 1 pages...\n",
      "Processing 1 image(s) with AWS Bedrock...\n",
      "Found 1 invoices\n"
     ]
    },
    {
     "name": "stdout",
     "output_type": "stream",
     "text": [
      "Completed processing for invoice_id: 19874540. Results saved to invoice_extraction_results_local.csv\n",
      "\n",
      "Processing invoice 1781 of 2000 (ID: 13870671)...\n",
      "Completed processing for invoice_id: 13870671. Results saved to invoice_extraction_results_local.csv\n",
      "\n",
      "Processing invoice 1782 of 2000 (ID: 14655566)...\n",
      "Completed processing for invoice_id: 14655566. Results saved to invoice_extraction_results_local.csv\n",
      "\n",
      "Processing invoice 1783 of 2000 (ID: 21087363)...\n"
     ]
    },
    {
     "name": "stderr",
     "output_type": "stream",
     "text": [
      "Processing PDF with 1 pages...\n",
      "Processing 1 image(s) with AWS Bedrock...\n",
      "Found 1 invoices\n"
     ]
    },
    {
     "name": "stdout",
     "output_type": "stream",
     "text": [
      "Completed processing for invoice_id: 21087363. Results saved to invoice_extraction_results_local.csv\n",
      "\n",
      "Processing invoice 1784 of 2000 (ID: 14394835)...\n",
      "Completed processing for invoice_id: 14394835. Results saved to invoice_extraction_results_local.csv\n",
      "\n",
      "Processing invoice 1785 of 2000 (ID: 20161671)...\n",
      "Completed processing for invoice_id: 20161671. Results saved to invoice_extraction_results_local.csv\n",
      "\n",
      "Processing invoice 1786 of 2000 (ID: 16212346)...\n"
     ]
    },
    {
     "name": "stderr",
     "output_type": "stream",
     "text": [
      "Processing PDF with 1 pages...\n",
      "Processing 1 image(s) with AWS Bedrock...\n",
      "Found 1 invoices\n"
     ]
    },
    {
     "name": "stdout",
     "output_type": "stream",
     "text": [
      "Completed processing for invoice_id: 16212346. Results saved to invoice_extraction_results_local.csv\n",
      "\n",
      "Processing invoice 1787 of 2000 (ID: 20388329)...\n",
      "Completed processing for invoice_id: 20388329. Results saved to invoice_extraction_results_local.csv\n",
      "\n",
      "Processing invoice 1788 of 2000 (ID: 20956766)...\n",
      "Completed processing for invoice_id: 20956766. Results saved to invoice_extraction_results_local.csv\n",
      "\n",
      "Processing invoice 1789 of 2000 (ID: 20783189)...\n"
     ]
    },
    {
     "name": "stderr",
     "output_type": "stream",
     "text": [
      "Processing PDF with 1 pages...\n",
      "Processing 1 image(s) with AWS Bedrock...\n",
      "Found 1 invoices\n"
     ]
    },
    {
     "name": "stdout",
     "output_type": "stream",
     "text": [
      "Completed processing for invoice_id: 20783189. Results saved to invoice_extraction_results_local.csv\n",
      "\n",
      "Processing invoice 1790 of 2000 (ID: 19920629)...\n",
      "Completed processing for invoice_id: 19920629. Results saved to invoice_extraction_results_local.csv\n",
      "\n",
      "Processing invoice 1791 of 2000 (ID: 19771994)...\n",
      "Completed processing for invoice_id: 19771994. Results saved to invoice_extraction_results_local.csv\n",
      "\n",
      "Processing invoice 1792 of 2000 (ID: 20099254)...\n",
      "Completed processing for invoice_id: 20099254. Results saved to invoice_extraction_results_local.csv\n",
      "\n",
      "Processing invoice 1793 of 2000 (ID: 13615234)...\n"
     ]
    },
    {
     "name": "stderr",
     "output_type": "stream",
     "text": [
      "Processing PDF with 1 pages...\n",
      "Processing 1 image(s) with AWS Bedrock...\n",
      "Found 1 invoices\n"
     ]
    },
    {
     "name": "stdout",
     "output_type": "stream",
     "text": [
      "Completed processing for invoice_id: 13615234. Results saved to invoice_extraction_results_local.csv\n",
      "\n",
      "Processing invoice 1794 of 2000 (ID: 13998823)...\n"
     ]
    },
    {
     "name": "stderr",
     "output_type": "stream",
     "text": [
      "Processing PDF with 1 pages...\n",
      "Processing 1 image(s) with AWS Bedrock...\n",
      "Found 1 invoices\n"
     ]
    },
    {
     "name": "stdout",
     "output_type": "stream",
     "text": [
      "Completed processing for invoice_id: 13998823. Results saved to invoice_extraction_results_local.csv\n",
      "\n",
      "Processing invoice 1795 of 2000 (ID: 14265894)...\n"
     ]
    },
    {
     "name": "stderr",
     "output_type": "stream",
     "text": [
      "Processing PDF with 2 pages...\n",
      "Processing 2 image(s) with AWS Bedrock...\n",
      "Found 1 invoices\n"
     ]
    },
    {
     "name": "stdout",
     "output_type": "stream",
     "text": [
      "Completed processing for invoice_id: 14265894. Results saved to invoice_extraction_results_local.csv\n",
      "\n",
      "Processing invoice 1796 of 2000 (ID: 20846507)...\n"
     ]
    },
    {
     "name": "stderr",
     "output_type": "stream",
     "text": [
      "Processing PDF with 1 pages...\n",
      "Processing 1 image(s) with AWS Bedrock...\n",
      "Found 1 invoices\n"
     ]
    },
    {
     "name": "stdout",
     "output_type": "stream",
     "text": [
      "Completed processing for invoice_id: 20846507. Results saved to invoice_extraction_results_local.csv\n",
      "\n",
      "Processing invoice 1797 of 2000 (ID: 20506249)...\n"
     ]
    },
    {
     "name": "stderr",
     "output_type": "stream",
     "text": [
      "Processing PDF with 4 pages...\n",
      "Processing 4 image(s) with AWS Bedrock...\n",
      "Found 1 invoices\n"
     ]
    },
    {
     "name": "stdout",
     "output_type": "stream",
     "text": [
      "Completed processing for invoice_id: 20506249. Results saved to invoice_extraction_results_local.csv\n",
      "\n",
      "Processing invoice 1798 of 2000 (ID: 20462767)...\n",
      "Completed processing for invoice_id: 20462767. Results saved to invoice_extraction_results_local.csv\n",
      "\n",
      "Processing invoice 1799 of 2000 (ID: 14537267)...\n",
      "Completed processing for invoice_id: 14537267. Results saved to invoice_extraction_results_local.csv\n",
      "\n",
      "Processing invoice 1800 of 2000 (ID: 13968849)...\n",
      "Completed processing for invoice_id: 13968849. Results saved to invoice_extraction_results_local.csv\n",
      "\n",
      "Processing invoice 1801 of 2000 (ID: 20190308)...\n"
     ]
    },
    {
     "name": "stderr",
     "output_type": "stream",
     "text": [
      "Processing PDF with 1 pages...\n",
      "Processing 1 image(s) with AWS Bedrock...\n",
      "Found 1 invoices\n"
     ]
    },
    {
     "name": "stdout",
     "output_type": "stream",
     "text": [
      "Completed processing for invoice_id: 20190308. Results saved to invoice_extraction_results_local.csv\n",
      "\n",
      "Processing invoice 1802 of 2000 (ID: 14643339)...\n",
      "Completed processing for invoice_id: 14643339. Results saved to invoice_extraction_results_local.csv\n",
      "\n",
      "Processing invoice 1803 of 2000 (ID: 14534092)...\n",
      "Completed processing for invoice_id: 14534092. Results saved to invoice_extraction_results_local.csv\n",
      "\n",
      "Processing invoice 1804 of 2000 (ID: 13941083)...\n",
      "Completed processing for invoice_id: 13941083. Results saved to invoice_extraction_results_local.csv\n",
      "\n",
      "Processing invoice 1805 of 2000 (ID: 14064227)...\n"
     ]
    },
    {
     "name": "stderr",
     "output_type": "stream",
     "text": [
      "Processing PDF with 1 pages...\n",
      "Processing 1 image(s) with AWS Bedrock...\n",
      "Found 1 invoices\n"
     ]
    },
    {
     "name": "stdout",
     "output_type": "stream",
     "text": [
      "Completed processing for invoice_id: 14064227. Results saved to invoice_extraction_results_local.csv\n",
      "\n",
      "Processing invoice 1806 of 2000 (ID: 14186680)...\n",
      "Completed processing for invoice_id: 14186680. Results saved to invoice_extraction_results_local.csv\n",
      "\n",
      "Processing invoice 1807 of 2000 (ID: 20299996)...\n"
     ]
    },
    {
     "name": "stderr",
     "output_type": "stream",
     "text": [
      "Processing PDF with 1 pages...\n",
      "Processing 1 image(s) with AWS Bedrock...\n",
      "Found 1 invoices\n"
     ]
    },
    {
     "name": "stdout",
     "output_type": "stream",
     "text": [
      "Completed processing for invoice_id: 20299996. Results saved to invoice_extraction_results_local.csv\n",
      "\n",
      "Processing invoice 1808 of 2000 (ID: 14797557)...\n",
      "Completed processing for invoice_id: 14797557. Results saved to invoice_extraction_results_local.csv\n",
      "\n",
      "Processing invoice 1809 of 2000 (ID: 20510057)...\n",
      "Completed processing for invoice_id: 20510057. Results saved to invoice_extraction_results_local.csv\n",
      "\n",
      "Processing invoice 1810 of 2000 (ID: 14211818)...\n",
      "Completed processing for invoice_id: 14211818. Results saved to invoice_extraction_results_local.csv\n",
      "\n",
      "Processing invoice 1811 of 2000 (ID: 20932952)...\n"
     ]
    },
    {
     "name": "stderr",
     "output_type": "stream",
     "text": [
      "Processing PDF with 1 pages...\n",
      "Processing 1 image(s) with AWS Bedrock...\n",
      "Found 1 invoices\n"
     ]
    },
    {
     "name": "stdout",
     "output_type": "stream",
     "text": [
      "Completed processing for invoice_id: 20932952. Results saved to invoice_extraction_results_local.csv\n",
      "\n",
      "Processing invoice 1812 of 2000 (ID: 20825762)...\n"
     ]
    },
    {
     "name": "stderr",
     "output_type": "stream",
     "text": [
      "Processing PDF with 1 pages...\n",
      "Processing 1 image(s) with AWS Bedrock...\n",
      "Found 1 invoices\n"
     ]
    },
    {
     "name": "stdout",
     "output_type": "stream",
     "text": [
      "Completed processing for invoice_id: 20825762. Results saved to invoice_extraction_results_local.csv\n",
      "\n",
      "Processing invoice 1813 of 2000 (ID: 20235260)...\n",
      "Completed processing for invoice_id: 20235260. Results saved to invoice_extraction_results_local.csv\n",
      "\n",
      "Processing invoice 1814 of 2000 (ID: 21153578)...\n"
     ]
    },
    {
     "name": "stderr",
     "output_type": "stream",
     "text": [
      "Processing PDF with 1 pages...\n",
      "Processing 1 image(s) with AWS Bedrock...\n",
      "Found 1 invoices\n"
     ]
    },
    {
     "name": "stdout",
     "output_type": "stream",
     "text": [
      "Completed processing for invoice_id: 21153578. Results saved to invoice_extraction_results_local.csv\n",
      "\n",
      "Processing invoice 1815 of 2000 (ID: 20809968)...\n"
     ]
    },
    {
     "name": "stderr",
     "output_type": "stream",
     "text": [
      "Processing PDF with 2 pages...\n",
      "Processing 2 image(s) with AWS Bedrock...\n",
      "Found 1 invoices\n"
     ]
    },
    {
     "name": "stdout",
     "output_type": "stream",
     "text": [
      "Completed processing for invoice_id: 20809968. Results saved to invoice_extraction_results_local.csv\n",
      "\n",
      "Processing invoice 1816 of 2000 (ID: 14157059)...\n"
     ]
    },
    {
     "name": "stderr",
     "output_type": "stream",
     "text": [
      "Processing PDF with 1 pages...\n",
      "Processing 1 image(s) with AWS Bedrock...\n",
      "Found 1 invoices\n"
     ]
    },
    {
     "name": "stdout",
     "output_type": "stream",
     "text": [
      "Completed processing for invoice_id: 14157059. Results saved to invoice_extraction_results_local.csv\n",
      "\n",
      "Processing invoice 1817 of 2000 (ID: 20628896)...\n"
     ]
    },
    {
     "name": "stderr",
     "output_type": "stream",
     "text": [
      "Processing PDF with 1 pages...\n",
      "Processing 1 image(s) with AWS Bedrock...\n",
      "Found 1 invoices\n"
     ]
    },
    {
     "name": "stdout",
     "output_type": "stream",
     "text": [
      "Completed processing for invoice_id: 20628896. Results saved to invoice_extraction_results_local.csv\n",
      "\n",
      "Processing invoice 1818 of 2000 (ID: 14480547)...\n"
     ]
    },
    {
     "name": "stderr",
     "output_type": "stream",
     "text": [
      "Processing PDF with 1 pages...\n",
      "Processing 1 image(s) with AWS Bedrock...\n",
      "Found 1 invoices\n"
     ]
    },
    {
     "name": "stdout",
     "output_type": "stream",
     "text": [
      "Completed processing for invoice_id: 14480547. Results saved to invoice_extraction_results_local.csv\n",
      "\n",
      "Processing invoice 1819 of 2000 (ID: 20810213)...\n",
      "Completed processing for invoice_id: 20810213. Results saved to invoice_extraction_results_local.csv\n",
      "\n",
      "Processing invoice 1820 of 2000 (ID: 20782382)...\n"
     ]
    },
    {
     "name": "stderr",
     "output_type": "stream",
     "text": [
      "Processing PDF with 1 pages...\n",
      "Processing 1 image(s) with AWS Bedrock...\n",
      "Found 1 invoices\n"
     ]
    },
    {
     "name": "stdout",
     "output_type": "stream",
     "text": [
      "Completed processing for invoice_id: 20782382. Results saved to invoice_extraction_results_local.csv\n",
      "\n",
      "Processing invoice 1821 of 2000 (ID: 13682924)...\n",
      "Completed processing for invoice_id: 13682924. Results saved to invoice_extraction_results_local.csv\n",
      "\n",
      "Processing invoice 1822 of 2000 (ID: 20664064)...\n",
      "Completed processing for invoice_id: 20664064. Results saved to invoice_extraction_results_local.csv\n",
      "\n",
      "Processing invoice 1823 of 2000 (ID: 21117956)...\n"
     ]
    },
    {
     "name": "stderr",
     "output_type": "stream",
     "text": [
      "Processing PDF with 20 pages...\n",
      "Processing 20 image(s) with AWS Bedrock...\n",
      "Found 1 invoices\n"
     ]
    },
    {
     "name": "stdout",
     "output_type": "stream",
     "text": [
      "Completed processing for invoice_id: 21117956. Results saved to invoice_extraction_results_local.csv\n",
      "\n",
      "Processing invoice 1824 of 2000 (ID: 21079271)...\n",
      "Completed processing for invoice_id: 21079271. Results saved to invoice_extraction_results_local.csv\n",
      "\n",
      "Processing invoice 1825 of 2000 (ID: 20666217)...\n",
      "Completed processing for invoice_id: 20666217. Results saved to invoice_extraction_results_local.csv\n",
      "\n",
      "Processing invoice 1826 of 2000 (ID: 20395468)...\n",
      "Completed processing for invoice_id: 20395468. Results saved to invoice_extraction_results_local.csv\n",
      "\n",
      "Processing invoice 1827 of 2000 (ID: 20519808)...\n"
     ]
    },
    {
     "name": "stderr",
     "output_type": "stream",
     "text": [
      "Processing PDF with 1 pages...\n",
      "Processing 1 image(s) with AWS Bedrock...\n",
      "Found 1 invoices\n"
     ]
    },
    {
     "name": "stdout",
     "output_type": "stream",
     "text": [
      "Completed processing for invoice_id: 20519808. Results saved to invoice_extraction_results_local.csv\n",
      "\n",
      "Processing invoice 1828 of 2000 (ID: 14571410)...\n",
      "Completed processing for invoice_id: 14571410. Results saved to invoice_extraction_results_local.csv\n",
      "\n",
      "Processing invoice 1829 of 2000 (ID: 20405370)...\n"
     ]
    },
    {
     "name": "stderr",
     "output_type": "stream",
     "text": [
      "Processing PDF with 1 pages...\n",
      "Processing 1 image(s) with AWS Bedrock...\n",
      "Found 1 invoices\n"
     ]
    },
    {
     "name": "stdout",
     "output_type": "stream",
     "text": [
      "Completed processing for invoice_id: 20405370. Results saved to invoice_extraction_results_local.csv\n",
      "\n",
      "Processing invoice 1830 of 2000 (ID: 19998179)...\n"
     ]
    },
    {
     "name": "stderr",
     "output_type": "stream",
     "text": [
      "Processing PDF with 1 pages...\n",
      "Processing 1 image(s) with AWS Bedrock...\n",
      "Found 1 invoices\n"
     ]
    },
    {
     "name": "stdout",
     "output_type": "stream",
     "text": [
      "Completed processing for invoice_id: 19998179. Results saved to invoice_extraction_results_local.csv\n",
      "\n",
      "Processing invoice 1831 of 2000 (ID: 20478725)...\n"
     ]
    },
    {
     "name": "stderr",
     "output_type": "stream",
     "text": [
      "Processing PDF with 1 pages...\n",
      "Processing 1 image(s) with AWS Bedrock...\n",
      "Found 1 invoices\n"
     ]
    },
    {
     "name": "stdout",
     "output_type": "stream",
     "text": [
      "Completed processing for invoice_id: 20478725. Results saved to invoice_extraction_results_local.csv\n",
      "\n",
      "Processing invoice 1832 of 2000 (ID: 14744579)...\n",
      "Completed processing for invoice_id: 14744579. Results saved to invoice_extraction_results_local.csv\n",
      "\n",
      "Processing invoice 1833 of 2000 (ID: 21125096)...\n"
     ]
    },
    {
     "name": "stderr",
     "output_type": "stream",
     "text": [
      "Processing PDF with 8 pages...\n",
      "Processing 8 image(s) with AWS Bedrock...\n",
      "Error calling Bedrock: Expecting property name enclosed in double quotes: line 105 column 18 (char 3547)\n"
     ]
    },
    {
     "name": "stdout",
     "output_type": "stream",
     "text": [
      "Completed processing for invoice_id: 21125096. Results saved to invoice_extraction_results_local.csv\n",
      "\n",
      "Processing invoice 1834 of 2000 (ID: 20543903)...\n",
      "Completed processing for invoice_id: 20543903. Results saved to invoice_extraction_results_local.csv\n",
      "\n",
      "Processing invoice 1835 of 2000 (ID: 14368083)...\n"
     ]
    },
    {
     "name": "stderr",
     "output_type": "stream",
     "text": [
      "Processing PDF with 1 pages...\n",
      "Processing 1 image(s) with AWS Bedrock...\n",
      "Found 1 invoices\n"
     ]
    },
    {
     "name": "stdout",
     "output_type": "stream",
     "text": [
      "Completed processing for invoice_id: 14368083. Results saved to invoice_extraction_results_local.csv\n",
      "\n",
      "Processing invoice 1836 of 2000 (ID: 20945571)...\n"
     ]
    },
    {
     "name": "stderr",
     "output_type": "stream",
     "text": [
      "Processing PDF with 1 pages...\n",
      "Processing 1 image(s) with AWS Bedrock...\n",
      "Found 1 invoices\n"
     ]
    },
    {
     "name": "stdout",
     "output_type": "stream",
     "text": [
      "Completed processing for invoice_id: 20945571. Results saved to invoice_extraction_results_local.csv\n",
      "\n",
      "Processing invoice 1837 of 2000 (ID: 13866940)...\n",
      "Completed processing for invoice_id: 13866940. Results saved to invoice_extraction_results_local.csv\n",
      "\n",
      "Processing invoice 1838 of 2000 (ID: 20129968)...\n"
     ]
    },
    {
     "name": "stderr",
     "output_type": "stream",
     "text": [
      "Processing PDF with 1 pages...\n",
      "Processing 1 image(s) with AWS Bedrock...\n",
      "Found 1 invoices\n"
     ]
    },
    {
     "name": "stdout",
     "output_type": "stream",
     "text": [
      "Completed processing for invoice_id: 20129968. Results saved to invoice_extraction_results_local.csv\n",
      "\n",
      "Processing invoice 1839 of 2000 (ID: 14932225)...\n"
     ]
    },
    {
     "name": "stderr",
     "output_type": "stream",
     "text": [
      "Processing PDF with 5 pages...\n",
      "Processing 5 image(s) with AWS Bedrock...\n",
      "Error calling Bedrock: Unterminated string starting at: line 84 column 21 (char 3164)\n"
     ]
    },
    {
     "name": "stdout",
     "output_type": "stream",
     "text": [
      "Completed processing for invoice_id: 14932225. Results saved to invoice_extraction_results_local.csv\n",
      "\n",
      "Processing invoice 1840 of 2000 (ID: 20239075)...\n"
     ]
    },
    {
     "name": "stderr",
     "output_type": "stream",
     "text": [
      "Processing PDF with 1 pages...\n",
      "Processing 1 image(s) with AWS Bedrock...\n",
      "Found 1 invoices\n"
     ]
    },
    {
     "name": "stdout",
     "output_type": "stream",
     "text": [
      "Completed processing for invoice_id: 20239075. Results saved to invoice_extraction_results_local.csv\n",
      "\n",
      "Processing invoice 1841 of 2000 (ID: 19389311)...\n"
     ]
    },
    {
     "name": "stderr",
     "output_type": "stream",
     "text": [
      "Processing PDF with 1 pages...\n",
      "Processing 1 image(s) with AWS Bedrock...\n",
      "Found 1 invoices\n"
     ]
    },
    {
     "name": "stdout",
     "output_type": "stream",
     "text": [
      "Completed processing for invoice_id: 19389311. Results saved to invoice_extraction_results_local.csv\n",
      "\n",
      "Processing invoice 1842 of 2000 (ID: 19875473)...\n"
     ]
    },
    {
     "name": "stderr",
     "output_type": "stream",
     "text": [
      "Processing PDF with 1 pages...\n",
      "Processing 1 image(s) with AWS Bedrock...\n",
      "Found 1 invoices\n"
     ]
    },
    {
     "name": "stdout",
     "output_type": "stream",
     "text": [
      "Completed processing for invoice_id: 19875473. Results saved to invoice_extraction_results_local.csv\n",
      "\n",
      "Processing invoice 1843 of 2000 (ID: 13954193)...\n",
      "Completed processing for invoice_id: 13954193. Results saved to invoice_extraction_results_local.csv\n",
      "\n",
      "Processing invoice 1844 of 2000 (ID: 21271274)...\n",
      "Completed processing for invoice_id: 21271274. Results saved to invoice_extraction_results_local.csv\n",
      "\n",
      "Processing invoice 1845 of 2000 (ID: 20656459)...\n",
      "Completed processing for invoice_id: 20656459. Results saved to invoice_extraction_results_local.csv\n",
      "\n",
      "Processing invoice 1846 of 2000 (ID: 20730243)...\n"
     ]
    },
    {
     "name": "stderr",
     "output_type": "stream",
     "text": [
      "Processing PDF with 2 pages...\n",
      "Processing 2 image(s) with AWS Bedrock...\n",
      "Found 1 invoices\n"
     ]
    },
    {
     "name": "stdout",
     "output_type": "stream",
     "text": [
      "Completed processing for invoice_id: 20730243. Results saved to invoice_extraction_results_local.csv\n",
      "\n",
      "Processing invoice 1847 of 2000 (ID: 19874515)...\n"
     ]
    },
    {
     "name": "stderr",
     "output_type": "stream",
     "text": [
      "Processing PDF with 1 pages...\n",
      "Processing 1 image(s) with AWS Bedrock...\n",
      "Found 1 invoices\n"
     ]
    },
    {
     "name": "stdout",
     "output_type": "stream",
     "text": [
      "Completed processing for invoice_id: 19874515. Results saved to invoice_extraction_results_local.csv\n",
      "\n",
      "Processing invoice 1848 of 2000 (ID: 14504756)...\n",
      "Completed processing for invoice_id: 14504756. Results saved to invoice_extraction_results_local.csv\n",
      "\n",
      "Processing invoice 1849 of 2000 (ID: 14758107)...\n"
     ]
    },
    {
     "name": "stderr",
     "output_type": "stream",
     "text": [
      "Processing PDF with 1 pages...\n",
      "Processing 1 image(s) with AWS Bedrock...\n",
      "Found 1 invoices\n"
     ]
    },
    {
     "name": "stdout",
     "output_type": "stream",
     "text": [
      "Completed processing for invoice_id: 14758107. Results saved to invoice_extraction_results_local.csv\n",
      "\n",
      "Processing invoice 1850 of 2000 (ID: 20851416)...\n",
      "Completed processing for invoice_id: 20851416. Results saved to invoice_extraction_results_local.csv\n",
      "\n",
      "Processing invoice 1851 of 2000 (ID: 19931087)...\n"
     ]
    },
    {
     "name": "stderr",
     "output_type": "stream",
     "text": [
      "Processing PDF with 1 pages...\n",
      "Processing 1 image(s) with AWS Bedrock...\n",
      "Found 1 invoices\n"
     ]
    },
    {
     "name": "stdout",
     "output_type": "stream",
     "text": [
      "Completed processing for invoice_id: 19931087. Results saved to invoice_extraction_results_local.csv\n",
      "\n",
      "Processing invoice 1852 of 2000 (ID: 14630200)...\n"
     ]
    },
    {
     "name": "stderr",
     "output_type": "stream",
     "text": [
      "Processing PDF with 1 pages...\n",
      "Processing 1 image(s) with AWS Bedrock...\n",
      "Found 1 invoices\n"
     ]
    },
    {
     "name": "stdout",
     "output_type": "stream",
     "text": [
      "Completed processing for invoice_id: 14630200. Results saved to invoice_extraction_results_local.csv\n",
      "\n",
      "Processing invoice 1853 of 2000 (ID: 20687513)...\n"
     ]
    },
    {
     "name": "stderr",
     "output_type": "stream",
     "text": [
      "Processing PDF with 1 pages...\n",
      "Processing 1 image(s) with AWS Bedrock...\n",
      "Found 1 invoices\n"
     ]
    },
    {
     "name": "stdout",
     "output_type": "stream",
     "text": [
      "Completed processing for invoice_id: 20687513. Results saved to invoice_extraction_results_local.csv\n",
      "\n",
      "Processing invoice 1854 of 2000 (ID: 19994149)...\n"
     ]
    },
    {
     "name": "stderr",
     "output_type": "stream",
     "text": [
      "Processing PDF with 1 pages...\n",
      "Processing 1 image(s) with AWS Bedrock...\n",
      "Found 1 invoices\n"
     ]
    },
    {
     "name": "stdout",
     "output_type": "stream",
     "text": [
      "Completed processing for invoice_id: 19994149. Results saved to invoice_extraction_results_local.csv\n",
      "\n",
      "Processing invoice 1855 of 2000 (ID: 13771857)...\n"
     ]
    },
    {
     "name": "stderr",
     "output_type": "stream",
     "text": [
      "Processing PDF with 1 pages...\n",
      "Processing 1 image(s) with AWS Bedrock...\n",
      "Found 1 invoices\n"
     ]
    },
    {
     "name": "stdout",
     "output_type": "stream",
     "text": [
      "Completed processing for invoice_id: 13771857. Results saved to invoice_extraction_results_local.csv\n",
      "\n",
      "Processing invoice 1856 of 2000 (ID: 19982836)...\n"
     ]
    },
    {
     "name": "stderr",
     "output_type": "stream",
     "text": [
      "Processing PDF with 1 pages...\n",
      "Processing 1 image(s) with AWS Bedrock...\n",
      "Found 1 invoices\n"
     ]
    },
    {
     "name": "stdout",
     "output_type": "stream",
     "text": [
      "Completed processing for invoice_id: 19982836. Results saved to invoice_extraction_results_local.csv\n",
      "\n",
      "Processing invoice 1857 of 2000 (ID: 20255556)...\n"
     ]
    },
    {
     "name": "stderr",
     "output_type": "stream",
     "text": [
      "Processing PDF with 2 pages...\n",
      "Processing 2 image(s) with AWS Bedrock...\n",
      "Found 1 invoices\n"
     ]
    },
    {
     "name": "stdout",
     "output_type": "stream",
     "text": [
      "Completed processing for invoice_id: 20255556. Results saved to invoice_extraction_results_local.csv\n",
      "\n",
      "Processing invoice 1858 of 2000 (ID: 14144784)...\n",
      "Completed processing for invoice_id: 14144784. Results saved to invoice_extraction_results_local.csv\n",
      "\n",
      "Processing invoice 1859 of 2000 (ID: 14371113)...\n",
      "Completed processing for invoice_id: 14371113. Results saved to invoice_extraction_results_local.csv\n",
      "\n",
      "Processing invoice 1860 of 2000 (ID: 14196827)...\n",
      "Completed processing for invoice_id: 14196827. Results saved to invoice_extraction_results_local.csv\n",
      "\n",
      "Processing invoice 1861 of 2000 (ID: 14074223)...\n",
      "Completed processing for invoice_id: 14074223. Results saved to invoice_extraction_results_local.csv\n",
      "\n",
      "Processing invoice 1862 of 2000 (ID: 20690118)...\n",
      "Completed processing for invoice_id: 20690118. Results saved to invoice_extraction_results_local.csv\n",
      "\n",
      "Processing invoice 1863 of 2000 (ID: 14799622)...\n",
      "Completed processing for invoice_id: 14799622. Results saved to invoice_extraction_results_local.csv\n",
      "\n",
      "Processing invoice 1864 of 2000 (ID: 21011727)...\n",
      "Completed processing for invoice_id: 21011727. Results saved to invoice_extraction_results_local.csv\n",
      "\n",
      "Processing invoice 1865 of 2000 (ID: 13689105)...\n",
      "Completed processing for invoice_id: 13689105. Results saved to invoice_extraction_results_local.csv\n",
      "\n",
      "Processing invoice 1866 of 2000 (ID: 14341201)...\n"
     ]
    },
    {
     "name": "stderr",
     "output_type": "stream",
     "text": [
      "Processing PDF with 1 pages...\n",
      "Processing 1 image(s) with AWS Bedrock...\n",
      "Found 1 invoices\n"
     ]
    },
    {
     "name": "stdout",
     "output_type": "stream",
     "text": [
      "Completed processing for invoice_id: 14341201. Results saved to invoice_extraction_results_local.csv\n",
      "\n",
      "Processing invoice 1867 of 2000 (ID: 20686942)...\n"
     ]
    },
    {
     "name": "stderr",
     "output_type": "stream",
     "text": [
      "Processing PDF with 1 pages...\n",
      "Processing 1 image(s) with AWS Bedrock...\n",
      "Found 1 invoices\n"
     ]
    },
    {
     "name": "stdout",
     "output_type": "stream",
     "text": [
      "Completed processing for invoice_id: 20686942. Results saved to invoice_extraction_results_local.csv\n",
      "\n",
      "Processing invoice 1868 of 2000 (ID: 20958630)...\n"
     ]
    },
    {
     "name": "stderr",
     "output_type": "stream",
     "text": [
      "Processing PDF with 1 pages...\n",
      "Processing 1 image(s) with AWS Bedrock...\n",
      "Found 1 invoices\n"
     ]
    },
    {
     "name": "stdout",
     "output_type": "stream",
     "text": [
      "Completed processing for invoice_id: 20958630. Results saved to invoice_extraction_results_local.csv\n",
      "\n",
      "Processing invoice 1869 of 2000 (ID: 19913453)...\n",
      "Completed processing for invoice_id: 19913453. Results saved to invoice_extraction_results_local.csv\n",
      "\n",
      "Processing invoice 1870 of 2000 (ID: 14549977)...\n"
     ]
    },
    {
     "name": "stderr",
     "output_type": "stream",
     "text": [
      "Processing PDF with 1 pages...\n",
      "Processing 1 image(s) with AWS Bedrock...\n",
      "Found 1 invoices\n"
     ]
    },
    {
     "name": "stdout",
     "output_type": "stream",
     "text": [
      "Completed processing for invoice_id: 14549977. Results saved to invoice_extraction_results_local.csv\n",
      "\n",
      "Processing invoice 1871 of 2000 (ID: 14413072)...\n"
     ]
    },
    {
     "name": "stderr",
     "output_type": "stream",
     "text": [
      "Processing PDF with 1 pages...\n",
      "Processing 1 image(s) with AWS Bedrock...\n",
      "Found 1 invoices\n"
     ]
    },
    {
     "name": "stdout",
     "output_type": "stream",
     "text": [
      "Completed processing for invoice_id: 14413072. Results saved to invoice_extraction_results_local.csv\n",
      "\n",
      "Processing invoice 1872 of 2000 (ID: 13879751)...\n"
     ]
    },
    {
     "name": "stderr",
     "output_type": "stream",
     "text": [
      "Processing PDF with 2 pages...\n",
      "Processing 2 image(s) with AWS Bedrock...\n",
      "Found 1 invoices\n"
     ]
    },
    {
     "name": "stdout",
     "output_type": "stream",
     "text": [
      "Completed processing for invoice_id: 13879751. Results saved to invoice_extraction_results_local.csv\n",
      "\n",
      "Processing invoice 1873 of 2000 (ID: 13677955)...\n",
      "Completed processing for invoice_id: 13677955. Results saved to invoice_extraction_results_local.csv\n",
      "\n",
      "Processing invoice 1874 of 2000 (ID: 20669293)...\n",
      "Completed processing for invoice_id: 20669293. Results saved to invoice_extraction_results_local.csv\n",
      "\n",
      "Processing invoice 1875 of 2000 (ID: 20814910)...\n",
      "Completed processing for invoice_id: 20814910. Results saved to invoice_extraction_results_local.csv\n",
      "\n",
      "Processing invoice 1876 of 2000 (ID: 21160324)...\n"
     ]
    },
    {
     "name": "stderr",
     "output_type": "stream",
     "text": [
      "Processing PDF with 1 pages...\n",
      "Processing 1 image(s) with AWS Bedrock...\n",
      "Found 1 invoices\n"
     ]
    },
    {
     "name": "stdout",
     "output_type": "stream",
     "text": [
      "Completed processing for invoice_id: 21160324. Results saved to invoice_extraction_results_local.csv\n",
      "\n",
      "Processing invoice 1877 of 2000 (ID: 20116419)...\n"
     ]
    },
    {
     "name": "stderr",
     "output_type": "stream",
     "text": [
      "Processing PDF with 1 pages...\n",
      "Processing 1 image(s) with AWS Bedrock...\n",
      "Found 1 invoices\n"
     ]
    },
    {
     "name": "stdout",
     "output_type": "stream",
     "text": [
      "Completed processing for invoice_id: 20116419. Results saved to invoice_extraction_results_local.csv\n",
      "\n",
      "Processing invoice 1878 of 2000 (ID: 20045659)...\n",
      "Completed processing for invoice_id: 20045659. Results saved to invoice_extraction_results_local.csv\n",
      "\n",
      "Processing invoice 1879 of 2000 (ID: 21258760)...\n",
      "Completed processing for invoice_id: 21258760. Results saved to invoice_extraction_results_local.csv\n",
      "\n",
      "Processing invoice 1880 of 2000 (ID: 13794951)...\n",
      "Completed processing for invoice_id: 13794951. Results saved to invoice_extraction_results_local.csv\n",
      "\n",
      "Processing invoice 1881 of 2000 (ID: 19917190)...\n",
      "Completed processing for invoice_id: 19917190. Results saved to invoice_extraction_results_local.csv\n",
      "\n",
      "Processing invoice 1882 of 2000 (ID: 20024827)...\n"
     ]
    },
    {
     "name": "stderr",
     "output_type": "stream",
     "text": [
      "Processing PDF with 2 pages...\n",
      "Processing 2 image(s) with AWS Bedrock...\n",
      "Found 1 invoices\n"
     ]
    },
    {
     "name": "stdout",
     "output_type": "stream",
     "text": [
      "Completed processing for invoice_id: 20024827. Results saved to invoice_extraction_results_local.csv\n",
      "\n",
      "Processing invoice 1883 of 2000 (ID: 14479734)...\n"
     ]
    },
    {
     "name": "stderr",
     "output_type": "stream",
     "text": [
      "Processing PDF with 1 pages...\n",
      "Processing 1 image(s) with AWS Bedrock...\n",
      "Found 1 invoices\n"
     ]
    },
    {
     "name": "stdout",
     "output_type": "stream",
     "text": [
      "Completed processing for invoice_id: 14479734. Results saved to invoice_extraction_results_local.csv\n",
      "\n",
      "Processing invoice 1884 of 2000 (ID: 14965018)...\n",
      "Completed processing for invoice_id: 14965018. Results saved to invoice_extraction_results_local.csv\n",
      "\n",
      "Processing invoice 1885 of 2000 (ID: 19830690)...\n"
     ]
    },
    {
     "name": "stderr",
     "output_type": "stream",
     "text": [
      "Processing PDF with 1 pages...\n",
      "Processing 1 image(s) with AWS Bedrock...\n",
      "Found 1 invoices\n"
     ]
    },
    {
     "name": "stdout",
     "output_type": "stream",
     "text": [
      "Completed processing for invoice_id: 19830690. Results saved to invoice_extraction_results_local.csv\n",
      "\n",
      "Processing invoice 1886 of 2000 (ID: 13761711)...\n",
      "Completed processing for invoice_id: 13761711. Results saved to invoice_extraction_results_local.csv\n",
      "\n",
      "Processing invoice 1887 of 2000 (ID: 19952290)...\n"
     ]
    },
    {
     "name": "stderr",
     "output_type": "stream",
     "text": [
      "Processing PDF with 1 pages...\n",
      "Processing 1 image(s) with AWS Bedrock...\n",
      "Found 1 invoices\n"
     ]
    },
    {
     "name": "stdout",
     "output_type": "stream",
     "text": [
      "Completed processing for invoice_id: 19952290. Results saved to invoice_extraction_results_local.csv\n",
      "\n",
      "Processing invoice 1888 of 2000 (ID: 20129446)...\n",
      "Completed processing for invoice_id: 20129446. Results saved to invoice_extraction_results_local.csv\n",
      "\n",
      "Processing invoice 1889 of 2000 (ID: 21159014)...\n"
     ]
    },
    {
     "name": "stderr",
     "output_type": "stream",
     "text": [
      "Processing PDF with 1 pages...\n",
      "Processing 1 image(s) with AWS Bedrock...\n",
      "Found 1 invoices\n"
     ]
    },
    {
     "name": "stdout",
     "output_type": "stream",
     "text": [
      "Completed processing for invoice_id: 21159014. Results saved to invoice_extraction_results_local.csv\n",
      "\n",
      "Processing invoice 1890 of 2000 (ID: 13725465)...\n",
      "Completed processing for invoice_id: 13725465. Results saved to invoice_extraction_results_local.csv\n",
      "\n",
      "Processing invoice 1891 of 2000 (ID: 21225809)...\n"
     ]
    },
    {
     "name": "stderr",
     "output_type": "stream",
     "text": [
      "Processing PDF with 1 pages...\n",
      "Processing 1 image(s) with AWS Bedrock...\n",
      "Found 1 invoices\n"
     ]
    },
    {
     "name": "stdout",
     "output_type": "stream",
     "text": [
      "Completed processing for invoice_id: 21225809. Results saved to invoice_extraction_results_local.csv\n",
      "\n",
      "Processing invoice 1892 of 2000 (ID: 14767187)...\n",
      "Completed processing for invoice_id: 14767187. Results saved to invoice_extraction_results_local.csv\n",
      "\n",
      "Processing invoice 1893 of 2000 (ID: 14746666)...\n",
      "Completed processing for invoice_id: 14746666. Results saved to invoice_extraction_results_local.csv\n",
      "\n",
      "Processing invoice 1894 of 2000 (ID: 20697031)...\n"
     ]
    },
    {
     "name": "stderr",
     "output_type": "stream",
     "text": [
      "Processing PDF with 1 pages...\n",
      "Processing 1 image(s) with AWS Bedrock...\n",
      "Found 1 invoices\n"
     ]
    },
    {
     "name": "stdout",
     "output_type": "stream",
     "text": [
      "Completed processing for invoice_id: 20697031. Results saved to invoice_extraction_results_local.csv\n",
      "\n",
      "Processing invoice 1895 of 2000 (ID: 13893850)...\n"
     ]
    },
    {
     "name": "stderr",
     "output_type": "stream",
     "text": [
      "Processing PDF with 1 pages...\n",
      "Processing 1 image(s) with AWS Bedrock...\n",
      "Found 1 invoices\n"
     ]
    },
    {
     "name": "stdout",
     "output_type": "stream",
     "text": [
      "Completed processing for invoice_id: 13893850. Results saved to invoice_extraction_results_local.csv\n",
      "\n",
      "Processing invoice 1896 of 2000 (ID: 20809991)...\n"
     ]
    },
    {
     "name": "stderr",
     "output_type": "stream",
     "text": [
      "Processing PDF with 1 pages...\n",
      "Processing 1 image(s) with AWS Bedrock...\n",
      "Found 1 invoices\n"
     ]
    },
    {
     "name": "stdout",
     "output_type": "stream",
     "text": [
      "Completed processing for invoice_id: 20809991. Results saved to invoice_extraction_results_local.csv\n",
      "\n",
      "Processing invoice 1897 of 2000 (ID: 14609938)...\n",
      "Completed processing for invoice_id: 14609938. Results saved to invoice_extraction_results_local.csv\n",
      "\n",
      "Processing invoice 1898 of 2000 (ID: 13790055)...\n",
      "Completed processing for invoice_id: 13790055. Results saved to invoice_extraction_results_local.csv\n",
      "\n",
      "Processing invoice 1899 of 2000 (ID: 13793641)...\n",
      "Completed processing for invoice_id: 13793641. Results saved to invoice_extraction_results_local.csv\n",
      "\n",
      "Processing invoice 1900 of 2000 (ID: 13848259)...\n"
     ]
    },
    {
     "name": "stderr",
     "output_type": "stream",
     "text": [
      "Processing PDF with 1 pages...\n",
      "Processing 1 image(s) with AWS Bedrock...\n",
      "Found 1 invoices\n"
     ]
    },
    {
     "name": "stdout",
     "output_type": "stream",
     "text": [
      "Completed processing for invoice_id: 13848259. Results saved to invoice_extraction_results_local.csv\n",
      "\n",
      "Processing invoice 1901 of 2000 (ID: 20391747)...\n",
      "Completed processing for invoice_id: 20391747. Results saved to invoice_extraction_results_local.csv\n",
      "\n",
      "Processing invoice 1902 of 2000 (ID: 14498174)...\n"
     ]
    },
    {
     "name": "stderr",
     "output_type": "stream",
     "text": [
      "Processing PDF with 2 pages...\n",
      "Processing 2 image(s) with AWS Bedrock...\n",
      "Found 1 invoices\n"
     ]
    },
    {
     "name": "stdout",
     "output_type": "stream",
     "text": [
      "Completed processing for invoice_id: 14498174. Results saved to invoice_extraction_results_local.csv\n",
      "\n",
      "Processing invoice 1903 of 2000 (ID: 14285993)...\n"
     ]
    },
    {
     "name": "stderr",
     "output_type": "stream",
     "text": [
      "Processing PDF with 2 pages...\n",
      "Processing 2 image(s) with AWS Bedrock...\n",
      "Error calling Bedrock: Unterminated string starting at: line 107 column 17 (char 3401)\n"
     ]
    },
    {
     "name": "stdout",
     "output_type": "stream",
     "text": [
      "Completed processing for invoice_id: 14285993. Results saved to invoice_extraction_results_local.csv\n",
      "\n",
      "Processing invoice 1904 of 2000 (ID: 20406750)...\n",
      "Completed processing for invoice_id: 20406750. Results saved to invoice_extraction_results_local.csv\n",
      "\n",
      "Processing invoice 1905 of 2000 (ID: 14683971)...\n"
     ]
    },
    {
     "name": "stderr",
     "output_type": "stream",
     "text": [
      "Processing PDF with 2 pages...\n",
      "Processing 2 image(s) with AWS Bedrock...\n",
      "Found 1 invoices\n"
     ]
    },
    {
     "name": "stdout",
     "output_type": "stream",
     "text": [
      "Completed processing for invoice_id: 14683971. Results saved to invoice_extraction_results_local.csv\n",
      "\n",
      "Processing invoice 1906 of 2000 (ID: 19954030)...\n"
     ]
    },
    {
     "name": "stderr",
     "output_type": "stream",
     "text": [
      "Processing PDF with 1 pages...\n",
      "Processing 1 image(s) with AWS Bedrock...\n",
      "Found 1 invoices\n"
     ]
    },
    {
     "name": "stdout",
     "output_type": "stream",
     "text": [
      "Completed processing for invoice_id: 19954030. Results saved to invoice_extraction_results_local.csv\n",
      "\n",
      "Processing invoice 1907 of 2000 (ID: 14508580)...\n",
      "Completed processing for invoice_id: 14508580. Results saved to invoice_extraction_results_local.csv\n",
      "\n",
      "Processing invoice 1908 of 2000 (ID: 13721523)...\n",
      "Completed processing for invoice_id: 13721523. Results saved to invoice_extraction_results_local.csv\n",
      "\n",
      "Processing invoice 1909 of 2000 (ID: 14699120)...\n"
     ]
    },
    {
     "name": "stderr",
     "output_type": "stream",
     "text": [
      "Processing PDF with 1 pages...\n",
      "Processing 1 image(s) with AWS Bedrock...\n",
      "Found 1 invoices\n"
     ]
    },
    {
     "name": "stdout",
     "output_type": "stream",
     "text": [
      "Completed processing for invoice_id: 14699120. Results saved to invoice_extraction_results_local.csv\n",
      "\n",
      "Processing invoice 1910 of 2000 (ID: 14560935)...\n",
      "Completed processing for invoice_id: 14560935. Results saved to invoice_extraction_results_local.csv\n",
      "\n",
      "Processing invoice 1911 of 2000 (ID: 19903688)...\n"
     ]
    },
    {
     "name": "stderr",
     "output_type": "stream",
     "text": [
      "Processing PDF with 1 pages...\n",
      "Processing 1 image(s) with AWS Bedrock...\n",
      "Found 1 invoices\n"
     ]
    },
    {
     "name": "stdout",
     "output_type": "stream",
     "text": [
      "Completed processing for invoice_id: 19903688. Results saved to invoice_extraction_results_local.csv\n",
      "\n",
      "Processing invoice 1912 of 2000 (ID: 13936772)...\n"
     ]
    },
    {
     "name": "stderr",
     "output_type": "stream",
     "text": [
      "Processing PDF with 1 pages...\n",
      "Processing 1 image(s) with AWS Bedrock...\n",
      "Found 1 invoices\n"
     ]
    },
    {
     "name": "stdout",
     "output_type": "stream",
     "text": [
      "Completed processing for invoice_id: 13936772. Results saved to invoice_extraction_results_local.csv\n",
      "\n",
      "Processing invoice 1913 of 2000 (ID: 20300364)...\n",
      "Completed processing for invoice_id: 20300364. Results saved to invoice_extraction_results_local.csv\n",
      "\n",
      "Processing invoice 1914 of 2000 (ID: 19860612)...\n"
     ]
    },
    {
     "name": "stderr",
     "output_type": "stream",
     "text": [
      "Processing PDF with 1 pages...\n",
      "Processing 1 image(s) with AWS Bedrock...\n",
      "Found 1 invoices\n"
     ]
    },
    {
     "name": "stdout",
     "output_type": "stream",
     "text": [
      "Completed processing for invoice_id: 19860612. Results saved to invoice_extraction_results_local.csv\n",
      "\n",
      "Processing invoice 1915 of 2000 (ID: 19959266)...\n",
      "Completed processing for invoice_id: 19959266. Results saved to invoice_extraction_results_local.csv\n",
      "\n",
      "Processing invoice 1916 of 2000 (ID: 20844265)...\n",
      "Completed processing for invoice_id: 20844265. Results saved to invoice_extraction_results_local.csv\n",
      "\n",
      "Processing invoice 1917 of 2000 (ID: 20162330)...\n"
     ]
    },
    {
     "name": "stderr",
     "output_type": "stream",
     "text": [
      "Processing PDF with 1 pages...\n",
      "Processing 1 image(s) with AWS Bedrock...\n",
      "Found 1 invoices\n"
     ]
    },
    {
     "name": "stdout",
     "output_type": "stream",
     "text": [
      "Completed processing for invoice_id: 20162330. Results saved to invoice_extraction_results_local.csv\n",
      "\n",
      "Processing invoice 1918 of 2000 (ID: 20203009)...\n"
     ]
    },
    {
     "name": "stderr",
     "output_type": "stream",
     "text": [
      "Processing PDF with 1 pages...\n",
      "Processing 1 image(s) with AWS Bedrock...\n",
      "Found 1 invoices\n"
     ]
    },
    {
     "name": "stdout",
     "output_type": "stream",
     "text": [
      "Completed processing for invoice_id: 20203009. Results saved to invoice_extraction_results_local.csv\n",
      "\n",
      "Processing invoice 1919 of 2000 (ID: 14336867)...\n"
     ]
    },
    {
     "name": "stderr",
     "output_type": "stream",
     "text": [
      "Processing PDF with 1 pages...\n",
      "Processing 1 image(s) with AWS Bedrock...\n",
      "Found 1 invoices\n"
     ]
    },
    {
     "name": "stdout",
     "output_type": "stream",
     "text": [
      "Completed processing for invoice_id: 14336867. Results saved to invoice_extraction_results_local.csv\n",
      "\n",
      "Processing invoice 1920 of 2000 (ID: 14464184)...\n",
      "Completed processing for invoice_id: 14464184. Results saved to invoice_extraction_results_local.csv\n",
      "\n",
      "Processing invoice 1921 of 2000 (ID: 20830423)...\n"
     ]
    },
    {
     "name": "stderr",
     "output_type": "stream",
     "text": [
      "Processing PDF with 1 pages...\n",
      "Processing 1 image(s) with AWS Bedrock...\n",
      "Found 1 invoices\n"
     ]
    },
    {
     "name": "stdout",
     "output_type": "stream",
     "text": [
      "Completed processing for invoice_id: 20830423. Results saved to invoice_extraction_results_local.csv\n",
      "\n",
      "Processing invoice 1922 of 2000 (ID: 13863344)...\n"
     ]
    },
    {
     "name": "stderr",
     "output_type": "stream",
     "text": [
      "Processing PDF with 1 pages...\n",
      "Processing 1 image(s) with AWS Bedrock...\n",
      "Found 1 invoices\n"
     ]
    },
    {
     "name": "stdout",
     "output_type": "stream",
     "text": [
      "Completed processing for invoice_id: 13863344. Results saved to invoice_extraction_results_local.csv\n",
      "\n",
      "Processing invoice 1923 of 2000 (ID: 20033186)...\n",
      "Completed processing for invoice_id: 20033186. Results saved to invoice_extraction_results_local.csv\n",
      "\n",
      "Processing invoice 1924 of 2000 (ID: 20898385)...\n",
      "Completed processing for invoice_id: 20898385. Results saved to invoice_extraction_results_local.csv\n",
      "\n",
      "Processing invoice 1925 of 2000 (ID: 14867893)...\n",
      "Completed processing for invoice_id: 14867893. Results saved to invoice_extraction_results_local.csv\n",
      "\n",
      "Processing invoice 1926 of 2000 (ID: 13955812)...\n",
      "Completed processing for invoice_id: 13955812. Results saved to invoice_extraction_results_local.csv\n",
      "\n",
      "Processing invoice 1927 of 2000 (ID: 19953551)...\n"
     ]
    },
    {
     "name": "stderr",
     "output_type": "stream",
     "text": [
      "Processing PDF with 1 pages...\n",
      "Processing 1 image(s) with AWS Bedrock...\n",
      "Found 1 invoices\n"
     ]
    },
    {
     "name": "stdout",
     "output_type": "stream",
     "text": [
      "Completed processing for invoice_id: 19953551. Results saved to invoice_extraction_results_local.csv\n",
      "\n",
      "Processing invoice 1928 of 2000 (ID: 14906884)...\n"
     ]
    },
    {
     "name": "stderr",
     "output_type": "stream",
     "text": [
      "Processing PDF with 1 pages...\n",
      "Processing 1 image(s) with AWS Bedrock...\n",
      "Found 1 invoices\n"
     ]
    },
    {
     "name": "stdout",
     "output_type": "stream",
     "text": [
      "Completed processing for invoice_id: 14906884. Results saved to invoice_extraction_results_local.csv\n",
      "\n",
      "Processing invoice 1929 of 2000 (ID: 14293763)...\n",
      "Completed processing for invoice_id: 14293763. Results saved to invoice_extraction_results_local.csv\n",
      "\n",
      "Processing invoice 1930 of 2000 (ID: 14647233)...\n",
      "Completed processing for invoice_id: 14647233. Results saved to invoice_extraction_results_local.csv\n",
      "\n",
      "Processing invoice 1931 of 2000 (ID: 14860600)...\n",
      "Completed processing for invoice_id: 14860600. Results saved to invoice_extraction_results_local.csv\n",
      "\n",
      "Processing invoice 1932 of 2000 (ID: 16937834)...\n"
     ]
    },
    {
     "name": "stderr",
     "output_type": "stream",
     "text": [
      "Processing PDF with 1 pages...\n",
      "Processing 1 image(s) with AWS Bedrock...\n",
      "Found 1 invoices\n"
     ]
    },
    {
     "name": "stdout",
     "output_type": "stream",
     "text": [
      "Completed processing for invoice_id: 16937834. Results saved to invoice_extraction_results_local.csv\n",
      "\n",
      "Processing invoice 1933 of 2000 (ID: 14053087)...\n",
      "Completed processing for invoice_id: 14053087. Results saved to invoice_extraction_results_local.csv\n",
      "\n",
      "Processing invoice 1934 of 2000 (ID: 20005978)...\n",
      "Completed processing for invoice_id: 20005978. Results saved to invoice_extraction_results_local.csv\n",
      "\n",
      "Processing invoice 1935 of 2000 (ID: 17173955)...\n"
     ]
    },
    {
     "name": "stderr",
     "output_type": "stream",
     "text": [
      "Processing PDF with 7 pages...\n",
      "Processing 7 image(s) with AWS Bedrock...\n",
      "Error calling Bedrock: Expecting ',' delimiter: line 116 column 17 (char 3903)\n"
     ]
    },
    {
     "name": "stdout",
     "output_type": "stream",
     "text": [
      "Completed processing for invoice_id: 17173955. Results saved to invoice_extraction_results_local.csv\n",
      "\n",
      "Processing invoice 1936 of 2000 (ID: 20727063)...\n"
     ]
    },
    {
     "name": "stderr",
     "output_type": "stream",
     "text": [
      "Processing PDF with 1 pages...\n",
      "Processing 1 image(s) with AWS Bedrock...\n",
      "Found 1 invoices\n"
     ]
    },
    {
     "name": "stdout",
     "output_type": "stream",
     "text": [
      "Completed processing for invoice_id: 20727063. Results saved to invoice_extraction_results_local.csv\n",
      "\n",
      "Processing invoice 1937 of 2000 (ID: 19855163)...\n",
      "Completed processing for invoice_id: 19855163. Results saved to invoice_extraction_results_local.csv\n",
      "\n",
      "Processing invoice 1938 of 2000 (ID: 19804617)...\n",
      "Completed processing for invoice_id: 19804617. Results saved to invoice_extraction_results_local.csv\n",
      "\n",
      "Processing invoice 1939 of 2000 (ID: 20423961)...\n"
     ]
    },
    {
     "name": "stderr",
     "output_type": "stream",
     "text": [
      "Processing PDF with 1 pages...\n",
      "Processing 1 image(s) with AWS Bedrock...\n",
      "Found 1 invoices\n"
     ]
    },
    {
     "name": "stdout",
     "output_type": "stream",
     "text": [
      "Completed processing for invoice_id: 20423961. Results saved to invoice_extraction_results_local.csv\n",
      "\n",
      "Processing invoice 1940 of 2000 (ID: 14364076)...\n"
     ]
    },
    {
     "name": "stderr",
     "output_type": "stream",
     "text": [
      "Processing PDF with 1 pages...\n",
      "Processing 1 image(s) with AWS Bedrock...\n",
      "Found 1 invoices\n"
     ]
    },
    {
     "name": "stdout",
     "output_type": "stream",
     "text": [
      "Completed processing for invoice_id: 14364076. Results saved to invoice_extraction_results_local.csv\n",
      "\n",
      "Processing invoice 1941 of 2000 (ID: 14314413)...\n",
      "Completed processing for invoice_id: 14314413. Results saved to invoice_extraction_results_local.csv\n",
      "\n",
      "Processing invoice 1942 of 2000 (ID: 13901387)...\n",
      "Completed processing for invoice_id: 13901387. Results saved to invoice_extraction_results_local.csv\n",
      "\n",
      "Processing invoice 1943 of 2000 (ID: 14390888)...\n"
     ]
    },
    {
     "name": "stderr",
     "output_type": "stream",
     "text": [
      "Processing PDF with 1 pages...\n",
      "Processing 1 image(s) with AWS Bedrock...\n",
      "Found 1 invoices\n"
     ]
    },
    {
     "name": "stdout",
     "output_type": "stream",
     "text": [
      "Completed processing for invoice_id: 14390888. Results saved to invoice_extraction_results_local.csv\n",
      "\n",
      "Processing invoice 1944 of 2000 (ID: 21141976)...\n"
     ]
    },
    {
     "name": "stderr",
     "output_type": "stream",
     "text": [
      "Processing PDF with 1 pages...\n",
      "Processing 1 image(s) with AWS Bedrock...\n",
      "Found 1 invoices\n"
     ]
    },
    {
     "name": "stdout",
     "output_type": "stream",
     "text": [
      "Completed processing for invoice_id: 21141976. Results saved to invoice_extraction_results_local.csv\n",
      "\n",
      "Processing invoice 1945 of 2000 (ID: 20751850)...\n"
     ]
    },
    {
     "name": "stderr",
     "output_type": "stream",
     "text": [
      "Processing PDF with 2 pages...\n",
      "Processing 2 image(s) with AWS Bedrock...\n",
      "Found 1 invoices\n"
     ]
    },
    {
     "name": "stdout",
     "output_type": "stream",
     "text": [
      "Completed processing for invoice_id: 20751850. Results saved to invoice_extraction_results_local.csv\n",
      "\n",
      "Processing invoice 1946 of 2000 (ID: 20721578)...\n",
      "Completed processing for invoice_id: 20721578. Results saved to invoice_extraction_results_local.csv\n",
      "\n",
      "Processing invoice 1947 of 2000 (ID: 20856781)...\n",
      "Completed processing for invoice_id: 20856781. Results saved to invoice_extraction_results_local.csv\n",
      "\n",
      "Processing invoice 1948 of 2000 (ID: 13826924)...\n",
      "Completed processing for invoice_id: 13826924. Results saved to invoice_extraction_results_local.csv\n",
      "\n",
      "Processing invoice 1949 of 2000 (ID: 20162307)...\n"
     ]
    },
    {
     "name": "stderr",
     "output_type": "stream",
     "text": [
      "Processing PDF with 1 pages...\n",
      "Processing 1 image(s) with AWS Bedrock...\n",
      "Found 1 invoices\n"
     ]
    },
    {
     "name": "stdout",
     "output_type": "stream",
     "text": [
      "Completed processing for invoice_id: 20162307. Results saved to invoice_extraction_results_local.csv\n",
      "\n",
      "Processing invoice 1950 of 2000 (ID: 14980035)...\n"
     ]
    },
    {
     "name": "stderr",
     "output_type": "stream",
     "text": [
      "Processing PDF with 1 pages...\n",
      "Processing 1 image(s) with AWS Bedrock...\n",
      "Found 1 invoices\n"
     ]
    },
    {
     "name": "stdout",
     "output_type": "stream",
     "text": [
      "Completed processing for invoice_id: 14980035. Results saved to invoice_extraction_results_local.csv\n",
      "\n",
      "Processing invoice 1951 of 2000 (ID: 14637719)...\n",
      "Completed processing for invoice_id: 14637719. Results saved to invoice_extraction_results_local.csv\n",
      "\n",
      "Processing invoice 1952 of 2000 (ID: 20329053)...\n"
     ]
    },
    {
     "name": "stderr",
     "output_type": "stream",
     "text": [
      "Processing PDF with 1 pages...\n",
      "Processing 1 image(s) with AWS Bedrock...\n",
      "Found 1 invoices\n"
     ]
    },
    {
     "name": "stdout",
     "output_type": "stream",
     "text": [
      "Completed processing for invoice_id: 20329053. Results saved to invoice_extraction_results_local.csv\n",
      "\n",
      "Processing invoice 1953 of 2000 (ID: 13726948)...\n",
      "Completed processing for invoice_id: 13726948. Results saved to invoice_extraction_results_local.csv\n",
      "\n",
      "Processing invoice 1954 of 2000 (ID: 20837365)...\n"
     ]
    },
    {
     "name": "stderr",
     "output_type": "stream",
     "text": [
      "Processing PDF with 1 pages...\n",
      "Processing 1 image(s) with AWS Bedrock...\n",
      "Found 1 invoices\n"
     ]
    },
    {
     "name": "stdout",
     "output_type": "stream",
     "text": [
      "Completed processing for invoice_id: 20837365. Results saved to invoice_extraction_results_local.csv\n",
      "\n",
      "Processing invoice 1955 of 2000 (ID: 13698557)...\n",
      "Completed processing for invoice_id: 13698557. Results saved to invoice_extraction_results_local.csv\n",
      "\n",
      "Processing invoice 1956 of 2000 (ID: 14784068)...\n"
     ]
    },
    {
     "name": "stderr",
     "output_type": "stream",
     "text": [
      "Processing PDF with 1 pages...\n",
      "Processing 1 image(s) with AWS Bedrock...\n",
      "Found 1 invoices\n"
     ]
    },
    {
     "name": "stdout",
     "output_type": "stream",
     "text": [
      "Completed processing for invoice_id: 14784068. Results saved to invoice_extraction_results_local.csv\n",
      "\n",
      "Processing invoice 1957 of 2000 (ID: 13856263)...\n",
      "Completed processing for invoice_id: 13856263. Results saved to invoice_extraction_results_local.csv\n",
      "\n",
      "Processing invoice 1958 of 2000 (ID: 20885182)...\n"
     ]
    },
    {
     "name": "stderr",
     "output_type": "stream",
     "text": [
      "Processing PDF with 2 pages...\n",
      "Processing 2 image(s) with AWS Bedrock...\n",
      "Error calling Bedrock: Expecting value: line 107 column 30 (char 3535)\n"
     ]
    },
    {
     "name": "stdout",
     "output_type": "stream",
     "text": [
      "Completed processing for invoice_id: 20885182. Results saved to invoice_extraction_results_local.csv\n",
      "\n",
      "Processing invoice 1959 of 2000 (ID: 14931128)...\n",
      "Completed processing for invoice_id: 14931128. Results saved to invoice_extraction_results_local.csv\n",
      "\n",
      "Processing invoice 1960 of 2000 (ID: 13958281)...\n"
     ]
    },
    {
     "name": "stderr",
     "output_type": "stream",
     "text": [
      "Processing PDF with 1 pages...\n",
      "Processing 1 image(s) with AWS Bedrock...\n",
      "Found 1 invoices\n"
     ]
    },
    {
     "name": "stdout",
     "output_type": "stream",
     "text": [
      "Completed processing for invoice_id: 13958281. Results saved to invoice_extraction_results_local.csv\n",
      "\n",
      "Processing invoice 1961 of 2000 (ID: 20228790)...\n",
      "Completed processing for invoice_id: 20228790. Results saved to invoice_extraction_results_local.csv\n",
      "\n",
      "Processing invoice 1962 of 2000 (ID: 20716271)...\n"
     ]
    },
    {
     "name": "stderr",
     "output_type": "stream",
     "text": [
      "Processing PDF with 1 pages...\n",
      "Processing 1 image(s) with AWS Bedrock...\n",
      "Found 1 invoices\n"
     ]
    },
    {
     "name": "stdout",
     "output_type": "stream",
     "text": [
      "Completed processing for invoice_id: 20716271. Results saved to invoice_extraction_results_local.csv\n",
      "\n",
      "Processing invoice 1963 of 2000 (ID: 13852120)...\n",
      "Completed processing for invoice_id: 13852120. Results saved to invoice_extraction_results_local.csv\n",
      "\n",
      "Processing invoice 1964 of 2000 (ID: 20827108)...\n"
     ]
    },
    {
     "name": "stderr",
     "output_type": "stream",
     "text": [
      "Processing PDF with 1 pages...\n",
      "Processing 1 image(s) with AWS Bedrock...\n",
      "Found 1 invoices\n"
     ]
    },
    {
     "name": "stdout",
     "output_type": "stream",
     "text": [
      "Completed processing for invoice_id: 20827108. Results saved to invoice_extraction_results_local.csv\n",
      "\n",
      "Processing invoice 1965 of 2000 (ID: 14632548)...\n",
      "Completed processing for invoice_id: 14632548. Results saved to invoice_extraction_results_local.csv\n",
      "\n",
      "Processing invoice 1966 of 2000 (ID: 19996480)...\n"
     ]
    },
    {
     "name": "stderr",
     "output_type": "stream",
     "text": [
      "Processing PDF with 1 pages...\n",
      "Processing 1 image(s) with AWS Bedrock...\n",
      "Found 1 invoices\n"
     ]
    },
    {
     "name": "stdout",
     "output_type": "stream",
     "text": [
      "Completed processing for invoice_id: 19996480. Results saved to invoice_extraction_results_local.csv\n",
      "\n",
      "Processing invoice 1967 of 2000 (ID: 20388325)...\n",
      "Completed processing for invoice_id: 20388325. Results saved to invoice_extraction_results_local.csv\n",
      "\n",
      "Processing invoice 1968 of 2000 (ID: 14065476)...\n",
      "Completed processing for invoice_id: 14065476. Results saved to invoice_extraction_results_local.csv\n",
      "\n",
      "Processing invoice 1969 of 2000 (ID: 20768604)...\n"
     ]
    },
    {
     "name": "stderr",
     "output_type": "stream",
     "text": [
      "Processing PDF with 3 pages...\n",
      "Processing 3 image(s) with AWS Bedrock...\n",
      "Found 1 invoices\n"
     ]
    },
    {
     "name": "stdout",
     "output_type": "stream",
     "text": [
      "Completed processing for invoice_id: 20768604. Results saved to invoice_extraction_results_local.csv\n",
      "\n",
      "Processing invoice 1970 of 2000 (ID: 14744223)...\n",
      "Completed processing for invoice_id: 14744223. Results saved to invoice_extraction_results_local.csv\n",
      "\n",
      "Processing invoice 1971 of 2000 (ID: 14009181)...\n",
      "Completed processing for invoice_id: 14009181. Results saved to invoice_extraction_results_local.csv\n",
      "\n",
      "Processing invoice 1972 of 2000 (ID: 20405722)...\n",
      "Completed processing for invoice_id: 20405722. Results saved to invoice_extraction_results_local.csv\n",
      "\n",
      "Processing invoice 1973 of 2000 (ID: 13920853)...\n",
      "Completed processing for invoice_id: 13920853. Results saved to invoice_extraction_results_local.csv\n",
      "\n",
      "Processing invoice 1974 of 2000 (ID: 20051533)...\n"
     ]
    },
    {
     "name": "stderr",
     "output_type": "stream",
     "text": [
      "Processing PDF with 1 pages...\n",
      "Processing 1 image(s) with AWS Bedrock...\n",
      "Found 1 invoices\n"
     ]
    },
    {
     "name": "stdout",
     "output_type": "stream",
     "text": [
      "Completed processing for invoice_id: 20051533. Results saved to invoice_extraction_results_local.csv\n",
      "\n",
      "Processing invoice 1975 of 2000 (ID: 19767683)...\n",
      "Completed processing for invoice_id: 19767683. Results saved to invoice_extraction_results_local.csv\n",
      "\n",
      "Processing invoice 1976 of 2000 (ID: 14814299)...\n"
     ]
    },
    {
     "name": "stderr",
     "output_type": "stream",
     "text": [
      "Processing PDF with 1 pages...\n",
      "Processing 1 image(s) with AWS Bedrock...\n",
      "Found 1 invoices\n"
     ]
    },
    {
     "name": "stdout",
     "output_type": "stream",
     "text": [
      "Completed processing for invoice_id: 14814299. Results saved to invoice_extraction_results_local.csv\n",
      "\n",
      "Processing invoice 1977 of 2000 (ID: 13753788)...\n",
      "Completed processing for invoice_id: 13753788. Results saved to invoice_extraction_results_local.csv\n",
      "\n",
      "Processing invoice 1978 of 2000 (ID: 21030125)...\n"
     ]
    },
    {
     "name": "stderr",
     "output_type": "stream",
     "text": [
      "Processing PDF with 8 pages...\n",
      "Processing 8 image(s) with AWS Bedrock...\n",
      "Error calling Bedrock: Expecting ',' delimiter: line 97 column 36 (char 3599)\n"
     ]
    },
    {
     "name": "stdout",
     "output_type": "stream",
     "text": [
      "Completed processing for invoice_id: 21030125. Results saved to invoice_extraction_results_local.csv\n",
      "\n",
      "Processing invoice 1979 of 2000 (ID: 20318840)...\n"
     ]
    },
    {
     "name": "stderr",
     "output_type": "stream",
     "text": [
      "Processing PDF with 1 pages...\n",
      "Processing 1 image(s) with AWS Bedrock...\n",
      "Found 1 invoices\n"
     ]
    },
    {
     "name": "stdout",
     "output_type": "stream",
     "text": [
      "Completed processing for invoice_id: 20318840. Results saved to invoice_extraction_results_local.csv\n",
      "\n",
      "Processing invoice 1980 of 2000 (ID: 20221292)...\n",
      "Completed processing for invoice_id: 20221292. Results saved to invoice_extraction_results_local.csv\n",
      "\n",
      "Processing invoice 1981 of 2000 (ID: 20795295)...\n",
      "Completed processing for invoice_id: 20795295. Results saved to invoice_extraction_results_local.csv\n",
      "\n",
      "Processing invoice 1982 of 2000 (ID: 13740489)...\n",
      "Completed processing for invoice_id: 13740489. Results saved to invoice_extraction_results_local.csv\n",
      "\n",
      "Processing invoice 1983 of 2000 (ID: 19929385)...\n"
     ]
    },
    {
     "name": "stderr",
     "output_type": "stream",
     "text": [
      "Processing PDF with 1 pages...\n",
      "Processing 1 image(s) with AWS Bedrock...\n",
      "Found 1 invoices\n"
     ]
    },
    {
     "name": "stdout",
     "output_type": "stream",
     "text": [
      "Completed processing for invoice_id: 19929385. Results saved to invoice_extraction_results_local.csv\n",
      "\n",
      "Processing invoice 1984 of 2000 (ID: 14453429)...\n",
      "Completed processing for invoice_id: 14453429. Results saved to invoice_extraction_results_local.csv\n",
      "\n",
      "Processing invoice 1985 of 2000 (ID: 14468846)...\n"
     ]
    },
    {
     "name": "stderr",
     "output_type": "stream",
     "text": [
      "Processing PDF with 1 pages...\n",
      "Processing 1 image(s) with AWS Bedrock...\n",
      "Found 1 invoices\n"
     ]
    },
    {
     "name": "stdout",
     "output_type": "stream",
     "text": [
      "Completed processing for invoice_id: 14468846. Results saved to invoice_extraction_results_local.csv\n",
      "\n",
      "Processing invoice 1986 of 2000 (ID: 14102579)...\n",
      "Completed processing for invoice_id: 14102579. Results saved to invoice_extraction_results_local.csv\n",
      "\n",
      "Processing invoice 1987 of 2000 (ID: 14628398)...\n",
      "Completed processing for invoice_id: 14628398. Results saved to invoice_extraction_results_local.csv\n",
      "\n",
      "Processing invoice 1988 of 2000 (ID: 19863181)...\n"
     ]
    },
    {
     "name": "stderr",
     "output_type": "stream",
     "text": [
      "Processing PDF with 1 pages...\n",
      "Processing 1 image(s) with AWS Bedrock...\n",
      "Found 1 invoices\n"
     ]
    },
    {
     "name": "stdout",
     "output_type": "stream",
     "text": [
      "Completed processing for invoice_id: 19863181. Results saved to invoice_extraction_results_local.csv\n",
      "\n",
      "Processing invoice 1989 of 2000 (ID: 14322728)...\n"
     ]
    },
    {
     "name": "stderr",
     "output_type": "stream",
     "text": [
      "Processing PDF with 1 pages...\n",
      "Processing 1 image(s) with AWS Bedrock...\n",
      "Found 1 invoices\n"
     ]
    },
    {
     "name": "stdout",
     "output_type": "stream",
     "text": [
      "Completed processing for invoice_id: 14322728. Results saved to invoice_extraction_results_local.csv\n",
      "\n",
      "Processing invoice 1990 of 2000 (ID: 20829177)...\n"
     ]
    },
    {
     "name": "stderr",
     "output_type": "stream",
     "text": [
      "Processing PDF with 1 pages...\n",
      "Processing 1 image(s) with AWS Bedrock...\n",
      "Found 1 invoices\n"
     ]
    },
    {
     "name": "stdout",
     "output_type": "stream",
     "text": [
      "Completed processing for invoice_id: 20829177. Results saved to invoice_extraction_results_local.csv\n",
      "\n",
      "Processing invoice 1991 of 2000 (ID: 20055743)...\n",
      "Completed processing for invoice_id: 20055743. Results saved to invoice_extraction_results_local.csv\n",
      "\n",
      "Processing invoice 1992 of 2000 (ID: 14705156)...\n",
      "Completed processing for invoice_id: 14705156. Results saved to invoice_extraction_results_local.csv\n",
      "\n",
      "Processing invoice 1993 of 2000 (ID: 13746671)...\n"
     ]
    },
    {
     "name": "stderr",
     "output_type": "stream",
     "text": [
      "Processing PDF with 1 pages...\n",
      "Processing 1 image(s) with AWS Bedrock...\n",
      "Found 1 invoices\n"
     ]
    },
    {
     "name": "stdout",
     "output_type": "stream",
     "text": [
      "Completed processing for invoice_id: 13746671. Results saved to invoice_extraction_results_local.csv\n",
      "\n",
      "Processing invoice 1994 of 2000 (ID: 14263484)...\n"
     ]
    },
    {
     "name": "stderr",
     "output_type": "stream",
     "text": [
      "Processing PDF with 2 pages...\n",
      "Processing 2 image(s) with AWS Bedrock...\n",
      "Found 1 invoices\n"
     ]
    },
    {
     "name": "stdout",
     "output_type": "stream",
     "text": [
      "Completed processing for invoice_id: 14263484. Results saved to invoice_extraction_results_local.csv\n",
      "\n",
      "Processing invoice 1995 of 2000 (ID: 20058100)...\n"
     ]
    },
    {
     "name": "stderr",
     "output_type": "stream",
     "text": [
      "Processing PDF with 1 pages...\n",
      "Processing 1 image(s) with AWS Bedrock...\n",
      "Found 1 invoices\n"
     ]
    },
    {
     "name": "stdout",
     "output_type": "stream",
     "text": [
      "Completed processing for invoice_id: 20058100. Results saved to invoice_extraction_results_local.csv\n",
      "\n",
      "Processing invoice 1996 of 2000 (ID: 15644179)...\n"
     ]
    },
    {
     "name": "stderr",
     "output_type": "stream",
     "text": [
      "Processing PDF with 6 pages...\n",
      "Processing 6 image(s) with AWS Bedrock...\n",
      "Error calling Bedrock: Expecting property name enclosed in double quotes: line 102 column 17 (char 3360)\n"
     ]
    },
    {
     "name": "stdout",
     "output_type": "stream",
     "text": [
      "Completed processing for invoice_id: 15644179. Results saved to invoice_extraction_results_local.csv\n",
      "\n",
      "Processing invoice 1997 of 2000 (ID: 20885052)...\n"
     ]
    },
    {
     "name": "stderr",
     "output_type": "stream",
     "text": [
      "Processing PDF with 1 pages...\n",
      "Processing 1 image(s) with AWS Bedrock...\n",
      "Found 1 invoices\n"
     ]
    },
    {
     "name": "stdout",
     "output_type": "stream",
     "text": [
      "Completed processing for invoice_id: 20885052. Results saved to invoice_extraction_results_local.csv\n",
      "\n",
      "Processing invoice 1998 of 2000 (ID: 18865604)...\n"
     ]
    },
    {
     "name": "stderr",
     "output_type": "stream",
     "text": [
      "Processing PDF with 1 pages...\n",
      "Processing 1 image(s) with AWS Bedrock...\n",
      "Found 1 invoices\n"
     ]
    },
    {
     "name": "stdout",
     "output_type": "stream",
     "text": [
      "Completed processing for invoice_id: 18865604. Results saved to invoice_extraction_results_local.csv\n",
      "\n",
      "Processing invoice 1999 of 2000 (ID: 20388155)...\n",
      "Completed processing for invoice_id: 20388155. Results saved to invoice_extraction_results_local.csv\n",
      "\n",
      "Processing invoice 2000 of 2000 (ID: 14802583)...\n"
     ]
    },
    {
     "name": "stderr",
     "output_type": "stream",
     "text": [
      "Processing PDF with 2 pages...\n",
      "Processing 2 image(s) with AWS Bedrock...\n"
     ]
    },
    {
     "name": "stdout",
     "output_type": "stream",
     "text": [
      "Completed processing for invoice_id: 14802583. Results saved to invoice_extraction_results_local.csv\n",
      "\n",
      "\n",
      "--- All processing complete or stopped. ---\n",
      "Final results are in invoice_extraction_results_local.csv\n"
     ]
    },
    {
     "name": "stderr",
     "output_type": "stream",
     "text": [
      "Found 1 invoices\n"
     ]
    }
   ],
   "source": [
    "# Define the expected columns and their data types for your results DataFrame\n",
    "EXPECTED_DTYPES = {\n",
    "    'original_invoice_id': 'string',\n",
    "    'extraction_status': 'string',\n",
    "    'error_message': 'string',\n",
    "    'extracted_number': 'string',\n",
    "    'extracted_po_number': 'string',\n",
    "    'extracted_amount': 'Float64',\n",
    "    'extracted_tax_amount': 'Float64',\n",
    "    'extracted_currency_code': 'string',\n",
    "    'extracted_date': 'string',\n",
    "    'extracted_due_date': 'string',\n",
    "    'extracted_payment_term_days': 'Int64',\n",
    "    'extracted_vendor': 'string',\n",
    "    'extracted_line_items': 'string'\n",
    "}\n",
    "EXPECTED_COLUMNS = list(EXPECTED_DTYPES.keys())\n",
    "\n",
    "# --- Load existing results or initialize ---\n",
    "if os.path.exists(LOCAL_RESULTS_CSV_PATH):\n",
    "    print(f\"Loading existing results from {LOCAL_RESULTS_CSV_PATH}...\")\n",
    "    try:\n",
    "        # More comprehensive list of NA values for robust parsing\n",
    "        na_values_list = ['', '#N/A', '#N/A N/A', '#NA', '-1.#IND', '-1.#QNAN', '-NaN', '-nan',\n",
    "                           '1.#IND', '1.#QNAN', '<NA>', 'N/A', 'NA', 'NULL', 'NaN', 'None', 'nan', 'null']\n",
    "        master_results_df = pd.read_csv(\n",
    "            LOCAL_RESULTS_CSV_PATH,\n",
    "            dtype=EXPECTED_DTYPES,\n",
    "            keep_default_na=True,\n",
    "            na_values=na_values_list\n",
    "        )\n",
    "\n",
    "        for col, dtype_str in EXPECTED_DTYPES.items():\n",
    "            if col not in master_results_df.columns:\n",
    "                master_results_df[col] = pd.NA\n",
    "            try:\n",
    "                master_results_df[col] = master_results_df[col].astype(EXPECTED_DTYPES[col])\n",
    "            except Exception as e:\n",
    "                print(f\"Warning: Could not cast column {col} to {EXPECTED_DTYPES[col]} on load: {e}. Leaving as is or with NAs.\")\n",
    "\n",
    "\n",
    "        processed_invoice_ids = set(master_results_df['original_invoice_id'].dropna().astype(str).tolist())\n",
    "        print(f\"Loaded {len(processed_invoice_ids)} previously processed invoice IDs.\")\n",
    "    except pd.errors.EmptyDataError:\n",
    "        print(f\"{LOCAL_RESULTS_CSV_PATH} is empty. Initializing fresh DataFrame.\")\n",
    "        master_results_df = pd.DataFrame(columns=EXPECTED_COLUMNS).astype(EXPECTED_DTYPES)\n",
    "        processed_invoice_ids = set()\n",
    "    except Exception as e:\n",
    "        print(f\"Error loading {LOCAL_RESULTS_CSV_PATH}: {e}. Initializing fresh DataFrame.\")\n",
    "        master_results_df = pd.DataFrame(columns=EXPECTED_COLUMNS).astype(EXPECTED_DTYPES)\n",
    "        processed_invoice_ids = set()\n",
    "else:\n",
    "    print(f\"No existing local results file found. Initializing fresh DataFrame.\")\n",
    "    master_results_df = pd.DataFrame(columns=EXPECTED_COLUMNS).astype(EXPECTED_DTYPES)\n",
    "    processed_invoice_ids = set()\n",
    "\n",
    "# --- Process invoices ---\n",
    "sample_size = len(df)\n",
    "invoices_to_process = df.head(sample_size)\n",
    "\n",
    "print(f\"\\nStarting processing. Total invoices to consider: {len(invoices_to_process)}\")\n",
    "\n",
    "# Add counter for processed invoices\n",
    "processed_count = 0\n",
    "total_to_process = len(invoices_to_process)\n",
    "\n",
    "for index, row in invoices_to_process.iterrows():\n",
    "    invoice_id = str(row['id'])\n",
    "\n",
    "    processed_count += 1\n",
    "    print(f\"Processing invoice {processed_count} of {total_to_process} (ID: {invoice_id})...\")\n",
    "\n",
    "    if invoice_id in processed_invoice_ids:\n",
    "        print(f\"Invoice ID: {invoice_id} already processed. Skipping.\")\n",
    "        continue\n",
    "\n",
    "    extraction_output = process_invoice_row(row)\n",
    "\n",
    "    flat_result_for_row = {col: pd.NA for col in EXPECTED_COLUMNS}\n",
    "    flat_result_for_row['original_invoice_id'] = invoice_id\n",
    "\n",
    "    if extraction_output and 'error' in extraction_output:\n",
    "        flat_result_for_row['extraction_status'] = 'error'\n",
    "        flat_result_for_row['error_message'] = extraction_output['error'] if extraction_output['error'] else pd.NA\n",
    "    elif extraction_output and 'invoices' in extraction_output and \\\n",
    "         isinstance(extraction_output['invoices'], list) and len(extraction_output['invoices']) > 0:\n",
    "        invoice_details = extraction_output['invoices'][0]\n",
    "        flat_result_for_row['extraction_status'] = 'success'\n",
    "\n",
    "        for field_name_df in EXPECTED_COLUMNS:\n",
    "            if field_name_df in ['original_invoice_id', 'extraction_status', 'error_message', 'extracted_line_items']:\n",
    "                continue\n",
    "            \n",
    "            source_key = field_name_df.replace('extracted_', '') # Key in invoice_details dict\n",
    "            raw_value = invoice_details.get(source_key)\n",
    "\n",
    "            # Treat empty strings and None as NA, but preserve 0 values\n",
    "            if raw_value == \"\" or raw_value is None:\n",
    "                flat_result_for_row[field_name_df] = pd.NA\n",
    "            else:\n",
    "                flat_result_for_row[field_name_df] = raw_value\n",
    "        \n",
    "        line_items_data = invoice_details.get('line_items', [])\n",
    "        if not line_items_data: # Handles None or empty list []\n",
    "            flat_result_for_row['extracted_line_items'] = pd.NA\n",
    "        else:\n",
    "            flat_result_for_row['extracted_line_items'] = json.dumps(line_items_data)\n",
    "            if flat_result_for_row['extracted_line_items'] == '[]': # Convert empty JSON array string to NA\n",
    "                flat_result_for_row['extracted_line_items'] = pd.NA\n",
    "\n",
    "\n",
    "    else:\n",
    "        flat_result_for_row['extraction_status'] = 'no_data_extracted'\n",
    "        flat_result_for_row['error_message'] = 'No invoice data found or unexpected format in extraction_output.'\n",
    "\n",
    "    new_row_df = pd.DataFrame([flat_result_for_row])\n",
    "    # Ensure dtypes. This .astype() call is crucial for converting processed values (like \"\" handled above)\n",
    "    # into the correct pd.NA representation for nullable types.\n",
    "    new_row_df = new_row_df[EXPECTED_COLUMNS].astype(EXPECTED_DTYPES)\n",
    "\n",
    "    master_results_df = pd.concat([master_results_df, new_row_df], ignore_index=True)\n",
    "\n",
    "    try:\n",
    "        # Use na_rep to specify how NA values should be written to CSV\n",
    "        master_results_df.to_csv(LOCAL_RESULTS_CSV_PATH, index=False, na_rep='NA')\n",
    "        processed_invoice_ids.add(invoice_id)\n",
    "        print(f\"Completed processing for invoice_id: {invoice_id}. Results saved to {LOCAL_RESULTS_CSV_PATH}\\n\")\n",
    "    except Exception as e:\n",
    "        print(f\"CRITICAL ERROR: Could not save results to {LOCAL_RESULTS_CSV_PATH} for invoice_id {invoice_id}. Error: {e}\")\n",
    "        print(\"Stopping further processing. Please check file permissions or disk space.\")\n",
    "        break\n",
    "\n",
    "print(\"\\n--- All processing complete or stopped. ---\")\n",
    "print(f\"Final results are in {LOCAL_RESULTS_CSV_PATH}\")"
   ]
  },
  {
   "cell_type": "code",
   "execution_count": 15,
   "metadata": {},
   "outputs": [
    {
     "data": {
      "text/html": [
       "<div>\n",
       "<style scoped>\n",
       "    .dataframe tbody tr th:only-of-type {\n",
       "        vertical-align: middle;\n",
       "    }\n",
       "\n",
       "    .dataframe tbody tr th {\n",
       "        vertical-align: top;\n",
       "    }\n",
       "\n",
       "    .dataframe thead th {\n",
       "        text-align: right;\n",
       "    }\n",
       "</style>\n",
       "<table border=\"1\" class=\"dataframe\">\n",
       "  <thead>\n",
       "    <tr style=\"text-align: right;\">\n",
       "      <th></th>\n",
       "      <th>original_invoice_id</th>\n",
       "      <th>extraction_status</th>\n",
       "      <th>error_message</th>\n",
       "      <th>extracted_number</th>\n",
       "      <th>extracted_po_number</th>\n",
       "      <th>extracted_amount</th>\n",
       "      <th>extracted_tax_amount</th>\n",
       "      <th>extracted_currency_code</th>\n",
       "      <th>extracted_date</th>\n",
       "      <th>extracted_due_date</th>\n",
       "      <th>extracted_payment_term_days</th>\n",
       "      <th>extracted_vendor</th>\n",
       "      <th>extracted_line_items</th>\n",
       "    </tr>\n",
       "  </thead>\n",
       "  <tbody>\n",
       "    <tr>\n",
       "      <th>0</th>\n",
       "      <td>21214858</td>\n",
       "      <td>success</td>\n",
       "      <td>&lt;NA&gt;</td>\n",
       "      <td>CI0205714</td>\n",
       "      <td>21182</td>\n",
       "      <td>72.0</td>\n",
       "      <td>12.0</td>\n",
       "      <td>GBP</td>\n",
       "      <td>2025-02-05</td>\n",
       "      <td>&lt;NA&gt;</td>\n",
       "      <td>&lt;NA&gt;</td>\n",
       "      <td>Universal Components UK Ltd</td>\n",
       "      <td>[{\"description\": \"STGO CATEGORY 1/2/3 KIT WI\",...</td>\n",
       "    </tr>\n",
       "    <tr>\n",
       "      <th>1</th>\n",
       "      <td>13899086</td>\n",
       "      <td>success</td>\n",
       "      <td>&lt;NA&gt;</td>\n",
       "      <td>126959</td>\n",
       "      <td>&lt;NA&gt;</td>\n",
       "      <td>1800.0</td>\n",
       "      <td>300.0</td>\n",
       "      <td>GBP</td>\n",
       "      <td>2018-02-21</td>\n",
       "      <td>&lt;NA&gt;</td>\n",
       "      <td>&lt;NA&gt;</td>\n",
       "      <td>ACTIVE BRAND CONCEPTS LTD</td>\n",
       "      <td>[{\"description\": \"TQX Valeting Kit ea\", \"quant...</td>\n",
       "    </tr>\n",
       "    <tr>\n",
       "      <th>2</th>\n",
       "      <td>14136172</td>\n",
       "      <td>error</td>\n",
       "      <td>Could not download PDF from URL for 29082018</td>\n",
       "      <td>&lt;NA&gt;</td>\n",
       "      <td>&lt;NA&gt;</td>\n",
       "      <td>&lt;NA&gt;</td>\n",
       "      <td>&lt;NA&gt;</td>\n",
       "      <td>&lt;NA&gt;</td>\n",
       "      <td>&lt;NA&gt;</td>\n",
       "      <td>&lt;NA&gt;</td>\n",
       "      <td>&lt;NA&gt;</td>\n",
       "      <td>&lt;NA&gt;</td>\n",
       "      <td>&lt;NA&gt;</td>\n",
       "    </tr>\n",
       "    <tr>\n",
       "      <th>3</th>\n",
       "      <td>13713597</td>\n",
       "      <td>error</td>\n",
       "      <td>Could not download PDF from URL for 14122017</td>\n",
       "      <td>&lt;NA&gt;</td>\n",
       "      <td>&lt;NA&gt;</td>\n",
       "      <td>&lt;NA&gt;</td>\n",
       "      <td>&lt;NA&gt;</td>\n",
       "      <td>&lt;NA&gt;</td>\n",
       "      <td>&lt;NA&gt;</td>\n",
       "      <td>&lt;NA&gt;</td>\n",
       "      <td>&lt;NA&gt;</td>\n",
       "      <td>&lt;NA&gt;</td>\n",
       "      <td>&lt;NA&gt;</td>\n",
       "    </tr>\n",
       "    <tr>\n",
       "      <th>4</th>\n",
       "      <td>14840064</td>\n",
       "      <td>error</td>\n",
       "      <td>Could not download PDF from URL for 10012020</td>\n",
       "      <td>&lt;NA&gt;</td>\n",
       "      <td>&lt;NA&gt;</td>\n",
       "      <td>&lt;NA&gt;</td>\n",
       "      <td>&lt;NA&gt;</td>\n",
       "      <td>&lt;NA&gt;</td>\n",
       "      <td>&lt;NA&gt;</td>\n",
       "      <td>&lt;NA&gt;</td>\n",
       "      <td>&lt;NA&gt;</td>\n",
       "      <td>&lt;NA&gt;</td>\n",
       "      <td>&lt;NA&gt;</td>\n",
       "    </tr>\n",
       "    <tr>\n",
       "      <th>...</th>\n",
       "      <td>...</td>\n",
       "      <td>...</td>\n",
       "      <td>...</td>\n",
       "      <td>...</td>\n",
       "      <td>...</td>\n",
       "      <td>...</td>\n",
       "      <td>...</td>\n",
       "      <td>...</td>\n",
       "      <td>...</td>\n",
       "      <td>...</td>\n",
       "      <td>...</td>\n",
       "      <td>...</td>\n",
       "      <td>...</td>\n",
       "    </tr>\n",
       "    <tr>\n",
       "      <th>1995</th>\n",
       "      <td>15644179</td>\n",
       "      <td>error</td>\n",
       "      <td>Failed to extract invoice data</td>\n",
       "      <td>&lt;NA&gt;</td>\n",
       "      <td>&lt;NA&gt;</td>\n",
       "      <td>&lt;NA&gt;</td>\n",
       "      <td>&lt;NA&gt;</td>\n",
       "      <td>&lt;NA&gt;</td>\n",
       "      <td>&lt;NA&gt;</td>\n",
       "      <td>&lt;NA&gt;</td>\n",
       "      <td>&lt;NA&gt;</td>\n",
       "      <td>&lt;NA&gt;</td>\n",
       "      <td>&lt;NA&gt;</td>\n",
       "    </tr>\n",
       "    <tr>\n",
       "      <th>1996</th>\n",
       "      <td>20885052</td>\n",
       "      <td>success</td>\n",
       "      <td>&lt;NA&gt;</td>\n",
       "      <td>9581978555</td>\n",
       "      <td>5000026383D</td>\n",
       "      <td>1934.26</td>\n",
       "      <td>322.38</td>\n",
       "      <td>GBP</td>\n",
       "      <td>2024-02-16</td>\n",
       "      <td>2024-04-16</td>\n",
       "      <td>60</td>\n",
       "      <td>3M</td>\n",
       "      <td>[{\"description\": \"06309, Mask Tape 2328, 24mmx...</td>\n",
       "    </tr>\n",
       "    <tr>\n",
       "      <th>1997</th>\n",
       "      <td>18865604</td>\n",
       "      <td>success</td>\n",
       "      <td>&lt;NA&gt;</td>\n",
       "      <td>432261</td>\n",
       "      <td>256110</td>\n",
       "      <td>11.26</td>\n",
       "      <td>1.88</td>\n",
       "      <td>GBP</td>\n",
       "      <td>2020-08-25</td>\n",
       "      <td>&lt;NA&gt;</td>\n",
       "      <td>&lt;NA&gt;</td>\n",
       "      <td>POWERFLEX</td>\n",
       "      <td>[{\"description\": \"UPPER ENGINE MOUNT INSERT\", ...</td>\n",
       "    </tr>\n",
       "    <tr>\n",
       "      <th>1998</th>\n",
       "      <td>20388155</td>\n",
       "      <td>error</td>\n",
       "      <td>Could not download PDF from URL for 05072022</td>\n",
       "      <td>&lt;NA&gt;</td>\n",
       "      <td>&lt;NA&gt;</td>\n",
       "      <td>&lt;NA&gt;</td>\n",
       "      <td>&lt;NA&gt;</td>\n",
       "      <td>&lt;NA&gt;</td>\n",
       "      <td>&lt;NA&gt;</td>\n",
       "      <td>&lt;NA&gt;</td>\n",
       "      <td>&lt;NA&gt;</td>\n",
       "      <td>&lt;NA&gt;</td>\n",
       "      <td>&lt;NA&gt;</td>\n",
       "    </tr>\n",
       "    <tr>\n",
       "      <th>1999</th>\n",
       "      <td>14802583</td>\n",
       "      <td>success</td>\n",
       "      <td>&lt;NA&gt;</td>\n",
       "      <td>6120754636</td>\n",
       "      <td>&lt;NA&gt;</td>\n",
       "      <td>5311.49</td>\n",
       "      <td>885.25</td>\n",
       "      <td>GBP</td>\n",
       "      <td>2019-12-03</td>\n",
       "      <td>2020-03-02</td>\n",
       "      <td>90</td>\n",
       "      <td>ZF Services UK Ltd</td>\n",
       "      <td>[{\"description\": \"SACHS CONCENTRIC SLAVE CYLIN...</td>\n",
       "    </tr>\n",
       "  </tbody>\n",
       "</table>\n",
       "<p>2000 rows × 13 columns</p>\n",
       "</div>"
      ],
      "text/plain": [
       "     original_invoice_id extraction_status  \\\n",
       "0               21214858           success   \n",
       "1               13899086           success   \n",
       "2               14136172             error   \n",
       "3               13713597             error   \n",
       "4               14840064             error   \n",
       "...                  ...               ...   \n",
       "1995            15644179             error   \n",
       "1996            20885052           success   \n",
       "1997            18865604           success   \n",
       "1998            20388155             error   \n",
       "1999            14802583           success   \n",
       "\n",
       "                                     error_message extracted_number  \\\n",
       "0                                             <NA>        CI0205714   \n",
       "1                                             <NA>           126959   \n",
       "2     Could not download PDF from URL for 29082018             <NA>   \n",
       "3     Could not download PDF from URL for 14122017             <NA>   \n",
       "4     Could not download PDF from URL for 10012020             <NA>   \n",
       "...                                            ...              ...   \n",
       "1995                Failed to extract invoice data             <NA>   \n",
       "1996                                          <NA>       9581978555   \n",
       "1997                                          <NA>           432261   \n",
       "1998  Could not download PDF from URL for 05072022             <NA>   \n",
       "1999                                          <NA>       6120754636   \n",
       "\n",
       "     extracted_po_number  extracted_amount  extracted_tax_amount  \\\n",
       "0                  21182              72.0                  12.0   \n",
       "1                   <NA>            1800.0                 300.0   \n",
       "2                   <NA>              <NA>                  <NA>   \n",
       "3                   <NA>              <NA>                  <NA>   \n",
       "4                   <NA>              <NA>                  <NA>   \n",
       "...                  ...               ...                   ...   \n",
       "1995                <NA>              <NA>                  <NA>   \n",
       "1996         5000026383D           1934.26                322.38   \n",
       "1997              256110             11.26                  1.88   \n",
       "1998                <NA>              <NA>                  <NA>   \n",
       "1999                <NA>           5311.49                885.25   \n",
       "\n",
       "     extracted_currency_code extracted_date extracted_due_date  \\\n",
       "0                        GBP     2025-02-05               <NA>   \n",
       "1                        GBP     2018-02-21               <NA>   \n",
       "2                       <NA>           <NA>               <NA>   \n",
       "3                       <NA>           <NA>               <NA>   \n",
       "4                       <NA>           <NA>               <NA>   \n",
       "...                      ...            ...                ...   \n",
       "1995                    <NA>           <NA>               <NA>   \n",
       "1996                     GBP     2024-02-16         2024-04-16   \n",
       "1997                     GBP     2020-08-25               <NA>   \n",
       "1998                    <NA>           <NA>               <NA>   \n",
       "1999                     GBP     2019-12-03         2020-03-02   \n",
       "\n",
       "      extracted_payment_term_days             extracted_vendor  \\\n",
       "0                            <NA>  Universal Components UK Ltd   \n",
       "1                            <NA>    ACTIVE BRAND CONCEPTS LTD   \n",
       "2                            <NA>                         <NA>   \n",
       "3                            <NA>                         <NA>   \n",
       "4                            <NA>                         <NA>   \n",
       "...                           ...                          ...   \n",
       "1995                         <NA>                         <NA>   \n",
       "1996                           60                           3M   \n",
       "1997                         <NA>                    POWERFLEX   \n",
       "1998                         <NA>                         <NA>   \n",
       "1999                           90           ZF Services UK Ltd   \n",
       "\n",
       "                                   extracted_line_items  \n",
       "0     [{\"description\": \"STGO CATEGORY 1/2/3 KIT WI\",...  \n",
       "1     [{\"description\": \"TQX Valeting Kit ea\", \"quant...  \n",
       "2                                                  <NA>  \n",
       "3                                                  <NA>  \n",
       "4                                                  <NA>  \n",
       "...                                                 ...  \n",
       "1995                                               <NA>  \n",
       "1996  [{\"description\": \"06309, Mask Tape 2328, 24mmx...  \n",
       "1997  [{\"description\": \"UPPER ENGINE MOUNT INSERT\", ...  \n",
       "1998                                               <NA>  \n",
       "1999  [{\"description\": \"SACHS CONCENTRIC SLAVE CYLIN...  \n",
       "\n",
       "[2000 rows x 13 columns]"
      ]
     },
     "execution_count": 15,
     "metadata": {},
     "output_type": "execute_result"
    }
   ],
   "source": [
    "successful_results = results_df[results_df['extraction_status'] == 'success'].copy()"
   ]
  },
  {
   "cell_type": "code",
   "execution_count": 18,
   "metadata": {},
   "outputs": [
    {
     "data": {
      "text/plain": [
       "np.int64(1000)"
      ]
     },
     "execution_count": 18,
     "metadata": {},
     "output_type": "execute_result"
    }
   ],
   "source": [
    "sum(master_results_df.extraction_status == 'success')"
   ]
  },
  {
   "cell_type": "markdown",
   "metadata": {},
   "source": []
  },
  {
   "cell_type": "code",
   "execution_count": 20,
   "metadata": {},
   "outputs": [
    {
     "name": "stdout",
     "output_type": "stream",
     "text": [
      "Total results: 2000\n",
      "Successful extractions: 1000\n",
      "Error rate: 50.0%\n"
     ]
    }
   ],
   "source": [
    "# Load the datasets\n",
    "results_df = pd.read_csv('invoice_extraction_results_local.csv')\n",
    "sample_df = pd.read_csv('invoice_sample.csv')\n",
    "\n",
    "# Filter out error cases\n",
    "successful_results = results_df[results_df['extraction_status'] == 'success'].copy()\n",
    "\n",
    "print(f\"Total results: {len(results_df)}\")\n",
    "print(f\"Successful extractions: {len(successful_results)}\")\n",
    "print(f\"Error rate: {(len(results_df) - len(successful_results)) / len(results_df) * 100:.1f}%\")"
   ]
  },
  {
   "cell_type": "code",
   "execution_count": 21,
   "metadata": {},
   "outputs": [
    {
     "name": "stdout",
     "output_type": "stream",
     "text": [
      "Successfully joined records: 1000\n"
     ]
    }
   ],
   "source": [
    "# Join the datasets on invoice_id\n",
    "joined_df = successful_results.merge(\n",
    "    sample_df, \n",
    "    left_on='original_invoice_id', \n",
    "    right_on='id', \n",
    "    how='inner'\n",
    ")\n",
    "\n",
    "print(f\"Successfully joined records: {len(joined_df)}\")\n"
   ]
  },
  {
   "cell_type": "code",
   "execution_count": 34,
   "metadata": {},
   "outputs": [],
   "source": [
    "# Define comparison functions\n",
    "def get_match_type(ref1, ref2, threshold=1):\n",
    "    \"\"\"Improved string matching function with better whitespace handling\"\"\"\n",
    "    if pd.isna(ref1) or pd.isna(ref2) or ref1 == \"\" or ref2 == \"\":\n",
    "        return 'missing'\n",
    "    \n",
    "    # Normalize strings - remove spaces around common separators\n",
    "    def normalize_reference(ref):\n",
    "        ref = str(ref).strip().upper()\n",
    "        # Remove spaces around common separators\n",
    "        ref = ref.replace(' / ', '/')\n",
    "        ref = ref.replace(' - ', '-')\n",
    "        ref = ref.replace(' _ ', '_')\n",
    "        # Remove all spaces for invoice numbers (common in OCR)\n",
    "        ref = ref.replace(' ', '')\n",
    "        return ref\n",
    "    \n",
    "    str1 = normalize_reference(ref1)\n",
    "    str2 = normalize_reference(ref2)\n",
    "    \n",
    "    # Exact match after normalization\n",
    "    if str1 == str2:\n",
    "        return 'exact'\n",
    "    \n",
    "    # Simple edit distance for close matches\n",
    "    if abs(len(str1) - len(str2)) > threshold:\n",
    "        return 'none'  # Too different in length\n",
    "    \n",
    "    # Count character differences (simple approach)\n",
    "    max_len = max(len(str1), len(str2))\n",
    "    min_len = min(len(str1), len(str2))\n",
    "    \n",
    "    differences = abs(len(str1) - len(str2))  # Length difference\n",
    "    differences += sum(c1 != c2 for c1, c2 in zip(str1, str2))  # Character differences\n",
    "    \n",
    "    if differences <= threshold:\n",
    "        return 'close'\n",
    "    \n",
    "    return 'none'\n",
    "\n",
    "def compare_invoice_numbers(extracted, original):\n",
    "    \"\"\"Compare invoice numbers with exact and close matching\"\"\"\n",
    "    if pd.isna(extracted) or pd.isna(original):\n",
    "        return 'missing'\n",
    "    \n",
    "    match_type = get_match_type(str(extracted), str(original))\n",
    "    return match_type\n",
    "\n",
    "def compare_amounts(extracted, original, tolerance=0.01):\n",
    "    \"\"\"Compare amounts with small tolerance for floating point differences\"\"\"\n",
    "    if pd.isna(extracted) or pd.isna(original):\n",
    "        return 'missing'\n",
    "    \n",
    "    try:\n",
    "        diff = abs(float(extracted) - float(original))\n",
    "        if diff == 0:\n",
    "            return 'exact'\n",
    "        elif diff <= tolerance:\n",
    "            return 'close'\n",
    "        else:\n",
    "            return 'none'\n",
    "    except (ValueError, TypeError):\n",
    "        return 'none'\n",
    "\n",
    "def compare_dates(extracted, original):\n",
    "    \"\"\"Compare dates (exact match required)\"\"\"\n",
    "    if pd.isna(extracted) or pd.isna(original):\n",
    "        return 'missing'\n",
    "    \n",
    "    # Normalize date formats for comparison\n",
    "    try:\n",
    "        extracted_date = pd.to_datetime(str(extracted)).date()\n",
    "        original_date = pd.to_datetime(str(original)).date()\n",
    "        \n",
    "        if extracted_date == original_date:\n",
    "            return 'exact'\n",
    "        else:\n",
    "            return 'none'\n",
    "    except:\n",
    "        return 'none'"
   ]
  },
  {
   "cell_type": "code",
   "execution_count": 35,
   "metadata": {},
   "outputs": [],
   "source": [
    "# Perform comparisons\n",
    "joined_df['number_match'] = joined_df.apply(\n",
    "    lambda row: compare_invoice_numbers(row['extracted_number'], row['number']), axis=1\n",
    ")\n",
    "\n",
    "joined_df['amount_match'] = joined_df.apply(\n",
    "    lambda row: compare_amounts(row['extracted_amount'], row['gross_amount']), axis=1\n",
    ")\n",
    "\n",
    "joined_df['date_match'] = joined_df.apply(\n",
    "    lambda row: compare_dates(row['extracted_date'], row['date']), axis=1\n",
    ")\n",
    "\n",
    "joined_df['due_date_match'] = joined_df.apply(\n",
    "    lambda row: compare_dates(row['extracted_due_date'], row['due_date']), axis=1\n",
    ")"
   ]
  },
  {
   "cell_type": "code",
   "execution_count": 36,
   "metadata": {},
   "outputs": [
    {
     "name": "stdout",
     "output_type": "stream",
     "text": [
      "\n",
      "============================================================\n",
      "EXTRACTION ACCURACY REPORT\n",
      "============================================================\n",
      "\n",
      "Invoice Number:\n",
      "  Exact matches: 945/1000 (94.5%)\n",
      "  Close matches: 21/1000 (2.1%)\n",
      "  Total accuracy: 96.6%\n",
      "  No matches: 34\n",
      "  Missing values: 0\n",
      "\n",
      "Amount:\n",
      "  Exact matches: 988/1000 (98.8%)\n",
      "  Close matches: 0/1000 (0.0%)\n",
      "  Total accuracy: 98.8%\n",
      "  No matches: 12\n",
      "  Missing values: 0\n",
      "\n",
      "Date:\n",
      "  Exact matches: 964/1000 (96.4%)\n",
      "  Close matches: 0/1000 (0.0%)\n",
      "  Total accuracy: 96.4%\n",
      "  No matches: 36\n",
      "  Missing values: 0\n",
      "\n",
      "Due Date:\n",
      "  Exact matches: 269/1000 (26.9%)\n",
      "  Close matches: 0/1000 (0.0%)\n",
      "  Total accuracy: 26.9%\n",
      "  No matches: 303\n",
      "  Missing values: 428\n"
     ]
    }
   ],
   "source": [
    "# Calculate accuracy metrics\n",
    "def calculate_accuracy(match_column):\n",
    "    \"\"\"Calculate accuracy metrics for a match column\"\"\"\n",
    "    total = len(match_column)\n",
    "    exact_matches = (match_column == 'exact').sum()\n",
    "    close_matches = (match_column == 'close').sum()\n",
    "    no_matches = (match_column == 'none').sum()\n",
    "    missing = (match_column == 'missing').sum()\n",
    "    \n",
    "    exact_accuracy = exact_matches / total * 100\n",
    "    total_accuracy = (exact_matches + close_matches) / total * 100\n",
    "    \n",
    "    return {\n",
    "        'total_records': total,\n",
    "        'exact_matches': exact_matches,\n",
    "        'close_matches': close_matches,\n",
    "        'no_matches': no_matches,\n",
    "        'missing': missing,\n",
    "        'exact_accuracy': exact_accuracy,\n",
    "        'total_accuracy': total_accuracy\n",
    "    }\n",
    "\n",
    "# Generate accuracy report\n",
    "fields = ['number_match', 'amount_match', 'date_match', 'due_date_match']\n",
    "field_names = ['Invoice Number', 'Amount', 'Date', 'Due Date']\n",
    "\n",
    "print(\"\\n\" + \"=\"*60)\n",
    "print(\"EXTRACTION ACCURACY REPORT\")\n",
    "print(\"=\"*60)\n",
    "\n",
    "accuracy_results = {}\n",
    "for field, field_name in zip(fields, field_names):\n",
    "    accuracy_results[field_name] = calculate_accuracy(joined_df[field])\n",
    "    \n",
    "    print(f\"\\n{field_name}:\")\n",
    "    print(f\"  Exact matches: {accuracy_results[field_name]['exact_matches']}/{accuracy_results[field_name]['total_records']} ({accuracy_results[field_name]['exact_accuracy']:.1f}%)\")\n",
    "    print(f\"  Close matches: {accuracy_results[field_name]['close_matches']}/{accuracy_results[field_name]['total_records']} ({accuracy_results[field_name]['close_matches']/accuracy_results[field_name]['total_records']*100:.1f}%)\")\n",
    "    print(f\"  Total accuracy: {accuracy_results[field_name]['total_accuracy']:.1f}%\")\n",
    "    print(f\"  No matches: {accuracy_results[field_name]['no_matches']}\")\n",
    "    print(f\"  Missing values: {accuracy_results[field_name]['missing']}\")"
   ]
  },
  {
   "cell_type": "code",
   "execution_count": 37,
   "metadata": {},
   "outputs": [
    {
     "name": "stdout",
     "output_type": "stream",
     "text": [
      "\n",
      "============================================================\n",
      "EXAMPLE MISMATCHES\n",
      "============================================================\n",
      "\n",
      "Invoice Number mismatches (showing first 3):\n",
      " original_invoice_id extracted_number     number\n",
      "            13986138           91,624      91624\n",
      "            14183477       TI18026298 IT18026298\n",
      "            14686624            4,349       4349\n",
      "\n",
      "Amount mismatches (showing first 3):\n",
      " original_invoice_id  extracted_amount  gross_amount\n",
      "            14611489             31.09         23.94\n",
      "            13625772           6264.76       6264.77\n",
      "            20110841           3877.68       2675.55\n",
      "\n",
      "Date mismatches (showing first 3):\n",
      " original_invoice_id extracted_date       date\n",
      "            14213413     2018-11-10 2018-10-11\n",
      "            14328943     2019-02-01 2019-01-02\n",
      "            13836614     2018-05-03 2018-03-05\n",
      "\n",
      "Due Date mismatches (showing first 3):\n",
      " original_invoice_id extracted_due_date   due_date\n",
      "            14082600         2018-08-31 2018-08-30\n",
      "            21196536         2025-02-28 2025-02-13\n",
      "            14338880         2019-04-10 2019-02-28\n"
     ]
    }
   ],
   "source": [
    "# Show some examples of mismatches\n",
    "print(\"\\n\" + \"=\"*60)\n",
    "print(\"EXAMPLE MISMATCHES\")\n",
    "print(\"=\"*60)\n",
    "\n",
    "for field, field_name in zip(fields, field_names):\n",
    "    mismatches = joined_df[joined_df[field] == 'none']\n",
    "    if len(mismatches) > 0:\n",
    "        print(f\"\\n{field_name} mismatches (showing first 3):\")\n",
    "        if field == 'number_match':\n",
    "            cols = ['original_invoice_id', 'extracted_number', 'number']\n",
    "        elif field == 'amount_match':\n",
    "            cols = ['original_invoice_id', 'extracted_amount', 'gross_amount']\n",
    "        elif field == 'date_match':\n",
    "            cols = ['original_invoice_id', 'extracted_date', 'date']\n",
    "        elif field == 'due_date_match':\n",
    "            cols = ['original_invoice_id', 'extracted_due_date', 'due_date']\n",
    "        \n",
    "        print(mismatches[cols].head(3).to_string(index=False))"
   ]
  },
  {
   "cell_type": "code",
   "execution_count": 48,
   "metadata": {},
   "outputs": [
    {
     "data": {
      "text/html": [
       "<div>\n",
       "<style scoped>\n",
       "    .dataframe tbody tr th:only-of-type {\n",
       "        vertical-align: middle;\n",
       "    }\n",
       "\n",
       "    .dataframe tbody tr th {\n",
       "        vertical-align: top;\n",
       "    }\n",
       "\n",
       "    .dataframe thead th {\n",
       "        text-align: right;\n",
       "    }\n",
       "</style>\n",
       "<table border=\"1\" class=\"dataframe\">\n",
       "  <thead>\n",
       "    <tr style=\"text-align: right;\">\n",
       "      <th></th>\n",
       "      <th>original_invoice_id</th>\n",
       "      <th>extracted_number</th>\n",
       "      <th>number</th>\n",
       "    </tr>\n",
       "  </thead>\n",
       "  <tbody>\n",
       "    <tr>\n",
       "      <th>125</th>\n",
       "      <td>13986138</td>\n",
       "      <td>91,624</td>\n",
       "      <td>91624</td>\n",
       "    </tr>\n",
       "    <tr>\n",
       "      <th>195</th>\n",
       "      <td>14183477</td>\n",
       "      <td>TI18026298</td>\n",
       "      <td>IT18026298</td>\n",
       "    </tr>\n",
       "    <tr>\n",
       "      <th>258</th>\n",
       "      <td>14686624</td>\n",
       "      <td>4,349</td>\n",
       "      <td>4349</td>\n",
       "    </tr>\n",
       "    <tr>\n",
       "      <th>264</th>\n",
       "      <td>14324051</td>\n",
       "      <td>26920247</td>\n",
       "      <td>318621</td>\n",
       "    </tr>\n",
       "    <tr>\n",
       "      <th>295</th>\n",
       "      <td>14220696</td>\n",
       "      <td>029531734 (COPY)</td>\n",
       "      <td>029531734COPY</td>\n",
       "    </tr>\n",
       "    <tr>\n",
       "      <th>311</th>\n",
       "      <td>13623984</td>\n",
       "      <td>AR01417521</td>\n",
       "      <td>AR/01417521</td>\n",
       "    </tr>\n",
       "    <tr>\n",
       "      <th>345</th>\n",
       "      <td>20603634</td>\n",
       "      <td>MINV-204965</td>\n",
       "      <td>M/INV-204965</td>\n",
       "    </tr>\n",
       "    <tr>\n",
       "      <th>349</th>\n",
       "      <td>14156552</td>\n",
       "      <td>113120561 (COPY)</td>\n",
       "      <td>113120561COPY</td>\n",
       "    </tr>\n",
       "    <tr>\n",
       "      <th>367</th>\n",
       "      <td>14370278</td>\n",
       "      <td>V00149816</td>\n",
       "      <td>VI00149816</td>\n",
       "    </tr>\n",
       "    <tr>\n",
       "      <th>372</th>\n",
       "      <td>14194381</td>\n",
       "      <td>185190</td>\n",
       "      <td>185190/2</td>\n",
       "    </tr>\n",
       "    <tr>\n",
       "      <th>376</th>\n",
       "      <td>14818115</td>\n",
       "      <td>GB8834687</td>\n",
       "      <td>8834687</td>\n",
       "    </tr>\n",
       "    <tr>\n",
       "      <th>392</th>\n",
       "      <td>20717650</td>\n",
       "      <td>724209184/31.07.2023</td>\n",
       "      <td>724209184</td>\n",
       "    </tr>\n",
       "    <tr>\n",
       "      <th>420</th>\n",
       "      <td>14073418</td>\n",
       "      <td>028389100 (COPY)</td>\n",
       "      <td>028389100COPY</td>\n",
       "    </tr>\n",
       "    <tr>\n",
       "      <th>471</th>\n",
       "      <td>14106071</td>\n",
       "      <td>ECP20180811-LCL</td>\n",
       "      <td>ECP20180811-LCLerr</td>\n",
       "    </tr>\n",
       "    <tr>\n",
       "      <th>473</th>\n",
       "      <td>20174113</td>\n",
       "      <td>3437472386 / 05.11.2021 /501/ZTP2</td>\n",
       "      <td>3437472386</td>\n",
       "    </tr>\n",
       "    <tr>\n",
       "      <th>474</th>\n",
       "      <td>20547314</td>\n",
       "      <td>750056210</td>\n",
       "      <td>7500563210</td>\n",
       "    </tr>\n",
       "    <tr>\n",
       "      <th>486</th>\n",
       "      <td>14316674</td>\n",
       "      <td>SI-00485173</td>\n",
       "      <td>SI000613568</td>\n",
       "    </tr>\n",
       "    <tr>\n",
       "      <th>487</th>\n",
       "      <td>20470502</td>\n",
       "      <td>512050469</td>\n",
       "      <td>5120504469</td>\n",
       "    </tr>\n",
       "    <tr>\n",
       "      <th>499</th>\n",
       "      <td>14618343</td>\n",
       "      <td>024052401 (COPY)</td>\n",
       "      <td>024052401COPY</td>\n",
       "    </tr>\n",
       "    <tr>\n",
       "      <th>559</th>\n",
       "      <td>20733406</td>\n",
       "      <td>747224403</td>\n",
       "      <td>7477224403</td>\n",
       "    </tr>\n",
       "    <tr>\n",
       "      <th>569</th>\n",
       "      <td>14662274</td>\n",
       "      <td>SL0576406INV</td>\n",
       "      <td>SL05764061INV</td>\n",
       "    </tr>\n",
       "    <tr>\n",
       "      <th>603</th>\n",
       "      <td>14073421</td>\n",
       "      <td>028389102 (COPY)</td>\n",
       "      <td>028389102COPY</td>\n",
       "    </tr>\n",
       "    <tr>\n",
       "      <th>634</th>\n",
       "      <td>14193375</td>\n",
       "      <td>782431/A</td>\n",
       "      <td>78243/1A</td>\n",
       "    </tr>\n",
       "    <tr>\n",
       "      <th>647</th>\n",
       "      <td>14012022</td>\n",
       "      <td>106262929 (COPY)</td>\n",
       "      <td>106262929COPY</td>\n",
       "    </tr>\n",
       "    <tr>\n",
       "      <th>657</th>\n",
       "      <td>14851398</td>\n",
       "      <td>26920247</td>\n",
       "      <td>531672</td>\n",
       "    </tr>\n",
       "    <tr>\n",
       "      <th>679</th>\n",
       "      <td>13623035</td>\n",
       "      <td>724194783/15.05.2020</td>\n",
       "      <td>724194783</td>\n",
       "    </tr>\n",
       "    <tr>\n",
       "      <th>705</th>\n",
       "      <td>14183467</td>\n",
       "      <td>TI18026284</td>\n",
       "      <td>IT18026284</td>\n",
       "    </tr>\n",
       "    <tr>\n",
       "      <th>707</th>\n",
       "      <td>19767253</td>\n",
       "      <td>26920247</td>\n",
       "      <td>634678</td>\n",
       "    </tr>\n",
       "    <tr>\n",
       "      <th>715</th>\n",
       "      <td>19967642</td>\n",
       "      <td>QP/1153679</td>\n",
       "      <td>OP/I153679</td>\n",
       "    </tr>\n",
       "    <tr>\n",
       "      <th>780</th>\n",
       "      <td>14326371</td>\n",
       "      <td>SL05325727INV</td>\n",
       "      <td>ASL05325727INV</td>\n",
       "    </tr>\n",
       "    <tr>\n",
       "      <th>803</th>\n",
       "      <td>21213410</td>\n",
       "      <td>LK0100</td>\n",
       "      <td>741306</td>\n",
       "    </tr>\n",
       "    <tr>\n",
       "      <th>812</th>\n",
       "      <td>14152922</td>\n",
       "      <td>SO18-0269</td>\n",
       "      <td>GH536535</td>\n",
       "    </tr>\n",
       "    <tr>\n",
       "      <th>967</th>\n",
       "      <td>19953551</td>\n",
       "      <td>9007129</td>\n",
       "      <td>9007129REV</td>\n",
       "    </tr>\n",
       "    <tr>\n",
       "      <th>992</th>\n",
       "      <td>14322728</td>\n",
       "      <td>9031467128</td>\n",
       "      <td>2257069060</td>\n",
       "    </tr>\n",
       "  </tbody>\n",
       "</table>\n",
       "</div>"
      ],
      "text/plain": [
       "     original_invoice_id                   extracted_number  \\\n",
       "125             13986138                             91,624   \n",
       "195             14183477                         TI18026298   \n",
       "258             14686624                              4,349   \n",
       "264             14324051                           26920247   \n",
       "295             14220696                   029531734 (COPY)   \n",
       "311             13623984                         AR01417521   \n",
       "345             20603634                        MINV-204965   \n",
       "349             14156552                   113120561 (COPY)   \n",
       "367             14370278                          V00149816   \n",
       "372             14194381                             185190   \n",
       "376             14818115                          GB8834687   \n",
       "392             20717650               724209184/31.07.2023   \n",
       "420             14073418                   028389100 (COPY)   \n",
       "471             14106071                    ECP20180811-LCL   \n",
       "473             20174113  3437472386 / 05.11.2021 /501/ZTP2   \n",
       "474             20547314                          750056210   \n",
       "486             14316674                        SI-00485173   \n",
       "487             20470502                          512050469   \n",
       "499             14618343                   024052401 (COPY)   \n",
       "559             20733406                          747224403   \n",
       "569             14662274                       SL0576406INV   \n",
       "603             14073421                   028389102 (COPY)   \n",
       "634             14193375                           782431/A   \n",
       "647             14012022                   106262929 (COPY)   \n",
       "657             14851398                           26920247   \n",
       "679             13623035               724194783/15.05.2020   \n",
       "705             14183467                         TI18026284   \n",
       "707             19767253                           26920247   \n",
       "715             19967642                         QP/1153679   \n",
       "780             14326371                      SL05325727INV   \n",
       "803             21213410                             LK0100   \n",
       "812             14152922                          SO18-0269   \n",
       "967             19953551                            9007129   \n",
       "992             14322728                         9031467128   \n",
       "\n",
       "                 number  \n",
       "125               91624  \n",
       "195          IT18026298  \n",
       "258                4349  \n",
       "264              318621  \n",
       "295       029531734COPY  \n",
       "311         AR/01417521  \n",
       "345        M/INV-204965  \n",
       "349       113120561COPY  \n",
       "367          VI00149816  \n",
       "372            185190/2  \n",
       "376             8834687  \n",
       "392           724209184  \n",
       "420       028389100COPY  \n",
       "471  ECP20180811-LCLerr  \n",
       "473          3437472386  \n",
       "474          7500563210  \n",
       "486         SI000613568  \n",
       "487          5120504469  \n",
       "499       024052401COPY  \n",
       "559          7477224403  \n",
       "569       SL05764061INV  \n",
       "603       028389102COPY  \n",
       "634            78243/1A  \n",
       "647       106262929COPY  \n",
       "657              531672  \n",
       "679           724194783  \n",
       "705          IT18026284  \n",
       "707              634678  \n",
       "715          OP/I153679  \n",
       "780      ASL05325727INV  \n",
       "803              741306  \n",
       "812            GH536535  \n",
       "967          9007129REV  \n",
       "992          2257069060  "
      ]
     },
     "execution_count": 48,
     "metadata": {},
     "output_type": "execute_result"
    }
   ],
   "source": [
    "mismatches = joined_df[['original_invoice_id', 'extracted_number', 'number']][joined_df[\"number_match\"] == \"none\"]\n",
    "mismatches"
   ]
  },
  {
   "cell_type": "code",
   "execution_count": null,
   "metadata": {},
   "outputs": [],
   "source": []
  }
 ],
 "metadata": {
  "kernelspec": {
   "display_name": "venv",
   "language": "python",
   "name": "python3"
  },
  "language_info": {
   "codemirror_mode": {
    "name": "ipython",
    "version": 3
   },
   "file_extension": ".py",
   "mimetype": "text/x-python",
   "name": "python",
   "nbconvert_exporter": "python",
   "pygments_lexer": "ipython3",
   "version": "3.9.6"
  }
 },
 "nbformat": 4,
 "nbformat_minor": 2
}
